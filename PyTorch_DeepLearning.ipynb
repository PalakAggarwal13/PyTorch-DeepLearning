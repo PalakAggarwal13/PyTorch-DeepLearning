{
  "nbformat": 4,
  "nbformat_minor": 0,
  "metadata": {
    "colab": {
      "provenance": [],
      "authorship_tag": "ABX9TyMvFCFGKcB8CO6Ae4W310rn",
      "include_colab_link": true
    },
    "kernelspec": {
      "name": "python3",
      "display_name": "Python 3"
    },
    "language_info": {
      "name": "python"
    }
  },
  "cells": [
    {
      "cell_type": "markdown",
      "metadata": {
        "id": "view-in-github",
        "colab_type": "text"
      },
      "source": [
        "<a href=\"https://colab.research.google.com/github/PalakAggarwal13/PyTorch-DeepLearning/blob/main/PyTorch_DeepLearning.ipynb\" target=\"_parent\"><img src=\"https://colab.research.google.com/assets/colab-badge.svg\" alt=\"Open In Colab\"/></a>"
      ]
    },
    {
      "cell_type": "code",
      "execution_count": 1,
      "metadata": {
        "colab": {
          "base_uri": "https://localhost:8080/"
        },
        "id": "FFfL1fytd3F0",
        "outputId": "37dd796d-486a-4e59-e03e-bfea65b4caa0"
      },
      "outputs": [
        {
          "output_type": "stream",
          "name": "stdout",
          "text": [
            "2.6.0+cu124\n"
          ]
        }
      ],
      "source": [
        "import torch\n",
        "print(torch.__version__)"
      ]
    },
    {
      "cell_type": "code",
      "source": [
        "t1 = torch.tensor(4.)\n",
        "t1"
      ],
      "metadata": {
        "colab": {
          "base_uri": "https://localhost:8080/"
        },
        "id": "gYO5bcxAd35P",
        "outputId": "bdbbcf9f-1ac4-47b7-c465-6854188c23b3"
      },
      "execution_count": 2,
      "outputs": [
        {
          "output_type": "execute_result",
          "data": {
            "text/plain": [
              "tensor(4.)"
            ]
          },
          "metadata": {},
          "execution_count": 2
        }
      ]
    },
    {
      "cell_type": "code",
      "source": [
        "t1.dtype"
      ],
      "metadata": {
        "colab": {
          "base_uri": "https://localhost:8080/"
        },
        "id": "ddQQxG3VhGpO",
        "outputId": "774ace77-b15e-48c8-83a8-1650cca3a4e6"
      },
      "execution_count": 3,
      "outputs": [
        {
          "output_type": "execute_result",
          "data": {
            "text/plain": [
              "torch.float32"
            ]
          },
          "metadata": {},
          "execution_count": 3
        }
      ]
    },
    {
      "cell_type": "code",
      "source": [
        "t2 = torch.tensor([1.,2,3,4])\n",
        "t2"
      ],
      "metadata": {
        "colab": {
          "base_uri": "https://localhost:8080/"
        },
        "id": "OvlLNcIHhszW",
        "outputId": "6b209446-5e2d-473d-ad4f-b48d4196b8e8"
      },
      "execution_count": 4,
      "outputs": [
        {
          "output_type": "execute_result",
          "data": {
            "text/plain": [
              "tensor([1., 2., 3., 4.])"
            ]
          },
          "metadata": {},
          "execution_count": 4
        }
      ]
    },
    {
      "cell_type": "code",
      "source": [
        "t2.dtype"
      ],
      "metadata": {
        "colab": {
          "base_uri": "https://localhost:8080/"
        },
        "id": "aaGl-Xvgh-ri",
        "outputId": "65ef7624-278e-440f-f326-82364261b50e"
      },
      "execution_count": 5,
      "outputs": [
        {
          "output_type": "execute_result",
          "data": {
            "text/plain": [
              "torch.float32"
            ]
          },
          "metadata": {},
          "execution_count": 5
        }
      ]
    },
    {
      "cell_type": "code",
      "source": [
        "t3 = torch.tensor([[1.,2,3],[4,5,6],[7,8,9]])\n",
        "t3"
      ],
      "metadata": {
        "colab": {
          "base_uri": "https://localhost:8080/"
        },
        "id": "TpNRQmJDiAFo",
        "outputId": "27981863-d918-42dc-bdbf-732c9dc80d70"
      },
      "execution_count": 6,
      "outputs": [
        {
          "output_type": "execute_result",
          "data": {
            "text/plain": [
              "tensor([[1., 2., 3.],\n",
              "        [4., 5., 6.],\n",
              "        [7., 8., 9.]])"
            ]
          },
          "metadata": {},
          "execution_count": 6
        }
      ]
    },
    {
      "cell_type": "code",
      "source": [
        "t3.dtype"
      ],
      "metadata": {
        "colab": {
          "base_uri": "https://localhost:8080/"
        },
        "id": "6HY4PB5tiM1r",
        "outputId": "34f54c71-af71-4c2a-98d6-c6c8c5e482f2"
      },
      "execution_count": 7,
      "outputs": [
        {
          "output_type": "execute_result",
          "data": {
            "text/plain": [
              "torch.float32"
            ]
          },
          "metadata": {},
          "execution_count": 7
        }
      ]
    },
    {
      "cell_type": "code",
      "source": [
        "t4 = torch.tensor([\n",
        "    [[11.,12,13],\n",
        "     [14,15,16]],\n",
        "    [[17,18,19],\n",
        "     [20,21,22]]\n",
        "])\n",
        "t4"
      ],
      "metadata": {
        "colab": {
          "base_uri": "https://localhost:8080/"
        },
        "id": "kdySmY2IiOWR",
        "outputId": "d86f4450-3060-41ed-b2d2-ea738ef146bd"
      },
      "execution_count": 8,
      "outputs": [
        {
          "output_type": "execute_result",
          "data": {
            "text/plain": [
              "tensor([[[11., 12., 13.],\n",
              "         [14., 15., 16.]],\n",
              "\n",
              "        [[17., 18., 19.],\n",
              "         [20., 21., 22.]]])"
            ]
          },
          "metadata": {},
          "execution_count": 8
        }
      ]
    },
    {
      "cell_type": "code",
      "source": [
        "t4.dtype"
      ],
      "metadata": {
        "colab": {
          "base_uri": "https://localhost:8080/"
        },
        "id": "OXpNNB6nih9E",
        "outputId": "4cac6bda-a323-4de6-b0a4-1578bdbf1ea0"
      },
      "execution_count": 9,
      "outputs": [
        {
          "output_type": "execute_result",
          "data": {
            "text/plain": [
              "torch.float32"
            ]
          },
          "metadata": {},
          "execution_count": 9
        }
      ]
    },
    {
      "cell_type": "code",
      "source": [
        "t1.shape"
      ],
      "metadata": {
        "colab": {
          "base_uri": "https://localhost:8080/"
        },
        "id": "dOKOLUgDilKc",
        "outputId": "c431f78c-2db8-40b8-b12d-ac5c35341ec7"
      },
      "execution_count": 10,
      "outputs": [
        {
          "output_type": "execute_result",
          "data": {
            "text/plain": [
              "torch.Size([])"
            ]
          },
          "metadata": {},
          "execution_count": 10
        }
      ]
    },
    {
      "cell_type": "code",
      "source": [
        "t2.shape"
      ],
      "metadata": {
        "colab": {
          "base_uri": "https://localhost:8080/"
        },
        "id": "SkxGuy4hjLLD",
        "outputId": "e78ff49a-242f-43fb-9a1b-a8042053602e"
      },
      "execution_count": 11,
      "outputs": [
        {
          "output_type": "execute_result",
          "data": {
            "text/plain": [
              "torch.Size([4])"
            ]
          },
          "metadata": {},
          "execution_count": 11
        }
      ]
    },
    {
      "cell_type": "code",
      "source": [
        "t3.shape"
      ],
      "metadata": {
        "colab": {
          "base_uri": "https://localhost:8080/"
        },
        "id": "9y7tK4aBjMPs",
        "outputId": "ae78d85e-66f1-413a-dbc7-33703a04dc87"
      },
      "execution_count": 12,
      "outputs": [
        {
          "output_type": "execute_result",
          "data": {
            "text/plain": [
              "torch.Size([3, 3])"
            ]
          },
          "metadata": {},
          "execution_count": 12
        }
      ]
    },
    {
      "cell_type": "code",
      "source": [
        "t4.shape"
      ],
      "metadata": {
        "colab": {
          "base_uri": "https://localhost:8080/"
        },
        "id": "zcGcO44jjNpG",
        "outputId": "8913f952-4833-4c6d-e88d-c6ff5fc883d6"
      },
      "execution_count": 13,
      "outputs": [
        {
          "output_type": "execute_result",
          "data": {
            "text/plain": [
              "torch.Size([2, 2, 3])"
            ]
          },
          "metadata": {},
          "execution_count": 13
        }
      ]
    },
    {
      "cell_type": "code",
      "source": [
        "x = torch.tensor(3.)\n",
        "w = torch.tensor(4. , requires_grad = True)\n",
        "b = torch.tensor(5. , requires_grad = True)"
      ],
      "metadata": {
        "id": "mzu8O972jOmc"
      },
      "execution_count": 14,
      "outputs": []
    },
    {
      "cell_type": "code",
      "source": [
        "y = w * x + b\n",
        "y"
      ],
      "metadata": {
        "colab": {
          "base_uri": "https://localhost:8080/"
        },
        "id": "5rGJXEfgj5QI",
        "outputId": "1772668e-6308-46f5-cb33-07e3e0cc177f"
      },
      "execution_count": 15,
      "outputs": [
        {
          "output_type": "execute_result",
          "data": {
            "text/plain": [
              "tensor(17., grad_fn=<AddBackward0>)"
            ]
          },
          "metadata": {},
          "execution_count": 15
        }
      ]
    },
    {
      "cell_type": "code",
      "source": [
        "y.backward()"
      ],
      "metadata": {
        "id": "AY1dBqeFj_L7"
      },
      "execution_count": 16,
      "outputs": []
    },
    {
      "cell_type": "code",
      "source": [
        "print(\"dy/dx:\" , x.grad)\n",
        "print(\"dy/dw:\" , w.grad)\n",
        "print(\"dy/db:\" , b.grad)"
      ],
      "metadata": {
        "colab": {
          "base_uri": "https://localhost:8080/"
        },
        "id": "NjfCr0vWkD1I",
        "outputId": "f11c1a66-6361-4c37-f93d-4972577895af"
      },
      "execution_count": 17,
      "outputs": [
        {
          "output_type": "stream",
          "name": "stdout",
          "text": [
            "dy/dx: None\n",
            "dy/dw: tensor(3.)\n",
            "dy/db: tensor(1.)\n"
          ]
        }
      ]
    },
    {
      "cell_type": "code",
      "source": [
        "import numpy as np\n",
        "\n",
        "x = np.array([[1.,2,3],[4,5,6]])\n",
        "x"
      ],
      "metadata": {
        "colab": {
          "base_uri": "https://localhost:8080/"
        },
        "id": "U4nT0ujxlBNn",
        "outputId": "5cd8c1f8-495a-491d-d123-34cfd58f3355"
      },
      "execution_count": 18,
      "outputs": [
        {
          "output_type": "execute_result",
          "data": {
            "text/plain": [
              "array([[1., 2., 3.],\n",
              "       [4., 5., 6.]])"
            ]
          },
          "metadata": {},
          "execution_count": 18
        }
      ]
    },
    {
      "cell_type": "code",
      "source": [
        "y = torch.from_numpy(x)            #or you can do torch.tensor(x)\n",
        "y"
      ],
      "metadata": {
        "colab": {
          "base_uri": "https://localhost:8080/"
        },
        "id": "cXy-KSs-lj5t",
        "outputId": "70f41351-6183-4a0c-ab05-1fd8e3403a93"
      },
      "execution_count": 19,
      "outputs": [
        {
          "output_type": "execute_result",
          "data": {
            "text/plain": [
              "tensor([[1., 2., 3.],\n",
              "        [4., 5., 6.]], dtype=torch.float64)"
            ]
          },
          "metadata": {},
          "execution_count": 19
        }
      ]
    },
    {
      "cell_type": "code",
      "source": [
        "x.dtype , y.dtype"
      ],
      "metadata": {
        "colab": {
          "base_uri": "https://localhost:8080/"
        },
        "id": "2me3qH0vlqJO",
        "outputId": "2712fee7-ce8b-408a-9378-5999227e217e"
      },
      "execution_count": 20,
      "outputs": [
        {
          "output_type": "execute_result",
          "data": {
            "text/plain": [
              "(dtype('float64'), torch.float64)"
            ]
          },
          "metadata": {},
          "execution_count": 20
        }
      ]
    },
    {
      "cell_type": "code",
      "source": [
        "z = y.numpy()\n",
        "z"
      ],
      "metadata": {
        "colab": {
          "base_uri": "https://localhost:8080/"
        },
        "id": "OZKO5a8Dl6uF",
        "outputId": "7c1f069b-1219-49b4-a794-a15e1bb362d0"
      },
      "execution_count": 21,
      "outputs": [
        {
          "output_type": "execute_result",
          "data": {
            "text/plain": [
              "array([[1., 2., 3.],\n",
              "       [4., 5., 6.]])"
            ]
          },
          "metadata": {},
          "execution_count": 21
        }
      ]
    },
    {
      "cell_type": "code",
      "source": [
        "# Input (temp, rainfall, humidity)\n",
        "inputs = np.array([[73, 67, 43],\n",
        "                   [91, 88, 64],\n",
        "                   [87, 134, 58],\n",
        "                   [102, 43, 37],\n",
        "                   [69, 96, 70]], dtype='float32')"
      ],
      "metadata": {
        "id": "rZkbqui7mDPx"
      },
      "execution_count": 22,
      "outputs": []
    },
    {
      "cell_type": "code",
      "source": [
        "# Targets (apples, oranges)\n",
        "targets = np.array([[56, 70],\n",
        "                    [81, 101],\n",
        "                    [119, 133],\n",
        "                    [22, 37],\n",
        "                    [103, 119]], dtype='float32')"
      ],
      "metadata": {
        "id": "RbCZgk3Mn6oK"
      },
      "execution_count": 23,
      "outputs": []
    },
    {
      "cell_type": "code",
      "source": [
        "inputs = torch.tensor(inputs)\n",
        "targets = torch.tensor(targets)\n",
        "print(inputs)\n",
        "print(targets)"
      ],
      "metadata": {
        "colab": {
          "base_uri": "https://localhost:8080/"
        },
        "id": "U70rTdD4n8gC",
        "outputId": "304bc3a5-ad46-49b2-d80c-209968957a67"
      },
      "execution_count": 24,
      "outputs": [
        {
          "output_type": "stream",
          "name": "stdout",
          "text": [
            "tensor([[ 73.,  67.,  43.],\n",
            "        [ 91.,  88.,  64.],\n",
            "        [ 87., 134.,  58.],\n",
            "        [102.,  43.,  37.],\n",
            "        [ 69.,  96.,  70.]])\n",
            "tensor([[ 56.,  70.],\n",
            "        [ 81., 101.],\n",
            "        [119., 133.],\n",
            "        [ 22.,  37.],\n",
            "        [103., 119.]])\n"
          ]
        }
      ]
    },
    {
      "cell_type": "code",
      "source": [
        "w = torch.randn(2,3,requires_grad=True)\n",
        "b = torch.randn(2,requires_grad=True)\n",
        "print(w)\n",
        "print(b)"
      ],
      "metadata": {
        "colab": {
          "base_uri": "https://localhost:8080/"
        },
        "id": "PHSbXd-5oCkS",
        "outputId": "6cb557fa-6b00-41dc-932f-a36a8130aa56"
      },
      "execution_count": 25,
      "outputs": [
        {
          "output_type": "stream",
          "name": "stdout",
          "text": [
            "tensor([[-1.3717,  0.0614, -0.8112],\n",
            "        [ 1.0087, -2.0886, -0.2454]], requires_grad=True)\n",
            "tensor([-0.8791,  0.2930], requires_grad=True)\n"
          ]
        }
      ]
    },
    {
      "cell_type": "code",
      "source": [
        "def model(x):\n",
        "  return x @ w.t() + b"
      ],
      "metadata": {
        "id": "6r2CbP8fohGt"
      },
      "execution_count": 26,
      "outputs": []
    },
    {
      "cell_type": "code",
      "source": [
        "preds = model(inputs)\n",
        "preds"
      ],
      "metadata": {
        "colab": {
          "base_uri": "https://localhost:8080/"
        },
        "id": "74BJm3h1pE2B",
        "outputId": "f9325dab-e904-497f-8e81-b1a9d7606d72"
      },
      "execution_count": 27,
      "outputs": [
        {
          "output_type": "execute_result",
          "data": {
            "text/plain": [
              "tensor([[-131.7783,  -76.5579],\n",
              "        [-172.2143, -107.4149],\n",
              "        [-159.0337, -206.0515],\n",
              "        [-168.1640,    4.2934],\n",
              "        [-146.4134, -147.7880]], grad_fn=<AddBackward0>)"
            ]
          },
          "metadata": {},
          "execution_count": 27
        }
      ]
    },
    {
      "cell_type": "code",
      "source": [
        "targets"
      ],
      "metadata": {
        "colab": {
          "base_uri": "https://localhost:8080/"
        },
        "id": "1VEWk5zupMnV",
        "outputId": "f5b535f7-9294-4004-895a-28549e278bed"
      },
      "execution_count": 28,
      "outputs": [
        {
          "output_type": "execute_result",
          "data": {
            "text/plain": [
              "tensor([[ 56.,  70.],\n",
              "        [ 81., 101.],\n",
              "        [119., 133.],\n",
              "        [ 22.,  37.],\n",
              "        [103., 119.]])"
            ]
          },
          "metadata": {},
          "execution_count": 28
        }
      ]
    },
    {
      "cell_type": "code",
      "source": [
        "def mse(t1,t2):\n",
        "  diff = t1-t2\n",
        "  return torch.sum(diff * diff) / diff.numel()"
      ],
      "metadata": {
        "id": "rkxvrK7OpOb8"
      },
      "execution_count": 29,
      "outputs": []
    },
    {
      "cell_type": "code",
      "source": [
        "loss = mse(preds , targets)\n",
        "print(loss)  # full tensor"
      ],
      "metadata": {
        "colab": {
          "base_uri": "https://localhost:8080/"
        },
        "id": "Vvh-BcDDqGs2",
        "outputId": "dfc1b918-7b9e-44ce-f126-cb7d8875438a"
      },
      "execution_count": 30,
      "outputs": [
        {
          "output_type": "stream",
          "name": "stdout",
          "text": [
            "tensor(52716.7734, grad_fn=<DivBackward0>)\n"
          ]
        }
      ]
    },
    {
      "cell_type": "code",
      "source": [
        "loss.backward()"
      ],
      "metadata": {
        "id": "sX--rm-tJk_-"
      },
      "execution_count": 31,
      "outputs": []
    },
    {
      "cell_type": "code",
      "source": [
        "print(\"dl/dw : \" , w.grad)\n",
        "print(\"dl/db : \" , b.grad)"
      ],
      "metadata": {
        "colab": {
          "base_uri": "https://localhost:8080/"
        },
        "id": "5PM7mOe8Khg-",
        "outputId": "5b0e6a84-6ef4-46c5-a481-83132a515eac"
      },
      "execution_count": 32,
      "outputs": [
        {
          "output_type": "stream",
          "name": "stdout",
          "text": [
            "dl/dw :  tensor([[-19509.1016, -20848.2539, -12980.2285],\n",
            "        [-16181.2812, -20122.1641, -11838.1660]])\n",
            "dl/db :  tensor([-231.7208, -198.7038])\n"
          ]
        }
      ]
    },
    {
      "cell_type": "code",
      "source": [
        "w.grad.zero_()\n",
        "b.grad.zero_()\n",
        "print(w.grad)\n",
        "print(b.grad)"
      ],
      "metadata": {
        "colab": {
          "base_uri": "https://localhost:8080/"
        },
        "id": "ZpqA0PfjMYQM",
        "outputId": "80e6f3ce-2a33-4686-e0b5-ae5c65ae48d0"
      },
      "execution_count": 33,
      "outputs": [
        {
          "output_type": "stream",
          "name": "stdout",
          "text": [
            "tensor([[0., 0., 0.],\n",
            "        [0., 0., 0.]])\n",
            "tensor([0., 0.])\n"
          ]
        }
      ]
    },
    {
      "cell_type": "markdown",
      "source": [
        "# **GRADIENT DESCENT**"
      ],
      "metadata": {
        "id": "UxbtjsO3aBpS"
      }
    },
    {
      "cell_type": "code",
      "source": [
        "import torch\n",
        "\n",
        "inputs = np.array([[73, 67, 43],\n",
        "                   [91, 88, 64],\n",
        "                   [87, 134, 58],\n",
        "                   [102, 43, 37],\n",
        "                   [69, 96, 70]], dtype='float32')\n",
        "\n",
        "targets = np.array([[56, 70],\n",
        "                    [81, 101],\n",
        "                    [119, 133],\n",
        "                    [22, 37],\n",
        "                    [103, 119]], dtype='float32')\n",
        "\n",
        "inputs = torch.tensor(inputs)\n",
        "targets = torch.tensor(targets)\n",
        "\n",
        "w = torch.randn(2,3,requires_grad=True)\n",
        "b = torch.randn(2,requires_grad=True)\n",
        "\n",
        "lr = 1e-5\n",
        "\n",
        "def mse(preds,targets):\n",
        "  return torch.mean((preds-targets)**2)\n",
        "\n",
        "for epoch in range(100):\n",
        "\n",
        "  preds = inputs @ w.t() + b\n",
        "  loss  = mse(preds,targets)\n",
        "\n",
        "  loss.backward()\n",
        "\n",
        "  with torch.no_grad():\n",
        "    w -= lr * w.grad\n",
        "    b -= lr * b.grad\n",
        "\n",
        "    w.grad.zero_()\n",
        "    b.grad.zero_()\n",
        "\n",
        "  if epoch % 10 == 0:\n",
        "        print(f\"Epoch {epoch}: Loss = {loss.item():.4f} ,  w =\\n{w} , b = {b}\")"
      ],
      "metadata": {
        "colab": {
          "base_uri": "https://localhost:8080/"
        },
        "id": "vxjbcMa-d6yi",
        "outputId": "c2294e81-11cf-4d0a-9c12-6adb84232277"
      },
      "execution_count": 34,
      "outputs": [
        {
          "output_type": "stream",
          "name": "stdout",
          "text": [
            "Epoch 0: Loss = 18562.0195 ,  w =\n",
            "tensor([[ 0.7862,  0.5386,  0.0655],\n",
            "        [-0.7320,  0.3004, -0.4024]], requires_grad=True) , b = tensor([0.0633, 0.4562], requires_grad=True)\n",
            "Epoch 10: Loss = 784.3158 ,  w =\n",
            "tensor([[ 0.5849,  0.4245, -0.0204],\n",
            "        [-0.1327,  0.9524,  0.0076]], requires_grad=True) , b = tensor([0.0612, 0.4634], requires_grad=True)\n",
            "Epoch 20: Loss = 396.3494 ,  w =\n",
            "tensor([[ 0.5133,  0.4434, -0.0229],\n",
            "        [-0.0548,  1.0437,  0.0716]], requires_grad=True) , b = tensor([0.0606, 0.4644], requires_grad=True)\n",
            "Epoch 30: Loss = 349.4511 ,  w =\n",
            "tensor([[ 0.4623,  0.4785, -0.0141],\n",
            "        [-0.0491,  1.0570,  0.0874]], requires_grad=True) , b = tensor([0.0603, 0.4645], requires_grad=True)\n",
            "Epoch 40: Loss = 313.7310 ,  w =\n",
            "tensor([[ 0.4167,  0.5138, -0.0040],\n",
            "        [-0.0532,  1.0592,  0.0964]], requires_grad=True) , b = tensor([0.0600, 0.4645], requires_grad=True)\n",
            "Epoch 50: Loss = 282.2720 ,  w =\n",
            "tensor([[ 0.3741,  0.5472,  0.0059],\n",
            "        [-0.0585,  1.0597,  0.1045]], requires_grad=True) , b = tensor([0.0597, 0.4645], requires_grad=True)\n",
            "Epoch 60: Loss = 254.4598 ,  w =\n",
            "tensor([[ 0.3342,  0.5784,  0.0156],\n",
            "        [-0.0637,  1.0598,  0.1122]], requires_grad=True) , b = tensor([0.0594, 0.4645], requires_grad=True)\n",
            "Epoch 70: Loss = 229.8591 ,  w =\n",
            "tensor([[ 0.2966,  0.6076,  0.0250],\n",
            "        [-0.0687,  1.0597,  0.1199]], requires_grad=True) , b = tensor([0.0592, 0.4646], requires_grad=True)\n",
            "Epoch 80: Loss = 208.0887 ,  w =\n",
            "tensor([[ 0.2612,  0.6349,  0.0341],\n",
            "        [-0.0735,  1.0595,  0.1275]], requires_grad=True) , b = tensor([0.0590, 0.4646], requires_grad=True)\n",
            "Epoch 90: Loss = 188.8126 ,  w =\n",
            "tensor([[ 0.2280,  0.6603,  0.0430],\n",
            "        [-0.0781,  1.0592,  0.1350]], requires_grad=True) , b = tensor([0.0588, 0.4646], requires_grad=True)\n"
          ]
        }
      ]
    },
    {
      "cell_type": "markdown",
      "source": [
        "# **Linear regression using PyTorch built-ins**"
      ],
      "metadata": {
        "id": "DeW3MXE4i206"
      }
    },
    {
      "cell_type": "code",
      "source": [
        "import torch.nn as nn"
      ],
      "metadata": {
        "id": "HdRpPbfzgcoV"
      },
      "execution_count": 35,
      "outputs": []
    },
    {
      "cell_type": "code",
      "source": [
        "# Input (temp, rainfall, humidity)\n",
        "inputs = np.array([[73, 67, 43], [91, 88, 64], [87, 134, 58],\n",
        "                   [102, 43, 37], [69, 96, 70], [73, 67, 43],\n",
        "                   [91, 88, 64], [87, 134, 58], [102, 43, 37],\n",
        "                   [69, 96, 70], [73, 67, 43], [91, 88, 64],\n",
        "                   [87, 134, 58], [102, 43, 37], [69, 96, 70]],\n",
        "                  dtype='float32')\n",
        "\n",
        "# Targets (apples, oranges)\n",
        "targets = np.array([[56, 70], [81, 101], [119, 133],\n",
        "                    [22, 37], [103, 119], [56, 70],\n",
        "                    [81, 101], [119, 133], [22, 37],\n",
        "                    [103, 119], [56, 70], [81, 101],\n",
        "                    [119, 133], [22, 37], [103, 119]],\n",
        "                   dtype='float32')\n",
        "\n",
        "inputs = torch.from_numpy(inputs)\n",
        "targets = torch.from_numpy(targets)"
      ],
      "metadata": {
        "id": "DTiQ-ckNi8I3"
      },
      "execution_count": 36,
      "outputs": []
    },
    {
      "cell_type": "code",
      "source": [
        "from torch.utils.data import TensorDataset"
      ],
      "metadata": {
        "id": "_T6rf399jANu"
      },
      "execution_count": 37,
      "outputs": []
    },
    {
      "cell_type": "code",
      "source": [
        "train_ds = TensorDataset(inputs,targets)\n",
        "train_ds[0:3]"
      ],
      "metadata": {
        "colab": {
          "base_uri": "https://localhost:8080/"
        },
        "id": "-GtRDStIj47U",
        "outputId": "e4112181-00be-4046-b35f-39bbfaa57c31"
      },
      "execution_count": 38,
      "outputs": [
        {
          "output_type": "execute_result",
          "data": {
            "text/plain": [
              "(tensor([[ 73.,  67.,  43.],\n",
              "         [ 91.,  88.,  64.],\n",
              "         [ 87., 134.,  58.]]),\n",
              " tensor([[ 56.,  70.],\n",
              "         [ 81., 101.],\n",
              "         [119., 133.]]))"
            ]
          },
          "metadata": {},
          "execution_count": 38
        }
      ]
    },
    {
      "cell_type": "code",
      "source": [
        "from torch.utils.data import DataLoader"
      ],
      "metadata": {
        "id": "aUo61_X6ld-V"
      },
      "execution_count": 39,
      "outputs": []
    },
    {
      "cell_type": "code",
      "source": [
        "batch_size=5\n",
        "train_dl = DataLoader(train_ds,batch_size,shuffle=True)"
      ],
      "metadata": {
        "id": "gCtlSnEglrHC"
      },
      "execution_count": 40,
      "outputs": []
    },
    {
      "cell_type": "code",
      "source": [
        "i=0\n",
        "for xb,yb in train_dl:\n",
        "  print(f\"batch:{i} \")\n",
        "  print(xb)\n",
        "  print(yb)\n",
        "  i +=1"
      ],
      "metadata": {
        "colab": {
          "base_uri": "https://localhost:8080/"
        },
        "id": "sMGPsnfml1xe",
        "outputId": "49ad40dd-9e5a-4155-de32-25c4e389deef"
      },
      "execution_count": 41,
      "outputs": [
        {
          "output_type": "stream",
          "name": "stdout",
          "text": [
            "batch:0 \n",
            "tensor([[ 73.,  67.,  43.],\n",
            "        [ 91.,  88.,  64.],\n",
            "        [ 69.,  96.,  70.],\n",
            "        [102.,  43.,  37.],\n",
            "        [ 69.,  96.,  70.]])\n",
            "tensor([[ 56.,  70.],\n",
            "        [ 81., 101.],\n",
            "        [103., 119.],\n",
            "        [ 22.,  37.],\n",
            "        [103., 119.]])\n",
            "batch:1 \n",
            "tensor([[ 73.,  67.,  43.],\n",
            "        [ 87., 134.,  58.],\n",
            "        [ 91.,  88.,  64.],\n",
            "        [102.,  43.,  37.],\n",
            "        [ 87., 134.,  58.]])\n",
            "tensor([[ 56.,  70.],\n",
            "        [119., 133.],\n",
            "        [ 81., 101.],\n",
            "        [ 22.,  37.],\n",
            "        [119., 133.]])\n",
            "batch:2 \n",
            "tensor([[102.,  43.,  37.],\n",
            "        [ 69.,  96.,  70.],\n",
            "        [ 91.,  88.,  64.],\n",
            "        [ 87., 134.,  58.],\n",
            "        [ 73.,  67.,  43.]])\n",
            "tensor([[ 22.,  37.],\n",
            "        [103., 119.],\n",
            "        [ 81., 101.],\n",
            "        [119., 133.],\n",
            "        [ 56.,  70.]])\n"
          ]
        }
      ]
    },
    {
      "cell_type": "code",
      "source": [
        "model = nn.Linear(3,2)\n",
        "print(model.weight)\n",
        "print(model.bias)"
      ],
      "metadata": {
        "colab": {
          "base_uri": "https://localhost:8080/"
        },
        "id": "rHZhDclgmGQY",
        "outputId": "2b9e9510-045d-4256-e0a7-38524f238264"
      },
      "execution_count": 42,
      "outputs": [
        {
          "output_type": "stream",
          "name": "stdout",
          "text": [
            "Parameter containing:\n",
            "tensor([[-0.4469, -0.5146,  0.2741],\n",
            "        [-0.2405,  0.4545,  0.3946]], requires_grad=True)\n",
            "Parameter containing:\n",
            "tensor([-0.3471, -0.4340], requires_grad=True)\n"
          ]
        }
      ]
    },
    {
      "cell_type": "code",
      "source": [
        "list(model.parameters())"
      ],
      "metadata": {
        "colab": {
          "base_uri": "https://localhost:8080/"
        },
        "id": "0EGSCTgB0X_X",
        "outputId": "6365826a-0bfa-4b57-d06f-6a9efea6d2bd"
      },
      "execution_count": 43,
      "outputs": [
        {
          "output_type": "execute_result",
          "data": {
            "text/plain": [
              "[Parameter containing:\n",
              " tensor([[-0.4469, -0.5146,  0.2741],\n",
              "         [-0.2405,  0.4545,  0.3946]], requires_grad=True),\n",
              " Parameter containing:\n",
              " tensor([-0.3471, -0.4340], requires_grad=True)]"
            ]
          },
          "metadata": {},
          "execution_count": 43
        }
      ]
    },
    {
      "cell_type": "code",
      "source": [
        "import torch.nn.functional as F"
      ],
      "metadata": {
        "id": "0rkMkx-t0pyM"
      },
      "execution_count": 44,
      "outputs": []
    },
    {
      "cell_type": "code",
      "source": [
        "loss_fn = F.mse_loss"
      ],
      "metadata": {
        "id": "x6aeb-lF1UkP"
      },
      "execution_count": 45,
      "outputs": []
    },
    {
      "cell_type": "code",
      "source": [
        "loss = loss_fn(model(inputs),targets)\n",
        "print(loss)"
      ],
      "metadata": {
        "colab": {
          "base_uri": "https://localhost:8080/"
        },
        "id": "aiypHFUK1aXC",
        "outputId": "df2d9ebc-6d25-4543-8dc7-7b635caf16c5"
      },
      "execution_count": 46,
      "outputs": [
        {
          "output_type": "stream",
          "name": "stdout",
          "text": [
            "tensor(12790.9492, grad_fn=<MseLossBackward0>)\n"
          ]
        }
      ]
    },
    {
      "cell_type": "code",
      "source": [
        "opt = torch.optim.SGD(model.parameters(),lr=1e-5)"
      ],
      "metadata": {
        "id": "euoBBLyb1tQN"
      },
      "execution_count": 47,
      "outputs": []
    },
    {
      "cell_type": "code",
      "source": [
        "def fit(num_epochs,model,loss_fn,opt):\n",
        "  for epoch in range(num_epochs):\n",
        "    for xb,yb in train_dl:\n",
        "      preds = model(xb)\n",
        "      loss = loss_fn(preds,yb)\n",
        "      loss.backward()\n",
        "      opt.step()\n",
        "      opt.zero_grad()\n",
        "\n",
        "    if (epoch+1) % 10 == 0:\n",
        "          print('Epoch [{}/{}], Loss: {:.4f}'.format(epoch+1, num_epochs, loss.item()))"
      ],
      "metadata": {
        "id": "Gb5xCKNi2F_3"
      },
      "execution_count": 48,
      "outputs": []
    },
    {
      "cell_type": "code",
      "source": [
        "fit(100, model, loss_fn, opt)"
      ],
      "metadata": {
        "colab": {
          "base_uri": "https://localhost:8080/"
        },
        "id": "Q_cTTXZq20bV",
        "outputId": "5e49742d-f172-4e15-aac4-d809c612ed5d"
      },
      "execution_count": 49,
      "outputs": [
        {
          "output_type": "stream",
          "name": "stdout",
          "text": [
            "Epoch [10/100], Loss: 286.9587\n",
            "Epoch [20/100], Loss: 150.6940\n",
            "Epoch [30/100], Loss: 106.7062\n",
            "Epoch [40/100], Loss: 59.3602\n",
            "Epoch [50/100], Loss: 52.5204\n",
            "Epoch [60/100], Loss: 27.4335\n",
            "Epoch [70/100], Loss: 40.4631\n",
            "Epoch [80/100], Loss: 14.1773\n",
            "Epoch [90/100], Loss: 13.8324\n",
            "Epoch [100/100], Loss: 8.7222\n"
          ]
        }
      ]
    },
    {
      "cell_type": "code",
      "source": [
        "# Generate predictions\n",
        "preds = model(inputs)\n",
        "preds"
      ],
      "metadata": {
        "colab": {
          "base_uri": "https://localhost:8080/"
        },
        "id": "fRsg1sHd3Sqj",
        "outputId": "2c865fe7-08c5-4b37-f470-1f8007d97d5e"
      },
      "execution_count": 50,
      "outputs": [
        {
          "output_type": "execute_result",
          "data": {
            "text/plain": [
              "tensor([[ 57.9155,  70.8204],\n",
              "        [ 83.4630,  99.1374],\n",
              "        [113.8390, 135.6812],\n",
              "        [ 26.4792,  40.1710],\n",
              "        [100.9452, 114.5400],\n",
              "        [ 57.9155,  70.8204],\n",
              "        [ 83.4630,  99.1374],\n",
              "        [113.8390, 135.6812],\n",
              "        [ 26.4792,  40.1710],\n",
              "        [100.9452, 114.5400],\n",
              "        [ 57.9155,  70.8204],\n",
              "        [ 83.4630,  99.1374],\n",
              "        [113.8390, 135.6812],\n",
              "        [ 26.4792,  40.1710],\n",
              "        [100.9452, 114.5400]], grad_fn=<AddmmBackward0>)"
            ]
          },
          "metadata": {},
          "execution_count": 50
        }
      ]
    },
    {
      "cell_type": "code",
      "source": [
        "# Compare with targets\n",
        "targets"
      ],
      "metadata": {
        "colab": {
          "base_uri": "https://localhost:8080/"
        },
        "id": "3naiUeT43ZpE",
        "outputId": "690f77fa-dc08-4e46-c6a1-c65a53f9f7a3"
      },
      "execution_count": 51,
      "outputs": [
        {
          "output_type": "execute_result",
          "data": {
            "text/plain": [
              "tensor([[ 56.,  70.],\n",
              "        [ 81., 101.],\n",
              "        [119., 133.],\n",
              "        [ 22.,  37.],\n",
              "        [103., 119.],\n",
              "        [ 56.,  70.],\n",
              "        [ 81., 101.],\n",
              "        [119., 133.],\n",
              "        [ 22.,  37.],\n",
              "        [103., 119.],\n",
              "        [ 56.,  70.],\n",
              "        [ 81., 101.],\n",
              "        [119., 133.],\n",
              "        [ 22.,  37.],\n",
              "        [103., 119.]])"
            ]
          },
          "metadata": {},
          "execution_count": 51
        }
      ]
    },
    {
      "cell_type": "markdown",
      "source": [
        "# **Working with Images & Logistic Regression in PyTorch**"
      ],
      "metadata": {
        "id": "Wp3CGyh--bWb"
      }
    },
    {
      "cell_type": "code",
      "source": [
        "import torch\n",
        "import torchvision\n",
        "from torchvision.datasets import MNIST"
      ],
      "metadata": {
        "id": "YU6-eirG3bvN"
      },
      "execution_count": 52,
      "outputs": []
    },
    {
      "cell_type": "code",
      "source": [
        "dataset = MNIST(root='data/',download=True)"
      ],
      "metadata": {
        "colab": {
          "base_uri": "https://localhost:8080/"
        },
        "id": "qvkOY8KH-sjA",
        "outputId": "a582904c-1ced-49bf-eb97-da5162f32a4e"
      },
      "execution_count": 53,
      "outputs": [
        {
          "output_type": "stream",
          "name": "stderr",
          "text": [
            "100%|██████████| 9.91M/9.91M [00:00<00:00, 38.9MB/s]\n",
            "100%|██████████| 28.9k/28.9k [00:00<00:00, 1.07MB/s]\n",
            "100%|██████████| 1.65M/1.65M [00:00<00:00, 8.28MB/s]\n",
            "100%|██████████| 4.54k/4.54k [00:00<00:00, 4.92MB/s]\n"
          ]
        }
      ]
    },
    {
      "cell_type": "code",
      "source": [
        "len(dataset)"
      ],
      "metadata": {
        "colab": {
          "base_uri": "https://localhost:8080/"
        },
        "id": "Nk26RNZI-0d_",
        "outputId": "6ca87762-17d3-4d48-d939-3d58eeec7956"
      },
      "execution_count": 54,
      "outputs": [
        {
          "output_type": "execute_result",
          "data": {
            "text/plain": [
              "60000"
            ]
          },
          "metadata": {},
          "execution_count": 54
        }
      ]
    },
    {
      "cell_type": "code",
      "source": [
        "test_dataset = MNIST(root='data/',train=False)\n",
        "len(test_dataset)"
      ],
      "metadata": {
        "colab": {
          "base_uri": "https://localhost:8080/"
        },
        "id": "hE8bSQyp-3G9",
        "outputId": "eb940ca6-1d66-45fa-e378-822bf1b09230"
      },
      "execution_count": 55,
      "outputs": [
        {
          "output_type": "execute_result",
          "data": {
            "text/plain": [
              "10000"
            ]
          },
          "metadata": {},
          "execution_count": 55
        }
      ]
    },
    {
      "cell_type": "code",
      "source": [
        "dataset[0]"
      ],
      "metadata": {
        "colab": {
          "base_uri": "https://localhost:8080/"
        },
        "id": "1FKWNBsi_AVm",
        "outputId": "7d9db9ae-b2ed-4422-d4c9-156a84db3b9f"
      },
      "execution_count": 56,
      "outputs": [
        {
          "output_type": "execute_result",
          "data": {
            "text/plain": [
              "(<PIL.Image.Image image mode=L size=28x28>, 5)"
            ]
          },
          "metadata": {},
          "execution_count": 56
        }
      ]
    },
    {
      "cell_type": "code",
      "source": [
        "import matplotlib.pyplot as plt\n",
        "%matplotlib inline"
      ],
      "metadata": {
        "id": "xtdHRScG_DQe"
      },
      "execution_count": 57,
      "outputs": []
    },
    {
      "cell_type": "code",
      "source": [
        "image , label = dataset[0]\n",
        "plt.imshow(image , cmap='gray')\n",
        "print(\"Label:\" ,label)"
      ],
      "metadata": {
        "colab": {
          "base_uri": "https://localhost:8080/",
          "height": 447
        },
        "id": "7K3t5DsZ_Fcd",
        "outputId": "0f040321-4783-4385-f79b-2de2d01d0e6f"
      },
      "execution_count": 58,
      "outputs": [
        {
          "output_type": "stream",
          "name": "stdout",
          "text": [
            "Label: 5\n"
          ]
        },
        {
          "output_type": "display_data",
          "data": {
            "text/plain": [
              "<Figure size 640x480 with 1 Axes>"
            ],
            "image/png": "[encoded data removed]"
          },
          "metadata": {}
        }
      ]
    },
    {
      "cell_type": "code",
      "source": [
        "image , label = dataset[7]\n",
        "plt.imshow(image , cmap='gray')\n",
        "print(\"Label:\" , label)"
      ],
      "metadata": {
        "colab": {
          "base_uri": "https://localhost:8080/",
          "height": 447
        },
        "id": "YF8YvGnE_eCR",
        "outputId": "4a561bb3-c88c-4fd4-910b-21d69974746e"
      },
      "execution_count": 59,
      "outputs": [
        {
          "output_type": "stream",
          "name": "stdout",
          "text": [
            "Label: 3\n"
          ]
        },
        {
          "output_type": "display_data",
          "data": {
            "text/plain": [
              "<Figure size 640x480 with 1 Axes>"
            ],
            "image/png": "[encoded data removed]"
          },
          "metadata": {}
        }
      ]
    },
    {
      "cell_type": "code",
      "source": [
        "import torchvision.transforms as transforms"
      ],
      "metadata": {
        "id": "cli53lPw_omt"
      },
      "execution_count": 60,
      "outputs": []
    },
    {
      "cell_type": "code",
      "source": [
        "dataset = MNIST(root='data/',train=True,transform=transforms.ToTensor())"
      ],
      "metadata": {
        "id": "ird-_9Qw_wsf"
      },
      "execution_count": 61,
      "outputs": []
    },
    {
      "cell_type": "code",
      "source": [
        "img_tensor, label = dataset[0]\n",
        "print(img_tensor.shape, label)"
      ],
      "metadata": {
        "colab": {
          "base_uri": "https://localhost:8080/"
        },
        "id": "HeSFh3So_8J-",
        "outputId": "652bcecb-fd8f-4e30-dd6c-008175e97938"
      },
      "execution_count": 62,
      "outputs": [
        {
          "output_type": "stream",
          "name": "stdout",
          "text": [
            "torch.Size([1, 28, 28]) 5\n"
          ]
        }
      ]
    },
    {
      "cell_type": "code",
      "source": [
        "print(img_tensor[:,10:15,10:15])\n",
        "print(torch.max(img_tensor), torch.min(img_tensor))"
      ],
      "metadata": {
        "colab": {
          "base_uri": "https://localhost:8080/"
        },
        "id": "gxnQpJ8YABxk",
        "outputId": "0dc0bef1-0cd2-4216-ead1-f9de32d277c7"
      },
      "execution_count": 63,
      "outputs": [
        {
          "output_type": "stream",
          "name": "stdout",
          "text": [
            "tensor([[[0.0039, 0.6039, 0.9922, 0.3529, 0.0000],\n",
            "         [0.0000, 0.5451, 0.9922, 0.7451, 0.0078],\n",
            "         [0.0000, 0.0431, 0.7451, 0.9922, 0.2745],\n",
            "         [0.0000, 0.0000, 0.1373, 0.9451, 0.8824],\n",
            "         [0.0000, 0.0000, 0.0000, 0.3176, 0.9412]]])\n",
            "tensor(1.) tensor(0.)\n"
          ]
        }
      ]
    },
    {
      "cell_type": "code",
      "source": [
        "plt.imshow(img_tensor[0,10:15,10:15],cmap='gray');"
      ],
      "metadata": {
        "colab": {
          "base_uri": "https://localhost:8080/",
          "height": 430
        },
        "id": "enGtSN9KAXmB",
        "outputId": "a831015c-4129-4e03-ea59-bf29c73f633d"
      },
      "execution_count": 64,
      "outputs": [
        {
          "output_type": "display_data",
          "data": {
            "text/plain": [
              "<Figure size 640x480 with 1 Axes>"
            ],
            "image/png": "[encoded data removed]"
          },
          "metadata": {}
        }
      ]
    },
    {
      "cell_type": "code",
      "source": [
        "from torch.utils.data import random_split\n",
        "\n",
        "train_ds , val_ds = random_split(dataset,[50000,10000])\n",
        "len(train_ds) , len(val_ds)"
      ],
      "metadata": {
        "colab": {
          "base_uri": "https://localhost:8080/"
        },
        "id": "GbT9R4xeAgR-",
        "outputId": "0551d252-1496-40a5-b10f-24e2031640da"
      },
      "execution_count": 65,
      "outputs": [
        {
          "output_type": "execute_result",
          "data": {
            "text/plain": [
              "(50000, 10000)"
            ]
          },
          "metadata": {},
          "execution_count": 65
        }
      ]
    },
    {
      "cell_type": "code",
      "source": [
        "from torch.utils.data import DataLoader\n",
        "\n",
        "batch_size=128\n",
        "\n",
        "train_loader = DataLoader(train_ds,batch_size,shuffle=True)\n",
        "val_loader = DataLoader(val_ds,batch_size)"
      ],
      "metadata": {
        "id": "w-CCo7-_BsVh"
      },
      "execution_count": 66,
      "outputs": []
    },
    {
      "cell_type": "code",
      "source": [
        "import numpy as np\n",
        "\n",
        "def split_indices(n,val_pct):\n",
        "  n_val = int(val_pct*n)\n",
        "  idxs = np.random.permutation(n)\n",
        "  return idxs[n_val:] , idxs[:n_val]"
      ],
      "metadata": {
        "id": "czIatUerCMog"
      },
      "execution_count": 67,
      "outputs": []
    },
    {
      "cell_type": "code",
      "source": [
        "train_indices , val_indices = split_indices(len(dataset),val_pct=0.2)"
      ],
      "metadata": {
        "id": "QuTcQxbpcvvv"
      },
      "execution_count": 68,
      "outputs": []
    },
    {
      "cell_type": "code",
      "source": [
        "print(len(train_indices)) , print(len(val_indices))\n",
        "print(\"sample val_indices : \", val_indices[:20])"
      ],
      "metadata": {
        "colab": {
          "base_uri": "https://localhost:8080/"
        },
        "id": "jnJjX01VdFQI",
        "outputId": "f92dabdf-bd22-42e3-abf8-78008ca5dd11"
      },
      "execution_count": 69,
      "outputs": [
        {
          "output_type": "stream",
          "name": "stdout",
          "text": [
            "48000\n",
            "12000\n",
            "sample val_indices :  [34683 23275 30514 40966  2877 24198 46942 10027  6975 56023 13347 17675\n",
            " 16525  5285 57768 35176 43484 53073 33435  9217]\n"
          ]
        }
      ]
    },
    {
      "cell_type": "code",
      "source": [
        "from torch.utils.data.sampler import SubsetRandomSampler\n",
        "from torch.utils.data.dataloader import DataLoader"
      ],
      "metadata": {
        "id": "HM9cdQB7dWAo"
      },
      "execution_count": 70,
      "outputs": []
    },
    {
      "cell_type": "code",
      "source": [
        "batch_size = 100\n",
        "\n",
        "train_sampler = SubsetRandomSampler(train_indices)\n",
        "train_loader = DataLoader(dataset,\n",
        "                          batch_size,\n",
        "                          sampler = train_sampler)\n",
        "\n",
        "val_sampler = SubsetRandomSampler(val_indices)\n",
        "val_loader = DataLoader(dataset,\n",
        "                        batch_size,\n",
        "                        sampler = val_indices)"
      ],
      "metadata": {
        "id": "lMFzRC2oeqMt"
      },
      "execution_count": 71,
      "outputs": []
    },
    {
      "cell_type": "code",
      "source": [],
      "metadata": {
        "id": "-BPFw0IqfqEV"
      },
      "execution_count": null,
      "outputs": []
    }
  ]
}