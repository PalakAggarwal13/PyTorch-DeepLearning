{
  "nbformat": 4,
  "nbformat_minor": 0,
  "metadata": {
    "colab": {
      "provenance": [],
      "authorship_tag": "ABX9TyMrsr1+GHoqzDO9CJxup8Vq",
      "include_colab_link": true
    },
    "kernelspec": {
      "name": "python3",
      "display_name": "Python 3"
    },
    "language_info": {
      "name": "python"
    }
  },
  "cells": [
    {
      "cell_type": "markdown",
      "metadata": {
        "id": "view-in-github",
        "colab_type": "text"
      },
      "source": [
        "<a href=\"https://colab.research.google.com/github/PalakAggarwal13/PyTorch-DeepLearning/blob/main/PyTorch_DeepLearning.ipynb\" target=\"_parent\"><img src=\"https://colab.research.google.com/assets/colab-badge.svg\" alt=\"Open In Colab\"/></a>"
      ]
    },
    {
      "cell_type": "code",
      "execution_count": 4,
      "metadata": {
        "colab": {
          "base_uri": "https://localhost:8080/"
        },
        "id": "FFfL1fytd3F0",
        "outputId": "c1667491-c278-4a68-904c-742ee43e3570"
      },
      "outputs": [
        {
          "output_type": "stream",
          "name": "stdout",
          "text": [
            "2.6.0+cu124\n"
          ]
        }
      ],
      "source": [
        "import torch\n",
        "print(torch.__version__)"
      ]
    },
    {
      "cell_type": "code",
      "source": [
        "t1 = torch.tensor(4.)\n",
        "t1"
      ],
      "metadata": {
        "colab": {
          "base_uri": "https://localhost:8080/"
        },
        "id": "gYO5bcxAd35P",
        "outputId": "50a8ffd3-64f4-4e4c-dad5-f49556fdafe3"
      },
      "execution_count": 5,
      "outputs": [
        {
          "output_type": "execute_result",
          "data": {
            "text/plain": [
              "tensor(4.)"
            ]
          },
          "metadata": {},
          "execution_count": 5
        }
      ]
    },
    {
      "cell_type": "code",
      "source": [
        "t1.dtype"
      ],
      "metadata": {
        "colab": {
          "base_uri": "https://localhost:8080/"
        },
        "id": "ddQQxG3VhGpO",
        "outputId": "ecab3e9f-dbff-44b2-b68f-7ad402d69afe"
      },
      "execution_count": 6,
      "outputs": [
        {
          "output_type": "execute_result",
          "data": {
            "text/plain": [
              "torch.float32"
            ]
          },
          "metadata": {},
          "execution_count": 6
        }
      ]
    },
    {
      "cell_type": "code",
      "source": [
        "t2 = torch.tensor([1.,2,3,4])\n",
        "t2"
      ],
      "metadata": {
        "colab": {
          "base_uri": "https://localhost:8080/"
        },
        "id": "OvlLNcIHhszW",
        "outputId": "ae561e2c-4985-486e-dd0e-be1880e15a3d"
      },
      "execution_count": 7,
      "outputs": [
        {
          "output_type": "execute_result",
          "data": {
            "text/plain": [
              "tensor([1., 2., 3., 4.])"
            ]
          },
          "metadata": {},
          "execution_count": 7
        }
      ]
    },
    {
      "cell_type": "code",
      "source": [
        "t2.dtype"
      ],
      "metadata": {
        "colab": {
          "base_uri": "https://localhost:8080/"
        },
        "id": "aaGl-Xvgh-ri",
        "outputId": "43f98ec2-2ee6-443c-b488-9d9f756d1373"
      },
      "execution_count": 8,
      "outputs": [
        {
          "output_type": "execute_result",
          "data": {
            "text/plain": [
              "torch.float32"
            ]
          },
          "metadata": {},
          "execution_count": 8
        }
      ]
    },
    {
      "cell_type": "code",
      "source": [
        "t3 = torch.tensor([[1.,2,3],[4,5,6],[7,8,9]])\n",
        "t3"
      ],
      "metadata": {
        "colab": {
          "base_uri": "https://localhost:8080/"
        },
        "id": "TpNRQmJDiAFo",
        "outputId": "677b76d9-2fa3-475e-c563-1bd73fb4d068"
      },
      "execution_count": 9,
      "outputs": [
        {
          "output_type": "execute_result",
          "data": {
            "text/plain": [
              "tensor([[1., 2., 3.],\n",
              "        [4., 5., 6.],\n",
              "        [7., 8., 9.]])"
            ]
          },
          "metadata": {},
          "execution_count": 9
        }
      ]
    },
    {
      "cell_type": "code",
      "source": [
        "t3.dtype"
      ],
      "metadata": {
        "colab": {
          "base_uri": "https://localhost:8080/"
        },
        "id": "6HY4PB5tiM1r",
        "outputId": "4e8c19d9-6ce3-498f-ab26-07598fa19152"
      },
      "execution_count": 10,
      "outputs": [
        {
          "output_type": "execute_result",
          "data": {
            "text/plain": [
              "torch.float32"
            ]
          },
          "metadata": {},
          "execution_count": 10
        }
      ]
    },
    {
      "cell_type": "code",
      "source": [
        "t4 = torch.tensor([\n",
        "    [[11.,12,13],\n",
        "     [14,15,16]],\n",
        "    [[17,18,19],\n",
        "     [20,21,22]]\n",
        "])\n",
        "t4"
      ],
      "metadata": {
        "colab": {
          "base_uri": "https://localhost:8080/"
        },
        "id": "kdySmY2IiOWR",
        "outputId": "311b7e77-95a2-4a20-bbab-e78099afea7b"
      },
      "execution_count": 11,
      "outputs": [
        {
          "output_type": "execute_result",
          "data": {
            "text/plain": [
              "tensor([[[11., 12., 13.],\n",
              "         [14., 15., 16.]],\n",
              "\n",
              "        [[17., 18., 19.],\n",
              "         [20., 21., 22.]]])"
            ]
          },
          "metadata": {},
          "execution_count": 11
        }
      ]
    },
    {
      "cell_type": "code",
      "source": [
        "t4.dtype"
      ],
      "metadata": {
        "colab": {
          "base_uri": "https://localhost:8080/"
        },
        "id": "OXpNNB6nih9E",
        "outputId": "9f6447d0-16ed-4934-c197-8be4284b1434"
      },
      "execution_count": 12,
      "outputs": [
        {
          "output_type": "execute_result",
          "data": {
            "text/plain": [
              "torch.float32"
            ]
          },
          "metadata": {},
          "execution_count": 12
        }
      ]
    },
    {
      "cell_type": "code",
      "source": [
        "t1.shape"
      ],
      "metadata": {
        "colab": {
          "base_uri": "https://localhost:8080/"
        },
        "id": "dOKOLUgDilKc",
        "outputId": "128950a9-67b6-4982-baec-e1f6b415d7d7"
      },
      "execution_count": 13,
      "outputs": [
        {
          "output_type": "execute_result",
          "data": {
            "text/plain": [
              "torch.Size([])"
            ]
          },
          "metadata": {},
          "execution_count": 13
        }
      ]
    },
    {
      "cell_type": "code",
      "source": [
        "t2.shape"
      ],
      "metadata": {
        "colab": {
          "base_uri": "https://localhost:8080/"
        },
        "id": "SkxGuy4hjLLD",
        "outputId": "2d66365a-c12f-476c-ae47-c323f4321ba5"
      },
      "execution_count": 14,
      "outputs": [
        {
          "output_type": "execute_result",
          "data": {
            "text/plain": [
              "torch.Size([4])"
            ]
          },
          "metadata": {},
          "execution_count": 14
        }
      ]
    },
    {
      "cell_type": "code",
      "source": [
        "t3.shape"
      ],
      "metadata": {
        "colab": {
          "base_uri": "https://localhost:8080/"
        },
        "id": "9y7tK4aBjMPs",
        "outputId": "7a6deb77-2482-48a6-e3a2-b354aa1dd638"
      },
      "execution_count": 15,
      "outputs": [
        {
          "output_type": "execute_result",
          "data": {
            "text/plain": [
              "torch.Size([3, 3])"
            ]
          },
          "metadata": {},
          "execution_count": 15
        }
      ]
    },
    {
      "cell_type": "code",
      "source": [
        "t4.shape"
      ],
      "metadata": {
        "colab": {
          "base_uri": "https://localhost:8080/"
        },
        "id": "zcGcO44jjNpG",
        "outputId": "8d9404f0-0042-4980-fb42-c71edda7920b"
      },
      "execution_count": 16,
      "outputs": [
        {
          "output_type": "execute_result",
          "data": {
            "text/plain": [
              "torch.Size([2, 2, 3])"
            ]
          },
          "metadata": {},
          "execution_count": 16
        }
      ]
    },
    {
      "cell_type": "code",
      "source": [
        "x = torch.tensor(3.)\n",
        "w = torch.tensor(4. , requires_grad = True)\n",
        "b = torch.tensor(5. , requires_grad = True)"
      ],
      "metadata": {
        "id": "mzu8O972jOmc"
      },
      "execution_count": 17,
      "outputs": []
    },
    {
      "cell_type": "code",
      "source": [
        "y = w * x + b\n",
        "y"
      ],
      "metadata": {
        "colab": {
          "base_uri": "https://localhost:8080/"
        },
        "id": "5rGJXEfgj5QI",
        "outputId": "665cc8bb-d869-48ac-cdc4-4052111f7809"
      },
      "execution_count": 18,
      "outputs": [
        {
          "output_type": "execute_result",
          "data": {
            "text/plain": [
              "tensor(17., grad_fn=<AddBackward0>)"
            ]
          },
          "metadata": {},
          "execution_count": 18
        }
      ]
    },
    {
      "cell_type": "code",
      "source": [
        "y.backward()"
      ],
      "metadata": {
        "id": "AY1dBqeFj_L7"
      },
      "execution_count": 19,
      "outputs": []
    },
    {
      "cell_type": "code",
      "source": [
        "print(\"dy/dx:\" , x.grad)\n",
        "print(\"dy/dw:\" , w.grad)\n",
        "print(\"dy/db:\" , b.grad)"
      ],
      "metadata": {
        "colab": {
          "base_uri": "https://localhost:8080/"
        },
        "id": "NjfCr0vWkD1I",
        "outputId": "e2125313-66f8-41ed-c263-b304b4dc9d56"
      },
      "execution_count": 20,
      "outputs": [
        {
          "output_type": "stream",
          "name": "stdout",
          "text": [
            "dy/dx: None\n",
            "dy/dw: tensor(3.)\n",
            "dy/db: tensor(1.)\n"
          ]
        }
      ]
    },
    {
      "cell_type": "code",
      "source": [
        "import numpy as np\n",
        "\n",
        "x = np.array([[1.,2,3],[4,5,6]])\n",
        "x"
      ],
      "metadata": {
        "colab": {
          "base_uri": "https://localhost:8080/"
        },
        "id": "U4nT0ujxlBNn",
        "outputId": "2aa646ee-37b1-4777-8a38-969c04d49e1f"
      },
      "execution_count": 21,
      "outputs": [
        {
          "output_type": "execute_result",
          "data": {
            "text/plain": [
              "array([[1., 2., 3.],\n",
              "       [4., 5., 6.]])"
            ]
          },
          "metadata": {},
          "execution_count": 21
        }
      ]
    },
    {
      "cell_type": "code",
      "source": [
        "y = torch.from_numpy(x)            #or you can do torch.tensor(x)\n",
        "y"
      ],
      "metadata": {
        "colab": {
          "base_uri": "https://localhost:8080/"
        },
        "id": "cXy-KSs-lj5t",
        "outputId": "0266cd56-4383-4764-a21f-61d793ce2aa2"
      },
      "execution_count": 22,
      "outputs": [
        {
          "output_type": "execute_result",
          "data": {
            "text/plain": [
              "tensor([[1., 2., 3.],\n",
              "        [4., 5., 6.]], dtype=torch.float64)"
            ]
          },
          "metadata": {},
          "execution_count": 22
        }
      ]
    },
    {
      "cell_type": "code",
      "source": [
        "x.dtype , y.dtype"
      ],
      "metadata": {
        "colab": {
          "base_uri": "https://localhost:8080/"
        },
        "id": "2me3qH0vlqJO",
        "outputId": "7a659fde-00e1-473c-c0d1-066c2757ccbb"
      },
      "execution_count": 23,
      "outputs": [
        {
          "output_type": "execute_result",
          "data": {
            "text/plain": [
              "(dtype('float64'), torch.float64)"
            ]
          },
          "metadata": {},
          "execution_count": 23
        }
      ]
    },
    {
      "cell_type": "code",
      "source": [
        "z = y.numpy()\n",
        "z"
      ],
      "metadata": {
        "colab": {
          "base_uri": "https://localhost:8080/"
        },
        "id": "OZKO5a8Dl6uF",
        "outputId": "921f71ef-7e87-4ee4-bf93-91777eb516b1"
      },
      "execution_count": 24,
      "outputs": [
        {
          "output_type": "execute_result",
          "data": {
            "text/plain": [
              "array([[1., 2., 3.],\n",
              "       [4., 5., 6.]])"
            ]
          },
          "metadata": {},
          "execution_count": 24
        }
      ]
    },
    {
      "cell_type": "code",
      "source": [
        "# Input (temp, rainfall, humidity)\n",
        "inputs = np.array([[73, 67, 43],\n",
        "                   [91, 88, 64],\n",
        "                   [87, 134, 58],\n",
        "                   [102, 43, 37],\n",
        "                   [69, 96, 70]], dtype='float32')"
      ],
      "metadata": {
        "id": "rZkbqui7mDPx"
      },
      "execution_count": 25,
      "outputs": []
    },
    {
      "cell_type": "code",
      "source": [
        "# Targets (apples, oranges)\n",
        "targets = np.array([[56, 70],\n",
        "                    [81, 101],\n",
        "                    [119, 133],\n",
        "                    [22, 37],\n",
        "                    [103, 119]], dtype='float32')"
      ],
      "metadata": {
        "id": "RbCZgk3Mn6oK"
      },
      "execution_count": 26,
      "outputs": []
    },
    {
      "cell_type": "code",
      "source": [
        "inputs = torch.tensor(inputs)\n",
        "targets = torch.tensor(targets)\n",
        "print(inputs)\n",
        "print(targets)"
      ],
      "metadata": {
        "colab": {
          "base_uri": "https://localhost:8080/"
        },
        "id": "U70rTdD4n8gC",
        "outputId": "ff0edb44-3b91-41f0-f6a5-d426ec210145"
      },
      "execution_count": 27,
      "outputs": [
        {
          "output_type": "stream",
          "name": "stdout",
          "text": [
            "tensor([[ 73.,  67.,  43.],\n",
            "        [ 91.,  88.,  64.],\n",
            "        [ 87., 134.,  58.],\n",
            "        [102.,  43.,  37.],\n",
            "        [ 69.,  96.,  70.]])\n",
            "tensor([[ 56.,  70.],\n",
            "        [ 81., 101.],\n",
            "        [119., 133.],\n",
            "        [ 22.,  37.],\n",
            "        [103., 119.]])\n"
          ]
        }
      ]
    },
    {
      "cell_type": "code",
      "source": [
        "w = torch.randn(2,3,requires_grad=True)\n",
        "b = torch.randn(2,requires_grad=True)\n",
        "print(w)\n",
        "print(b)"
      ],
      "metadata": {
        "colab": {
          "base_uri": "https://localhost:8080/"
        },
        "id": "PHSbXd-5oCkS",
        "outputId": "a04c9ca4-fcb6-4698-d0ca-b90edd751460"
      },
      "execution_count": 28,
      "outputs": [
        {
          "output_type": "stream",
          "name": "stdout",
          "text": [
            "tensor([[-0.5925, -0.1873, -1.3526],\n",
            "        [ 1.7601,  0.4885,  1.5674]], requires_grad=True)\n",
            "tensor([1.0337, 1.4639], requires_grad=True)\n"
          ]
        }
      ]
    },
    {
      "cell_type": "code",
      "source": [
        "def model(x):\n",
        "  return x @ w.t() + b"
      ],
      "metadata": {
        "id": "6r2CbP8fohGt"
      },
      "execution_count": 29,
      "outputs": []
    },
    {
      "cell_type": "code",
      "source": [
        "preds = model(inputs)\n",
        "preds"
      ],
      "metadata": {
        "colab": {
          "base_uri": "https://localhost:8080/"
        },
        "id": "74BJm3h1pE2B",
        "outputId": "971484f7-6598-4803-a016-f79d134165c0"
      },
      "execution_count": 30,
      "outputs": [
        {
          "output_type": "execute_result",
          "data": {
            "text/plain": [
              "tensor([[-112.9318,  230.0782],\n",
              "        [-155.9350,  304.9336],\n",
              "        [-154.0671,  310.9583],\n",
              "        [-117.5033,  259.9939],\n",
              "        [-152.5137,  279.5232]], grad_fn=<AddBackward0>)"
            ]
          },
          "metadata": {},
          "execution_count": 30
        }
      ]
    },
    {
      "cell_type": "code",
      "source": [
        "targets"
      ],
      "metadata": {
        "colab": {
          "base_uri": "https://localhost:8080/"
        },
        "id": "1VEWk5zupMnV",
        "outputId": "317ae0c4-ad77-4671-8745-10a2f0cda404"
      },
      "execution_count": 31,
      "outputs": [
        {
          "output_type": "execute_result",
          "data": {
            "text/plain": [
              "tensor([[ 56.,  70.],\n",
              "        [ 81., 101.],\n",
              "        [119., 133.],\n",
              "        [ 22.,  37.],\n",
              "        [103., 119.]])"
            ]
          },
          "metadata": {},
          "execution_count": 31
        }
      ]
    },
    {
      "cell_type": "code",
      "source": [
        "def mse(t1,t2):\n",
        "  diff = t1-t2\n",
        "  return torch.sum(diff * diff) / diff.numel()"
      ],
      "metadata": {
        "id": "rkxvrK7OpOb8"
      },
      "execution_count": 32,
      "outputs": []
    },
    {
      "cell_type": "code",
      "source": [
        "loss = mse(preds , targets)\n",
        "print(loss)  # full tensor"
      ],
      "metadata": {
        "colab": {
          "base_uri": "https://localhost:8080/"
        },
        "id": "Vvh-BcDDqGs2",
        "outputId": "1976f0ff-731b-4b0a-b4d3-a14c19769039"
      },
      "execution_count": 33,
      "outputs": [
        {
          "output_type": "stream",
          "name": "stdout",
          "text": [
            "tensor(41836.7383, grad_fn=<DivBackward0>)\n"
          ]
        }
      ]
    },
    {
      "cell_type": "code",
      "source": [
        "loss.backward()"
      ],
      "metadata": {
        "id": "sX--rm-tJk_-"
      },
      "execution_count": 34,
      "outputs": []
    },
    {
      "cell_type": "code",
      "source": [
        "print(\"dl/dw : \" , w.grad)\n",
        "print(\"dl/db : \" , b.grad)"
      ],
      "metadata": {
        "colab": {
          "base_uri": "https://localhost:8080/"
        },
        "id": "5PM7mOe8Khg-",
        "outputId": "c3ab48f2-7348-496e-cc1f-1f50a66b0c8c"
      },
      "execution_count": 35,
      "outputs": [
        {
          "output_type": "stream",
          "name": "stdout",
          "text": [
            "dl/dw :  tensor([[-17901.9492, -19857.5352, -12262.6787],\n",
            "        [ 15909.5039,  15503.3545,   9948.8184]])\n",
            "dl/db :  tensor([-214.7902,  185.0974])\n"
          ]
        }
      ]
    },
    {
      "cell_type": "code",
      "source": [
        "w.grad.zero_()\n",
        "b.grad.zero_()\n",
        "print(w.grad)\n",
        "print(b.grad)"
      ],
      "metadata": {
        "colab": {
          "base_uri": "https://localhost:8080/"
        },
        "id": "ZpqA0PfjMYQM",
        "outputId": "ee102e9e-5453-45e3-d81d-1f9632448701"
      },
      "execution_count": 36,
      "outputs": [
        {
          "output_type": "stream",
          "name": "stdout",
          "text": [
            "tensor([[0., 0., 0.],\n",
            "        [0., 0., 0.]])\n",
            "tensor([0., 0.])\n"
          ]
        }
      ]
    },
    {
      "cell_type": "markdown",
      "source": [
        "# **GRADIENT DESCENT**"
      ],
      "metadata": {
        "id": "UxbtjsO3aBpS"
      }
    },
    {
      "cell_type": "code",
      "source": [
        "import torch\n",
        "\n",
        "inputs = np.array([[73, 67, 43],\n",
        "                   [91, 88, 64],\n",
        "                   [87, 134, 58],\n",
        "                   [102, 43, 37],\n",
        "                   [69, 96, 70]], dtype='float32')\n",
        "\n",
        "targets = np.array([[56, 70],\n",
        "                    [81, 101],\n",
        "                    [119, 133],\n",
        "                    [22, 37],\n",
        "                    [103, 119]], dtype='float32')\n",
        "\n",
        "inputs = torch.tensor(inputs)\n",
        "targets = torch.tensor(targets)\n",
        "\n",
        "w = torch.randn(2,3,requires_grad=True)\n",
        "b = torch.randn(2,requires_grad=True)\n",
        "\n",
        "lr = 1e-5\n",
        "\n",
        "def mse(preds,targets):\n",
        "  return torch.mean((preds-targets)**2)\n",
        "\n",
        "for epoch in range(100):\n",
        "\n",
        "  preds = inputs @ w.t() + b\n",
        "  loss  = mse(preds,targets)\n",
        "\n",
        "  loss.backward()\n",
        "\n",
        "  with torch.no_grad():\n",
        "    w -= lr * w.grad\n",
        "    b -= lr * b.grad\n",
        "\n",
        "    w.grad.zero_()\n",
        "    b.grad.zero_()\n",
        "\n",
        "  if epoch % 10 == 0:\n",
        "        print(f\"Epoch {epoch}: Loss = {loss.item():.4f} ,  w =\\n{w} , b = {b}\")"
      ],
      "metadata": {
        "colab": {
          "base_uri": "https://localhost:8080/"
        },
        "id": "vxjbcMa-d6yi",
        "outputId": "5c47fec2-99f8-4afc-a9ee-810566568a4e"
      },
      "execution_count": 37,
      "outputs": [
        {
          "output_type": "stream",
          "name": "stdout",
          "text": [
            "Epoch 0: Loss = 27353.6973 ,  w =\n",
            "tensor([[0.8178, 1.4089, 0.6390],\n",
            "        [0.1647, 1.8569, 0.6546]], requires_grad=True) , b = tensor([ 1.5908, -0.8908], requires_grad=True)\n",
            "Epoch 10: Loss = 680.6536 ,  w =\n",
            "tensor([[ 0.1907,  0.7854,  0.2482],\n",
            "        [-0.2957,  1.3320,  0.3448]], requires_grad=True) , b = tensor([ 1.5835, -0.8962], requires_grad=True)\n",
            "Epoch 20: Loss = 150.8702 ,  w =\n",
            "tensor([[ 0.0818,  0.7154,  0.1996],\n",
            "        [-0.3487,  1.2465,  0.3056]], requires_grad=True) , b = tensor([ 1.5824, -0.8969], requires_grad=True)\n",
            "Epoch 30: Loss = 127.6875 ,  w =\n",
            "tensor([[ 0.0463,  0.7213,  0.1984],\n",
            "        [-0.3459,  1.2227,  0.3041]], requires_grad=True) , b = tensor([ 1.5821, -0.8969], requires_grad=True)\n",
            "Epoch 40: Loss = 115.7712 ,  w =\n",
            "tensor([[ 0.0221,  0.7366,  0.2037],\n",
            "        [-0.3361,  1.2081,  0.3079]], requires_grad=True) , b = tensor([ 1.5819, -0.8968], requires_grad=True)\n",
            "Epoch 50: Loss = 105.3788 ,  w =\n",
            "tensor([[ 6.4558e-04,  7.5235e-01,  2.0972e-01],\n",
            "        [-3.2585e-01,  1.1954e+00,  3.1241e-01]], requires_grad=True) , b = tensor([ 1.5818, -0.8967], requires_grad=True)\n",
            "Epoch 60: Loss = 96.1677 ,  w =\n",
            "tensor([[-0.0194,  0.7672,  0.2157],\n",
            "        [-0.3162,  1.1835,  0.3170]], requires_grad=True) , b = tensor([ 1.5817, -0.8966], requires_grad=True)\n",
            "Epoch 70: Loss = 87.9948 ,  w =\n",
            "tensor([[-0.0381,  0.7811,  0.2215],\n",
            "        [-0.3072,  1.1722,  0.3217]], requires_grad=True) , b = tensor([ 1.5816, -0.8965], requires_grad=True)\n",
            "Epoch 80: Loss = 80.7372 ,  w =\n",
            "tensor([[-0.0558,  0.7940,  0.2272],\n",
            "        [-0.2988,  1.1615,  0.3264]], requires_grad=True) , b = tensor([ 1.5815, -0.8964], requires_grad=True)\n",
            "Epoch 90: Loss = 74.2868 ,  w =\n",
            "tensor([[-0.0725,  0.8061,  0.2328],\n",
            "        [-0.2910,  1.1514,  0.3311]], requires_grad=True) , b = tensor([ 1.5814, -0.8963], requires_grad=True)\n"
          ]
        }
      ]
    },
    {
      "cell_type": "markdown",
      "source": [
        "# **Linear regression using PyTorch built-ins**"
      ],
      "metadata": {
        "id": "DeW3MXE4i206"
      }
    },
    {
      "cell_type": "code",
      "source": [
        "import torch.nn as nn"
      ],
      "metadata": {
        "id": "HdRpPbfzgcoV"
      },
      "execution_count": 38,
      "outputs": []
    },
    {
      "cell_type": "code",
      "source": [
        "# Input (temp, rainfall, humidity)\n",
        "inputs = np.array([[73, 67, 43], [91, 88, 64], [87, 134, 58],\n",
        "                   [102, 43, 37], [69, 96, 70], [73, 67, 43],\n",
        "                   [91, 88, 64], [87, 134, 58], [102, 43, 37],\n",
        "                   [69, 96, 70], [73, 67, 43], [91, 88, 64],\n",
        "                   [87, 134, 58], [102, 43, 37], [69, 96, 70]],\n",
        "                  dtype='float32')\n",
        "\n",
        "# Targets (apples, oranges)\n",
        "targets = np.array([[56, 70], [81, 101], [119, 133],\n",
        "                    [22, 37], [103, 119], [56, 70],\n",
        "                    [81, 101], [119, 133], [22, 37],\n",
        "                    [103, 119], [56, 70], [81, 101],\n",
        "                    [119, 133], [22, 37], [103, 119]],\n",
        "                   dtype='float32')\n",
        "\n",
        "inputs = torch.from_numpy(inputs)\n",
        "targets = torch.from_numpy(targets)"
      ],
      "metadata": {
        "id": "DTiQ-ckNi8I3"
      },
      "execution_count": 39,
      "outputs": []
    },
    {
      "cell_type": "code",
      "source": [
        "from torch.utils.data import TensorDataset"
      ],
      "metadata": {
        "id": "_T6rf399jANu"
      },
      "execution_count": 40,
      "outputs": []
    },
    {
      "cell_type": "code",
      "source": [
        "train_ds = TensorDataset(inputs,targets)\n",
        "train_ds[0:3]"
      ],
      "metadata": {
        "colab": {
          "base_uri": "https://localhost:8080/"
        },
        "id": "-GtRDStIj47U",
        "outputId": "6f0ab6f7-c14d-4782-cad7-4064a92b8d23"
      },
      "execution_count": 41,
      "outputs": [
        {
          "output_type": "execute_result",
          "data": {
            "text/plain": [
              "(tensor([[ 73.,  67.,  43.],\n",
              "         [ 91.,  88.,  64.],\n",
              "         [ 87., 134.,  58.]]),\n",
              " tensor([[ 56.,  70.],\n",
              "         [ 81., 101.],\n",
              "         [119., 133.]]))"
            ]
          },
          "metadata": {},
          "execution_count": 41
        }
      ]
    },
    {
      "cell_type": "code",
      "source": [
        "from torch.utils.data import DataLoader"
      ],
      "metadata": {
        "id": "aUo61_X6ld-V"
      },
      "execution_count": 42,
      "outputs": []
    },
    {
      "cell_type": "code",
      "source": [
        "batch_size=5\n",
        "train_dl = DataLoader(train_ds,batch_size,shuffle=True)"
      ],
      "metadata": {
        "id": "gCtlSnEglrHC"
      },
      "execution_count": 43,
      "outputs": []
    },
    {
      "cell_type": "code",
      "source": [
        "i=0\n",
        "for xb,yb in train_dl:\n",
        "  print(f\"batch:{i} \")\n",
        "  print(xb)\n",
        "  print(yb)\n",
        "  i +=1"
      ],
      "metadata": {
        "colab": {
          "base_uri": "https://localhost:8080/"
        },
        "id": "sMGPsnfml1xe",
        "outputId": "007c2b2e-4f1b-43a8-bb71-e0dea9ba967e"
      },
      "execution_count": 44,
      "outputs": [
        {
          "output_type": "stream",
          "name": "stdout",
          "text": [
            "batch:0 \n",
            "tensor([[ 87., 134.,  58.],\n",
            "        [ 69.,  96.,  70.],\n",
            "        [ 87., 134.,  58.],\n",
            "        [ 73.,  67.,  43.],\n",
            "        [102.,  43.,  37.]])\n",
            "tensor([[119., 133.],\n",
            "        [103., 119.],\n",
            "        [119., 133.],\n",
            "        [ 56.,  70.],\n",
            "        [ 22.,  37.]])\n",
            "batch:1 \n",
            "tensor([[102.,  43.,  37.],\n",
            "        [ 69.,  96.,  70.],\n",
            "        [ 87., 134.,  58.],\n",
            "        [102.,  43.,  37.],\n",
            "        [ 69.,  96.,  70.]])\n",
            "tensor([[ 22.,  37.],\n",
            "        [103., 119.],\n",
            "        [119., 133.],\n",
            "        [ 22.,  37.],\n",
            "        [103., 119.]])\n",
            "batch:2 \n",
            "tensor([[91., 88., 64.],\n",
            "        [91., 88., 64.],\n",
            "        [73., 67., 43.],\n",
            "        [91., 88., 64.],\n",
            "        [73., 67., 43.]])\n",
            "tensor([[ 81., 101.],\n",
            "        [ 81., 101.],\n",
            "        [ 56.,  70.],\n",
            "        [ 81., 101.],\n",
            "        [ 56.,  70.]])\n"
          ]
        }
      ]
    },
    {
      "cell_type": "code",
      "source": [
        "model = nn.Linear(3,2)\n",
        "print(model.weight)\n",
        "print(model.bias)"
      ],
      "metadata": {
        "colab": {
          "base_uri": "https://localhost:8080/"
        },
        "id": "rHZhDclgmGQY",
        "outputId": "c04c75ea-de8f-49f2-866a-77fbf7b720ac"
      },
      "execution_count": 45,
      "outputs": [
        {
          "output_type": "stream",
          "name": "stdout",
          "text": [
            "Parameter containing:\n",
            "tensor([[-0.0656, -0.2626, -0.5385],\n",
            "        [ 0.1565, -0.2007, -0.2703]], requires_grad=True)\n",
            "Parameter containing:\n",
            "tensor([ 0.3980, -0.0874], requires_grad=True)\n"
          ]
        }
      ]
    },
    {
      "cell_type": "code",
      "source": [
        "list(model.parameters())"
      ],
      "metadata": {
        "colab": {
          "base_uri": "https://localhost:8080/"
        },
        "id": "0EGSCTgB0X_X",
        "outputId": "27a71033-2921-4443-f203-09d03b179f41"
      },
      "execution_count": 46,
      "outputs": [
        {
          "output_type": "execute_result",
          "data": {
            "text/plain": [
              "[Parameter containing:\n",
              " tensor([[-0.0656, -0.2626, -0.5385],\n",
              "         [ 0.1565, -0.2007, -0.2703]], requires_grad=True),\n",
              " Parameter containing:\n",
              " tensor([ 0.3980, -0.0874], requires_grad=True)]"
            ]
          },
          "metadata": {},
          "execution_count": 46
        }
      ]
    },
    {
      "cell_type": "code",
      "source": [
        "import torch.nn.functional as F"
      ],
      "metadata": {
        "id": "0rkMkx-t0pyM"
      },
      "execution_count": 47,
      "outputs": []
    },
    {
      "cell_type": "code",
      "source": [
        "loss_fn = F.mse_loss"
      ],
      "metadata": {
        "id": "x6aeb-lF1UkP"
      },
      "execution_count": 48,
      "outputs": []
    },
    {
      "cell_type": "code",
      "source": [
        "loss = loss_fn(model(inputs),targets)\n",
        "print(loss)"
      ],
      "metadata": {
        "colab": {
          "base_uri": "https://localhost:8080/"
        },
        "id": "aiypHFUK1aXC",
        "outputId": "6bc3f9e4-0b34-402d-82e8-3a3c834319cf"
      },
      "execution_count": 49,
      "outputs": [
        {
          "output_type": "stream",
          "name": "stdout",
          "text": [
            "tensor(17098.7383, grad_fn=<MseLossBackward0>)\n"
          ]
        }
      ]
    },
    {
      "cell_type": "code",
      "source": [
        "opt = torch.optim.SGD(model.parameters(),lr=1e-5)"
      ],
      "metadata": {
        "id": "euoBBLyb1tQN"
      },
      "execution_count": 50,
      "outputs": []
    },
    {
      "cell_type": "code",
      "source": [
        "def fit(num_epochs,model,loss_fn,opt):\n",
        "  for epoch in range(num_epochs):\n",
        "    for xb,yb in train_dl:\n",
        "      preds = model(xb)\n",
        "      loss = loss_fn(preds,yb)\n",
        "      loss.backward()\n",
        "      opt.step()\n",
        "      opt.zero_grad()\n",
        "\n",
        "    if (epoch+1) % 10 == 0:\n",
        "          print('Epoch [{}/{}], Loss: {:.4f}'.format(epoch+1, num_epochs, loss.item()))"
      ],
      "metadata": {
        "id": "Gb5xCKNi2F_3"
      },
      "execution_count": 51,
      "outputs": []
    },
    {
      "cell_type": "code",
      "source": [
        "fit(100, model, loss_fn, opt)"
      ],
      "metadata": {
        "colab": {
          "base_uri": "https://localhost:8080/"
        },
        "id": "Q_cTTXZq20bV",
        "outputId": "2078c87a-5c13-40d8-95e3-a6a5abeb710d"
      },
      "execution_count": 52,
      "outputs": [
        {
          "output_type": "stream",
          "name": "stdout",
          "text": [
            "Epoch [10/100], Loss: 62.2933\n",
            "Epoch [20/100], Loss: 302.5911\n",
            "Epoch [30/100], Loss: 378.0081\n",
            "Epoch [40/100], Loss: 282.3161\n",
            "Epoch [50/100], Loss: 151.8393\n",
            "Epoch [60/100], Loss: 70.9688\n",
            "Epoch [70/100], Loss: 7.9849\n",
            "Epoch [80/100], Loss: 72.6606\n",
            "Epoch [90/100], Loss: 61.0451\n",
            "Epoch [100/100], Loss: 51.4158\n"
          ]
        }
      ]
    },
    {
      "cell_type": "code",
      "source": [
        "# Generate predictions\n",
        "preds = model(inputs)\n",
        "preds"
      ],
      "metadata": {
        "colab": {
          "base_uri": "https://localhost:8080/"
        },
        "id": "fRsg1sHd3Sqj",
        "outputId": "714c4b6a-ab57-463e-d9ee-73b0646311f3"
      },
      "execution_count": 53,
      "outputs": [
        {
          "output_type": "execute_result",
          "data": {
            "text/plain": [
              "tensor([[ 58.9617,  72.0724],\n",
              "        [ 79.0829,  97.4798],\n",
              "        [122.9846, 137.5545],\n",
              "        [ 30.6380,  46.7665],\n",
              "        [ 90.9826, 107.8677],\n",
              "        [ 58.9617,  72.0724],\n",
              "        [ 79.0829,  97.4798],\n",
              "        [122.9846, 137.5545],\n",
              "        [ 30.6380,  46.7665],\n",
              "        [ 90.9826, 107.8677],\n",
              "        [ 58.9617,  72.0724],\n",
              "        [ 79.0829,  97.4798],\n",
              "        [122.9846, 137.5545],\n",
              "        [ 30.6380,  46.7665],\n",
              "        [ 90.9826, 107.8677]], grad_fn=<AddmmBackward0>)"
            ]
          },
          "metadata": {},
          "execution_count": 53
        }
      ]
    },
    {
      "cell_type": "code",
      "source": [
        "# Compare with targets\n",
        "targets"
      ],
      "metadata": {
        "colab": {
          "base_uri": "https://localhost:8080/"
        },
        "id": "3naiUeT43ZpE",
        "outputId": "9f91b56a-805a-481e-a888-379778723755"
      },
      "execution_count": 54,
      "outputs": [
        {
          "output_type": "execute_result",
          "data": {
            "text/plain": [
              "tensor([[ 56.,  70.],\n",
              "        [ 81., 101.],\n",
              "        [119., 133.],\n",
              "        [ 22.,  37.],\n",
              "        [103., 119.],\n",
              "        [ 56.,  70.],\n",
              "        [ 81., 101.],\n",
              "        [119., 133.],\n",
              "        [ 22.,  37.],\n",
              "        [103., 119.],\n",
              "        [ 56.,  70.],\n",
              "        [ 81., 101.],\n",
              "        [119., 133.],\n",
              "        [ 22.,  37.],\n",
              "        [103., 119.]])"
            ]
          },
          "metadata": {},
          "execution_count": 54
        }
      ]
    },
    {
      "cell_type": "markdown",
      "source": [
        "# **Working with Images & Logistic Regression in PyTorch**"
      ],
      "metadata": {
        "id": "Wp3CGyh--bWb"
      }
    },
    {
      "cell_type": "code",
      "source": [
        "import torch\n",
        "import torchvision\n",
        "from torchvision.datasets import MNIST"
      ],
      "metadata": {
        "id": "YU6-eirG3bvN"
      },
      "execution_count": 55,
      "outputs": []
    },
    {
      "cell_type": "code",
      "source": [
        "dataset = MNIST(root='data/',download=True)"
      ],
      "metadata": {
        "colab": {
          "base_uri": "https://localhost:8080/"
        },
        "id": "qvkOY8KH-sjA",
        "outputId": "d4a48acd-f3e8-4617-82b0-0b2b8cee7504"
      },
      "execution_count": 56,
      "outputs": [
        {
          "output_type": "stream",
          "name": "stderr",
          "text": [
            "100%|██████████| 9.91M/9.91M [00:00<00:00, 82.4MB/s]\n",
            "100%|██████████| 28.9k/28.9k [00:00<00:00, 25.9MB/s]\n",
            "100%|██████████| 1.65M/1.65M [00:00<00:00, 44.5MB/s]\n",
            "100%|██████████| 4.54k/4.54k [00:00<00:00, 5.56MB/s]\n"
          ]
        }
      ]
    },
    {
      "cell_type": "code",
      "source": [
        "len(dataset)"
      ],
      "metadata": {
        "colab": {
          "base_uri": "https://localhost:8080/"
        },
        "id": "Nk26RNZI-0d_",
        "outputId": "26d8ce45-686d-4334-b0df-e5534a1515ae"
      },
      "execution_count": 57,
      "outputs": [
        {
          "output_type": "execute_result",
          "data": {
            "text/plain": [
              "60000"
            ]
          },
          "metadata": {},
          "execution_count": 57
        }
      ]
    },
    {
      "cell_type": "code",
      "source": [
        "test_dataset = MNIST(root='data/',train=False)\n",
        "len(test_dataset)"
      ],
      "metadata": {
        "colab": {
          "base_uri": "https://localhost:8080/"
        },
        "id": "hE8bSQyp-3G9",
        "outputId": "9a5dc6a7-d685-4ce4-c511-ba45df1ce6c1"
      },
      "execution_count": 58,
      "outputs": [
        {
          "output_type": "execute_result",
          "data": {
            "text/plain": [
              "10000"
            ]
          },
          "metadata": {},
          "execution_count": 58
        }
      ]
    },
    {
      "cell_type": "code",
      "source": [
        "dataset[0]"
      ],
      "metadata": {
        "colab": {
          "base_uri": "https://localhost:8080/"
        },
        "id": "1FKWNBsi_AVm",
        "outputId": "9ccf971f-37fa-4637-f295-c75593f6e365"
      },
      "execution_count": 59,
      "outputs": [
        {
          "output_type": "execute_result",
          "data": {
            "text/plain": [
              "(<PIL.Image.Image image mode=L size=28x28>, 5)"
            ]
          },
          "metadata": {},
          "execution_count": 59
        }
      ]
    },
    {
      "cell_type": "code",
      "source": [
        "import matplotlib.pyplot as plt\n",
        "%matplotlib inline"
      ],
      "metadata": {
        "id": "xtdHRScG_DQe"
      },
      "execution_count": 60,
      "outputs": []
    },
    {
      "cell_type": "code",
      "source": [
        "image , label = dataset[0]\n",
        "plt.imshow(image , cmap='gray')\n",
        "print(\"Label:\" ,label)"
      ],
      "metadata": {
        "colab": {
          "base_uri": "https://localhost:8080/",
          "height": 447
        },
        "id": "7K3t5DsZ_Fcd",
        "outputId": "46c090d8-2f1a-4cf4-979a-1d22e6bd5fb4"
      },
      "execution_count": 61,
      "outputs": [
        {
          "output_type": "stream",
          "name": "stdout",
          "text": [
            "Label: 5\n"
          ]
        },
        {
          "output_type": "display_data",
          "data": {
            "text/plain": [
              "<Figure size 640x480 with 1 Axes>"
            ],
            "image/png": "[encoded data removed]"
          },
          "metadata": {}
        }
      ]
    },
    {
      "cell_type": "code",
      "source": [
        "image , label = dataset[7]\n",
        "plt.imshow(image , cmap='gray')\n",
        "print(\"Label:\" , label)"
      ],
      "metadata": {
        "colab": {
          "base_uri": "https://localhost:8080/",
          "height": 447
        },
        "id": "YF8YvGnE_eCR",
        "outputId": "b3e3113f-b5fd-4312-ec98-b1f2b93c4e67"
      },
      "execution_count": 62,
      "outputs": [
        {
          "output_type": "stream",
          "name": "stdout",
          "text": [
            "Label: 3\n"
          ]
        },
        {
          "output_type": "display_data",
          "data": {
            "text/plain": [
              "<Figure size 640x480 with 1 Axes>"
            ],
            "image/png": "[encoded data removed]"
          },
          "metadata": {}
        }
      ]
    },
    {
      "cell_type": "code",
      "source": [
        "import torchvision.transforms as transforms"
      ],
      "metadata": {
        "id": "cli53lPw_omt"
      },
      "execution_count": 63,
      "outputs": []
    },
    {
      "cell_type": "code",
      "source": [
        "dataset = MNIST(root='data/',train=True,transform=transforms.ToTensor())"
      ],
      "metadata": {
        "id": "ird-_9Qw_wsf"
      },
      "execution_count": 64,
      "outputs": []
    },
    {
      "cell_type": "code",
      "source": [
        "img_tensor, label = dataset[0]\n",
        "print(img_tensor.shape, label)"
      ],
      "metadata": {
        "colab": {
          "base_uri": "https://localhost:8080/"
        },
        "id": "HeSFh3So_8J-",
        "outputId": "322d2e5d-38cc-4bec-8e3e-7a0624529898"
      },
      "execution_count": 65,
      "outputs": [
        {
          "output_type": "stream",
          "name": "stdout",
          "text": [
            "torch.Size([1, 28, 28]) 5\n"
          ]
        }
      ]
    },
    {
      "cell_type": "code",
      "source": [
        "print(img_tensor[:,10:15,10:15])\n",
        "print(torch.max(img_tensor), torch.min(img_tensor))"
      ],
      "metadata": {
        "colab": {
          "base_uri": "https://localhost:8080/"
        },
        "id": "gxnQpJ8YABxk",
        "outputId": "28bc7b9f-380d-4ce7-f004-fab05c1afd7a"
      },
      "execution_count": 66,
      "outputs": [
        {
          "output_type": "stream",
          "name": "stdout",
          "text": [
            "tensor([[[0.0039, 0.6039, 0.9922, 0.3529, 0.0000],\n",
            "         [0.0000, 0.5451, 0.9922, 0.7451, 0.0078],\n",
            "         [0.0000, 0.0431, 0.7451, 0.9922, 0.2745],\n",
            "         [0.0000, 0.0000, 0.1373, 0.9451, 0.8824],\n",
            "         [0.0000, 0.0000, 0.0000, 0.3176, 0.9412]]])\n",
            "tensor(1.) tensor(0.)\n"
          ]
        }
      ]
    },
    {
      "cell_type": "code",
      "source": [
        "plt.imshow(img_tensor[0,10:15,10:15],cmap='gray');"
      ],
      "metadata": {
        "colab": {
          "base_uri": "https://localhost:8080/",
          "height": 430
        },
        "id": "enGtSN9KAXmB",
        "outputId": "3e56afce-997c-44f8-90e6-15e04e47b0ed"
      },
      "execution_count": 67,
      "outputs": [
        {
          "output_type": "display_data",
          "data": {
            "text/plain": [
              "<Figure size 640x480 with 1 Axes>"
            ],
            "image/png": "[encoded data removed]"
          },
          "metadata": {}
        }
      ]
    },
    {
      "cell_type": "code",
      "source": [
        "from torch.utils.data import random_split\n",
        "\n",
        "train_ds , val_ds = random_split(dataset,[50000,10000])\n",
        "len(train_ds) , len(val_ds)"
      ],
      "metadata": {
        "colab": {
          "base_uri": "https://localhost:8080/"
        },
        "id": "GbT9R4xeAgR-",
        "outputId": "6b39100a-1ea7-44ba-b078-e164c4afb44f"
      },
      "execution_count": 68,
      "outputs": [
        {
          "output_type": "execute_result",
          "data": {
            "text/plain": [
              "(50000, 10000)"
            ]
          },
          "metadata": {},
          "execution_count": 68
        }
      ]
    },
    {
      "cell_type": "code",
      "source": [
        "from torch.utils.data import DataLoader\n",
        "\n",
        "batch_size=128\n",
        "\n",
        "train_loader = DataLoader(train_ds,batch_size,shuffle=True)\n",
        "val_loader = DataLoader(val_ds,batch_size)"
      ],
      "metadata": {
        "id": "w-CCo7-_BsVh"
      },
      "execution_count": 69,
      "outputs": []
    },
    {
      "cell_type": "code",
      "source": [
        "import numpy as np\n",
        "\n",
        "def split_indices(n,val_pct):\n",
        "  n_val = int(val_pct*n)\n",
        "  idxs = np.random.permutation(n)\n",
        "  return idxs[n_val:] , idxs[:n_val]"
      ],
      "metadata": {
        "id": "czIatUerCMog"
      },
      "execution_count": 70,
      "outputs": []
    },
    {
      "cell_type": "code",
      "source": [
        "train_indices , val_indices = split_indices(len(dataset),val_pct=0.2)"
      ],
      "metadata": {
        "id": "QuTcQxbpcvvv"
      },
      "execution_count": 71,
      "outputs": []
    },
    {
      "cell_type": "code",
      "source": [
        "print(len(train_indices)) , print(len(val_indices))\n",
        "print(\"sample val_indices : \", val_indices[:20])"
      ],
      "metadata": {
        "colab": {
          "base_uri": "https://localhost:8080/"
        },
        "id": "jnJjX01VdFQI",
        "outputId": "9c4a4050-f950-4d04-bf15-ed79d6f64198"
      },
      "execution_count": 72,
      "outputs": [
        {
          "output_type": "stream",
          "name": "stdout",
          "text": [
            "48000\n",
            "12000\n",
            "sample val_indices :  [49189 59839 41110 36597 17173  7805 43542 14565 18139 28509 13207  5013\n",
            " 36960 26160 53273 38348 15804 22883 54372 51337]\n"
          ]
        }
      ]
    },
    {
      "cell_type": "code",
      "source": [
        "from torch.utils.data.sampler import SubsetRandomSampler\n",
        "from torch.utils.data.dataloader import DataLoader"
      ],
      "metadata": {
        "id": "HM9cdQB7dWAo"
      },
      "execution_count": 73,
      "outputs": []
    },
    {
      "cell_type": "code",
      "source": [
        "batch_size = 100\n",
        "\n",
        "train_sampler = SubsetRandomSampler(train_indices)\n",
        "train_loader = DataLoader(dataset,\n",
        "                          batch_size,\n",
        "                          sampler = train_sampler)\n",
        "\n",
        "val_sampler = SubsetRandomSampler(val_indices)\n",
        "val_loader = DataLoader(dataset,\n",
        "                        batch_size,\n",
        "                        sampler = val_indices)"
      ],
      "metadata": {
        "id": "lMFzRC2oeqMt"
      },
      "execution_count": 74,
      "outputs": []
    },
    {
      "cell_type": "code",
      "source": [
        "print(\"xb.shape before flattening:\", xb.shape)"
      ],
      "metadata": {
        "id": "_byaF0vhAKh8",
        "colab": {
          "base_uri": "https://localhost:8080/"
        },
        "outputId": "21b51517-0803-40aa-f7d1-cb42d1799b97"
      },
      "execution_count": 75,
      "outputs": [
        {
          "output_type": "stream",
          "name": "stdout",
          "text": [
            "xb.shape before flattening: torch.Size([5, 3])\n"
          ]
        }
      ]
    },
    {
      "cell_type": "code",
      "source": [
        "import torch.nn as nn\n",
        "\n",
        "input_size = 28*28\n",
        "num_classes = 10\n",
        "\n",
        "model = nn.Linear(input_size,num_classes)"
      ],
      "metadata": {
        "id": "-BPFw0IqfqEV"
      },
      "execution_count": 76,
      "outputs": []
    },
    {
      "cell_type": "code",
      "source": [
        "print(model.weight.shape)\n",
        "print(model.weight)"
      ],
      "metadata": {
        "colab": {
          "base_uri": "https://localhost:8080/"
        },
        "id": "FVxG03NKiPXc",
        "outputId": "7e8f860a-54eb-4f5c-89d8-32f5dd1ca021"
      },
      "execution_count": 77,
      "outputs": [
        {
          "output_type": "stream",
          "name": "stdout",
          "text": [
            "torch.Size([10, 784])\n",
            "Parameter containing:\n",
            "tensor([[-0.0253, -0.0249, -0.0335,  ...,  0.0282, -0.0351,  0.0163],\n",
            "        [-0.0169, -0.0315, -0.0239,  ...,  0.0161,  0.0235,  0.0193],\n",
            "        [-0.0232, -0.0106,  0.0030,  ...,  0.0159, -0.0026, -0.0104],\n",
            "        ...,\n",
            "        [ 0.0097,  0.0144,  0.0126,  ..., -0.0160,  0.0061, -0.0183],\n",
            "        [ 0.0071,  0.0247,  0.0024,  ..., -0.0096,  0.0081,  0.0020],\n",
            "        [ 0.0144, -0.0162,  0.0225,  ..., -0.0092,  0.0306,  0.0106]],\n",
            "       requires_grad=True)\n"
          ]
        }
      ]
    },
    {
      "cell_type": "code",
      "source": [
        "print(model.bias.shape)\n",
        "print(model.bias)"
      ],
      "metadata": {
        "colab": {
          "base_uri": "https://localhost:8080/"
        },
        "id": "0YzP_-ZoiyBj",
        "outputId": "ea35d0d3-4ee2-4a5d-dfe9-a1931e62c3ef"
      },
      "execution_count": 78,
      "outputs": [
        {
          "output_type": "stream",
          "name": "stdout",
          "text": [
            "torch.Size([10])\n",
            "Parameter containing:\n",
            "tensor([ 0.0057, -0.0295,  0.0225, -0.0249,  0.0262,  0.0236, -0.0248,  0.0108,\n",
            "        -0.0152, -0.0233], requires_grad=True)\n"
          ]
        }
      ]
    },
    {
      "cell_type": "code",
      "source": [
        "class MnistModel(nn.Module):\n",
        "    def __init__(self):\n",
        "        super().__init__()\n",
        "        self.linear = nn.Linear(28*28, 10)\n",
        "\n",
        "    def forward(self, xb):\n",
        "        xb = xb.view(xb.size(0), -1)\n",
        "        return self.linear(xb)\n",
        "\n",
        "model = MnistModel()"
      ],
      "metadata": {
        "id": "HB_zVwJPjp6m"
      },
      "execution_count": 79,
      "outputs": []
    },
    {
      "cell_type": "code",
      "source": [
        "print(model.linear.weight.shape)\n",
        "print(model.linear.bias.shape)\n",
        "list(model.parameters())"
      ],
      "metadata": {
        "colab": {
          "base_uri": "https://localhost:8080/"
        },
        "id": "J3_-EIn8li7y",
        "outputId": "293833d4-e75f-4ade-c877-b048f22df6b6"
      },
      "execution_count": 80,
      "outputs": [
        {
          "output_type": "stream",
          "name": "stdout",
          "text": [
            "torch.Size([10, 784])\n",
            "torch.Size([10])\n"
          ]
        },
        {
          "output_type": "execute_result",
          "data": {
            "text/plain": [
              "[Parameter containing:\n",
              " tensor([[ 0.0254, -0.0120,  0.0277,  ..., -0.0144,  0.0239,  0.0223],\n",
              "         [-0.0158, -0.0201,  0.0034,  ...,  0.0249, -0.0251,  0.0339],\n",
              "         [ 0.0071, -0.0246,  0.0305,  ..., -0.0197, -0.0230, -0.0169],\n",
              "         ...,\n",
              "         [ 0.0259, -0.0246, -0.0277,  ...,  0.0168, -0.0270,  0.0185],\n",
              "         [ 0.0289,  0.0234, -0.0282,  ...,  0.0128,  0.0189,  0.0247],\n",
              "         [ 0.0188,  0.0094,  0.0062,  ...,  0.0030, -0.0148, -0.0046]],\n",
              "        requires_grad=True),\n",
              " Parameter containing:\n",
              " tensor([-0.0147, -0.0323, -0.0223, -0.0167, -0.0241, -0.0328,  0.0048, -0.0040,\n",
              "         -0.0351, -0.0270], requires_grad=True)]"
            ]
          },
          "metadata": {},
          "execution_count": 80
        }
      ]
    },
    {
      "cell_type": "code",
      "source": [
        "for images, labels in train_loader:\n",
        "    outputs = model(images)\n",
        "    break\n",
        "\n",
        "print('outputs.shape : ', outputs.shape)\n",
        "print('Sample outputs :\\n', outputs[:2].data)"
      ],
      "metadata": {
        "colab": {
          "base_uri": "https://localhost:8080/"
        },
        "id": "-ka2KDmbmajT",
        "outputId": "efd66013-7394-40a0-9e8e-1fc67d39c647"
      },
      "execution_count": 81,
      "outputs": [
        {
          "output_type": "stream",
          "name": "stdout",
          "text": [
            "outputs.shape :  torch.Size([100, 10])\n",
            "Sample outputs :\n",
            " tensor([[-0.0349,  0.1668, -0.0533,  0.0093, -0.1147,  0.1263,  0.0691,  0.1666,\n",
            "          0.1054, -0.1299],\n",
            "        [-0.0936,  0.0418,  0.0245,  0.2001,  0.2495, -0.0309, -0.0081,  0.0411,\n",
            "         -0.1024, -0.3766]])\n"
          ]
        }
      ]
    },
    {
      "cell_type": "code",
      "source": [
        "probs = F.softmax(outputs,dim=1)\n",
        "print(probs[:2].data)\n",
        "print(\"Sum : \" , torch.sum(probs[0]).item())"
      ],
      "metadata": {
        "colab": {
          "base_uri": "https://localhost:8080/"
        },
        "id": "MDqHeZNlm_Pi",
        "outputId": "415d8a7d-b7f7-43a2-e624-3f38e950f646"
      },
      "execution_count": 82,
      "outputs": [
        {
          "output_type": "stream",
          "name": "stdout",
          "text": [
            "tensor([[0.0931, 0.1139, 0.0914, 0.0973, 0.0860, 0.1094, 0.1033, 0.1139, 0.1071,\n",
            "         0.0847],\n",
            "        [0.0904, 0.1035, 0.1017, 0.1212, 0.1274, 0.0962, 0.0985, 0.1034, 0.0896,\n",
            "         0.0681]])\n",
            "Sum :  1.0\n"
          ]
        }
      ]
    },
    {
      "cell_type": "code",
      "source": [
        "max_probs , preds = torch.max(probs , dim=1)\n",
        "print(preds)\n",
        "print(max_probs)"
      ],
      "metadata": {
        "colab": {
          "base_uri": "https://localhost:8080/"
        },
        "id": "mfJ_uj8jpC6V",
        "outputId": "9efb6d41-6212-4756-e862-48a29a875cea"
      },
      "execution_count": 83,
      "outputs": [
        {
          "output_type": "stream",
          "name": "stdout",
          "text": [
            "tensor([1, 4, 1, 4, 3, 2, 8, 3, 7, 1, 8, 3, 1, 1, 1, 8, 3, 8, 5, 4, 4, 4, 1, 7,\n",
            "        1, 3, 4, 7, 7, 1, 5, 1, 5, 3, 4, 7, 7, 0, 5, 4, 4, 8, 7, 3, 7, 0, 7, 2,\n",
            "        1, 5, 4, 5, 5, 3, 8, 3, 3, 1, 3, 7, 4, 7, 3, 3, 1, 5, 4, 3, 5, 1, 4, 0,\n",
            "        5, 9, 8, 1, 5, 3, 7, 7, 4, 5, 1, 8, 1, 1, 8, 4, 4, 8, 1, 1, 7, 4, 3, 8,\n",
            "        1, 4, 7, 1])\n",
            "tensor([0.1139, 0.1274, 0.1297, 0.1190, 0.1582, 0.1235, 0.1371, 0.1433, 0.1531,\n",
            "        0.1286, 0.1211, 0.1378, 0.1294, 0.1201, 0.1125, 0.1268, 0.1470, 0.1172,\n",
            "        0.1172, 0.1216, 0.1191, 0.1176, 0.1174, 0.1125, 0.1269, 0.1294, 0.1122,\n",
            "        0.1285, 0.1200, 0.1474, 0.1430, 0.1350, 0.1419, 0.1307, 0.1335, 0.1525,\n",
            "        0.1318, 0.1070, 0.1147, 0.1260, 0.1182, 0.1262, 0.1404, 0.1276, 0.1318,\n",
            "        0.1117, 0.1239, 0.1260, 0.1319, 0.1268, 0.1255, 0.1129, 0.1237, 0.1241,\n",
            "        0.1227, 0.1272, 0.1198, 0.1553, 0.1339, 0.1213, 0.1319, 0.1237, 0.1495,\n",
            "        0.1274, 0.1147, 0.1241, 0.1490, 0.1539, 0.1122, 0.1120, 0.1364, 0.1112,\n",
            "        0.1141, 0.1102, 0.1267, 0.1316, 0.1176, 0.1385, 0.1354, 0.1554, 0.1440,\n",
            "        0.1248, 0.1339, 0.1242, 0.1274, 0.1179, 0.1319, 0.1173, 0.1559, 0.1281,\n",
            "        0.1413, 0.1276, 0.1466, 0.1221, 0.1237, 0.1258, 0.1173, 0.1332, 0.1229,\n",
            "        0.1145], grad_fn=<MaxBackward0>)\n"
          ]
        }
      ]
    },
    {
      "cell_type": "code",
      "source": [
        "labels"
      ],
      "metadata": {
        "colab": {
          "base_uri": "https://localhost:8080/"
        },
        "id": "D0uAWLPExlNM",
        "outputId": "97792429-76b0-4983-986f-db7ae1499976"
      },
      "execution_count": 84,
      "outputs": [
        {
          "output_type": "execute_result",
          "data": {
            "text/plain": [
              "tensor([4, 8, 9, 9, 5, 6, 6, 4, 3, 0, 1, 7, 2, 7, 1, 1, 5, 1, 2, 8, 0, 6, 8, 5,\n",
              "        6, 9, 4, 3, 3, 9, 2, 7, 2, 4, 4, 8, 3, 1, 4, 4, 2, 3, 2, 9, 3, 9, 8, 9,\n",
              "        7, 4, 0, 4, 4, 4, 2, 3, 8, 8, 7, 3, 0, 3, 9, 9, 1, 6, 0, 3, 8, 1, 0, 1,\n",
              "        7, 1, 5, 7, 7, 3, 5, 3, 0, 4, 4, 6, 8, 4, 2, 2, 0, 6, 0, 7, 2, 4, 2, 4,\n",
              "        7, 2, 8, 7])"
            ]
          },
          "metadata": {},
          "execution_count": 84
        }
      ]
    },
    {
      "cell_type": "code",
      "source": [
        "def accuracy(outputs , labels):\n",
        "  max_probs , preds = torch.max(probs,dim=1)\n",
        "  return torch.tensor(torch.sum(preds == labels).item() / len(preds))"
      ],
      "metadata": {
        "id": "ccskPfhuxnZo"
      },
      "execution_count": 85,
      "outputs": []
    },
    {
      "cell_type": "code",
      "source": [
        "accuracy(preds,labels)"
      ],
      "metadata": {
        "colab": {
          "base_uri": "https://localhost:8080/"
        },
        "id": "Bo8xuFExyfxK",
        "outputId": "ac111653-5215-49a2-a517-dce2f665f2b7"
      },
      "execution_count": 86,
      "outputs": [
        {
          "output_type": "execute_result",
          "data": {
            "text/plain": [
              "tensor(0.1000)"
            ]
          },
          "metadata": {},
          "execution_count": 86
        }
      ]
    },
    {
      "cell_type": "code",
      "source": [
        "loss_fn = F.cross_entropy\n",
        "\n",
        "loss = loss_fn(outputs,preds)\n",
        "print(loss)"
      ],
      "metadata": {
        "colab": {
          "base_uri": "https://localhost:8080/"
        },
        "id": "Xapz3ronyiaM",
        "outputId": "6e6cb089-c464-4a59-9de5-6c4aefcc5447"
      },
      "execution_count": 87,
      "outputs": [
        {
          "output_type": "stream",
          "name": "stdout",
          "text": [
            "tensor(2.0585, grad_fn=<NllLossBackward0>)\n"
          ]
        }
      ]
    },
    {
      "cell_type": "code",
      "source": [
        "lr = 0.001\n",
        "optimizer = torch.optim.SGD(model.parameters(),lr)"
      ],
      "metadata": {
        "id": "dffMsP5x0nqy"
      },
      "execution_count": 88,
      "outputs": []
    },
    {
      "cell_type": "code",
      "source": [
        "def loss_batch(model , loss_fn , xb , yb , opt=None , metric = None):\n",
        "  preds = model(xb)\n",
        "  loss = loss_fn(preds,yb)\n",
        "\n",
        "  if opt is not None:\n",
        "    loss.backward()\n",
        "    opt.step()\n",
        "    opt.zero_grad()\n",
        "\n",
        "  metric_results = None\n",
        "  if metric is not None:\n",
        "    metric_results = metric(preds,yb)\n",
        "\n",
        "  return loss.item(),len(xb),metric_results"
      ],
      "metadata": {
        "id": "3fYUF7KI1JCj"
      },
      "execution_count": 89,
      "outputs": []
    },
    {
      "cell_type": "code",
      "source": [
        "def evaluate(model , loss_fn , valid_dl , metric = None):\n",
        "  with torch.no_grad():\n",
        "    results = [loss_batch(model , loss_fn , xb , yb , metric = metric)for xb, yb in valid_dl]\n",
        "    losses , nums , metrics = zip(*results)\n",
        "    total = np.sum(nums)\n",
        "    avg_loss = np.sum(np.multiply(nums,losses)) / total\n",
        "    avg_metric = None\n",
        "    if metric is not None:\n",
        "      avg_metric = np.sum(np.multiply(nums,metrics)) / total\n",
        "    return avg_loss , total , avg_metric"
      ],
      "metadata": {
        "id": "i1ltcwgH2ID5"
      },
      "execution_count": 90,
      "outputs": []
    },
    {
      "cell_type": "code",
      "source": [
        "def accuracy(outputs , labels):\n",
        "  _,preds = torch.max(outputs, dim=1)\n",
        "  return torch.tensor(torch.sum(preds==labels).item() / len(preds))"
      ],
      "metadata": {
        "id": "WHrDr6Y13kb-"
      },
      "execution_count": 91,
      "outputs": []
    },
    {
      "cell_type": "code",
      "source": [
        "val_loss , total , val_accuracy = evaluate(model , loss_fn , val_loader , metric = accuracy)\n",
        "print('Loss:{:.4f},Accuracy:{:.4f}'.format(val_loss,val_accuracy))"
      ],
      "metadata": {
        "colab": {
          "base_uri": "https://localhost:8080/"
        },
        "id": "bVEi9SrM33Sf",
        "outputId": "96bb8888-1800-421c-d753-0bdfdc716145"
      },
      "execution_count": 92,
      "outputs": [
        {
          "output_type": "stream",
          "name": "stdout",
          "text": [
            "Loss:2.3318,Accuracy:0.0857\n"
          ]
        }
      ]
    },
    {
      "cell_type": "code",
      "source": [
        "def fit(epochs , model , loss_fn , opt , train_dl , val_dl , metric=None):\n",
        "  for epoch in range(epochs):\n",
        "    for xb , yb in train_dl:\n",
        "      loss = loss_batch(model,loss_fn,xb,yb,opt)\n",
        "      result = evaluate(model , loss_fn , val_dl , metric)\n",
        "      val_loss , total , val_metrics = result\n",
        "\n",
        "      if metric is None:\n",
        "        print('Epoch [{}/{}] , loss = {:.4f}'.format(epoch+1 , epochs , val_loss))\n",
        "      else:\n",
        "        print('Epoch [{}/{}] , loss = {:.4f} , {} : {:.4f}'.format(epoch+1 , epochs , val_loss , metric.__name__,val_metrics))"
      ],
      "metadata": {
        "id": "_6DM1PBC4nyw"
      },
      "execution_count": 93,
      "outputs": []
    },
    {
      "cell_type": "code",
      "source": [
        "model = MnistModel()\n",
        "optimizer = torch.optim.SGD(model.parameters() , lr=0.001)"
      ],
      "metadata": {
        "id": "g9izk3_C8Zlp"
      },
      "execution_count": 94,
      "outputs": []
    },
    {
      "cell_type": "code",
      "source": [
        "# fit(5 , model , F.cross_entropy ,optimizer,train_loader,val_loader,accuracy)"
      ],
      "metadata": {
        "id": "aAtErpCb--Ew"
      },
      "execution_count": 95,
      "outputs": []
    },
    {
      "cell_type": "code",
      "source": [
        "test_dataset= MNIST(root='data/',train=False,transform = transforms.ToTensor())"
      ],
      "metadata": {
        "id": "CWWKLlkh_P3l"
      },
      "execution_count": 96,
      "outputs": []
    },
    {
      "cell_type": "code",
      "source": [
        "img, label = test_dataset[0]\n",
        "plt.imshow(img[0], cmap='gray')\n",
        "print('Shape:', img.shape)\n",
        "print('Label:', label)"
      ],
      "metadata": {
        "colab": {
          "base_uri": "https://localhost:8080/",
          "height": 465
        },
        "id": "KYygHwmrGjOO",
        "outputId": "6e76dc6d-b36f-427d-9363-c09b6d9fe56d"
      },
      "execution_count": 97,
      "outputs": [
        {
          "output_type": "stream",
          "name": "stdout",
          "text": [
            "Shape: torch.Size([1, 28, 28])\n",
            "Label: 7\n"
          ]
        },
        {
          "output_type": "display_data",
          "data": {
            "text/plain": [
              "<Figure size 640x480 with 1 Axes>"
            ],
            "image/png": "[encoded data removed]"
          },
          "metadata": {}
        }
      ]
    },
    {
      "cell_type": "code",
      "source": [
        "def predict_image(img, model):\n",
        "    xb = img.unsqueeze(0)\n",
        "    yb = model(xb)\n",
        "    _, preds  = torch.max(yb, dim=1)\n",
        "    return preds[0].item()"
      ],
      "metadata": {
        "id": "5E1a8CHOGysb"
      },
      "execution_count": 98,
      "outputs": []
    },
    {
      "cell_type": "code",
      "source": [
        "img, label = test_dataset[0]\n",
        "plt.imshow(img[0], cmap='gray')\n",
        "print('Label:', label, ', Predicted:', predict_image(img, model))"
      ],
      "metadata": {
        "colab": {
          "base_uri": "https://localhost:8080/",
          "height": 447
        },
        "id": "aVQwDae0HFpe",
        "outputId": "1fe05828-92cd-4a58-a8b0-357dfca31284"
      },
      "execution_count": 99,
      "outputs": [
        {
          "output_type": "stream",
          "name": "stdout",
          "text": [
            "Label: 7 , Predicted: 1\n"
          ]
        },
        {
          "output_type": "display_data",
          "data": {
            "text/plain": [
              "<Figure size 640x480 with 1 Axes>"
            ],
            "image/png": "[encoded data removed]"
          },
          "metadata": {}
        }
      ]
    },
    {
      "cell_type": "code",
      "source": [
        "img, label = test_dataset[10]\n",
        "plt.imshow(img[0], cmap='gray')\n",
        "print('Label:', label, ', Predicted:', predict_image(img, model))"
      ],
      "metadata": {
        "colab": {
          "base_uri": "https://localhost:8080/",
          "height": 447
        },
        "id": "59dUKhX1HSAN",
        "outputId": "bc771ff4-be17-4be0-d428-73cbcce83959"
      },
      "execution_count": 100,
      "outputs": [
        {
          "output_type": "stream",
          "name": "stdout",
          "text": [
            "Label: 0 , Predicted: 3\n"
          ]
        },
        {
          "output_type": "display_data",
          "data": {
            "text/plain": [
              "<Figure size 640x480 with 1 Axes>"
            ],
            "image/png": "[encoded data removed]"
          },
          "metadata": {}
        }
      ]
    },
    {
      "cell_type": "code",
      "source": [
        "img, label = test_dataset[1839]\n",
        "plt.imshow(img[0], cmap='gray')\n",
        "print('Label:', label, ', Predicted:', predict_image(img, model))"
      ],
      "metadata": {
        "colab": {
          "base_uri": "https://localhost:8080/",
          "height": 447
        },
        "id": "2N0hMs3wHUzC",
        "outputId": "28127a73-b297-4e2e-8eb4-f908b096a92d"
      },
      "execution_count": 101,
      "outputs": [
        {
          "output_type": "stream",
          "name": "stdout",
          "text": [
            "Label: 2 , Predicted: 0\n"
          ]
        },
        {
          "output_type": "display_data",
          "data": {
            "text/plain": [
              "<Figure size 640x480 with 1 Axes>"
            ],
            "image/png": "[encoded data removed]"
          },
          "metadata": {}
        }
      ]
    },
    {
      "cell_type": "code",
      "source": [
        "test_loader = DataLoader(test_dataset, batch_size=256)\n",
        "result = evaluate(model,F.cross_entropy, test_loader,metric=accuracy)\n",
        "result"
      ],
      "metadata": {
        "colab": {
          "base_uri": "https://localhost:8080/"
        },
        "id": "uDC4RwWYHY6e",
        "outputId": "a2f7c314-adb7-4a97-fbc5-b93c1c22174a"
      },
      "execution_count": 102,
      "outputs": [
        {
          "output_type": "execute_result",
          "data": {
            "text/plain": [
              "(np.float64(2.3662211082458495), np.int64(10000), np.float64(0.1022))"
            ]
          },
          "metadata": {},
          "execution_count": 102
        }
      ]
    },
    {
      "cell_type": "code",
      "source": [
        "torch.save(model.state_dict(), 'mnist-logistic.pth')\n",
        "model.state_dict()"
      ],
      "metadata": {
        "colab": {
          "base_uri": "https://localhost:8080/"
        },
        "id": "eqlrMV_3HeYo",
        "outputId": "1e48c25b-28f3-48ae-fd23-ecce8c0e49c7"
      },
      "execution_count": 103,
      "outputs": [
        {
          "output_type": "execute_result",
          "data": {
            "text/plain": [
              "OrderedDict([('linear.weight',\n",
              "              tensor([[-0.0255,  0.0258, -0.0178,  ...,  0.0271, -0.0093, -0.0274],\n",
              "                      [-0.0052, -0.0005, -0.0117,  ..., -0.0186, -0.0020,  0.0282],\n",
              "                      [ 0.0054,  0.0071,  0.0319,  ...,  0.0176, -0.0100,  0.0169],\n",
              "                      ...,\n",
              "                      [ 0.0035,  0.0146, -0.0013,  ...,  0.0157,  0.0004, -0.0331],\n",
              "                      [-0.0156, -0.0175,  0.0052,  ...,  0.0183, -0.0258,  0.0213],\n",
              "                      [-0.0274, -0.0030, -0.0186,  ...,  0.0017, -0.0325,  0.0141]])),\n",
              "             ('linear.bias',\n",
              "              tensor([ 0.0208, -0.0174,  0.0259,  0.0107, -0.0276, -0.0175,  0.0215,  0.0156,\n",
              "                      -0.0346,  0.0330]))])"
            ]
          },
          "metadata": {},
          "execution_count": 103
        }
      ]
    },
    {
      "cell_type": "code",
      "source": [
        "model2 = MnistModel()\n",
        "model2.load_state_dict(torch.load('mnist-logistic.pth'))\n",
        "model2.state_dict()"
      ],
      "metadata": {
        "colab": {
          "base_uri": "https://localhost:8080/"
        },
        "id": "8kWG_lHGJFr9",
        "outputId": "b14c6da4-5265-45d4-8a04-825059bedef2"
      },
      "execution_count": 104,
      "outputs": [
        {
          "output_type": "execute_result",
          "data": {
            "text/plain": [
              "OrderedDict([('linear.weight',\n",
              "              tensor([[-0.0255,  0.0258, -0.0178,  ...,  0.0271, -0.0093, -0.0274],\n",
              "                      [-0.0052, -0.0005, -0.0117,  ..., -0.0186, -0.0020,  0.0282],\n",
              "                      [ 0.0054,  0.0071,  0.0319,  ...,  0.0176, -0.0100,  0.0169],\n",
              "                      ...,\n",
              "                      [ 0.0035,  0.0146, -0.0013,  ...,  0.0157,  0.0004, -0.0331],\n",
              "                      [-0.0156, -0.0175,  0.0052,  ...,  0.0183, -0.0258,  0.0213],\n",
              "                      [-0.0274, -0.0030, -0.0186,  ...,  0.0017, -0.0325,  0.0141]])),\n",
              "             ('linear.bias',\n",
              "              tensor([ 0.0208, -0.0174,  0.0259,  0.0107, -0.0276, -0.0175,  0.0215,  0.0156,\n",
              "                      -0.0346,  0.0330]))])"
            ]
          },
          "metadata": {},
          "execution_count": 104
        }
      ]
    },
    {
      "cell_type": "code",
      "source": [
        "test_loader = DataLoader(test_dataset, batch_size=256)\n",
        "result = evaluate(model2, F.cross_entropy,test_loader, metric=accuracy)\n",
        "result"
      ],
      "metadata": {
        "colab": {
          "base_uri": "https://localhost:8080/"
        },
        "id": "wkqcG661JLE9",
        "outputId": "c37103d1-5f77-42f4-f3a3-310c33e80fe3"
      },
      "execution_count": 105,
      "outputs": [
        {
          "output_type": "execute_result",
          "data": {
            "text/plain": [
              "(np.float64(2.3662211082458495), np.int64(10000), np.float64(0.1022))"
            ]
          },
          "metadata": {},
          "execution_count": 105
        }
      ]
    },
    {
      "cell_type": "markdown",
      "source": [
        "# **TRAINING DEEP NEURAL NETWORK USING GPU**"
      ],
      "metadata": {
        "id": "u-k6FuRRkdgW"
      }
    },
    {
      "cell_type": "code",
      "source": [
        "import numpy as np\n",
        "import torch\n",
        "import torchvision\n",
        "import matplotlib.pyplot as plt\n",
        "%matplotlib inline\n",
        "from torchvision.datasets import MNIST\n",
        "from torchvision.transforms import ToTensor\n",
        "from torch.utils.data.sampler import SubsetRandomSampler\n",
        "from torch.utils.data import DataLoader"
      ],
      "metadata": {
        "id": "DiXMv3F3JSgV"
      },
      "execution_count": 106,
      "outputs": []
    },
    {
      "cell_type": "code",
      "source": [
        "dataset = MNIST(root='data/' , download=True,transform = transforms.ToTensor())"
      ],
      "metadata": {
        "id": "24xK6bk_k_-C"
      },
      "execution_count": 107,
      "outputs": []
    },
    {
      "cell_type": "code",
      "source": [
        "len(dataset)"
      ],
      "metadata": {
        "colab": {
          "base_uri": "https://localhost:8080/"
        },
        "id": "Hw1U3YHyl0RO",
        "outputId": "a2e162da-a721-49cd-ea80-1c641e7a2ff5"
      },
      "execution_count": 108,
      "outputs": [
        {
          "output_type": "execute_result",
          "data": {
            "text/plain": [
              "60000"
            ]
          },
          "metadata": {},
          "execution_count": 108
        }
      ]
    },
    {
      "cell_type": "code",
      "source": [
        "img , label = dataset[0]\n",
        "plt.imshow(img[0] , cmap='gray')\n",
        "print(img.shape) , print(label)"
      ],
      "metadata": {
        "colab": {
          "base_uri": "https://localhost:8080/",
          "height": 482
        },
        "id": "II4yWWudl1y0",
        "outputId": "f6ee26db-6005-405a-d01e-c5fca44fba46"
      },
      "execution_count": 109,
      "outputs": [
        {
          "output_type": "stream",
          "name": "stdout",
          "text": [
            "torch.Size([1, 28, 28])\n",
            "5\n"
          ]
        },
        {
          "output_type": "execute_result",
          "data": {
            "text/plain": [
              "(None, None)"
            ]
          },
          "metadata": {},
          "execution_count": 109
        },
        {
          "output_type": "display_data",
          "data": {
            "text/plain": [
              "<Figure size 640x480 with 1 Axes>"
            ],
            "image/png": "[encoded data removed]"
          },
          "metadata": {}
        }
      ]
    },
    {
      "cell_type": "code",
      "source": [
        "def split_indices(n,val_pct):\n",
        "  n_val = int(n*val_pct)\n",
        "  idxs = np.random.permutation(n)\n",
        "  return idxs[n_val:] , idxs[:n_val]"
      ],
      "metadata": {
        "id": "IrLI1lM4lR5Z"
      },
      "execution_count": 110,
      "outputs": []
    },
    {
      "cell_type": "code",
      "source": [
        "train_indices , val_indices = split_indices(len(dataset),val_pct=0.2)\n",
        "print(len(train_indices)) , print(len(val_indices))"
      ],
      "metadata": {
        "colab": {
          "base_uri": "https://localhost:8080/"
        },
        "id": "roYxaBHjlqRX",
        "outputId": "f14fb7b2-d6bb-4f9e-97b6-ed8c7adc974f"
      },
      "execution_count": 111,
      "outputs": [
        {
          "output_type": "stream",
          "name": "stdout",
          "text": [
            "48000\n",
            "12000\n"
          ]
        },
        {
          "output_type": "execute_result",
          "data": {
            "text/plain": [
              "(None, None)"
            ]
          },
          "metadata": {},
          "execution_count": 111
        }
      ]
    },
    {
      "cell_type": "code",
      "source": [
        "batch_size = 100\n",
        "\n",
        "train_sampler = SubsetRandomSampler(train_indices)\n",
        "train_loader = DataLoader(dataset , batch_size=batch_size , sampler = train_sampler)\n",
        "\n",
        "val_sampler = SubsetRandomSampler(val_indices)\n",
        "val_loader = DataLoader(dataset , batch_size=batch_size , sampler = val_sampler)"
      ],
      "metadata": {
        "id": "F1zc3PWIm04U"
      },
      "execution_count": 112,
      "outputs": []
    },
    {
      "cell_type": "code",
      "source": [
        "for images, labels in train_loader:\n",
        "    print(images.shape)  # torch.Size([100, 1, 28, 28])\n",
        "    images_flat = images.view(images.size(0), -1)\n",
        "    print(images_flat.shape)  # torch.Size([100, 784])\n",
        "    break"
      ],
      "metadata": {
        "colab": {
          "base_uri": "https://localhost:8080/"
        },
        "id": "iXYyuuiM76EN",
        "outputId": "fc2ad194-95a6-4a2c-9d0a-ff8a26ba9cb1"
      },
      "execution_count": 113,
      "outputs": [
        {
          "output_type": "stream",
          "name": "stdout",
          "text": [
            "torch.Size([100, 1, 28, 28])\n",
            "torch.Size([100, 784])\n"
          ]
        }
      ]
    },
    {
      "cell_type": "code",
      "source": [
        "import torch.nn as nn\n",
        "import torch.nn.functional as F"
      ],
      "metadata": {
        "id": "Fo9GWxHjnR7F"
      },
      "execution_count": 114,
      "outputs": []
    },
    {
      "cell_type": "code",
      "source": [
        "class MnistModel(nn.Module):\n",
        "    def __init__(self,in_size,hidden_size,out_size):\n",
        "      super().__init__()\n",
        "      self.linear1 = nn.Linear(in_size,hidden_size)\n",
        "      self.linear2 = nn.Linear(hidden_size,out_size)\n",
        "\n",
        "    def forward(self,xb):\n",
        "      xb = xb.view(xb.size(0),-1)\n",
        "      out = self.linear1(xb)\n",
        "      out = F.relu(out)\n",
        "      out = self.linear2(out)\n",
        "      return out"
      ],
      "metadata": {
        "id": "Lguiedy3qeoW"
      },
      "execution_count": 115,
      "outputs": []
    },
    {
      "cell_type": "code",
      "source": [
        "input_size = 28*28\n",
        "num_classes = 10\n",
        "\n",
        "model = MnistModel(in_size=input_size,hidden_size=32,out_size=10)"
      ],
      "metadata": {
        "id": "esMTmcOKsImj"
      },
      "execution_count": 116,
      "outputs": []
    },
    {
      "cell_type": "code",
      "source": [
        "for t in model.parameters():\n",
        "  print(t.shape)"
      ],
      "metadata": {
        "colab": {
          "base_uri": "https://localhost:8080/"
        },
        "id": "OKi_j3p-44-h",
        "outputId": "fcae6301-8860-44ad-a5e2-cf97441d849b"
      },
      "execution_count": 117,
      "outputs": [
        {
          "output_type": "stream",
          "name": "stdout",
          "text": [
            "torch.Size([32, 784])\n",
            "torch.Size([32])\n",
            "torch.Size([10, 32])\n",
            "torch.Size([10])\n"
          ]
        }
      ]
    },
    {
      "cell_type": "code",
      "source": [
        "for images , labels in train_loader:\n",
        "  outputs = model(images)\n",
        "  loss = F.cross_entropy(outputs,labels)\n",
        "  print('Loss:',loss.item())\n",
        "  break\n",
        "\n",
        "print(outputs.shape)\n",
        "print(outputs[:2])"
      ],
      "metadata": {
        "colab": {
          "base_uri": "https://localhost:8080/"
        },
        "id": "0kF7nGw31CiM",
        "outputId": "d97de167-9843-4cc2-802c-9106596e172d"
      },
      "execution_count": 118,
      "outputs": [
        {
          "output_type": "stream",
          "name": "stdout",
          "text": [
            "Loss: 2.3133609294891357\n",
            "torch.Size([100, 10])\n",
            "tensor([[ 0.1698,  0.1517,  0.1436, -0.1386,  0.1130,  0.1354, -0.1830, -0.0106,\n",
            "         -0.1382,  0.0417],\n",
            "        [ 0.2399,  0.2188,  0.1589, -0.1725,  0.1320,  0.1117, -0.2452,  0.0012,\n",
            "          0.0381,  0.1607]], grad_fn=<SliceBackward0>)\n"
          ]
        }
      ]
    },
    {
      "cell_type": "code",
      "source": [
        "torch.cuda.is_available()"
      ],
      "metadata": {
        "colab": {
          "base_uri": "https://localhost:8080/"
        },
        "id": "KsCJ799Y4yr7",
        "outputId": "732a5425-fdf8-4973-9f81-4bcc5a6945a5"
      },
      "execution_count": 119,
      "outputs": [
        {
          "output_type": "execute_result",
          "data": {
            "text/plain": [
              "False"
            ]
          },
          "metadata": {},
          "execution_count": 119
        }
      ]
    },
    {
      "cell_type": "code",
      "source": [
        "def get_default_device():\n",
        "  if torch.cuda.is_available():\n",
        "    return torch.device('cuda')\n",
        "  else:\n",
        "    return torch.device('cpu')"
      ],
      "metadata": {
        "id": "qiWgKphlCCvz"
      },
      "execution_count": 120,
      "outputs": []
    },
    {
      "cell_type": "code",
      "source": [
        "device = get_default_device()\n",
        "device"
      ],
      "metadata": {
        "colab": {
          "base_uri": "https://localhost:8080/"
        },
        "id": "iLMEHJxcCenV",
        "outputId": "d0ce5dc4-304f-44c6-ade5-b7cf582a070d"
      },
      "execution_count": 121,
      "outputs": [
        {
          "output_type": "execute_result",
          "data": {
            "text/plain": [
              "device(type='cpu')"
            ]
          },
          "metadata": {},
          "execution_count": 121
        }
      ]
    },
    {
      "cell_type": "code",
      "source": [
        "def to_device(data,device):\n",
        "  if isinstance(data,(list,tuple)):\n",
        "    return [to_device(x,device) for x in data]\n",
        "  return data.to(device,non_blocking=True)"
      ],
      "metadata": {
        "id": "_i3ESvhFCh-Q"
      },
      "execution_count": 122,
      "outputs": []
    },
    {
      "cell_type": "code",
      "source": [
        "for images , labels in train_loader:\n",
        "  print(images.shape)\n",
        "  images = to_device(images,device)\n",
        "  print(images.device)\n",
        "  break"
      ],
      "metadata": {
        "colab": {
          "base_uri": "https://localhost:8080/"
        },
        "id": "y7cQ6_f9DHJa",
        "outputId": "99178e1a-a821-48f9-b919-c425bc07e076"
      },
      "execution_count": 123,
      "outputs": [
        {
          "output_type": "stream",
          "name": "stdout",
          "text": [
            "torch.Size([100, 1, 28, 28])\n",
            "cpu\n"
          ]
        }
      ]
    },
    {
      "cell_type": "code",
      "source": [
        "class DeviceDataLoader():\n",
        "  def __init__(self,dl,device):\n",
        "    self.dl = dl\n",
        "    self.device = device\n",
        "\n",
        "  def __iter__(self):\n",
        "    for b in self.dl:\n",
        "      yield to_device(b,self.device)\n",
        "\n",
        "  def __len__(self):\n",
        "    return len(self.dl)"
      ],
      "metadata": {
        "id": "491B3A21DTq5"
      },
      "execution_count": 124,
      "outputs": []
    },
    {
      "cell_type": "code",
      "source": [
        "train_dl = DeviceDataLoader(train_loader,device)\n",
        "val_dl = DeviceDataLoader(val_loader,device)"
      ],
      "metadata": {
        "id": "5WEfNup3FHTm"
      },
      "execution_count": 125,
      "outputs": []
    },
    {
      "cell_type": "code",
      "source": [
        "for xb , yb in train_dl:\n",
        "  print(xb.device)\n",
        "  print(yb)\n",
        "  break"
      ],
      "metadata": {
        "colab": {
          "base_uri": "https://localhost:8080/"
        },
        "id": "Sd81X7v9Fp5D",
        "outputId": "e5c9e3ce-8c9c-4088-eba0-75067de81a9e"
      },
      "execution_count": 126,
      "outputs": [
        {
          "output_type": "stream",
          "name": "stdout",
          "text": [
            "cpu\n",
            "tensor([9, 5, 3, 5, 8, 0, 0, 8, 3, 3, 5, 9, 4, 3, 3, 7, 8, 5, 2, 7, 5, 4, 1, 3,\n",
            "        6, 4, 4, 5, 3, 4, 8, 0, 1, 2, 2, 3, 3, 9, 1, 7, 3, 4, 9, 0, 2, 0, 6, 1,\n",
            "        4, 9, 7, 1, 4, 5, 4, 3, 9, 1, 3, 0, 7, 1, 2, 0, 5, 6, 5, 6, 8, 0, 9, 6,\n",
            "        0, 7, 0, 7, 3, 1, 7, 3, 1, 7, 5, 9, 0, 5, 0, 8, 2, 0, 6, 3, 9, 2, 1, 1,\n",
            "        5, 3, 9, 7])\n"
          ]
        }
      ]
    },
    {
      "cell_type": "code",
      "source": [
        "def loss_batch(model , loss_fn , xb , yb , opt=None , metric=None):\n",
        "  preds = model(xb)\n",
        "  loss = loss_fn(preds,yb)\n",
        "\n",
        "  if opt is not None:\n",
        "    loss.backward()\n",
        "    opt.step()\n",
        "    opt.zero_grad()\n",
        "\n",
        "  metric_results = None\n",
        "  if metric is not None:\n",
        "    metric_results = metric(preds,yb)\n",
        "\n",
        "  return loss.item() , len(xb) , metric_results"
      ],
      "metadata": {
        "id": "oEnN2W7kFzR8"
      },
      "execution_count": 127,
      "outputs": []
    },
    {
      "cell_type": "code",
      "source": [
        "def evaluate(model , loss_fn , val_dl , metric=None):\n",
        "  with torch.no_grad():\n",
        "    results = [loss_batch(model , loss_fn , xb , yb , metric = metric) for xb , yb in val_dl]\n",
        "    losses , nums , metrics = zip(*results)\n",
        "    total = np.sum(nums)\n",
        "    avg_loss = np.sum(np.multiply(nums,losses)) / total\n",
        "    avg_metric = None\n",
        "    if metric is not None:\n",
        "      avg_metric = np.sum(np.multiply(nums,metrics)) / total\n",
        "    return avg_loss , total , avg_metric"
      ],
      "metadata": {
        "id": "uR-lwt6gHIle"
      },
      "execution_count": 128,
      "outputs": []
    },
    {
      "cell_type": "code",
      "source": [
        "def fit(epochs , lr , model , loss_fn , train_dl , val_dl , opt = None , metric=None):\n",
        "  losses , metrics = [] , []\n",
        "  if opt is None:\n",
        "    opt = torch.optim.SGD(model.parameters() , lr=lr)\n",
        "\n",
        "  for epoch in range(epochs):\n",
        "    for xb , yb in train_dl:\n",
        "      loss,_,_ = loss_batch(model , loss_fn , xb , yb , opt)\n",
        "\n",
        "    result = evaluate(model , loss_fn , val_dl , metric)\n",
        "    val_loss , total , val_metrics = result\n",
        "    losses.append(loss)\n",
        "    metrics.append(val_metrics)\n",
        "\n",
        "    if metric is None:\n",
        "      print('Epoch [{}/{}] , loss = {:.4f}'.format(epoch+1 , epochs , val_loss))\n",
        "    else:\n",
        "      print('Epoch [{}/{}] , loss = {:.4f} , {} : {:.4f}'.format(epoch+1 , epochs , val_loss , metric.__name__,val_metrics))\n",
        "\n",
        "  return losses , metrics"
      ],
      "metadata": {
        "id": "lTwiwQITITbD"
      },
      "execution_count": 129,
      "outputs": []
    },
    {
      "cell_type": "code",
      "source": [
        "def accuracy(outputs , labels):\n",
        "  _,preds = torch.max(outputs,dim=1)\n",
        "  return torch.sum(preds == labels).item() / len(preds)"
      ],
      "metadata": {
        "id": "8YClkw53JQ0k"
      },
      "execution_count": 130,
      "outputs": []
    },
    {
      "cell_type": "code",
      "source": [
        "model = MnistModel(input_size , hidden_size = 32 , out_size = num_classes)\n",
        "to_device(model , device)"
      ],
      "metadata": {
        "colab": {
          "base_uri": "https://localhost:8080/"
        },
        "id": "fMc5NtbrLQHl",
        "outputId": "d5978a42-31ad-4eb7-e924-16d0cea3cde5"
      },
      "execution_count": 131,
      "outputs": [
        {
          "output_type": "execute_result",
          "data": {
            "text/plain": [
              "MnistModel(\n",
              "  (linear1): Linear(in_features=784, out_features=32, bias=True)\n",
              "  (linear2): Linear(in_features=32, out_features=10, bias=True)\n",
              ")"
            ]
          },
          "metadata": {},
          "execution_count": 131
        }
      ]
    },
    {
      "cell_type": "code",
      "source": [
        "val_loss , total , val_accuracy = evaluate(model , F.cross_entropy , val_dl , metric = accuracy)\n",
        "print('Loss: {:.4f} , Accuracy : {:.4f}'.format(val_loss , val_accuracy))"
      ],
      "metadata": {
        "colab": {
          "base_uri": "https://localhost:8080/"
        },
        "id": "o5WSgrODL1Vr",
        "outputId": "03dece40-e706-499b-da58-67d7dc857fb1"
      },
      "execution_count": 132,
      "outputs": [
        {
          "output_type": "stream",
          "name": "stdout",
          "text": [
            "Loss: 2.3054 , Accuracy : 0.0982\n"
          ]
        }
      ]
    },
    {
      "cell_type": "code",
      "source": [
        "losses1 , metrics1 = fit(5 , 0.5 , model , F.cross_entropy , train_dl , val_dl , metric = accuracy )"
      ],
      "metadata": {
        "colab": {
          "base_uri": "https://localhost:8080/"
        },
        "id": "zRKzmZLeMREy",
        "outputId": "eee638f7-292d-4990-815c-72f331efff7d"
      },
      "execution_count": 133,
      "outputs": [
        {
          "output_type": "stream",
          "name": "stdout",
          "text": [
            "Epoch [1/5] , loss = 0.2082 , accuracy : 0.9373\n",
            "Epoch [2/5] , loss = 0.1852 , accuracy : 0.9435\n",
            "Epoch [3/5] , loss = 0.1515 , accuracy : 0.9565\n",
            "Epoch [4/5] , loss = 0.1312 , accuracy : 0.9618\n",
            "Epoch [5/5] , loss = 0.1475 , accuracy : 0.9570\n"
          ]
        }
      ]
    },
    {
      "cell_type": "code",
      "source": [
        "losses2 , metrics2 = fit(10 , 0.1 , model , F.cross_entropy , train_dl , val_dl , metric = accuracy )"
      ],
      "metadata": {
        "colab": {
          "base_uri": "https://localhost:8080/"
        },
        "id": "KFLzCH-pMn19",
        "outputId": "3ac4f548-7ca2-4983-b787-519ed49d40ba"
      },
      "execution_count": 134,
      "outputs": [
        {
          "output_type": "stream",
          "name": "stdout",
          "text": [
            "Epoch [1/10] , loss = 0.1170 , accuracy : 0.9654\n",
            "Epoch [2/10] , loss = 0.1169 , accuracy : 0.9659\n",
            "Epoch [3/10] , loss = 0.1143 , accuracy : 0.9666\n",
            "Epoch [4/10] , loss = 0.1168 , accuracy : 0.9667\n",
            "Epoch [5/10] , loss = 0.1128 , accuracy : 0.9668\n",
            "Epoch [6/10] , loss = 0.1148 , accuracy : 0.9677\n",
            "Epoch [7/10] , loss = 0.1139 , accuracy : 0.9676\n",
            "Epoch [8/10] , loss = 0.1141 , accuracy : 0.9677\n",
            "Epoch [9/10] , loss = 0.1133 , accuracy : 0.9663\n",
            "Epoch [10/10] , loss = 0.1143 , accuracy : 0.9675\n"
          ]
        }
      ]
    },
    {
      "cell_type": "code",
      "source": [
        "accuracies = [val_accuracy] + metrics1 + metrics2\n",
        "plt.plot(accuracies , '-x')\n",
        "plt.xlabel('epoch')\n",
        "plt.ylabel('accuracy')\n",
        "plt.title('Accuracy vs No. of epochs')"
      ],
      "metadata": {
        "colab": {
          "base_uri": "https://localhost:8080/",
          "height": 489
        },
        "id": "BFsuvnWgNLTz",
        "outputId": "80b3facc-7dac-4723-970a-e6874712b37f"
      },
      "execution_count": 135,
      "outputs": [
        {
          "output_type": "execute_result",
          "data": {
            "text/plain": [
              "Text(0.5, 1.0, 'Accuracy vs No. of epochs')"
            ]
          },
          "metadata": {},
          "execution_count": 135
        },
        {
          "output_type": "display_data",
          "data": {
            "text/plain": [
              "<Figure size 640x480 with 1 Axes>"
            ],
            "image/png": "[encoded data removed]"
          },
          "metadata": {}
        }
      ]
    },
    {
      "cell_type": "markdown",
      "source": [
        "# **IMAGE CLASSIFICATION USING CONVOLUTION NEURAL NETWORKS (CNNs)**"
      ],
      "metadata": {
        "id": "xAgrcEulxlR_"
      }
    },
    {
      "cell_type": "code",
      "source": [
        "import os\n",
        "import torch\n",
        "import torchvision\n",
        "import tarfile\n",
        "from torchvision.datasets.utils import download_url\n",
        "import torchvision.transforms as transforms\n",
        "from torchvision.datasets import CIFAR10"
      ],
      "metadata": {
        "id": "CPHRdf1TOJcw"
      },
      "execution_count": 136,
      "outputs": []
    },
    {
      "cell_type": "code",
      "source": [
        "# dataset_url = \"https://www.cs.toronto.edu/~kriz/cifar-10-python.tar.gz\"\n",
        "# download_url(dataset_url, '.')\n",
        "# with tarfile.open('./cifar-10-python.tar.gz' , 'r:gz') as tar:\n",
        "#   tar.extractall(path='./data')"
      ],
      "metadata": {
        "id": "beB0mwM8yRng"
      },
      "execution_count": 137,
      "outputs": []
    },
    {
      "cell_type": "code",
      "source": [
        "# data_dir = './data/cifar-10-batches-py'\n",
        "\n",
        "# print(os.listdir(data_dir))\n",
        "# classes = os.listdir(data_dir + \"/train\")\n",
        "# print(classes)"
      ],
      "metadata": {
        "id": "8iFVBdgzz2GF"
      },
      "execution_count": 138,
      "outputs": []
    },
    {
      "cell_type": "code",
      "source": [
        "simple_model = nn.Sequential(\n",
        "    nn.Conv2d(1,8,kernel_size=3,stride=1,padding=1),\n",
        "    nn.MaxPool2d(2,2)\n",
        ")"
      ],
      "metadata": {
        "id": "0GU2ePML1znB"
      },
      "execution_count": 139,
      "outputs": []
    },
    {
      "cell_type": "code",
      "source": [
        "for images , labels in train_dl:\n",
        "  print('images.shape: ',images.shape)\n",
        "  out = simple_model(images)\n",
        "  print('out.shape:',out.shape)\n",
        "  break"
      ],
      "metadata": {
        "colab": {
          "base_uri": "https://localhost:8080/"
        },
        "id": "4oIn1Qbx6dp-",
        "outputId": "cddb61c3-d5ac-48d3-da26-e94900cd2b09"
      },
      "execution_count": 140,
      "outputs": [
        {
          "output_type": "stream",
          "name": "stdout",
          "text": [
            "images.shape:  torch.Size([100, 1, 28, 28])\n",
            "out.shape: torch.Size([100, 8, 14, 14])\n"
          ]
        }
      ]
    },
    {
      "cell_type": "code",
      "source": [
        "model = nn.Sequential(\n",
        "    nn.Conv2d(1, 16, kernel_size=3, stride=1, padding=1), # → (16, 28, 28)\n",
        "    nn.ReLU(),\n",
        "    nn.MaxPool2d(2, 2),                                   # → (16, 14, 14)\n",
        "\n",
        "    nn.Conv2d(16, 32, kernel_size=3, stride=1, padding=1),# → (32, 14, 14)\n",
        "    nn.ReLU(),\n",
        "    nn.MaxPool2d(2, 2),                                   # → (32, 7, 7)\n",
        "\n",
        "    nn.Flatten(),\n",
        "    nn.Linear(32 * 7 * 7, 128),\n",
        ")"
      ],
      "metadata": {
        "id": "iMsrIwWK97pq"
      },
      "execution_count": 141,
      "outputs": []
    },
    {
      "cell_type": "code",
      "source": [
        "model = nn.Sequential(\n",
        "    nn.Conv2d(1, 16, kernel_size=3, stride=1, padding=1), # → (16, 28, 28)\n",
        "    nn.ReLU(),\n",
        "    nn.MaxPool2d(2, 2),                                   # → (16, 14, 14)\n",
        "\n",
        "    nn.Conv2d(16, 16, kernel_size=3, stride=1, padding=1),# → (32, 14, 14)\n",
        "    nn.ReLU(),\n",
        "    nn.MaxPool2d(2, 2),                                   # → (32, 7, 7)\n",
        "\n",
        "    nn.Flatten(),\n",
        "    nn.Linear(16 * 7 * 7, 10),\n",
        ")"
      ],
      "metadata": {
        "id": "fLNLh15_BH9_"
      },
      "execution_count": 142,
      "outputs": []
    },
    {
      "cell_type": "code",
      "source": [
        "for images , labels in train_dl:\n",
        "  print('images.shape: ',images.shape)\n",
        "  out = model(images)\n",
        "  print('out.shape:',out.shape)\n",
        "  print('out[0]:',out[0])\n",
        "  break"
      ],
      "metadata": {
        "colab": {
          "base_uri": "https://localhost:8080/"
        },
        "id": "stBv7_ka_R-3",
        "outputId": "a39d3804-7270-40b8-c135-2fff37b10bc2"
      },
      "execution_count": 143,
      "outputs": [
        {
          "output_type": "stream",
          "name": "stdout",
          "text": [
            "images.shape:  torch.Size([100, 1, 28, 28])\n",
            "out.shape: torch.Size([100, 10])\n",
            "out[0]: tensor([ 0.0764,  0.0265, -0.1117,  0.0659,  0.0447, -0.0858, -0.0038, -0.0136,\n",
            "        -0.0205, -0.0821], grad_fn=<SelectBackward0>)\n"
          ]
        }
      ]
    },
    {
      "cell_type": "code",
      "source": [
        "probs = F.softmax(out[0], dim=0)\n",
        "\n",
        "torch.sum(probs) , probs\n",
        "torch.max(probs)"
      ],
      "metadata": {
        "colab": {
          "base_uri": "https://localhost:8080/"
        },
        "id": "z-1QqfDrAF28",
        "outputId": "d87bce28-776c-4628-b540-930c9b1a43f2"
      },
      "execution_count": 144,
      "outputs": [
        {
          "output_type": "execute_result",
          "data": {
            "text/plain": [
              "tensor(0.1089, grad_fn=<MaxBackward1>)"
            ]
          },
          "metadata": {},
          "execution_count": 144
        }
      ]
    },
    {
      "cell_type": "code",
      "source": [
        "def get_default_device():\n",
        "  if torch.cuda.is_available():\n",
        "    print('GPU')\n",
        "  else:\n",
        "    print('CPU')\n",
        "\n",
        "def to_device(data , device):\n",
        "  if isinstance(data , (list,tuple)):\n",
        "    return [to_device(x,device) for x in data]\n",
        "  return data.to(device , non_blocking=True)\n",
        "\n",
        "class DeviceDataLoader():\n",
        "  def __init__(self,dl,device):\n",
        "    self.dl = dl\n",
        "    self.device = device\n",
        "\n",
        "  def __iter__(self):\n",
        "    for b in self.dl:\n",
        "      yield to_device(b,self.device)\n",
        "\n",
        "  def __len__(self):\n",
        "    return len(self.dl)"
      ],
      "metadata": {
        "id": "gMMAEOZGBaMH"
      },
      "execution_count": 145,
      "outputs": []
    },
    {
      "cell_type": "code",
      "source": [
        "device = get_default_device()\n",
        "device"
      ],
      "metadata": {
        "colab": {
          "base_uri": "https://localhost:8080/"
        },
        "id": "vFvu32fMCueX",
        "outputId": "f71da90e-bc8d-4e15-f6c8-eeefd4377874"
      },
      "execution_count": 146,
      "outputs": [
        {
          "output_type": "stream",
          "name": "stdout",
          "text": [
            "CPU\n"
          ]
        }
      ]
    },
    {
      "cell_type": "code",
      "source": [
        "train_dl = DeviceDataLoader(train_dl,device)\n",
        "valid_dl = DeviceDataLoader(val_dl , device)\n",
        "to_device(model , device)"
      ],
      "metadata": {
        "colab": {
          "base_uri": "https://localhost:8080/"
        },
        "id": "c62PbwASDQ3b",
        "outputId": "2fb2ea9d-88f4-4836-8631-a00e06422dc0"
      },
      "execution_count": 147,
      "outputs": [
        {
          "output_type": "execute_result",
          "data": {
            "text/plain": [
              "Sequential(\n",
              "  (0): Conv2d(1, 16, kernel_size=(3, 3), stride=(1, 1), padding=(1, 1))\n",
              "  (1): ReLU()\n",
              "  (2): MaxPool2d(kernel_size=2, stride=2, padding=0, dilation=1, ceil_mode=False)\n",
              "  (3): Conv2d(16, 16, kernel_size=(3, 3), stride=(1, 1), padding=(1, 1))\n",
              "  (4): ReLU()\n",
              "  (5): MaxPool2d(kernel_size=2, stride=2, padding=0, dilation=1, ceil_mode=False)\n",
              "  (6): Flatten(start_dim=1, end_dim=-1)\n",
              "  (7): Linear(in_features=784, out_features=10, bias=True)\n",
              ")"
            ]
          },
          "metadata": {},
          "execution_count": 147
        }
      ]
    },
    {
      "cell_type": "code",
      "source": [
        "def loss_batch(model , loss_fn , xb , yb , opt=None , metric=None):\n",
        "  preds = model(xb)\n",
        "  loss = loss_fn(preds , yb)\n",
        "\n",
        "  if opt is not None:\n",
        "    loss.backward()\n",
        "    opt.step()\n",
        "    opt.zero_grad()\n",
        "\n",
        "  metric_results = None\n",
        "  if metric is not None:\n",
        "    metric_results = metric(preds , yb)\n",
        "\n",
        "  return loss.item() , len(xb) , metric_results"
      ],
      "metadata": {
        "id": "C35zDDn8Dhn0"
      },
      "execution_count": 148,
      "outputs": []
    },
    {
      "cell_type": "code",
      "source": [
        "def evaluate(model , loss_fn , valid_dl , metric = None):\n",
        "  with torch.no_grad():\n",
        "    results = [loss_batch(model , loss_fn , xb , yb , metric=metric)\n",
        "                for xb , yb in valid_dl]\n",
        "    losses , nums , metrics = zip(*results)\n",
        "    total = np.sum(nums)\n",
        "    avg_loss = np.sum(np.multiply(nums,losses)) / total\n",
        "\n",
        "    avg_metric = None\n",
        "    if metric is not None:\n",
        "      avg_metric = np.sum(np.multiply(metrics,nums))/total\n",
        "    return avg_loss , total , avg_metric"
      ],
      "metadata": {
        "id": "iBIvKdMNEdeR"
      },
      "execution_count": 149,
      "outputs": []
    },
    {
      "cell_type": "code",
      "source": [
        "def fit(epochs ,model , loss_fn ,lr, train_dl , valid_dl , opt=None , metric=None):\n",
        "  train_losses , valid_losses , valid_metrics = [] , [] , []\n",
        "  if opt is None:\n",
        "    opt = torch.optim.SGD(model.parameters(),lr=lr)\n",
        "  for epoch in range(epochs):\n",
        "    for xb,yb in train_dl:\n",
        "      train_loss,_,_ = loss_batch(model,loss_fn,xb,yb,opt)\n",
        "    val_loss , total , val_metric = evaluate(model,loss_fn,valid_dl,metric)\n",
        "\n",
        "    train_losses.append(train_loss)\n",
        "    valid_losses.append(val_loss)\n",
        "    valid_metrics.append(val_metric)\n",
        "\n",
        "    if metric is None:\n",
        "      print('Epoch [{}/{}] , train_loss : {:4f} , val_loss:{:4f}'.format(epoch+1,epochs,train_loss,val_loss))\n",
        "    else:\n",
        "      print('Epoch [{}/{}] , train_loss : {:4f} , val_loss:{:4f} , val_{} : {:4f}'.format(epoch+1,epochs,train_loss,val_loss,metric.__name__,val_metric))\n",
        "\n",
        "  return train_losses , valid_losses , valid_metrics\n"
      ],
      "metadata": {
        "id": "MUQ2Q9pHFube"
      },
      "execution_count": 150,
      "outputs": []
    },
    {
      "cell_type": "code",
      "source": [
        "def accuracy(outputs,labels):\n",
        "  _,preds = torch.max(outputs,dim=1)\n",
        "  return torch.sum(preds==labels).item() / len(preds)"
      ],
      "metadata": {
        "id": "VKlxlFDsIVpL"
      },
      "execution_count": 151,
      "outputs": []
    },
    {
      "cell_type": "code",
      "source": [
        "val_loss , _ , val_acc = evaluate(model,F.cross_entropy,valid_dl,metric=accuracy)\n",
        "print('Loss: {:.4f} , Accuracy : {:.4f}'.format(val_loss,val_acc))"
      ],
      "metadata": {
        "colab": {
          "base_uri": "https://localhost:8080/"
        },
        "id": "HEyoEqxCIkoZ",
        "outputId": "f5ad4b63-84f0-4366-ad40-50092b31e916"
      },
      "execution_count": 152,
      "outputs": [
        {
          "output_type": "stream",
          "name": "stdout",
          "text": [
            "Loss: 2.2977 , Accuracy : 0.0654\n"
          ]
        }
      ]
    },
    {
      "cell_type": "code",
      "source": [
        "epochs = 10\n",
        "opt = torch.optim.Adam(model.parameters(),lr=lr)\n",
        "lr = 0.005\n",
        "\n",
        "history = fit(epochs , model , F.cross_entropy,lr ,train_dl,valid_dl ,opt, accuracy)\n",
        "train_losses , val_losses , val_metrics = history"
      ],
      "metadata": {
        "colab": {
          "base_uri": "https://localhost:8080/"
        },
        "id": "yw5CDWSoJTOI",
        "outputId": "bdcb4c0e-3a66-41a7-c3ad-15f007dac9e4"
      },
      "execution_count": 153,
      "outputs": [
        {
          "output_type": "stream",
          "name": "stdout",
          "text": [
            "Epoch [1/10] , train_loss : 0.267524 , val_loss:0.150321 , val_accuracy : 0.956333\n",
            "Epoch [2/10] , train_loss : 0.035938 , val_loss:0.098990 , val_accuracy : 0.969583\n",
            "Epoch [3/10] , train_loss : 0.052416 , val_loss:0.080777 , val_accuracy : 0.976167\n",
            "Epoch [4/10] , train_loss : 0.021782 , val_loss:0.070547 , val_accuracy : 0.977917\n",
            "Epoch [5/10] , train_loss : 0.059497 , val_loss:0.063190 , val_accuracy : 0.979667\n",
            "Epoch [6/10] , train_loss : 0.054814 , val_loss:0.058960 , val_accuracy : 0.982500\n",
            "Epoch [7/10] , train_loss : 0.053738 , val_loss:0.059679 , val_accuracy : 0.980833\n",
            "Epoch [8/10] , train_loss : 0.139834 , val_loss:0.057653 , val_accuracy : 0.983250\n",
            "Epoch [9/10] , train_loss : 0.051413 , val_loss:0.054011 , val_accuracy : 0.983500\n",
            "Epoch [10/10] , train_loss : 0.022310 , val_loss:0.052079 , val_accuracy : 0.984667\n"
          ]
        }
      ]
    },
    {
      "cell_type": "code",
      "source": [
        "def plot_metric(metric_values):\n",
        "  plt.plot(metric_values,'-x')\n",
        "  plt.xlabel('epoch')\n",
        "  plt.ylabel('accuracy')\n",
        "  plt.title('Accuracy vs No. of epochs')\n",
        "  plt.grid()\n",
        "  plt.show()"
      ],
      "metadata": {
        "id": "Q_y2z73FJ35z"
      },
      "execution_count": 155,
      "outputs": []
    },
    {
      "cell_type": "code",
      "source": [
        "plot_metric([val_acc]+val_metrics)"
      ],
      "metadata": {
        "colab": {
          "base_uri": "https://localhost:8080/",
          "height": 472
        },
        "id": "Ind4If8Rog8_",
        "outputId": "1e7cc251-b61e-4ba1-c8bf-961acc80c8df"
      },
      "execution_count": 156,
      "outputs": [
        {
          "output_type": "display_data",
          "data": {
            "text/plain": [
              "<Figure size 640x480 with 1 Axes>"
            ],
            "image/png": "[encoded data removed]"
          },
          "metadata": {}
        }
      ]
    },
    {
      "cell_type": "code",
      "source": [
        "def plot_losses(train_losses , valid_losses):\n",
        "  plt.plot(train_losses,'-x')\n",
        "  plt.plot(valid_losses,'-o')\n",
        "  plt.xlabel('epoch')\n",
        "  plt.ylabel('loss')\n",
        "  plt.legend(['Training','Validation'])\n",
        "  plt.title('Loss vs No. of epochs')"
      ],
      "metadata": {
        "id": "OMj7U_EdpEqN"
      },
      "execution_count": 157,
      "outputs": []
    },
    {
      "cell_type": "code",
      "source": [
        "plot_losses([None]+train_losses , [val_loss]+val_losses)"
      ],
      "metadata": {
        "colab": {
          "base_uri": "https://localhost:8080/",
          "height": 472
        },
        "id": "7hSVnWSFptqZ",
        "outputId": "046a2ce8-a6fc-4fef-e036-61fdf72b7f7b"
      },
      "execution_count": 162,
      "outputs": [
        {
          "output_type": "display_data",
          "data": {
            "text/plain": [
              "<Figure size 640x480 with 1 Axes>"
            ],
            "image/png": "[encoded data removed]"
          },
          "metadata": {}
        }
      ]
    },
    {
      "cell_type": "code",
      "source": [],
      "metadata": {
        "id": "H24qthEvp2LN"
      },
      "execution_count": null,
      "outputs": []
    }
  ]
}