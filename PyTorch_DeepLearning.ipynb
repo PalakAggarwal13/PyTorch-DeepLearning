{
  "nbformat": 4,
  "nbformat_minor": 0,
  "metadata": {
    "colab": {
      "provenance": [],
      "authorship_tag": "ABX9TyPlniTTSkXL0qXqn89cKzD3",
      "include_colab_link": true
    },
    "kernelspec": {
      "name": "python3",
      "display_name": "Python 3"
    },
    "language_info": {
      "name": "python"
    }
  },
  "cells": [
    {
      "cell_type": "markdown",
      "metadata": {
        "id": "view-in-github",
        "colab_type": "text"
      },
      "source": [
        "<a href=\"https://colab.research.google.com/github/PalakAggarwal13/PyTorch-DeepLearning/blob/main/PyTorch_DeepLearning.ipynb\" target=\"_parent\"><img src=\"https://colab.research.google.com/assets/colab-badge.svg\" alt=\"Open In Colab\"/></a>"
      ]
    },
    {
      "cell_type": "code",
      "execution_count": 178,
      "metadata": {
        "colab": {
          "base_uri": "https://localhost:8080/"
        },
        "id": "FFfL1fytd3F0",
        "outputId": "39a967ee-3eb2-4c69-cc94-b892db561521"
      },
      "outputs": [
        {
          "output_type": "stream",
          "name": "stdout",
          "text": [
            "2.6.0+cu124\n"
          ]
        }
      ],
      "source": [
        "import torch\n",
        "print(torch.__version__)"
      ]
    },
    {
      "cell_type": "code",
      "source": [
        "t1 = torch.tensor(4.)\n",
        "t1"
      ],
      "metadata": {
        "colab": {
          "base_uri": "https://localhost:8080/"
        },
        "id": "gYO5bcxAd35P",
        "outputId": "6f290350-2250-4ae1-d2f2-a04093c20454"
      },
      "execution_count": 179,
      "outputs": [
        {
          "output_type": "execute_result",
          "data": {
            "text/plain": [
              "tensor(4.)"
            ]
          },
          "metadata": {},
          "execution_count": 179
        }
      ]
    },
    {
      "cell_type": "code",
      "source": [
        "t1.dtype"
      ],
      "metadata": {
        "colab": {
          "base_uri": "https://localhost:8080/"
        },
        "id": "ddQQxG3VhGpO",
        "outputId": "77ce1af5-35ab-4aab-b3ea-916779bf095a"
      },
      "execution_count": 180,
      "outputs": [
        {
          "output_type": "execute_result",
          "data": {
            "text/plain": [
              "torch.float32"
            ]
          },
          "metadata": {},
          "execution_count": 180
        }
      ]
    },
    {
      "cell_type": "code",
      "source": [
        "t2 = torch.tensor([1.,2,3,4])\n",
        "t2"
      ],
      "metadata": {
        "colab": {
          "base_uri": "https://localhost:8080/"
        },
        "id": "OvlLNcIHhszW",
        "outputId": "202e3e27-11e6-478a-844b-ad9cf96e5f99"
      },
      "execution_count": 181,
      "outputs": [
        {
          "output_type": "execute_result",
          "data": {
            "text/plain": [
              "tensor([1., 2., 3., 4.])"
            ]
          },
          "metadata": {},
          "execution_count": 181
        }
      ]
    },
    {
      "cell_type": "code",
      "source": [
        "t2.dtype"
      ],
      "metadata": {
        "colab": {
          "base_uri": "https://localhost:8080/"
        },
        "id": "aaGl-Xvgh-ri",
        "outputId": "c98643e6-32fd-4567-f87d-7fd0ec43b592"
      },
      "execution_count": 182,
      "outputs": [
        {
          "output_type": "execute_result",
          "data": {
            "text/plain": [
              "torch.float32"
            ]
          },
          "metadata": {},
          "execution_count": 182
        }
      ]
    },
    {
      "cell_type": "code",
      "source": [
        "t3 = torch.tensor([[1.,2,3],[4,5,6],[7,8,9]])\n",
        "t3"
      ],
      "metadata": {
        "colab": {
          "base_uri": "https://localhost:8080/"
        },
        "id": "TpNRQmJDiAFo",
        "outputId": "527136bc-e1d4-4f98-c904-48bc4671311a"
      },
      "execution_count": 183,
      "outputs": [
        {
          "output_type": "execute_result",
          "data": {
            "text/plain": [
              "tensor([[1., 2., 3.],\n",
              "        [4., 5., 6.],\n",
              "        [7., 8., 9.]])"
            ]
          },
          "metadata": {},
          "execution_count": 183
        }
      ]
    },
    {
      "cell_type": "code",
      "source": [
        "t3.dtype"
      ],
      "metadata": {
        "colab": {
          "base_uri": "https://localhost:8080/"
        },
        "id": "6HY4PB5tiM1r",
        "outputId": "77b2b554-44ad-4d6d-f148-18665b2b5042"
      },
      "execution_count": 184,
      "outputs": [
        {
          "output_type": "execute_result",
          "data": {
            "text/plain": [
              "torch.float32"
            ]
          },
          "metadata": {},
          "execution_count": 184
        }
      ]
    },
    {
      "cell_type": "code",
      "source": [
        "t4 = torch.tensor([\n",
        "    [[11.,12,13],\n",
        "     [14,15,16]],\n",
        "    [[17,18,19],\n",
        "     [20,21,22]]\n",
        "])\n",
        "t4"
      ],
      "metadata": {
        "colab": {
          "base_uri": "https://localhost:8080/"
        },
        "id": "kdySmY2IiOWR",
        "outputId": "e789ea18-1f3e-4c28-c0aa-477eb6285fe0"
      },
      "execution_count": 185,
      "outputs": [
        {
          "output_type": "execute_result",
          "data": {
            "text/plain": [
              "tensor([[[11., 12., 13.],\n",
              "         [14., 15., 16.]],\n",
              "\n",
              "        [[17., 18., 19.],\n",
              "         [20., 21., 22.]]])"
            ]
          },
          "metadata": {},
          "execution_count": 185
        }
      ]
    },
    {
      "cell_type": "code",
      "source": [
        "t4.dtype"
      ],
      "metadata": {
        "colab": {
          "base_uri": "https://localhost:8080/"
        },
        "id": "OXpNNB6nih9E",
        "outputId": "6e39b30b-38d4-4a7a-d23b-78dd35c25c90"
      },
      "execution_count": 186,
      "outputs": [
        {
          "output_type": "execute_result",
          "data": {
            "text/plain": [
              "torch.float32"
            ]
          },
          "metadata": {},
          "execution_count": 186
        }
      ]
    },
    {
      "cell_type": "code",
      "source": [
        "t1.shape"
      ],
      "metadata": {
        "colab": {
          "base_uri": "https://localhost:8080/"
        },
        "id": "dOKOLUgDilKc",
        "outputId": "f4ef3d02-744d-4046-c250-223351e1ecb2"
      },
      "execution_count": 187,
      "outputs": [
        {
          "output_type": "execute_result",
          "data": {
            "text/plain": [
              "torch.Size([])"
            ]
          },
          "metadata": {},
          "execution_count": 187
        }
      ]
    },
    {
      "cell_type": "code",
      "source": [
        "t2.shape"
      ],
      "metadata": {
        "colab": {
          "base_uri": "https://localhost:8080/"
        },
        "id": "SkxGuy4hjLLD",
        "outputId": "50cc821c-3ed6-44ad-ddeb-a4f1f6d517bb"
      },
      "execution_count": 188,
      "outputs": [
        {
          "output_type": "execute_result",
          "data": {
            "text/plain": [
              "torch.Size([4])"
            ]
          },
          "metadata": {},
          "execution_count": 188
        }
      ]
    },
    {
      "cell_type": "code",
      "source": [
        "t3.shape"
      ],
      "metadata": {
        "colab": {
          "base_uri": "https://localhost:8080/"
        },
        "id": "9y7tK4aBjMPs",
        "outputId": "dcfc8134-dc50-4576-f212-338566065e89"
      },
      "execution_count": 189,
      "outputs": [
        {
          "output_type": "execute_result",
          "data": {
            "text/plain": [
              "torch.Size([3, 3])"
            ]
          },
          "metadata": {},
          "execution_count": 189
        }
      ]
    },
    {
      "cell_type": "code",
      "source": [
        "t4.shape"
      ],
      "metadata": {
        "colab": {
          "base_uri": "https://localhost:8080/"
        },
        "id": "zcGcO44jjNpG",
        "outputId": "cbedf27f-537b-4f3d-da66-d19411d134c6"
      },
      "execution_count": 190,
      "outputs": [
        {
          "output_type": "execute_result",
          "data": {
            "text/plain": [
              "torch.Size([2, 2, 3])"
            ]
          },
          "metadata": {},
          "execution_count": 190
        }
      ]
    },
    {
      "cell_type": "code",
      "source": [
        "x = torch.tensor(3.)\n",
        "w = torch.tensor(4. , requires_grad = True)\n",
        "b = torch.tensor(5. , requires_grad = True)"
      ],
      "metadata": {
        "id": "mzu8O972jOmc"
      },
      "execution_count": 191,
      "outputs": []
    },
    {
      "cell_type": "code",
      "source": [
        "y = w * x + b\n",
        "y"
      ],
      "metadata": {
        "colab": {
          "base_uri": "https://localhost:8080/"
        },
        "id": "5rGJXEfgj5QI",
        "outputId": "e042bb04-0159-4808-ef0d-cb92cefe1d03"
      },
      "execution_count": 192,
      "outputs": [
        {
          "output_type": "execute_result",
          "data": {
            "text/plain": [
              "tensor(17., grad_fn=<AddBackward0>)"
            ]
          },
          "metadata": {},
          "execution_count": 192
        }
      ]
    },
    {
      "cell_type": "code",
      "source": [
        "y.backward()"
      ],
      "metadata": {
        "id": "AY1dBqeFj_L7"
      },
      "execution_count": 193,
      "outputs": []
    },
    {
      "cell_type": "code",
      "source": [
        "print(\"dy/dx:\" , x.grad)\n",
        "print(\"dy/dw:\" , w.grad)\n",
        "print(\"dy/db:\" , b.grad)"
      ],
      "metadata": {
        "colab": {
          "base_uri": "https://localhost:8080/"
        },
        "id": "NjfCr0vWkD1I",
        "outputId": "475f6f55-1263-4fd9-fa03-eb6bdb30860f"
      },
      "execution_count": 194,
      "outputs": [
        {
          "output_type": "stream",
          "name": "stdout",
          "text": [
            "dy/dx: None\n",
            "dy/dw: tensor(3.)\n",
            "dy/db: tensor(1.)\n"
          ]
        }
      ]
    },
    {
      "cell_type": "code",
      "source": [
        "import numpy as np\n",
        "\n",
        "x = np.array([[1.,2,3],[4,5,6]])\n",
        "x"
      ],
      "metadata": {
        "colab": {
          "base_uri": "https://localhost:8080/"
        },
        "id": "U4nT0ujxlBNn",
        "outputId": "19704248-9deb-4713-ddf8-9bacb1e55ae6"
      },
      "execution_count": 195,
      "outputs": [
        {
          "output_type": "execute_result",
          "data": {
            "text/plain": [
              "array([[1., 2., 3.],\n",
              "       [4., 5., 6.]])"
            ]
          },
          "metadata": {},
          "execution_count": 195
        }
      ]
    },
    {
      "cell_type": "code",
      "source": [
        "y = torch.from_numpy(x)            #or you can do torch.tensor(x)\n",
        "y"
      ],
      "metadata": {
        "colab": {
          "base_uri": "https://localhost:8080/"
        },
        "id": "cXy-KSs-lj5t",
        "outputId": "1539e8bc-4cb5-440f-b4a2-58f6db3d542e"
      },
      "execution_count": 196,
      "outputs": [
        {
          "output_type": "execute_result",
          "data": {
            "text/plain": [
              "tensor([[1., 2., 3.],\n",
              "        [4., 5., 6.]], dtype=torch.float64)"
            ]
          },
          "metadata": {},
          "execution_count": 196
        }
      ]
    },
    {
      "cell_type": "code",
      "source": [
        "x.dtype , y.dtype"
      ],
      "metadata": {
        "colab": {
          "base_uri": "https://localhost:8080/"
        },
        "id": "2me3qH0vlqJO",
        "outputId": "6d23ffef-8d98-428c-9855-4dea0c833faf"
      },
      "execution_count": 197,
      "outputs": [
        {
          "output_type": "execute_result",
          "data": {
            "text/plain": [
              "(dtype('float64'), torch.float64)"
            ]
          },
          "metadata": {},
          "execution_count": 197
        }
      ]
    },
    {
      "cell_type": "code",
      "source": [
        "z = y.numpy()\n",
        "z"
      ],
      "metadata": {
        "colab": {
          "base_uri": "https://localhost:8080/"
        },
        "id": "OZKO5a8Dl6uF",
        "outputId": "fcbf5322-2d9d-4690-a843-ecd9d83a7040"
      },
      "execution_count": 198,
      "outputs": [
        {
          "output_type": "execute_result",
          "data": {
            "text/plain": [
              "array([[1., 2., 3.],\n",
              "       [4., 5., 6.]])"
            ]
          },
          "metadata": {},
          "execution_count": 198
        }
      ]
    },
    {
      "cell_type": "code",
      "source": [
        "# Input (temp, rainfall, humidity)\n",
        "inputs = np.array([[73, 67, 43],\n",
        "                   [91, 88, 64],\n",
        "                   [87, 134, 58],\n",
        "                   [102, 43, 37],\n",
        "                   [69, 96, 70]], dtype='float32')"
      ],
      "metadata": {
        "id": "rZkbqui7mDPx"
      },
      "execution_count": 199,
      "outputs": []
    },
    {
      "cell_type": "code",
      "source": [
        "# Targets (apples, oranges)\n",
        "targets = np.array([[56, 70],\n",
        "                    [81, 101],\n",
        "                    [119, 133],\n",
        "                    [22, 37],\n",
        "                    [103, 119]], dtype='float32')"
      ],
      "metadata": {
        "id": "RbCZgk3Mn6oK"
      },
      "execution_count": 200,
      "outputs": []
    },
    {
      "cell_type": "code",
      "source": [
        "inputs = torch.tensor(inputs)\n",
        "targets = torch.tensor(targets)\n",
        "print(inputs)\n",
        "print(targets)"
      ],
      "metadata": {
        "colab": {
          "base_uri": "https://localhost:8080/"
        },
        "id": "U70rTdD4n8gC",
        "outputId": "75bbee84-5b4d-41e5-bf9e-1507e01f48e8"
      },
      "execution_count": 201,
      "outputs": [
        {
          "output_type": "stream",
          "name": "stdout",
          "text": [
            "tensor([[ 73.,  67.,  43.],\n",
            "        [ 91.,  88.,  64.],\n",
            "        [ 87., 134.,  58.],\n",
            "        [102.,  43.,  37.],\n",
            "        [ 69.,  96.,  70.]])\n",
            "tensor([[ 56.,  70.],\n",
            "        [ 81., 101.],\n",
            "        [119., 133.],\n",
            "        [ 22.,  37.],\n",
            "        [103., 119.]])\n"
          ]
        }
      ]
    },
    {
      "cell_type": "code",
      "source": [
        "w = torch.randn(2,3,requires_grad=True)\n",
        "b = torch.randn(2,requires_grad=True)\n",
        "print(w)\n",
        "print(b)"
      ],
      "metadata": {
        "colab": {
          "base_uri": "https://localhost:8080/"
        },
        "id": "PHSbXd-5oCkS",
        "outputId": "c9c33e82-de72-4bf0-c73f-6a1483f22fad"
      },
      "execution_count": 202,
      "outputs": [
        {
          "output_type": "stream",
          "name": "stdout",
          "text": [
            "tensor([[ 0.6798, -1.9868, -1.9840],\n",
            "        [-1.6342, -0.7752,  0.6612]], requires_grad=True)\n",
            "tensor([-0.6416,  0.3822], requires_grad=True)\n"
          ]
        }
      ]
    },
    {
      "cell_type": "code",
      "source": [
        "def model(x):\n",
        "  return x @ w.t() + b"
      ],
      "metadata": {
        "id": "6r2CbP8fohGt"
      },
      "execution_count": 203,
      "outputs": []
    },
    {
      "cell_type": "code",
      "source": [
        "preds = model(inputs)\n",
        "preds"
      ],
      "metadata": {
        "colab": {
          "base_uri": "https://localhost:8080/"
        },
        "id": "74BJm3h1pE2B",
        "outputId": "b614f6bd-0182-4553-ae24-1320a04e29b8"
      },
      "execution_count": 204,
      "outputs": [
        {
          "output_type": "execute_result",
          "data": {
            "text/plain": [
              "tensor([[-169.4415, -142.4167],\n",
              "        [-240.5911, -174.2248],\n",
              "        [-322.8015, -207.3128],\n",
              "        [ -90.1380, -175.1718],\n",
              "        [-283.3462, -140.5065]], grad_fn=<AddBackward0>)"
            ]
          },
          "metadata": {},
          "execution_count": 204
        }
      ]
    },
    {
      "cell_type": "code",
      "source": [
        "targets"
      ],
      "metadata": {
        "colab": {
          "base_uri": "https://localhost:8080/"
        },
        "id": "1VEWk5zupMnV",
        "outputId": "0abb0cdb-8ef3-4472-d2de-86eb4a71d58f"
      },
      "execution_count": 205,
      "outputs": [
        {
          "output_type": "execute_result",
          "data": {
            "text/plain": [
              "tensor([[ 56.,  70.],\n",
              "        [ 81., 101.],\n",
              "        [119., 133.],\n",
              "        [ 22.,  37.],\n",
              "        [103., 119.]])"
            ]
          },
          "metadata": {},
          "execution_count": 205
        }
      ]
    },
    {
      "cell_type": "code",
      "source": [
        "def mse(t1,t2):\n",
        "  diff = t1-t2\n",
        "  return torch.sum(diff * diff) / diff.numel()"
      ],
      "metadata": {
        "id": "rkxvrK7OpOb8"
      },
      "execution_count": 206,
      "outputs": []
    },
    {
      "cell_type": "code",
      "source": [
        "loss = mse(preds , targets)\n",
        "print(loss)  # full tensor"
      ],
      "metadata": {
        "colab": {
          "base_uri": "https://localhost:8080/"
        },
        "id": "Vvh-BcDDqGs2",
        "outputId": "778fc5eb-5864-4138-d3ba-434f3fa9a1b4"
      },
      "execution_count": 207,
      "outputs": [
        {
          "output_type": "stream",
          "name": "stdout",
          "text": [
            "tensor(86031.4531, grad_fn=<DivBackward0>)\n"
          ]
        }
      ]
    },
    {
      "cell_type": "code",
      "source": [
        "loss.backward()"
      ],
      "metadata": {
        "id": "sX--rm-tJk_-"
      },
      "execution_count": 208,
      "outputs": []
    },
    {
      "cell_type": "code",
      "source": [
        "print(\"dl/dw : \" , w.grad)\n",
        "print(\"dl/db : \" , b.grad)"
      ],
      "metadata": {
        "colab": {
          "base_uri": "https://localhost:8080/"
        },
        "id": "5PM7mOe8Khg-",
        "outputId": "cea8e20a-986d-4f0c-9388-2fea8bec2dfd"
      },
      "execution_count": 209,
      "outputs": [
        {
          "output_type": "stream",
          "name": "stdout",
          "text": [
            "dl/dw :  tensor([[-24450.9453, -28903.4355, -17418.7305],\n",
            "        [-21941.3145, -23617.9277, -14500.4521]])\n",
            "dl/db :  tensor([-297.4637, -259.9265])\n"
          ]
        }
      ]
    },
    {
      "cell_type": "code",
      "source": [
        "w.grad.zero_()\n",
        "b.grad.zero_()\n",
        "print(w.grad)\n",
        "print(b.grad)"
      ],
      "metadata": {
        "colab": {
          "base_uri": "https://localhost:8080/"
        },
        "id": "ZpqA0PfjMYQM",
        "outputId": "f4f72a8f-954e-4e88-c36f-68780fd642a8"
      },
      "execution_count": 210,
      "outputs": [
        {
          "output_type": "stream",
          "name": "stdout",
          "text": [
            "tensor([[0., 0., 0.],\n",
            "        [0., 0., 0.]])\n",
            "tensor([0., 0.])\n"
          ]
        }
      ]
    },
    {
      "cell_type": "markdown",
      "source": [
        "# **GRADIENT DESCENT**"
      ],
      "metadata": {
        "id": "UxbtjsO3aBpS"
      }
    },
    {
      "cell_type": "code",
      "source": [
        "import torch\n",
        "\n",
        "inputs = np.array([[73, 67, 43],\n",
        "                   [91, 88, 64],\n",
        "                   [87, 134, 58],\n",
        "                   [102, 43, 37],\n",
        "                   [69, 96, 70]], dtype='float32')\n",
        "\n",
        "targets = np.array([[56, 70],\n",
        "                    [81, 101],\n",
        "                    [119, 133],\n",
        "                    [22, 37],\n",
        "                    [103, 119]], dtype='float32')\n",
        "\n",
        "inputs = torch.tensor(inputs)\n",
        "targets = torch.tensor(targets)\n",
        "\n",
        "w = torch.randn(2,3,requires_grad=True)\n",
        "b = torch.randn(2,requires_grad=True)\n",
        "\n",
        "lr = 1e-5\n",
        "\n",
        "def mse(preds,targets):\n",
        "  return torch.mean((preds-targets)**2)\n",
        "\n",
        "for epoch in range(100):\n",
        "\n",
        "  preds = inputs @ w.t() + b\n",
        "  loss  = mse(preds,targets)\n",
        "\n",
        "  loss.backward()\n",
        "\n",
        "  with torch.no_grad():\n",
        "    w -= lr * w.grad\n",
        "    b -= lr * b.grad\n",
        "\n",
        "    w.grad.zero_()\n",
        "    b.grad.zero_()\n",
        "\n",
        "  if epoch % 10 == 0:\n",
        "        print(f\"Epoch {epoch}: Loss = {loss.item():.4f} ,  w =\\n{w} , b = {b}\")"
      ],
      "metadata": {
        "colab": {
          "base_uri": "https://localhost:8080/"
        },
        "id": "vxjbcMa-d6yi",
        "outputId": "452f98be-b406-4d15-dcbe-20299d5893ef"
      },
      "execution_count": 211,
      "outputs": [
        {
          "output_type": "stream",
          "name": "stdout",
          "text": [
            "Epoch 0: Loss = 52862.5547 ,  w =\n",
            "tensor([[ 0.1876, -1.0528,  0.1517],\n",
            "        [ 0.2527, -1.1622, -0.6431]], requires_grad=True) , b = tensor([-0.4160,  0.2146], requires_grad=True)\n",
            "Epoch 10: Loss = 2786.0774 ,  w =\n",
            "tensor([[ 0.7101, -0.3362,  0.5587],\n",
            "        [ 1.0214, -0.1738, -0.0609]], requires_grad=True) , b = tensor([-0.4094,  0.2241], requires_grad=True)\n",
            "Epoch 20: Loss = 1611.4875 ,  w =\n",
            "tensor([[ 0.7189, -0.1810,  0.6213],\n",
            "        [ 1.0594,  0.0196,  0.0329]], requires_grad=True) , b = tensor([-0.4090,  0.2250], requires_grad=True)\n",
            "Epoch 30: Loss = 1406.0627 ,  w =\n",
            "tensor([[ 0.6603, -0.1073,  0.6357],\n",
            "        [ 1.0001,  0.0990,  0.0583]], requires_grad=True) , b = tensor([-0.4094,  0.2247], requires_grad=True)\n",
            "Epoch 40: Loss = 1241.1062 ,  w =\n",
            "tensor([[ 0.5960, -0.0480,  0.6430],\n",
            "        [ 0.9311,  0.1592,  0.0738]], requires_grad=True) , b = tensor([-0.4098,  0.2242], requires_grad=True)\n",
            "Epoch 50: Loss = 1096.0874 ,  w =\n",
            "tensor([[0.5344, 0.0062, 0.6490],\n",
            "        [0.8645, 0.2136, 0.0874]], requires_grad=True) , b = tensor([-0.4103,  0.2238], requires_grad=True)\n",
            "Epoch 60: Loss = 968.3240 ,  w =\n",
            "tensor([[0.4764, 0.0569, 0.6544],\n",
            "        [0.8016, 0.2642, 0.1004]], requires_grad=True) , b = tensor([-0.4107,  0.2234], requires_grad=True)\n",
            "Epoch 70: Loss = 855.7526 ,  w =\n",
            "tensor([[0.4219, 0.1045, 0.6595],\n",
            "        [0.7424, 0.3116, 0.1130]], requires_grad=True) , b = tensor([-0.4111,  0.2230], requires_grad=True)\n",
            "Epoch 80: Loss = 756.5609 ,  w =\n",
            "tensor([[0.3708, 0.1491, 0.6642],\n",
            "        [0.6869, 0.3559, 0.1251]], requires_grad=True) , b = tensor([-0.4115,  0.2227], requires_grad=True)\n",
            "Epoch 90: Loss = 669.1534 ,  w =\n",
            "tensor([[0.3229, 0.1910, 0.6687],\n",
            "        [0.6346, 0.3973, 0.1367]], requires_grad=True) , b = tensor([-0.4118,  0.2223], requires_grad=True)\n"
          ]
        }
      ]
    },
    {
      "cell_type": "markdown",
      "source": [
        "# **Linear regression using PyTorch built-ins**"
      ],
      "metadata": {
        "id": "DeW3MXE4i206"
      }
    },
    {
      "cell_type": "code",
      "source": [
        "import torch.nn as nn"
      ],
      "metadata": {
        "id": "HdRpPbfzgcoV"
      },
      "execution_count": 212,
      "outputs": []
    },
    {
      "cell_type": "code",
      "source": [
        "# Input (temp, rainfall, humidity)\n",
        "inputs = np.array([[73, 67, 43], [91, 88, 64], [87, 134, 58],\n",
        "                   [102, 43, 37], [69, 96, 70], [73, 67, 43],\n",
        "                   [91, 88, 64], [87, 134, 58], [102, 43, 37],\n",
        "                   [69, 96, 70], [73, 67, 43], [91, 88, 64],\n",
        "                   [87, 134, 58], [102, 43, 37], [69, 96, 70]],\n",
        "                  dtype='float32')\n",
        "\n",
        "# Targets (apples, oranges)\n",
        "targets = np.array([[56, 70], [81, 101], [119, 133],\n",
        "                    [22, 37], [103, 119], [56, 70],\n",
        "                    [81, 101], [119, 133], [22, 37],\n",
        "                    [103, 119], [56, 70], [81, 101],\n",
        "                    [119, 133], [22, 37], [103, 119]],\n",
        "                   dtype='float32')\n",
        "\n",
        "inputs = torch.from_numpy(inputs)\n",
        "targets = torch.from_numpy(targets)"
      ],
      "metadata": {
        "id": "DTiQ-ckNi8I3"
      },
      "execution_count": 213,
      "outputs": []
    },
    {
      "cell_type": "code",
      "source": [
        "from torch.utils.data import TensorDataset"
      ],
      "metadata": {
        "id": "_T6rf399jANu"
      },
      "execution_count": 214,
      "outputs": []
    },
    {
      "cell_type": "code",
      "source": [
        "train_ds = TensorDataset(inputs,targets)\n",
        "train_ds[0:3]"
      ],
      "metadata": {
        "colab": {
          "base_uri": "https://localhost:8080/"
        },
        "id": "-GtRDStIj47U",
        "outputId": "a3834332-52e2-4944-a505-14abd78f7b1a"
      },
      "execution_count": 215,
      "outputs": [
        {
          "output_type": "execute_result",
          "data": {
            "text/plain": [
              "(tensor([[ 73.,  67.,  43.],\n",
              "         [ 91.,  88.,  64.],\n",
              "         [ 87., 134.,  58.]]),\n",
              " tensor([[ 56.,  70.],\n",
              "         [ 81., 101.],\n",
              "         [119., 133.]]))"
            ]
          },
          "metadata": {},
          "execution_count": 215
        }
      ]
    },
    {
      "cell_type": "code",
      "source": [
        "from torch.utils.data import DataLoader"
      ],
      "metadata": {
        "id": "aUo61_X6ld-V"
      },
      "execution_count": 216,
      "outputs": []
    },
    {
      "cell_type": "code",
      "source": [
        "batch_size=5\n",
        "train_dl = DataLoader(train_ds,batch_size,shuffle=True)"
      ],
      "metadata": {
        "id": "gCtlSnEglrHC"
      },
      "execution_count": 217,
      "outputs": []
    },
    {
      "cell_type": "code",
      "source": [
        "i=0\n",
        "for xb,yb in train_dl:\n",
        "  print(f\"batch:{i} \")\n",
        "  print(xb)\n",
        "  print(yb)\n",
        "  i +=1"
      ],
      "metadata": {
        "colab": {
          "base_uri": "https://localhost:8080/"
        },
        "id": "sMGPsnfml1xe",
        "outputId": "e28ace43-f016-4ebc-9c09-cdc09abe9817"
      },
      "execution_count": 218,
      "outputs": [
        {
          "output_type": "stream",
          "name": "stdout",
          "text": [
            "batch:0 \n",
            "tensor([[ 87., 134.,  58.],\n",
            "        [ 87., 134.,  58.],\n",
            "        [ 69.,  96.,  70.],\n",
            "        [ 91.,  88.,  64.],\n",
            "        [ 73.,  67.,  43.]])\n",
            "tensor([[119., 133.],\n",
            "        [119., 133.],\n",
            "        [103., 119.],\n",
            "        [ 81., 101.],\n",
            "        [ 56.,  70.]])\n",
            "batch:1 \n",
            "tensor([[102.,  43.,  37.],\n",
            "        [102.,  43.,  37.],\n",
            "        [ 69.,  96.,  70.],\n",
            "        [ 73.,  67.,  43.],\n",
            "        [ 69.,  96.,  70.]])\n",
            "tensor([[ 22.,  37.],\n",
            "        [ 22.,  37.],\n",
            "        [103., 119.],\n",
            "        [ 56.,  70.],\n",
            "        [103., 119.]])\n",
            "batch:2 \n",
            "tensor([[ 87., 134.,  58.],\n",
            "        [ 73.,  67.,  43.],\n",
            "        [102.,  43.,  37.],\n",
            "        [ 91.,  88.,  64.],\n",
            "        [ 91.,  88.,  64.]])\n",
            "tensor([[119., 133.],\n",
            "        [ 56.,  70.],\n",
            "        [ 22.,  37.],\n",
            "        [ 81., 101.],\n",
            "        [ 81., 101.]])\n"
          ]
        }
      ]
    },
    {
      "cell_type": "code",
      "source": [
        "model = nn.Linear(3,2)\n",
        "print(model.weight)\n",
        "print(model.bias)"
      ],
      "metadata": {
        "colab": {
          "base_uri": "https://localhost:8080/"
        },
        "id": "rHZhDclgmGQY",
        "outputId": "b82b0dd2-9609-49f1-b8c8-224dc505b819"
      },
      "execution_count": 219,
      "outputs": [
        {
          "output_type": "stream",
          "name": "stdout",
          "text": [
            "Parameter containing:\n",
            "tensor([[-0.1359,  0.1007,  0.1313],\n",
            "        [ 0.0321, -0.2049,  0.3052]], requires_grad=True)\n",
            "Parameter containing:\n",
            "tensor([0.0492, 0.3816], requires_grad=True)\n"
          ]
        }
      ]
    },
    {
      "cell_type": "code",
      "source": [
        "list(model.parameters())"
      ],
      "metadata": {
        "colab": {
          "base_uri": "https://localhost:8080/"
        },
        "id": "0EGSCTgB0X_X",
        "outputId": "627a20c1-8284-4319-f3a8-3d9498402c73"
      },
      "execution_count": 220,
      "outputs": [
        {
          "output_type": "execute_result",
          "data": {
            "text/plain": [
              "[Parameter containing:\n",
              " tensor([[-0.1359,  0.1007,  0.1313],\n",
              "         [ 0.0321, -0.2049,  0.3052]], requires_grad=True),\n",
              " Parameter containing:\n",
              " tensor([0.0492, 0.3816], requires_grad=True)]"
            ]
          },
          "metadata": {},
          "execution_count": 220
        }
      ]
    },
    {
      "cell_type": "code",
      "source": [
        "import torch.nn.functional as F"
      ],
      "metadata": {
        "id": "0rkMkx-t0pyM"
      },
      "execution_count": 221,
      "outputs": []
    },
    {
      "cell_type": "code",
      "source": [
        "loss_fn = F.mse_loss"
      ],
      "metadata": {
        "id": "x6aeb-lF1UkP"
      },
      "execution_count": 222,
      "outputs": []
    },
    {
      "cell_type": "code",
      "source": [
        "loss = loss_fn(model(inputs),targets)\n",
        "print(loss)"
      ],
      "metadata": {
        "colab": {
          "base_uri": "https://localhost:8080/"
        },
        "id": "aiypHFUK1aXC",
        "outputId": "c4d779e6-5ae4-45cc-99c4-80d84aa4b851"
      },
      "execution_count": 223,
      "outputs": [
        {
          "output_type": "stream",
          "name": "stdout",
          "text": [
            "tensor(7756.8569, grad_fn=<MseLossBackward0>)\n"
          ]
        }
      ]
    },
    {
      "cell_type": "code",
      "source": [
        "opt = torch.optim.SGD(model.parameters(),lr=1e-5)"
      ],
      "metadata": {
        "id": "euoBBLyb1tQN"
      },
      "execution_count": 224,
      "outputs": []
    },
    {
      "cell_type": "code",
      "source": [
        "def fit(num_epochs,model,loss_fn,opt):\n",
        "  for epoch in range(num_epochs):\n",
        "    for xb,yb in train_dl:\n",
        "      preds = model(xb)\n",
        "      loss = loss_fn(preds,yb)\n",
        "      loss.backward()\n",
        "      opt.step()\n",
        "      opt.zero_grad()\n",
        "\n",
        "    if (epoch+1) % 10 == 0:\n",
        "          print('Epoch [{}/{}], Loss: {:.4f}'.format(epoch+1, num_epochs, loss.item()))"
      ],
      "metadata": {
        "id": "Gb5xCKNi2F_3"
      },
      "execution_count": 225,
      "outputs": []
    },
    {
      "cell_type": "code",
      "source": [
        "fit(100, model, loss_fn, opt)"
      ],
      "metadata": {
        "colab": {
          "base_uri": "https://localhost:8080/"
        },
        "id": "Q_cTTXZq20bV",
        "outputId": "e5986e0a-8417-4c00-edfb-6b5f8a6d6231"
      },
      "execution_count": 226,
      "outputs": [
        {
          "output_type": "stream",
          "name": "stdout",
          "text": [
            "Epoch [10/100], Loss: 530.1581\n",
            "Epoch [20/100], Loss: 220.8872\n",
            "Epoch [30/100], Loss: 267.9843\n",
            "Epoch [40/100], Loss: 90.0299\n",
            "Epoch [50/100], Loss: 88.7055\n",
            "Epoch [60/100], Loss: 39.9113\n",
            "Epoch [70/100], Loss: 48.2584\n",
            "Epoch [80/100], Loss: 26.4582\n",
            "Epoch [90/100], Loss: 18.5501\n",
            "Epoch [100/100], Loss: 15.2124\n"
          ]
        }
      ]
    },
    {
      "cell_type": "code",
      "source": [
        "# Generate predictions\n",
        "preds = model(inputs)\n",
        "preds"
      ],
      "metadata": {
        "colab": {
          "base_uri": "https://localhost:8080/"
        },
        "id": "fRsg1sHd3Sqj",
        "outputId": "90d87a28-2bfc-432b-d3c1-45ee9c7102a8"
      },
      "execution_count": 227,
      "outputs": [
        {
          "output_type": "execute_result",
          "data": {
            "text/plain": [
              "tensor([[ 58.1704,  71.5841],\n",
              "        [ 81.2999, 100.0589],\n",
              "        [119.0004, 132.0221],\n",
              "        [ 26.8268,  44.1268],\n",
              "        [ 97.0098, 114.0200],\n",
              "        [ 58.1704,  71.5841],\n",
              "        [ 81.2999, 100.0589],\n",
              "        [119.0004, 132.0221],\n",
              "        [ 26.8268,  44.1268],\n",
              "        [ 97.0098, 114.0200],\n",
              "        [ 58.1704,  71.5841],\n",
              "        [ 81.2999, 100.0589],\n",
              "        [119.0004, 132.0221],\n",
              "        [ 26.8268,  44.1268],\n",
              "        [ 97.0098, 114.0200]], grad_fn=<AddmmBackward0>)"
            ]
          },
          "metadata": {},
          "execution_count": 227
        }
      ]
    },
    {
      "cell_type": "code",
      "source": [
        "# Compare with targets\n",
        "targets"
      ],
      "metadata": {
        "colab": {
          "base_uri": "https://localhost:8080/"
        },
        "id": "3naiUeT43ZpE",
        "outputId": "e2111502-5d6f-4ffa-ae93-a10992b571f4"
      },
      "execution_count": 228,
      "outputs": [
        {
          "output_type": "execute_result",
          "data": {
            "text/plain": [
              "tensor([[ 56.,  70.],\n",
              "        [ 81., 101.],\n",
              "        [119., 133.],\n",
              "        [ 22.,  37.],\n",
              "        [103., 119.],\n",
              "        [ 56.,  70.],\n",
              "        [ 81., 101.],\n",
              "        [119., 133.],\n",
              "        [ 22.,  37.],\n",
              "        [103., 119.],\n",
              "        [ 56.,  70.],\n",
              "        [ 81., 101.],\n",
              "        [119., 133.],\n",
              "        [ 22.,  37.],\n",
              "        [103., 119.]])"
            ]
          },
          "metadata": {},
          "execution_count": 228
        }
      ]
    },
    {
      "cell_type": "markdown",
      "source": [
        "# **Working with Images & Logistic Regression in PyTorch**"
      ],
      "metadata": {
        "id": "Wp3CGyh--bWb"
      }
    },
    {
      "cell_type": "code",
      "source": [
        "import torch\n",
        "import torchvision\n",
        "from torchvision.datasets import MNIST"
      ],
      "metadata": {
        "id": "YU6-eirG3bvN"
      },
      "execution_count": 229,
      "outputs": []
    },
    {
      "cell_type": "code",
      "source": [
        "dataset = MNIST(root='data/',download=True)"
      ],
      "metadata": {
        "id": "qvkOY8KH-sjA"
      },
      "execution_count": 230,
      "outputs": []
    },
    {
      "cell_type": "code",
      "source": [
        "len(dataset)"
      ],
      "metadata": {
        "colab": {
          "base_uri": "https://localhost:8080/"
        },
        "id": "Nk26RNZI-0d_",
        "outputId": "406c9f36-5bc2-4030-a314-68ccf9535fec"
      },
      "execution_count": 231,
      "outputs": [
        {
          "output_type": "execute_result",
          "data": {
            "text/plain": [
              "60000"
            ]
          },
          "metadata": {},
          "execution_count": 231
        }
      ]
    },
    {
      "cell_type": "code",
      "source": [
        "test_dataset = MNIST(root='data/',train=False)\n",
        "len(test_dataset)"
      ],
      "metadata": {
        "colab": {
          "base_uri": "https://localhost:8080/"
        },
        "id": "hE8bSQyp-3G9",
        "outputId": "086879d4-2846-463a-d5a9-3f3078d0d093"
      },
      "execution_count": 232,
      "outputs": [
        {
          "output_type": "execute_result",
          "data": {
            "text/plain": [
              "10000"
            ]
          },
          "metadata": {},
          "execution_count": 232
        }
      ]
    },
    {
      "cell_type": "code",
      "source": [
        "dataset[0]"
      ],
      "metadata": {
        "colab": {
          "base_uri": "https://localhost:8080/"
        },
        "id": "1FKWNBsi_AVm",
        "outputId": "77514bd5-cc98-4596-dbb0-a54331fd048c"
      },
      "execution_count": 233,
      "outputs": [
        {
          "output_type": "execute_result",
          "data": {
            "text/plain": [
              "(<PIL.Image.Image image mode=L size=28x28>, 5)"
            ]
          },
          "metadata": {},
          "execution_count": 233
        }
      ]
    },
    {
      "cell_type": "code",
      "source": [
        "import matplotlib.pyplot as plt\n",
        "%matplotlib inline"
      ],
      "metadata": {
        "id": "xtdHRScG_DQe"
      },
      "execution_count": 234,
      "outputs": []
    },
    {
      "cell_type": "code",
      "source": [
        "image , label = dataset[0]\n",
        "plt.imshow(image , cmap='gray')\n",
        "print(\"Label:\" ,label)"
      ],
      "metadata": {
        "colab": {
          "base_uri": "https://localhost:8080/",
          "height": 447
        },
        "id": "7K3t5DsZ_Fcd",
        "outputId": "2a56fd17-c9ff-40c7-860a-4749821563c6"
      },
      "execution_count": 235,
      "outputs": [
        {
          "output_type": "stream",
          "name": "stdout",
          "text": [
            "Label: 5\n"
          ]
        },
        {
          "output_type": "display_data",
          "data": {
            "text/plain": [
              "<Figure size 640x480 with 1 Axes>"
            ],
            "image/png": "[encoded data removed]"
          },
          "metadata": {}
        }
      ]
    },
    {
      "cell_type": "code",
      "source": [
        "image , label = dataset[7]\n",
        "plt.imshow(image , cmap='gray')\n",
        "print(\"Label:\" , label)"
      ],
      "metadata": {
        "colab": {
          "base_uri": "https://localhost:8080/",
          "height": 447
        },
        "id": "YF8YvGnE_eCR",
        "outputId": "4efc755d-6529-4c9d-a6cf-d6e09ff1812b"
      },
      "execution_count": 236,
      "outputs": [
        {
          "output_type": "stream",
          "name": "stdout",
          "text": [
            "Label: 3\n"
          ]
        },
        {
          "output_type": "display_data",
          "data": {
            "text/plain": [
              "<Figure size 640x480 with 1 Axes>"
            ],
            "image/png": "[encoded data removed]"
          },
          "metadata": {}
        }
      ]
    },
    {
      "cell_type": "code",
      "source": [
        "import torchvision.transforms as transforms"
      ],
      "metadata": {
        "id": "cli53lPw_omt"
      },
      "execution_count": 237,
      "outputs": []
    },
    {
      "cell_type": "code",
      "source": [
        "dataset = MNIST(root='data/',train=True,transform=transforms.ToTensor())"
      ],
      "metadata": {
        "id": "ird-_9Qw_wsf"
      },
      "execution_count": 238,
      "outputs": []
    },
    {
      "cell_type": "code",
      "source": [
        "img_tensor, label = dataset[0]\n",
        "print(img_tensor.shape, label)"
      ],
      "metadata": {
        "colab": {
          "base_uri": "https://localhost:8080/"
        },
        "id": "HeSFh3So_8J-",
        "outputId": "4767225d-1805-46c3-a7e5-77f670d7a15c"
      },
      "execution_count": 239,
      "outputs": [
        {
          "output_type": "stream",
          "name": "stdout",
          "text": [
            "torch.Size([1, 28, 28]) 5\n"
          ]
        }
      ]
    },
    {
      "cell_type": "code",
      "source": [
        "print(img_tensor[:,10:15,10:15])\n",
        "print(torch.max(img_tensor), torch.min(img_tensor))"
      ],
      "metadata": {
        "colab": {
          "base_uri": "https://localhost:8080/"
        },
        "id": "gxnQpJ8YABxk",
        "outputId": "e857ec8c-74f3-4762-9e9f-e5dda70c6cbd"
      },
      "execution_count": 240,
      "outputs": [
        {
          "output_type": "stream",
          "name": "stdout",
          "text": [
            "tensor([[[0.0039, 0.6039, 0.9922, 0.3529, 0.0000],\n",
            "         [0.0000, 0.5451, 0.9922, 0.7451, 0.0078],\n",
            "         [0.0000, 0.0431, 0.7451, 0.9922, 0.2745],\n",
            "         [0.0000, 0.0000, 0.1373, 0.9451, 0.8824],\n",
            "         [0.0000, 0.0000, 0.0000, 0.3176, 0.9412]]])\n",
            "tensor(1.) tensor(0.)\n"
          ]
        }
      ]
    },
    {
      "cell_type": "code",
      "source": [
        "plt.imshow(img_tensor[0,10:15,10:15],cmap='gray');"
      ],
      "metadata": {
        "colab": {
          "base_uri": "https://localhost:8080/",
          "height": 430
        },
        "id": "enGtSN9KAXmB",
        "outputId": "837b408f-0e0f-43fa-f114-b342058811a4"
      },
      "execution_count": 241,
      "outputs": [
        {
          "output_type": "display_data",
          "data": {
            "text/plain": [
              "<Figure size 640x480 with 1 Axes>"
            ],
            "image/png": "[encoded data removed]"
          },
          "metadata": {}
        }
      ]
    },
    {
      "cell_type": "code",
      "source": [
        "from torch.utils.data import random_split\n",
        "\n",
        "train_ds , val_ds = random_split(dataset,[50000,10000])\n",
        "len(train_ds) , len(val_ds)"
      ],
      "metadata": {
        "colab": {
          "base_uri": "https://localhost:8080/"
        },
        "id": "GbT9R4xeAgR-",
        "outputId": "a4d91d28-3eba-40f7-e24c-01dec3e4d807"
      },
      "execution_count": 242,
      "outputs": [
        {
          "output_type": "execute_result",
          "data": {
            "text/plain": [
              "(50000, 10000)"
            ]
          },
          "metadata": {},
          "execution_count": 242
        }
      ]
    },
    {
      "cell_type": "code",
      "source": [
        "from torch.utils.data import DataLoader\n",
        "\n",
        "batch_size=128\n",
        "\n",
        "train_loader = DataLoader(train_ds,batch_size,shuffle=True)\n",
        "val_loader = DataLoader(val_ds,batch_size)"
      ],
      "metadata": {
        "id": "w-CCo7-_BsVh"
      },
      "execution_count": 243,
      "outputs": []
    },
    {
      "cell_type": "code",
      "source": [
        "import numpy as np\n",
        "\n",
        "def split_indices(n,val_pct):\n",
        "  n_val = int(val_pct*n)\n",
        "  idxs = np.random.permutation(n)\n",
        "  return idxs[n_val:] , idxs[:n_val]"
      ],
      "metadata": {
        "id": "czIatUerCMog"
      },
      "execution_count": 244,
      "outputs": []
    },
    {
      "cell_type": "code",
      "source": [
        "train_indices , val_indices = split_indices(len(dataset),val_pct=0.2)"
      ],
      "metadata": {
        "id": "QuTcQxbpcvvv"
      },
      "execution_count": 245,
      "outputs": []
    },
    {
      "cell_type": "code",
      "source": [
        "print(len(train_indices)) , print(len(val_indices))\n",
        "print(\"sample val_indices : \", val_indices[:20])"
      ],
      "metadata": {
        "colab": {
          "base_uri": "https://localhost:8080/"
        },
        "id": "jnJjX01VdFQI",
        "outputId": "43f4fd3a-d2f7-4faf-a332-0abcb1d8fb70"
      },
      "execution_count": 246,
      "outputs": [
        {
          "output_type": "stream",
          "name": "stdout",
          "text": [
            "48000\n",
            "12000\n",
            "sample val_indices :  [11258 18565 26358 34945 26976 24959 13130 59325 16043 29297 35625 47586\n",
            " 51586 41991 20116 41066 13810 26135 52055  9385]\n"
          ]
        }
      ]
    },
    {
      "cell_type": "code",
      "source": [
        "from torch.utils.data.sampler import SubsetRandomSampler\n",
        "from torch.utils.data.dataloader import DataLoader"
      ],
      "metadata": {
        "id": "HM9cdQB7dWAo"
      },
      "execution_count": 247,
      "outputs": []
    },
    {
      "cell_type": "code",
      "source": [
        "batch_size = 100\n",
        "\n",
        "train_sampler = SubsetRandomSampler(train_indices)\n",
        "train_loader = DataLoader(dataset,\n",
        "                          batch_size,\n",
        "                          sampler = train_sampler)\n",
        "\n",
        "val_sampler = SubsetRandomSampler(val_indices)\n",
        "val_loader = DataLoader(dataset,\n",
        "                        batch_size,\n",
        "                        sampler = val_indices)"
      ],
      "metadata": {
        "id": "lMFzRC2oeqMt"
      },
      "execution_count": 248,
      "outputs": []
    },
    {
      "cell_type": "code",
      "source": [
        "print(\"xb.shape before flattening:\", xb.shape)"
      ],
      "metadata": {
        "id": "_byaF0vhAKh8",
        "colab": {
          "base_uri": "https://localhost:8080/"
        },
        "outputId": "8b363fa6-2ca7-4eb8-dfad-cc8e1b5e7bdb"
      },
      "execution_count": 249,
      "outputs": [
        {
          "output_type": "stream",
          "name": "stdout",
          "text": [
            "xb.shape before flattening: torch.Size([5, 3])\n"
          ]
        }
      ]
    },
    {
      "cell_type": "code",
      "source": [
        "import torch.nn as nn\n",
        "\n",
        "input_size = 28*28\n",
        "num_classes = 10\n",
        "\n",
        "model = nn.Linear(input_size,num_classes)"
      ],
      "metadata": {
        "id": "-BPFw0IqfqEV"
      },
      "execution_count": 250,
      "outputs": []
    },
    {
      "cell_type": "code",
      "source": [
        "print(model.weight.shape)\n",
        "print(model.weight)"
      ],
      "metadata": {
        "colab": {
          "base_uri": "https://localhost:8080/"
        },
        "id": "FVxG03NKiPXc",
        "outputId": "ae2c29f5-a7ee-44eb-9316-4ffa53932e5f"
      },
      "execution_count": 251,
      "outputs": [
        {
          "output_type": "stream",
          "name": "stdout",
          "text": [
            "torch.Size([10, 784])\n",
            "Parameter containing:\n",
            "tensor([[-0.0173, -0.0169,  0.0169,  ..., -0.0068, -0.0317,  0.0260],\n",
            "        [ 0.0088,  0.0017, -0.0302,  ..., -0.0294,  0.0007,  0.0025],\n",
            "        [-0.0187, -0.0235,  0.0248,  ...,  0.0140,  0.0313,  0.0132],\n",
            "        ...,\n",
            "        [ 0.0273,  0.0188, -0.0185,  ...,  0.0170,  0.0255,  0.0006],\n",
            "        [-0.0297,  0.0026,  0.0145,  ...,  0.0082, -0.0074,  0.0038],\n",
            "        [-0.0203, -0.0072,  0.0353,  ...,  0.0316,  0.0098,  0.0269]],\n",
            "       requires_grad=True)\n"
          ]
        }
      ]
    },
    {
      "cell_type": "code",
      "source": [
        "print(model.bias.shape)\n",
        "print(model.bias)"
      ],
      "metadata": {
        "colab": {
          "base_uri": "https://localhost:8080/"
        },
        "id": "0YzP_-ZoiyBj",
        "outputId": "34779779-e600-465f-e47d-a6e0ad5c1903"
      },
      "execution_count": 252,
      "outputs": [
        {
          "output_type": "stream",
          "name": "stdout",
          "text": [
            "torch.Size([10])\n",
            "Parameter containing:\n",
            "tensor([-0.0065, -0.0215,  0.0279, -0.0052,  0.0277, -0.0260, -0.0252, -0.0223,\n",
            "         0.0249, -0.0050], requires_grad=True)\n"
          ]
        }
      ]
    },
    {
      "cell_type": "code",
      "source": [
        "class MnistModel(nn.Module):\n",
        "    def __init__(self):\n",
        "        super().__init__()\n",
        "        self.linear = nn.Linear(28*28, 10)\n",
        "\n",
        "    def forward(self, xb):\n",
        "        xb = xb.view(xb.size(0), -1)\n",
        "        return self.linear(xb)\n",
        "\n",
        "model = MnistModel()"
      ],
      "metadata": {
        "id": "HB_zVwJPjp6m"
      },
      "execution_count": 253,
      "outputs": []
    },
    {
      "cell_type": "code",
      "source": [
        "print(model.linear.weight.shape)\n",
        "print(model.linear.bias.shape)\n",
        "list(model.parameters())"
      ],
      "metadata": {
        "colab": {
          "base_uri": "https://localhost:8080/"
        },
        "id": "J3_-EIn8li7y",
        "outputId": "7a0ddc82-826d-434d-86af-d1f6f703a37d"
      },
      "execution_count": 254,
      "outputs": [
        {
          "output_type": "stream",
          "name": "stdout",
          "text": [
            "torch.Size([10, 784])\n",
            "torch.Size([10])\n"
          ]
        },
        {
          "output_type": "execute_result",
          "data": {
            "text/plain": [
              "[Parameter containing:\n",
              " tensor([[ 0.0057,  0.0260,  0.0303,  ..., -0.0207, -0.0271, -0.0313],\n",
              "         [-0.0338,  0.0180, -0.0258,  ...,  0.0033, -0.0164, -0.0337],\n",
              "         [-0.0084,  0.0167, -0.0055,  ..., -0.0277, -0.0034,  0.0338],\n",
              "         ...,\n",
              "         [-0.0284, -0.0321,  0.0235,  ...,  0.0076,  0.0206, -0.0158],\n",
              "         [ 0.0216,  0.0142, -0.0122,  ..., -0.0092,  0.0124,  0.0231],\n",
              "         [-0.0083, -0.0214,  0.0037,  ..., -0.0050, -0.0062,  0.0162]],\n",
              "        requires_grad=True),\n",
              " Parameter containing:\n",
              " tensor([-0.0311,  0.0237, -0.0350,  0.0132, -0.0162,  0.0116,  0.0135, -0.0335,\n",
              "         -0.0330, -0.0143], requires_grad=True)]"
            ]
          },
          "metadata": {},
          "execution_count": 254
        }
      ]
    },
    {
      "cell_type": "code",
      "source": [
        "for images, labels in train_loader:\n",
        "    outputs = model(images)\n",
        "    break\n",
        "\n",
        "print('outputs.shape : ', outputs.shape)\n",
        "print('Sample outputs :\\n', outputs[:2].data)"
      ],
      "metadata": {
        "colab": {
          "base_uri": "https://localhost:8080/"
        },
        "id": "-ka2KDmbmajT",
        "outputId": "c2292349-a9a9-497f-ad63-6d9007f00b71"
      },
      "execution_count": 255,
      "outputs": [
        {
          "output_type": "stream",
          "name": "stdout",
          "text": [
            "outputs.shape :  torch.Size([100, 10])\n",
            "Sample outputs :\n",
            " tensor([[-0.1474, -0.0839, -0.1734, -0.1581, -0.0908, -0.2563, -0.1897, -0.3829,\n",
            "         -0.6039, -0.0878],\n",
            "        [-0.2323,  0.0166, -0.2171, -0.0975, -0.0759, -0.4013, -0.1918, -0.1088,\n",
            "         -0.2201,  0.1086]])\n"
          ]
        }
      ]
    },
    {
      "cell_type": "code",
      "source": [
        "probs = F.softmax(outputs,dim=1)\n",
        "print(probs[:2].data)\n",
        "print(\"Sum : \" , torch.sum(probs[0]).item())"
      ],
      "metadata": {
        "colab": {
          "base_uri": "https://localhost:8080/"
        },
        "id": "MDqHeZNlm_Pi",
        "outputId": "bc68b814-8e41-4336-8c93-8395f211c397"
      },
      "execution_count": 256,
      "outputs": [
        {
          "output_type": "stream",
          "name": "stdout",
          "text": [
            "tensor([[0.1061, 0.1130, 0.1033, 0.1049, 0.1122, 0.0951, 0.1017, 0.0838, 0.0672,\n",
            "         0.1126],\n",
            "        [0.0905, 0.1161, 0.0919, 0.1036, 0.1058, 0.0764, 0.0943, 0.1024, 0.0916,\n",
            "         0.1273]])\n",
            "Sum :  0.9999999403953552\n"
          ]
        }
      ]
    },
    {
      "cell_type": "code",
      "source": [
        "max_probs , preds = torch.max(probs , dim=1)\n",
        "print(preds)\n",
        "print(max_probs)"
      ],
      "metadata": {
        "colab": {
          "base_uri": "https://localhost:8080/"
        },
        "id": "mfJ_uj8jpC6V",
        "outputId": "483b4779-9a8c-4e06-f0d3-6a0a8983d38c"
      },
      "execution_count": 257,
      "outputs": [
        {
          "output_type": "stream",
          "name": "stdout",
          "text": [
            "tensor([1, 9, 3, 3, 4, 4, 1, 1, 3, 8, 9, 3, 6, 1, 4, 1, 3, 3, 3, 6, 8, 4, 6, 3,\n",
            "        1, 3, 7, 3, 1, 3, 4, 1, 3, 1, 3, 9, 8, 9, 3, 3, 9, 1, 9, 9, 4, 4, 3, 6,\n",
            "        3, 6, 9, 4, 5, 9, 3, 3, 4, 3, 4, 8, 1, 1, 1, 1, 1, 1, 4, 4, 5, 4, 9, 9,\n",
            "        1, 1, 3, 9, 9, 5, 1, 1, 6, 9, 9, 9, 7, 9, 9, 3, 9, 9, 9, 1, 3, 3, 9, 1,\n",
            "        9, 4, 3, 9])\n",
            "tensor([0.1130, 0.1273, 0.1487, 0.1404, 0.1143, 0.1167, 0.1269, 0.1170, 0.1192,\n",
            "        0.1244, 0.1381, 0.1340, 0.1207, 0.1374, 0.1217, 0.1435, 0.1255, 0.1303,\n",
            "        0.1288, 0.1370, 0.1160, 0.1395, 0.1231, 0.1427, 0.1267, 0.1213, 0.1216,\n",
            "        0.1275, 0.1180, 0.1357, 0.1436, 0.1220, 0.1193, 0.1517, 0.1276, 0.1481,\n",
            "        0.1236, 0.1362, 0.1703, 0.1217, 0.1287, 0.1200, 0.1404, 0.1362, 0.1130,\n",
            "        0.1361, 0.1333, 0.1226, 0.1150, 0.1141, 0.1203, 0.1335, 0.1374, 0.1205,\n",
            "        0.1290, 0.1529, 0.1369, 0.1161, 0.1321, 0.1411, 0.1367, 0.1310, 0.1281,\n",
            "        0.1317, 0.1393, 0.1286, 0.1587, 0.1434, 0.1214, 0.1252, 0.1265, 0.1276,\n",
            "        0.1132, 0.1278, 0.1261, 0.1187, 0.1228, 0.1208, 0.1219, 0.1525, 0.1190,\n",
            "        0.1251, 0.1672, 0.1330, 0.1366, 0.1221, 0.1288, 0.1232, 0.1431, 0.1336,\n",
            "        0.1232, 0.1245, 0.1429, 0.1331, 0.1249, 0.1282, 0.1399, 0.1103, 0.1257,\n",
            "        0.1471], grad_fn=<MaxBackward0>)\n"
          ]
        }
      ]
    },
    {
      "cell_type": "code",
      "source": [
        "labels"
      ],
      "metadata": {
        "colab": {
          "base_uri": "https://localhost:8080/"
        },
        "id": "D0uAWLPExlNM",
        "outputId": "4f67db5d-89df-4260-ee12-a153842740f3"
      },
      "execution_count": 258,
      "outputs": [
        {
          "output_type": "execute_result",
          "data": {
            "text/plain": [
              "tensor([8, 9, 4, 4, 0, 2, 0, 4, 7, 2, 2, 8, 1, 8, 4, 6, 9, 7, 1, 8, 7, 8, 1, 6,\n",
              "        7, 9, 8, 6, 7, 0, 4, 1, 4, 7, 4, 6, 7, 0, 2, 7, 2, 9, 2, 9, 8, 3, 8, 9,\n",
              "        1, 9, 5, 8, 6, 2, 7, 0, 8, 4, 4, 7, 9, 5, 1, 1, 1, 1, 8, 5, 7, 6, 9, 1,\n",
              "        1, 0, 9, 3, 3, 0, 8, 5, 1, 1, 3, 2, 7, 6, 6, 1, 0, 1, 9, 7, 4, 6, 3, 3,\n",
              "        3, 4, 4, 5])"
            ]
          },
          "metadata": {},
          "execution_count": 258
        }
      ]
    },
    {
      "cell_type": "code",
      "source": [
        "def accuracy(outputs , labels):\n",
        "  max_probs , preds = torch.max(probs,dim=1)\n",
        "  return torch.tensor(torch.sum(preds == labels).item() / len(preds))"
      ],
      "metadata": {
        "id": "ccskPfhuxnZo"
      },
      "execution_count": 259,
      "outputs": []
    },
    {
      "cell_type": "code",
      "source": [
        "accuracy(preds,labels)"
      ],
      "metadata": {
        "colab": {
          "base_uri": "https://localhost:8080/"
        },
        "id": "Bo8xuFExyfxK",
        "outputId": "f3399113-6f89-4441-a901-0068d88bbebe"
      },
      "execution_count": 260,
      "outputs": [
        {
          "output_type": "execute_result",
          "data": {
            "text/plain": [
              "tensor(0.1500)"
            ]
          },
          "metadata": {},
          "execution_count": 260
        }
      ]
    },
    {
      "cell_type": "code",
      "source": [
        "loss_fn = F.cross_entropy\n",
        "\n",
        "loss = loss_fn(outputs,preds)\n",
        "print(loss)"
      ],
      "metadata": {
        "colab": {
          "base_uri": "https://localhost:8080/"
        },
        "id": "Xapz3ronyiaM",
        "outputId": "248197d4-a3bc-4553-c385-abe7c4e2218d"
      },
      "execution_count": 261,
      "outputs": [
        {
          "output_type": "stream",
          "name": "stdout",
          "text": [
            "tensor(2.0429, grad_fn=<NllLossBackward0>)\n"
          ]
        }
      ]
    },
    {
      "cell_type": "code",
      "source": [
        "lr = 0.001\n",
        "optimizer = torch.optim.SGD(model.parameters(),lr)"
      ],
      "metadata": {
        "id": "dffMsP5x0nqy"
      },
      "execution_count": 262,
      "outputs": []
    },
    {
      "cell_type": "code",
      "source": [
        "def loss_batch(model , loss_fn , xb , yb , opt=None , metric = None):\n",
        "  preds = model(xb)\n",
        "  loss = loss_fn(preds,yb)\n",
        "\n",
        "  if opt is not None:\n",
        "    loss.backward()\n",
        "    opt.step()\n",
        "    opt.zero_grad()\n",
        "\n",
        "  metric_results = None\n",
        "  if metric is not None:\n",
        "    metric_results = metric(preds,yb)\n",
        "\n",
        "  return loss.item(),len(xb),metric_results"
      ],
      "metadata": {
        "id": "3fYUF7KI1JCj"
      },
      "execution_count": 263,
      "outputs": []
    },
    {
      "cell_type": "code",
      "source": [
        "def evaluate(model , loss_fn , valid_dl , metric = None):\n",
        "  with torch.no_grad():\n",
        "    results = [loss_batch(model , loss_fn , xb , yb , metric = metric)for xb, yb in valid_dl]\n",
        "    losses , nums , metrics = zip(*results)\n",
        "    total = np.sum(nums)\n",
        "    avg_loss = np.sum(np.multiply(nums,losses)) / total\n",
        "    avg_metric = None\n",
        "    if metric is not None:\n",
        "      avg_metric = np.sum(np.multiply(nums,metrics)) / total\n",
        "    return avg_loss , total , avg_metric"
      ],
      "metadata": {
        "id": "i1ltcwgH2ID5"
      },
      "execution_count": 264,
      "outputs": []
    },
    {
      "cell_type": "code",
      "source": [
        "def accuracy(outputs , labels):\n",
        "  _,preds = torch.max(outputs, dim=1)\n",
        "  return torch.tensor(torch.sum(preds==labels).item() / len(preds))"
      ],
      "metadata": {
        "id": "WHrDr6Y13kb-"
      },
      "execution_count": 265,
      "outputs": []
    },
    {
      "cell_type": "code",
      "source": [
        "val_loss , total , val_accuracy = evaluate(model , loss_fn , val_loader , metric = accuracy)\n",
        "print('Loss:{:.4f},Accuracy:{:.4f}'.format(val_loss,val_accuracy))"
      ],
      "metadata": {
        "colab": {
          "base_uri": "https://localhost:8080/"
        },
        "id": "bVEi9SrM33Sf",
        "outputId": "ba1593d3-b08f-4948-fbb8-d84c92da2bd5"
      },
      "execution_count": 266,
      "outputs": [
        {
          "output_type": "stream",
          "name": "stdout",
          "text": [
            "Loss:2.3153,Accuracy:0.1086\n"
          ]
        }
      ]
    },
    {
      "cell_type": "code",
      "source": [
        "def fit(epochs , model , loss_fn , opt , train_dl , val_dl , metric=None):\n",
        "  for epoch in range(epochs):\n",
        "    for xb , yb in train_dl:\n",
        "      loss = loss_batch(model,loss_fn,xb,yb,opt)\n",
        "      result = evaluate(model , loss_fn , val_dl , metric)\n",
        "      val_loss , total , val_metrics = result\n",
        "\n",
        "      if metric is None:\n",
        "        print('Epoch [{}/{}] , loss = {:.4f}'.format(epoch+1 , epochs , val_loss))\n",
        "      else:\n",
        "        print('Epoch [{}/{}] , loss = {:.4f} , {} : {:.4f}'.format(epoch+1 , epochs , val_loss , metric.__name__,val_metrics))"
      ],
      "metadata": {
        "id": "_6DM1PBC4nyw"
      },
      "execution_count": 267,
      "outputs": []
    },
    {
      "cell_type": "code",
      "source": [
        "model = MnistModel()\n",
        "optimizer = torch.optim.SGD(model.parameters() , lr=0.001)"
      ],
      "metadata": {
        "id": "g9izk3_C8Zlp"
      },
      "execution_count": 268,
      "outputs": []
    },
    {
      "cell_type": "code",
      "source": [
        "# fit(5 , model , F.cross_entropy ,optimizer,train_loader,val_loader,accuracy)"
      ],
      "metadata": {
        "id": "aAtErpCb--Ew"
      },
      "execution_count": 269,
      "outputs": []
    },
    {
      "cell_type": "code",
      "source": [
        "test_dataset= MNIST(root='data/',train=False,transform = transforms.ToTensor())"
      ],
      "metadata": {
        "id": "CWWKLlkh_P3l"
      },
      "execution_count": 270,
      "outputs": []
    },
    {
      "cell_type": "code",
      "source": [
        "img, label = test_dataset[0]\n",
        "plt.imshow(img[0], cmap='gray')\n",
        "print('Shape:', img.shape)\n",
        "print('Label:', label)"
      ],
      "metadata": {
        "colab": {
          "base_uri": "https://localhost:8080/",
          "height": 465
        },
        "id": "KYygHwmrGjOO",
        "outputId": "badca19b-5ccc-489e-9397-5bb5416904f0"
      },
      "execution_count": 271,
      "outputs": [
        {
          "output_type": "stream",
          "name": "stdout",
          "text": [
            "Shape: torch.Size([1, 28, 28])\n",
            "Label: 7\n"
          ]
        },
        {
          "output_type": "display_data",
          "data": {
            "text/plain": [
              "<Figure size 640x480 with 1 Axes>"
            ],
            "image/png": "[encoded data removed]"
          },
          "metadata": {}
        }
      ]
    },
    {
      "cell_type": "code",
      "source": [
        "def predict_image(img, model):\n",
        "    xb = img.unsqueeze(0)\n",
        "    yb = model(xb)\n",
        "    _, preds  = torch.max(yb, dim=1)\n",
        "    return preds[0].item()"
      ],
      "metadata": {
        "id": "5E1a8CHOGysb"
      },
      "execution_count": 272,
      "outputs": []
    },
    {
      "cell_type": "code",
      "source": [
        "img, label = test_dataset[0]\n",
        "plt.imshow(img[0], cmap='gray')\n",
        "print('Label:', label, ', Predicted:', predict_image(img, model))"
      ],
      "metadata": {
        "colab": {
          "base_uri": "https://localhost:8080/",
          "height": 447
        },
        "id": "aVQwDae0HFpe",
        "outputId": "8d3b9aa7-3d04-4e2e-b327-9f2c2380e5af"
      },
      "execution_count": 273,
      "outputs": [
        {
          "output_type": "stream",
          "name": "stdout",
          "text": [
            "Label: 7 , Predicted: 3\n"
          ]
        },
        {
          "output_type": "display_data",
          "data": {
            "text/plain": [
              "<Figure size 640x480 with 1 Axes>"
            ],
            "image/png": "[encoded data removed]"
          },
          "metadata": {}
        }
      ]
    },
    {
      "cell_type": "code",
      "source": [
        "img, label = test_dataset[10]\n",
        "plt.imshow(img[0], cmap='gray')\n",
        "print('Label:', label, ', Predicted:', predict_image(img, model))"
      ],
      "metadata": {
        "colab": {
          "base_uri": "https://localhost:8080/",
          "height": 447
        },
        "id": "59dUKhX1HSAN",
        "outputId": "e91d0cb3-a248-46c1-ecc3-2b18db66e0a1"
      },
      "execution_count": 274,
      "outputs": [
        {
          "output_type": "stream",
          "name": "stdout",
          "text": [
            "Label: 0 , Predicted: 3\n"
          ]
        },
        {
          "output_type": "display_data",
          "data": {
            "text/plain": [
              "<Figure size 640x480 with 1 Axes>"
            ],
            "image/png": "[encoded data removed]"
          },
          "metadata": {}
        }
      ]
    },
    {
      "cell_type": "code",
      "source": [
        "img, label = test_dataset[1839]\n",
        "plt.imshow(img[0], cmap='gray')\n",
        "print('Label:', label, ', Predicted:', predict_image(img, model))"
      ],
      "metadata": {
        "colab": {
          "base_uri": "https://localhost:8080/",
          "height": 447
        },
        "id": "2N0hMs3wHUzC",
        "outputId": "a76ec0f5-5d18-4209-d79b-387dd426790d"
      },
      "execution_count": 275,
      "outputs": [
        {
          "output_type": "stream",
          "name": "stdout",
          "text": [
            "Label: 2 , Predicted: 3\n"
          ]
        },
        {
          "output_type": "display_data",
          "data": {
            "text/plain": [
              "<Figure size 640x480 with 1 Axes>"
            ],
            "image/png": "[encoded data removed]"
          },
          "metadata": {}
        }
      ]
    },
    {
      "cell_type": "code",
      "source": [
        "test_loader = DataLoader(test_dataset, batch_size=256)\n",
        "result = evaluate(model,F.cross_entropy, test_loader,metric=accuracy)\n",
        "result"
      ],
      "metadata": {
        "colab": {
          "base_uri": "https://localhost:8080/"
        },
        "id": "uDC4RwWYHY6e",
        "outputId": "d4560248-db71-4a65-e6c1-4cfaa00a382d"
      },
      "execution_count": 276,
      "outputs": [
        {
          "output_type": "execute_result",
          "data": {
            "text/plain": [
              "(np.float64(2.285158803939819), np.int64(10000), np.float64(0.1589))"
            ]
          },
          "metadata": {},
          "execution_count": 276
        }
      ]
    },
    {
      "cell_type": "code",
      "source": [
        "torch.save(model.state_dict(), 'mnist-logistic.pth')\n",
        "model.state_dict()"
      ],
      "metadata": {
        "colab": {
          "base_uri": "https://localhost:8080/"
        },
        "id": "eqlrMV_3HeYo",
        "outputId": "5195a90a-61dd-4288-ea9a-423e0e913fa3"
      },
      "execution_count": 277,
      "outputs": [
        {
          "output_type": "execute_result",
          "data": {
            "text/plain": [
              "OrderedDict([('linear.weight',\n",
              "              tensor([[ 0.0185, -0.0064, -0.0275,  ..., -0.0058,  0.0284,  0.0186],\n",
              "                      [ 0.0010, -0.0036,  0.0297,  ..., -0.0344,  0.0242,  0.0170],\n",
              "                      [-0.0086,  0.0016, -0.0248,  ..., -0.0180,  0.0041,  0.0232],\n",
              "                      ...,\n",
              "                      [-0.0291, -0.0072, -0.0269,  ..., -0.0010,  0.0199, -0.0160],\n",
              "                      [-0.0278, -0.0227, -0.0021,  ..., -0.0103, -0.0149, -0.0291],\n",
              "                      [ 0.0155,  0.0024, -0.0256,  ...,  0.0110, -0.0258,  0.0262]])),\n",
              "             ('linear.bias',\n",
              "              tensor([-0.0214,  0.0032,  0.0176, -0.0096,  0.0303,  0.0219, -0.0067, -0.0056,\n",
              "                       0.0026, -0.0272]))])"
            ]
          },
          "metadata": {},
          "execution_count": 277
        }
      ]
    },
    {
      "cell_type": "code",
      "source": [
        "model2 = MnistModel()\n",
        "model2.load_state_dict(torch.load('mnist-logistic.pth'))\n",
        "model2.state_dict()"
      ],
      "metadata": {
        "colab": {
          "base_uri": "https://localhost:8080/"
        },
        "id": "8kWG_lHGJFr9",
        "outputId": "390150a0-2824-4741-9d2b-474db2850b84"
      },
      "execution_count": 278,
      "outputs": [
        {
          "output_type": "execute_result",
          "data": {
            "text/plain": [
              "OrderedDict([('linear.weight',\n",
              "              tensor([[ 0.0185, -0.0064, -0.0275,  ..., -0.0058,  0.0284,  0.0186],\n",
              "                      [ 0.0010, -0.0036,  0.0297,  ..., -0.0344,  0.0242,  0.0170],\n",
              "                      [-0.0086,  0.0016, -0.0248,  ..., -0.0180,  0.0041,  0.0232],\n",
              "                      ...,\n",
              "                      [-0.0291, -0.0072, -0.0269,  ..., -0.0010,  0.0199, -0.0160],\n",
              "                      [-0.0278, -0.0227, -0.0021,  ..., -0.0103, -0.0149, -0.0291],\n",
              "                      [ 0.0155,  0.0024, -0.0256,  ...,  0.0110, -0.0258,  0.0262]])),\n",
              "             ('linear.bias',\n",
              "              tensor([-0.0214,  0.0032,  0.0176, -0.0096,  0.0303,  0.0219, -0.0067, -0.0056,\n",
              "                       0.0026, -0.0272]))])"
            ]
          },
          "metadata": {},
          "execution_count": 278
        }
      ]
    },
    {
      "cell_type": "code",
      "source": [
        "test_loader = DataLoader(test_dataset, batch_size=256)\n",
        "result = evaluate(model2, F.cross_entropy,test_loader, metric=accuracy)\n",
        "result"
      ],
      "metadata": {
        "colab": {
          "base_uri": "https://localhost:8080/"
        },
        "id": "wkqcG661JLE9",
        "outputId": "d9b816b2-db3c-4af4-9ba5-be598b896fb8"
      },
      "execution_count": 279,
      "outputs": [
        {
          "output_type": "execute_result",
          "data": {
            "text/plain": [
              "(np.float64(2.285158803939819), np.int64(10000), np.float64(0.1589))"
            ]
          },
          "metadata": {},
          "execution_count": 279
        }
      ]
    },
    {
      "cell_type": "markdown",
      "source": [
        "# **TRAINING DEEP NEURAL NETWORK USING GPU**"
      ],
      "metadata": {
        "id": "u-k6FuRRkdgW"
      }
    },
    {
      "cell_type": "code",
      "source": [
        "import numpy as np\n",
        "import torch\n",
        "import torchvision\n",
        "import matplotlib.pyplot as plt\n",
        "%matplotlib inline\n",
        "from torchvision.datasets import MNIST\n",
        "from torchvision.transforms import ToTensor\n",
        "from torch.utils.data.sampler import SubsetRandomSampler\n",
        "from torch.utils.data import DataLoader"
      ],
      "metadata": {
        "id": "DiXMv3F3JSgV"
      },
      "execution_count": 280,
      "outputs": []
    },
    {
      "cell_type": "code",
      "source": [
        "dataset = MNIST(root='data/' , download=True,transform = transforms.ToTensor())"
      ],
      "metadata": {
        "id": "24xK6bk_k_-C"
      },
      "execution_count": 281,
      "outputs": []
    },
    {
      "cell_type": "code",
      "source": [
        "len(dataset)"
      ],
      "metadata": {
        "colab": {
          "base_uri": "https://localhost:8080/"
        },
        "id": "Hw1U3YHyl0RO",
        "outputId": "a9012825-f9d9-4661-f3a2-367f8fcff966"
      },
      "execution_count": 282,
      "outputs": [
        {
          "output_type": "execute_result",
          "data": {
            "text/plain": [
              "60000"
            ]
          },
          "metadata": {},
          "execution_count": 282
        }
      ]
    },
    {
      "cell_type": "code",
      "source": [
        "img , label = dataset[0]\n",
        "plt.imshow(img[0] , cmap='gray')\n",
        "print(img.shape) , print(label)"
      ],
      "metadata": {
        "colab": {
          "base_uri": "https://localhost:8080/",
          "height": 482
        },
        "id": "II4yWWudl1y0",
        "outputId": "985f0e86-811c-4e7e-b087-335df6e77637"
      },
      "execution_count": 283,
      "outputs": [
        {
          "output_type": "stream",
          "name": "stdout",
          "text": [
            "torch.Size([1, 28, 28])\n",
            "5\n"
          ]
        },
        {
          "output_type": "execute_result",
          "data": {
            "text/plain": [
              "(None, None)"
            ]
          },
          "metadata": {},
          "execution_count": 283
        },
        {
          "output_type": "display_data",
          "data": {
            "text/plain": [
              "<Figure size 640x480 with 1 Axes>"
            ],
            "image/png": "[encoded data removed]"
          },
          "metadata": {}
        }
      ]
    },
    {
      "cell_type": "code",
      "source": [
        "def split_indices(n,val_pct):\n",
        "  n_val = int(n*val_pct)\n",
        "  idxs = np.random.permutation(n)\n",
        "  return idxs[n_val:] , idxs[:n_val]"
      ],
      "metadata": {
        "id": "IrLI1lM4lR5Z"
      },
      "execution_count": 284,
      "outputs": []
    },
    {
      "cell_type": "code",
      "source": [
        "train_indices , val_indices = split_indices(len(dataset),val_pct=0.2)\n",
        "print(len(train_indices)) , print(len(val_indices))"
      ],
      "metadata": {
        "colab": {
          "base_uri": "https://localhost:8080/"
        },
        "id": "roYxaBHjlqRX",
        "outputId": "4623ee88-12d6-4956-eff0-d63ebf4f646d"
      },
      "execution_count": 285,
      "outputs": [
        {
          "output_type": "stream",
          "name": "stdout",
          "text": [
            "48000\n",
            "12000\n"
          ]
        },
        {
          "output_type": "execute_result",
          "data": {
            "text/plain": [
              "(None, None)"
            ]
          },
          "metadata": {},
          "execution_count": 285
        }
      ]
    },
    {
      "cell_type": "code",
      "source": [
        "batch_size = 100\n",
        "\n",
        "train_sampler = SubsetRandomSampler(train_indices)\n",
        "train_loader = DataLoader(dataset , batch_size=batch_size , sampler = train_sampler)\n",
        "\n",
        "val_sampler = SubsetRandomSampler(val_indices)\n",
        "val_loader = DataLoader(dataset , batch_size=batch_size , sampler = val_sampler)"
      ],
      "metadata": {
        "id": "F1zc3PWIm04U"
      },
      "execution_count": 286,
      "outputs": []
    },
    {
      "cell_type": "code",
      "source": [
        "for images, labels in train_loader:\n",
        "    print(images.shape)  # torch.Size([100, 1, 28, 28])\n",
        "    images_flat = images.view(images.size(0), -1)\n",
        "    print(images_flat.shape)  # torch.Size([100, 784])\n",
        "    break"
      ],
      "metadata": {
        "colab": {
          "base_uri": "https://localhost:8080/"
        },
        "id": "iXYyuuiM76EN",
        "outputId": "4c09cbff-30a0-4185-892c-baa356a44aa4"
      },
      "execution_count": 287,
      "outputs": [
        {
          "output_type": "stream",
          "name": "stdout",
          "text": [
            "torch.Size([100, 1, 28, 28])\n",
            "torch.Size([100, 784])\n"
          ]
        }
      ]
    },
    {
      "cell_type": "code",
      "source": [
        "import torch.nn as nn\n",
        "import torch.nn.functional as F"
      ],
      "metadata": {
        "id": "Fo9GWxHjnR7F"
      },
      "execution_count": 288,
      "outputs": []
    },
    {
      "cell_type": "code",
      "source": [
        "class MnistModel(nn.Module):\n",
        "    def __init__(self,in_size,hidden_size,out_size):\n",
        "      super().__init__()\n",
        "      self.linear1 = nn.Linear(in_size,hidden_size)\n",
        "      self.linear2 = nn.Linear(hidden_size,out_size)\n",
        "\n",
        "    def forward(self,xb):\n",
        "      xb = xb.view(xb.size(0),-1)\n",
        "      out = self.linear1(xb)\n",
        "      out = F.relu(out)\n",
        "      out = self.linear2(out)\n",
        "      return out"
      ],
      "metadata": {
        "id": "Lguiedy3qeoW"
      },
      "execution_count": 289,
      "outputs": []
    },
    {
      "cell_type": "code",
      "source": [
        "input_size = 28*28\n",
        "num_classes = 10\n",
        "\n",
        "model = MnistModel(in_size=input_size,hidden_size=32,out_size=10)"
      ],
      "metadata": {
        "id": "esMTmcOKsImj"
      },
      "execution_count": 290,
      "outputs": []
    },
    {
      "cell_type": "code",
      "source": [
        "for t in model.parameters():\n",
        "  print(t.shape)"
      ],
      "metadata": {
        "colab": {
          "base_uri": "https://localhost:8080/"
        },
        "id": "OKi_j3p-44-h",
        "outputId": "d44cce13-810e-459b-bdb4-b7385cb3adb2"
      },
      "execution_count": 291,
      "outputs": [
        {
          "output_type": "stream",
          "name": "stdout",
          "text": [
            "torch.Size([32, 784])\n",
            "torch.Size([32])\n",
            "torch.Size([10, 32])\n",
            "torch.Size([10])\n"
          ]
        }
      ]
    },
    {
      "cell_type": "code",
      "source": [
        "for images , labels in train_loader:\n",
        "  outputs = model(images)\n",
        "  loss = F.cross_entropy(outputs,labels)\n",
        "  print('Loss:',loss.item())\n",
        "  break\n",
        "\n",
        "print(outputs.shape)\n",
        "print(outputs[:2])"
      ],
      "metadata": {
        "colab": {
          "base_uri": "https://localhost:8080/"
        },
        "id": "0kF7nGw31CiM",
        "outputId": "a61b177f-73c8-4fcf-c81f-3c2055dab4db"
      },
      "execution_count": 292,
      "outputs": [
        {
          "output_type": "stream",
          "name": "stdout",
          "text": [
            "Loss: 2.3226468563079834\n",
            "torch.Size([100, 10])\n",
            "tensor([[ 0.0980,  0.1552, -0.1393,  0.0902, -0.0743,  0.0671,  0.0359,  0.1079,\n",
            "          0.0610, -0.0030],\n",
            "        [ 0.1717,  0.1968, -0.1396,  0.0532, -0.1406,  0.0315,  0.0306,  0.1334,\n",
            "          0.1015,  0.0429]], grad_fn=<SliceBackward0>)\n"
          ]
        }
      ]
    },
    {
      "cell_type": "code",
      "source": [
        "torch.cuda.is_available()"
      ],
      "metadata": {
        "colab": {
          "base_uri": "https://localhost:8080/"
        },
        "id": "KsCJ799Y4yr7",
        "outputId": "43385e84-e342-43e2-adb9-e0926def3ed2"
      },
      "execution_count": 293,
      "outputs": [
        {
          "output_type": "execute_result",
          "data": {
            "text/plain": [
              "False"
            ]
          },
          "metadata": {},
          "execution_count": 293
        }
      ]
    },
    {
      "cell_type": "code",
      "source": [
        "def get_default_device():\n",
        "  if torch.cuda.is_available():\n",
        "    return torch.device('cuda')\n",
        "  else:\n",
        "    return torch.device('cpu')"
      ],
      "metadata": {
        "id": "qiWgKphlCCvz"
      },
      "execution_count": 294,
      "outputs": []
    },
    {
      "cell_type": "code",
      "source": [
        "device = get_default_device()\n",
        "device"
      ],
      "metadata": {
        "colab": {
          "base_uri": "https://localhost:8080/"
        },
        "id": "iLMEHJxcCenV",
        "outputId": "d07c5834-2257-4e31-9f78-a8e89334772e"
      },
      "execution_count": 295,
      "outputs": [
        {
          "output_type": "execute_result",
          "data": {
            "text/plain": [
              "device(type='cpu')"
            ]
          },
          "metadata": {},
          "execution_count": 295
        }
      ]
    },
    {
      "cell_type": "code",
      "source": [
        "def to_device(data,device):\n",
        "  if isinstance(data,(list,tuple)):\n",
        "    return [to_device(x,device) for x in data]\n",
        "  return data.to(device,non_blocking=True)"
      ],
      "metadata": {
        "id": "_i3ESvhFCh-Q"
      },
      "execution_count": 296,
      "outputs": []
    },
    {
      "cell_type": "code",
      "source": [
        "for images , labels in train_loader:\n",
        "  print(images.shape)\n",
        "  images = to_device(images,device)\n",
        "  print(images.device)\n",
        "  break"
      ],
      "metadata": {
        "colab": {
          "base_uri": "https://localhost:8080/"
        },
        "id": "y7cQ6_f9DHJa",
        "outputId": "a1b30773-17b5-47db-ccd9-8a2c62a93933"
      },
      "execution_count": 297,
      "outputs": [
        {
          "output_type": "stream",
          "name": "stdout",
          "text": [
            "torch.Size([100, 1, 28, 28])\n",
            "cpu\n"
          ]
        }
      ]
    },
    {
      "cell_type": "code",
      "source": [
        "class DeviceDataLoader():\n",
        "  def __init__(self,dl,device):\n",
        "    self.dl = dl\n",
        "    self.device = device\n",
        "\n",
        "  def __iter__(self):\n",
        "    for b in self.dl:\n",
        "      yield to_device(b,self.device)\n",
        "\n",
        "  def __len__(self):\n",
        "    return len(self.dl)"
      ],
      "metadata": {
        "id": "491B3A21DTq5"
      },
      "execution_count": 298,
      "outputs": []
    },
    {
      "cell_type": "code",
      "source": [
        "train_dl = DeviceDataLoader(train_loader,device)\n",
        "val_dl = DeviceDataLoader(val_loader,device)"
      ],
      "metadata": {
        "id": "5WEfNup3FHTm"
      },
      "execution_count": 299,
      "outputs": []
    },
    {
      "cell_type": "code",
      "source": [
        "for xb , yb in train_dl:\n",
        "  print(xb.device)\n",
        "  print(yb)\n",
        "  break"
      ],
      "metadata": {
        "colab": {
          "base_uri": "https://localhost:8080/"
        },
        "id": "Sd81X7v9Fp5D",
        "outputId": "a6251725-d49b-4922-fb93-7008b94c7470"
      },
      "execution_count": 300,
      "outputs": [
        {
          "output_type": "stream",
          "name": "stdout",
          "text": [
            "cpu\n",
            "tensor([2, 3, 8, 7, 0, 8, 0, 3, 1, 0, 7, 1, 5, 2, 6, 5, 9, 0, 7, 2, 0, 3, 9, 2,\n",
            "        6, 3, 1, 4, 6, 2, 3, 8, 4, 7, 0, 8, 7, 1, 9, 8, 6, 0, 1, 0, 3, 8, 8, 8,\n",
            "        7, 1, 7, 6, 2, 8, 6, 4, 3, 3, 7, 4, 6, 3, 0, 8, 3, 9, 2, 1, 7, 1, 0, 4,\n",
            "        0, 5, 6, 8, 3, 5, 0, 1, 8, 5, 4, 3, 1, 2, 1, 9, 4, 1, 6, 9, 1, 5, 4, 8,\n",
            "        3, 9, 6, 2])\n"
          ]
        }
      ]
    },
    {
      "cell_type": "code",
      "source": [
        "def loss_batch(model , loss_fn , xb , yb , opt=None , metric=None):\n",
        "  preds = model(xb)\n",
        "  loss = loss_fn(preds,yb)\n",
        "\n",
        "  if opt is not None:\n",
        "    loss.backward()\n",
        "    opt.step()\n",
        "    opt.zero_grad()\n",
        "\n",
        "  metric_results = None\n",
        "  if metric is not None:\n",
        "    metric_results = metric(preds,yb)\n",
        "\n",
        "  return loss.item() , len(xb) , metric_results"
      ],
      "metadata": {
        "id": "oEnN2W7kFzR8"
      },
      "execution_count": 301,
      "outputs": []
    },
    {
      "cell_type": "code",
      "source": [
        "def evaluate(model , loss_fn , val_dl , metric=None):\n",
        "  with torch.no_grad():\n",
        "    results = [loss_batch(model , loss_fn , xb , yb , metric = metric) for xb , yb in val_dl]\n",
        "    losses , nums , metrics = zip(*results)\n",
        "    total = np.sum(nums)\n",
        "    avg_loss = np.sum(np.multiply(nums,losses)) / total\n",
        "    avg_metric = None\n",
        "    if metric is not None:\n",
        "      avg_metric = np.sum(np.multiply(nums,metrics)) / total\n",
        "    return avg_loss , total , avg_metric"
      ],
      "metadata": {
        "id": "uR-lwt6gHIle"
      },
      "execution_count": 302,
      "outputs": []
    },
    {
      "cell_type": "code",
      "source": [
        "def fit(epochs , lr , model , loss_fn , train_dl , val_dl , opt = None , metric=None):\n",
        "  losses , metrics = [] , []\n",
        "  if opt is None:\n",
        "    opt = torch.optim.SGD(model.parameters() , lr=lr)\n",
        "\n",
        "  for epoch in range(epochs):\n",
        "    for xb , yb in train_dl:\n",
        "      loss,_,_ = loss_batch(model , loss_fn , xb , yb , opt)\n",
        "\n",
        "    result = evaluate(model , loss_fn , val_dl , metric)\n",
        "    val_loss , total , val_metrics = result\n",
        "    losses.append(loss)\n",
        "    metrics.append(val_metrics)\n",
        "\n",
        "    if metric is None:\n",
        "      print('Epoch [{}/{}] , loss = {:.4f}'.format(epoch+1 , epochs , val_loss))\n",
        "    else:\n",
        "      print('Epoch [{}/{}] , loss = {:.4f} , {} : {:.4f}'.format(epoch+1 , epochs , val_loss , metric.__name__,val_metrics))\n",
        "\n",
        "  return losses , metrics"
      ],
      "metadata": {
        "id": "lTwiwQITITbD"
      },
      "execution_count": 303,
      "outputs": []
    },
    {
      "cell_type": "code",
      "source": [
        "def accuracy(outputs , labels):\n",
        "  _,preds = torch.max(outputs,dim=1)\n",
        "  return torch.sum(preds == labels).item() / len(preds)"
      ],
      "metadata": {
        "id": "8YClkw53JQ0k"
      },
      "execution_count": 304,
      "outputs": []
    },
    {
      "cell_type": "code",
      "source": [
        "model = MnistModel(input_size , hidden_size = 32 , out_size = num_classes)\n",
        "to_device(model , device)"
      ],
      "metadata": {
        "colab": {
          "base_uri": "https://localhost:8080/"
        },
        "id": "fMc5NtbrLQHl",
        "outputId": "19aee78a-b491-46c7-cbce-00042f666b7f"
      },
      "execution_count": 305,
      "outputs": [
        {
          "output_type": "execute_result",
          "data": {
            "text/plain": [
              "MnistModel(\n",
              "  (linear1): Linear(in_features=784, out_features=32, bias=True)\n",
              "  (linear2): Linear(in_features=32, out_features=10, bias=True)\n",
              ")"
            ]
          },
          "metadata": {},
          "execution_count": 305
        }
      ]
    },
    {
      "cell_type": "code",
      "source": [
        "val_loss , total , val_accuracy = evaluate(model , F.cross_entropy , val_dl , metric = accuracy)\n",
        "print('Loss: {:.4f} , Accuracy : {:.4f}'.format(val_loss , val_accuracy))"
      ],
      "metadata": {
        "colab": {
          "base_uri": "https://localhost:8080/"
        },
        "id": "o5WSgrODL1Vr",
        "outputId": "13802e0a-6b14-4404-e59e-0f70f948a089"
      },
      "execution_count": 306,
      "outputs": [
        {
          "output_type": "stream",
          "name": "stdout",
          "text": [
            "Loss: 2.3091 , Accuracy : 0.0548\n"
          ]
        }
      ]
    },
    {
      "cell_type": "code",
      "source": [
        "losses1 , metrics1 = fit(5 , 0.5 , model , F.cross_entropy , train_dl , val_dl , metric = accuracy )"
      ],
      "metadata": {
        "colab": {
          "base_uri": "https://localhost:8080/"
        },
        "id": "zRKzmZLeMREy",
        "outputId": "69ad5d36-17e8-4553-9ecc-280ece8df5b3"
      },
      "execution_count": 307,
      "outputs": [
        {
          "output_type": "stream",
          "name": "stdout",
          "text": [
            "Epoch [1/5] , loss = 0.2341 , accuracy : 0.9313\n",
            "Epoch [2/5] , loss = 0.1775 , accuracy : 0.9475\n",
            "Epoch [3/5] , loss = 0.1535 , accuracy : 0.9550\n",
            "Epoch [4/5] , loss = 0.1742 , accuracy : 0.9490\n",
            "Epoch [5/5] , loss = 0.1433 , accuracy : 0.9579\n"
          ]
        }
      ]
    },
    {
      "cell_type": "code",
      "source": [
        "losses2 , metrics2 = fit(10 , 0.1 , model , F.cross_entropy , train_dl , val_dl , metric = accuracy )"
      ],
      "metadata": {
        "colab": {
          "base_uri": "https://localhost:8080/"
        },
        "id": "KFLzCH-pMn19",
        "outputId": "6d25cfb7-1ff8-4e44-83b3-671eccd2aa9e"
      },
      "execution_count": 308,
      "outputs": [
        {
          "output_type": "stream",
          "name": "stdout",
          "text": [
            "Epoch [1/10] , loss = 0.1284 , accuracy : 0.9631\n",
            "Epoch [2/10] , loss = 0.1278 , accuracy : 0.9635\n",
            "Epoch [3/10] , loss = 0.1249 , accuracy : 0.9643\n",
            "Epoch [4/10] , loss = 0.1267 , accuracy : 0.9644\n",
            "Epoch [5/10] , loss = 0.1236 , accuracy : 0.9644\n",
            "Epoch [6/10] , loss = 0.1234 , accuracy : 0.9643\n",
            "Epoch [7/10] , loss = 0.1234 , accuracy : 0.9649\n",
            "Epoch [8/10] , loss = 0.1223 , accuracy : 0.9651\n",
            "Epoch [9/10] , loss = 0.1239 , accuracy : 0.9639\n",
            "Epoch [10/10] , loss = 0.1224 , accuracy : 0.9648\n"
          ]
        }
      ]
    },
    {
      "cell_type": "code",
      "source": [
        "accuracies = [val_accuracy] + metrics1 + metrics2\n",
        "plt.plot(accuracies , '-x')\n",
        "plt.xlabel('epoch')\n",
        "plt.ylabel('accuracy')\n",
        "plt.title('Accuracy vs No. of epochs')"
      ],
      "metadata": {
        "colab": {
          "base_uri": "https://localhost:8080/",
          "height": 489
        },
        "id": "BFsuvnWgNLTz",
        "outputId": "6a482cd7-2c29-470d-b936-95ec25c41e08"
      },
      "execution_count": 309,
      "outputs": [
        {
          "output_type": "execute_result",
          "data": {
            "text/plain": [
              "Text(0.5, 1.0, 'Accuracy vs No. of epochs')"
            ]
          },
          "metadata": {},
          "execution_count": 309
        },
        {
          "output_type": "display_data",
          "data": {
            "text/plain": [
              "<Figure size 640x480 with 1 Axes>"
            ],
            "image/png": "[encoded data removed]"
          },
          "metadata": {}
        }
      ]
    },
    {
      "cell_type": "markdown",
      "source": [
        "# **IMAGE CLASSIFICATION USING CONVOLUTION NEURAL NETWORKS (CNNs)**"
      ],
      "metadata": {
        "id": "xAgrcEulxlR_"
      }
    },
    {
      "cell_type": "code",
      "source": [
        "import os\n",
        "import torch\n",
        "import torchvision\n",
        "import tarfile\n",
        "from torchvision.datasets.utils import download_url\n",
        "import torchvision.transforms as transforms\n",
        "from torchvision.datasets import CIFAR10"
      ],
      "metadata": {
        "id": "CPHRdf1TOJcw"
      },
      "execution_count": 310,
      "outputs": []
    },
    {
      "cell_type": "code",
      "source": [
        "# dataset_url = \"https://www.cs.toronto.edu/~kriz/cifar-10-python.tar.gz\"\n",
        "# download_url(dataset_url, '.')\n",
        "# with tarfile.open('./cifar-10-python.tar.gz' , 'r:gz') as tar:\n",
        "#   tar.extractall(path='./data')"
      ],
      "metadata": {
        "id": "beB0mwM8yRng"
      },
      "execution_count": 311,
      "outputs": []
    },
    {
      "cell_type": "code",
      "source": [
        "# data_dir = './data/cifar-10-batches-py'\n",
        "\n",
        "# print(os.listdir(data_dir))\n",
        "# classes = os.listdir(data_dir + \"/train\")\n",
        "# print(classes)"
      ],
      "metadata": {
        "id": "8iFVBdgzz2GF"
      },
      "execution_count": 312,
      "outputs": []
    },
    {
      "cell_type": "code",
      "source": [
        "simple_model = nn.Sequential(\n",
        "    nn.Conv2d(1,8,kernel_size=3,stride=1,padding=1),\n",
        "    nn.MaxPool2d(2,2)\n",
        ")"
      ],
      "metadata": {
        "id": "0GU2ePML1znB"
      },
      "execution_count": 313,
      "outputs": []
    },
    {
      "cell_type": "code",
      "source": [
        "for images , labels in train_dl:\n",
        "  print('images.shape: ',images.shape)\n",
        "  out = simple_model(images)\n",
        "  print('out.shape:',out.shape)\n",
        "  break"
      ],
      "metadata": {
        "colab": {
          "base_uri": "https://localhost:8080/"
        },
        "id": "4oIn1Qbx6dp-",
        "outputId": "ec0c0be7-1202-41cf-f4d0-3bdfa10c983a"
      },
      "execution_count": 314,
      "outputs": [
        {
          "output_type": "stream",
          "name": "stdout",
          "text": [
            "images.shape:  torch.Size([100, 1, 28, 28])\n",
            "out.shape: torch.Size([100, 8, 14, 14])\n"
          ]
        }
      ]
    },
    {
      "cell_type": "code",
      "source": [
        "model = nn.Sequential(\n",
        "    nn.Conv2d(1, 16, kernel_size=3, stride=1, padding=1), # → (16, 28, 28)\n",
        "    nn.ReLU(),\n",
        "    nn.MaxPool2d(2, 2),                                   # → (16, 14, 14)\n",
        "\n",
        "    nn.Conv2d(16, 32, kernel_size=3, stride=1, padding=1),# → (32, 14, 14)\n",
        "    nn.ReLU(),\n",
        "    nn.MaxPool2d(2, 2),                                   # → (32, 7, 7)\n",
        "\n",
        "    nn.Flatten(),\n",
        "    nn.Linear(32 * 7 * 7, 128),\n",
        ")"
      ],
      "metadata": {
        "id": "iMsrIwWK97pq"
      },
      "execution_count": 315,
      "outputs": []
    },
    {
      "cell_type": "code",
      "source": [
        "model = nn.Sequential(\n",
        "    nn.Conv2d(1, 16, kernel_size=3, stride=1, padding=1), # → (16, 28, 28)\n",
        "    nn.ReLU(),\n",
        "    nn.MaxPool2d(2, 2),                                   # → (16, 14, 14)\n",
        "\n",
        "    nn.Conv2d(16, 16, kernel_size=3, stride=1, padding=1),# → (32, 14, 14)\n",
        "    nn.ReLU(),\n",
        "    nn.MaxPool2d(2, 2),                                   # → (32, 7, 7)\n",
        "\n",
        "    nn.Flatten(),\n",
        "    nn.Linear(16 * 7 * 7, 10),\n",
        ")"
      ],
      "metadata": {
        "id": "fLNLh15_BH9_"
      },
      "execution_count": 316,
      "outputs": []
    },
    {
      "cell_type": "code",
      "source": [
        "for images , labels in train_dl:\n",
        "  print('images.shape: ',images.shape)\n",
        "  out = model(images)\n",
        "  print('out.shape:',out.shape)\n",
        "  print('out[0]:',out[0])\n",
        "  break"
      ],
      "metadata": {
        "colab": {
          "base_uri": "https://localhost:8080/"
        },
        "id": "stBv7_ka_R-3",
        "outputId": "4f2fcfde-2068-48a8-e568-c0c442b41299"
      },
      "execution_count": 317,
      "outputs": [
        {
          "output_type": "stream",
          "name": "stdout",
          "text": [
            "images.shape:  torch.Size([100, 1, 28, 28])\n",
            "out.shape: torch.Size([100, 10])\n",
            "out[0]: tensor([ 0.0143,  0.0295, -0.0428,  0.0398, -0.0522, -0.0652,  0.0934, -0.1816,\n",
            "         0.0403,  0.0218], grad_fn=<SelectBackward0>)\n"
          ]
        }
      ]
    },
    {
      "cell_type": "code",
      "source": [
        "probs = F.softmax(out[0], dim=0)\n",
        "\n",
        "torch.sum(probs) , probs\n",
        "torch.max(probs)"
      ],
      "metadata": {
        "colab": {
          "base_uri": "https://localhost:8080/"
        },
        "id": "z-1QqfDrAF28",
        "outputId": "1fee2e3a-f3de-46bc-dedd-6f1cb301fc77"
      },
      "execution_count": 318,
      "outputs": [
        {
          "output_type": "execute_result",
          "data": {
            "text/plain": [
              "tensor(0.1106, grad_fn=<MaxBackward1>)"
            ]
          },
          "metadata": {},
          "execution_count": 318
        }
      ]
    },
    {
      "cell_type": "code",
      "source": [
        "def get_default_device():\n",
        "  if torch.cuda.is_available():\n",
        "    print('GPU')\n",
        "  else:\n",
        "    print('CPU')\n",
        "\n",
        "def to_device(data , device):\n",
        "  if isinstance(data , (list,tuple)):\n",
        "    return [to_device(x,device) for x in data]\n",
        "  return data.to(device , non_blocking=True)\n",
        "\n",
        "class DeviceDataLoader():\n",
        "  def __init__(self,dl,device):\n",
        "    self.dl = dl\n",
        "    self.device = device\n",
        "\n",
        "  def __iter__(self):\n",
        "    for b in self.dl:\n",
        "      yield to_device(b,self.device)\n",
        "\n",
        "  def __len__(self):\n",
        "    return len(self.dl)"
      ],
      "metadata": {
        "id": "gMMAEOZGBaMH"
      },
      "execution_count": 319,
      "outputs": []
    },
    {
      "cell_type": "code",
      "source": [
        "device = get_default_device()\n",
        "device"
      ],
      "metadata": {
        "colab": {
          "base_uri": "https://localhost:8080/"
        },
        "id": "vFvu32fMCueX",
        "outputId": "d0fc2f21-c927-4d5b-b2d5-2bdf79bbb939"
      },
      "execution_count": 320,
      "outputs": [
        {
          "output_type": "stream",
          "name": "stdout",
          "text": [
            "CPU\n"
          ]
        }
      ]
    },
    {
      "cell_type": "code",
      "source": [
        "train_dl = DeviceDataLoader(train_dl,device)\n",
        "valid_dl = DeviceDataLoader(val_dl , device)\n",
        "to_device(model , device)"
      ],
      "metadata": {
        "colab": {
          "base_uri": "https://localhost:8080/"
        },
        "id": "c62PbwASDQ3b",
        "outputId": "28fbf3ea-e25f-4a60-f6b7-aa35f798700c"
      },
      "execution_count": 321,
      "outputs": [
        {
          "output_type": "execute_result",
          "data": {
            "text/plain": [
              "Sequential(\n",
              "  (0): Conv2d(1, 16, kernel_size=(3, 3), stride=(1, 1), padding=(1, 1))\n",
              "  (1): ReLU()\n",
              "  (2): MaxPool2d(kernel_size=2, stride=2, padding=0, dilation=1, ceil_mode=False)\n",
              "  (3): Conv2d(16, 16, kernel_size=(3, 3), stride=(1, 1), padding=(1, 1))\n",
              "  (4): ReLU()\n",
              "  (5): MaxPool2d(kernel_size=2, stride=2, padding=0, dilation=1, ceil_mode=False)\n",
              "  (6): Flatten(start_dim=1, end_dim=-1)\n",
              "  (7): Linear(in_features=784, out_features=10, bias=True)\n",
              ")"
            ]
          },
          "metadata": {},
          "execution_count": 321
        }
      ]
    },
    {
      "cell_type": "code",
      "source": [],
      "metadata": {
        "id": "C35zDDn8Dhn0"
      },
      "execution_count": null,
      "outputs": []
    }
  ]
}