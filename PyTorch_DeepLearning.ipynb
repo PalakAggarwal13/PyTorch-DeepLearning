{
  "nbformat": 4,
  "nbformat_minor": 0,
  "metadata": {
    "colab": {
      "provenance": [],
      "authorship_tag": "ABX9TyOOIl2uIT5lo53eqi5jIHXU",
      "include_colab_link": true
    },
    "kernelspec": {
      "name": "python3",
      "display_name": "Python 3"
    },
    "language_info": {
      "name": "python"
    }
  },
  "cells": [
    {
      "cell_type": "markdown",
      "metadata": {
        "id": "view-in-github",
        "colab_type": "text"
      },
      "source": [
        "<a href=\"https://colab.research.google.com/github/PalakAggarwal13/PyTorch-DeepLearning/blob/main/PyTorch_DeepLearning.ipynb\" target=\"_parent\"><img src=\"https://colab.research.google.com/assets/colab-badge.svg\" alt=\"Open In Colab\"/></a>"
      ]
    },
    {
      "cell_type": "code",
      "execution_count": 1,
      "metadata": {
        "colab": {
          "base_uri": "https://localhost:8080/"
        },
        "id": "FFfL1fytd3F0",
        "outputId": "08824c5e-0d91-4852-a8ec-3ca6efc1ae86"
      },
      "outputs": [
        {
          "output_type": "stream",
          "name": "stdout",
          "text": [
            "2.6.0+cu124\n"
          ]
        }
      ],
      "source": [
        "import torch\n",
        "print(torch.__version__)"
      ]
    },
    {
      "cell_type": "code",
      "source": [
        "t1 = torch.tensor(4.)\n",
        "t1"
      ],
      "metadata": {
        "colab": {
          "base_uri": "https://localhost:8080/"
        },
        "id": "gYO5bcxAd35P",
        "outputId": "2652177d-2bb8-407c-d496-a193d4c6a801"
      },
      "execution_count": 2,
      "outputs": [
        {
          "output_type": "execute_result",
          "data": {
            "text/plain": [
              "tensor(4.)"
            ]
          },
          "metadata": {},
          "execution_count": 2
        }
      ]
    },
    {
      "cell_type": "code",
      "source": [
        "t1.dtype"
      ],
      "metadata": {
        "colab": {
          "base_uri": "https://localhost:8080/"
        },
        "id": "ddQQxG3VhGpO",
        "outputId": "9f0c4a40-64bc-4e6c-e801-078beba648f5"
      },
      "execution_count": 3,
      "outputs": [
        {
          "output_type": "execute_result",
          "data": {
            "text/plain": [
              "torch.float32"
            ]
          },
          "metadata": {},
          "execution_count": 3
        }
      ]
    },
    {
      "cell_type": "code",
      "source": [
        "t2 = torch.tensor([1.,2,3,4])\n",
        "t2"
      ],
      "metadata": {
        "colab": {
          "base_uri": "https://localhost:8080/"
        },
        "id": "OvlLNcIHhszW",
        "outputId": "92f7a742-3558-42ed-86e2-185e10a660d7"
      },
      "execution_count": 4,
      "outputs": [
        {
          "output_type": "execute_result",
          "data": {
            "text/plain": [
              "tensor([1., 2., 3., 4.])"
            ]
          },
          "metadata": {},
          "execution_count": 4
        }
      ]
    },
    {
      "cell_type": "code",
      "source": [
        "t2.dtype"
      ],
      "metadata": {
        "colab": {
          "base_uri": "https://localhost:8080/"
        },
        "id": "aaGl-Xvgh-ri",
        "outputId": "6419ebc0-b555-4a01-e6f2-680ea41cede5"
      },
      "execution_count": 5,
      "outputs": [
        {
          "output_type": "execute_result",
          "data": {
            "text/plain": [
              "torch.float32"
            ]
          },
          "metadata": {},
          "execution_count": 5
        }
      ]
    },
    {
      "cell_type": "code",
      "source": [
        "t3 = torch.tensor([[1.,2,3],[4,5,6],[7,8,9]])\n",
        "t3"
      ],
      "metadata": {
        "colab": {
          "base_uri": "https://localhost:8080/"
        },
        "id": "TpNRQmJDiAFo",
        "outputId": "aed295a8-21ff-4f15-9e06-207ba898edc9"
      },
      "execution_count": 6,
      "outputs": [
        {
          "output_type": "execute_result",
          "data": {
            "text/plain": [
              "tensor([[1., 2., 3.],\n",
              "        [4., 5., 6.],\n",
              "        [7., 8., 9.]])"
            ]
          },
          "metadata": {},
          "execution_count": 6
        }
      ]
    },
    {
      "cell_type": "code",
      "source": [
        "t3.dtype"
      ],
      "metadata": {
        "colab": {
          "base_uri": "https://localhost:8080/"
        },
        "id": "6HY4PB5tiM1r",
        "outputId": "e8f61535-fe43-4cf8-97a3-8eb4bd385a46"
      },
      "execution_count": 7,
      "outputs": [
        {
          "output_type": "execute_result",
          "data": {
            "text/plain": [
              "torch.float32"
            ]
          },
          "metadata": {},
          "execution_count": 7
        }
      ]
    },
    {
      "cell_type": "code",
      "source": [
        "t4 = torch.tensor([\n",
        "    [[11.,12,13],\n",
        "     [14,15,16]],\n",
        "    [[17,18,19],\n",
        "     [20,21,22]]\n",
        "])\n",
        "t4"
      ],
      "metadata": {
        "colab": {
          "base_uri": "https://localhost:8080/"
        },
        "id": "kdySmY2IiOWR",
        "outputId": "94f01beb-17ff-457f-9ae1-88f03d9b532d"
      },
      "execution_count": 8,
      "outputs": [
        {
          "output_type": "execute_result",
          "data": {
            "text/plain": [
              "tensor([[[11., 12., 13.],\n",
              "         [14., 15., 16.]],\n",
              "\n",
              "        [[17., 18., 19.],\n",
              "         [20., 21., 22.]]])"
            ]
          },
          "metadata": {},
          "execution_count": 8
        }
      ]
    },
    {
      "cell_type": "code",
      "source": [
        "t4.dtype"
      ],
      "metadata": {
        "colab": {
          "base_uri": "https://localhost:8080/"
        },
        "id": "OXpNNB6nih9E",
        "outputId": "74096ac1-a6ba-45bb-bea6-d9eccdaeb253"
      },
      "execution_count": 9,
      "outputs": [
        {
          "output_type": "execute_result",
          "data": {
            "text/plain": [
              "torch.float32"
            ]
          },
          "metadata": {},
          "execution_count": 9
        }
      ]
    },
    {
      "cell_type": "code",
      "source": [
        "t1.shape"
      ],
      "metadata": {
        "colab": {
          "base_uri": "https://localhost:8080/"
        },
        "id": "dOKOLUgDilKc",
        "outputId": "ebb3b4bf-39c6-4905-ce0f-00d481319c31"
      },
      "execution_count": 10,
      "outputs": [
        {
          "output_type": "execute_result",
          "data": {
            "text/plain": [
              "torch.Size([])"
            ]
          },
          "metadata": {},
          "execution_count": 10
        }
      ]
    },
    {
      "cell_type": "code",
      "source": [
        "t2.shape"
      ],
      "metadata": {
        "colab": {
          "base_uri": "https://localhost:8080/"
        },
        "id": "SkxGuy4hjLLD",
        "outputId": "29b3fae4-1d0c-47d1-a020-ad5c080a755e"
      },
      "execution_count": 11,
      "outputs": [
        {
          "output_type": "execute_result",
          "data": {
            "text/plain": [
              "torch.Size([4])"
            ]
          },
          "metadata": {},
          "execution_count": 11
        }
      ]
    },
    {
      "cell_type": "code",
      "source": [
        "t3.shape"
      ],
      "metadata": {
        "colab": {
          "base_uri": "https://localhost:8080/"
        },
        "id": "9y7tK4aBjMPs",
        "outputId": "62e01c32-71a1-403e-8a8c-9ed488e822da"
      },
      "execution_count": 12,
      "outputs": [
        {
          "output_type": "execute_result",
          "data": {
            "text/plain": [
              "torch.Size([3, 3])"
            ]
          },
          "metadata": {},
          "execution_count": 12
        }
      ]
    },
    {
      "cell_type": "code",
      "source": [
        "t4.shape"
      ],
      "metadata": {
        "colab": {
          "base_uri": "https://localhost:8080/"
        },
        "id": "zcGcO44jjNpG",
        "outputId": "73c7bb13-d54f-4ca5-d64c-fdf63352513b"
      },
      "execution_count": 13,
      "outputs": [
        {
          "output_type": "execute_result",
          "data": {
            "text/plain": [
              "torch.Size([2, 2, 3])"
            ]
          },
          "metadata": {},
          "execution_count": 13
        }
      ]
    },
    {
      "cell_type": "code",
      "source": [
        "x = torch.tensor(3.)\n",
        "w = torch.tensor(4. , requires_grad = True)\n",
        "b = torch.tensor(5. , requires_grad = True)"
      ],
      "metadata": {
        "id": "mzu8O972jOmc"
      },
      "execution_count": 14,
      "outputs": []
    },
    {
      "cell_type": "code",
      "source": [
        "y = w * x + b\n",
        "y"
      ],
      "metadata": {
        "colab": {
          "base_uri": "https://localhost:8080/"
        },
        "id": "5rGJXEfgj5QI",
        "outputId": "2f5e1228-6c14-43e2-9af0-5f92063f2ba1"
      },
      "execution_count": 15,
      "outputs": [
        {
          "output_type": "execute_result",
          "data": {
            "text/plain": [
              "tensor(17., grad_fn=<AddBackward0>)"
            ]
          },
          "metadata": {},
          "execution_count": 15
        }
      ]
    },
    {
      "cell_type": "code",
      "source": [
        "y.backward()"
      ],
      "metadata": {
        "id": "AY1dBqeFj_L7"
      },
      "execution_count": 16,
      "outputs": []
    },
    {
      "cell_type": "code",
      "source": [
        "print(\"dy/dx:\" , x.grad)\n",
        "print(\"dy/dw:\" , w.grad)\n",
        "print(\"dy/db:\" , b.grad)"
      ],
      "metadata": {
        "colab": {
          "base_uri": "https://localhost:8080/"
        },
        "id": "NjfCr0vWkD1I",
        "outputId": "f51aee5e-c973-458e-a6d8-02077e8e2216"
      },
      "execution_count": 17,
      "outputs": [
        {
          "output_type": "stream",
          "name": "stdout",
          "text": [
            "dy/dx: None\n",
            "dy/dw: tensor(3.)\n",
            "dy/db: tensor(1.)\n"
          ]
        }
      ]
    },
    {
      "cell_type": "code",
      "source": [
        "import numpy as np\n",
        "\n",
        "x = np.array([[1.,2,3],[4,5,6]])\n",
        "x"
      ],
      "metadata": {
        "colab": {
          "base_uri": "https://localhost:8080/"
        },
        "id": "U4nT0ujxlBNn",
        "outputId": "74b73b47-58ef-4c8e-a9b7-a8d61950e8de"
      },
      "execution_count": 18,
      "outputs": [
        {
          "output_type": "execute_result",
          "data": {
            "text/plain": [
              "array([[1., 2., 3.],\n",
              "       [4., 5., 6.]])"
            ]
          },
          "metadata": {},
          "execution_count": 18
        }
      ]
    },
    {
      "cell_type": "code",
      "source": [
        "y = torch.from_numpy(x)            #or you can do torch.tensor(x)\n",
        "y"
      ],
      "metadata": {
        "colab": {
          "base_uri": "https://localhost:8080/"
        },
        "id": "cXy-KSs-lj5t",
        "outputId": "169552c6-2b3f-431c-b4c8-ec8d860c7bc7"
      },
      "execution_count": 19,
      "outputs": [
        {
          "output_type": "execute_result",
          "data": {
            "text/plain": [
              "tensor([[1., 2., 3.],\n",
              "        [4., 5., 6.]], dtype=torch.float64)"
            ]
          },
          "metadata": {},
          "execution_count": 19
        }
      ]
    },
    {
      "cell_type": "code",
      "source": [
        "x.dtype , y.dtype"
      ],
      "metadata": {
        "colab": {
          "base_uri": "https://localhost:8080/"
        },
        "id": "2me3qH0vlqJO",
        "outputId": "12f5afee-e7c2-486c-ab5f-2eff568d5df9"
      },
      "execution_count": 20,
      "outputs": [
        {
          "output_type": "execute_result",
          "data": {
            "text/plain": [
              "(dtype('float64'), torch.float64)"
            ]
          },
          "metadata": {},
          "execution_count": 20
        }
      ]
    },
    {
      "cell_type": "code",
      "source": [
        "z = y.numpy()\n",
        "z"
      ],
      "metadata": {
        "colab": {
          "base_uri": "https://localhost:8080/"
        },
        "id": "OZKO5a8Dl6uF",
        "outputId": "9b6e8038-2b21-4cb6-f0cb-e786c4afc4de"
      },
      "execution_count": 21,
      "outputs": [
        {
          "output_type": "execute_result",
          "data": {
            "text/plain": [
              "array([[1., 2., 3.],\n",
              "       [4., 5., 6.]])"
            ]
          },
          "metadata": {},
          "execution_count": 21
        }
      ]
    },
    {
      "cell_type": "code",
      "source": [
        "# Input (temp, rainfall, humidity)\n",
        "inputs = np.array([[73, 67, 43],\n",
        "                   [91, 88, 64],\n",
        "                   [87, 134, 58],\n",
        "                   [102, 43, 37],\n",
        "                   [69, 96, 70]], dtype='float32')"
      ],
      "metadata": {
        "id": "rZkbqui7mDPx"
      },
      "execution_count": 22,
      "outputs": []
    },
    {
      "cell_type": "code",
      "source": [
        "# Targets (apples, oranges)\n",
        "targets = np.array([[56, 70],\n",
        "                    [81, 101],\n",
        "                    [119, 133],\n",
        "                    [22, 37],\n",
        "                    [103, 119]], dtype='float32')"
      ],
      "metadata": {
        "id": "RbCZgk3Mn6oK"
      },
      "execution_count": 23,
      "outputs": []
    },
    {
      "cell_type": "code",
      "source": [
        "inputs = torch.tensor(inputs)\n",
        "targets = torch.tensor(targets)\n",
        "print(inputs)\n",
        "print(targets)"
      ],
      "metadata": {
        "colab": {
          "base_uri": "https://localhost:8080/"
        },
        "id": "U70rTdD4n8gC",
        "outputId": "ea2c1ffb-0c08-420f-921a-840e9a529779"
      },
      "execution_count": 24,
      "outputs": [
        {
          "output_type": "stream",
          "name": "stdout",
          "text": [
            "tensor([[ 73.,  67.,  43.],\n",
            "        [ 91.,  88.,  64.],\n",
            "        [ 87., 134.,  58.],\n",
            "        [102.,  43.,  37.],\n",
            "        [ 69.,  96.,  70.]])\n",
            "tensor([[ 56.,  70.],\n",
            "        [ 81., 101.],\n",
            "        [119., 133.],\n",
            "        [ 22.,  37.],\n",
            "        [103., 119.]])\n"
          ]
        }
      ]
    },
    {
      "cell_type": "code",
      "source": [
        "w = torch.randn(2,3,requires_grad=True)\n",
        "b = torch.randn(2,requires_grad=True)\n",
        "print(w)\n",
        "print(b)"
      ],
      "metadata": {
        "colab": {
          "base_uri": "https://localhost:8080/"
        },
        "id": "PHSbXd-5oCkS",
        "outputId": "7c0128a9-f0d7-475f-dd6c-377035943651"
      },
      "execution_count": 25,
      "outputs": [
        {
          "output_type": "stream",
          "name": "stdout",
          "text": [
            "tensor([[ 0.7472, -0.9321, -1.0885],\n",
            "        [ 0.2008, -1.2308,  0.0905]], requires_grad=True)\n",
            "tensor([-1.4221,  0.8851], requires_grad=True)\n"
          ]
        }
      ]
    },
    {
      "cell_type": "code",
      "source": [
        "def model(x):\n",
        "  return x @ w.t() + b"
      ],
      "metadata": {
        "id": "6r2CbP8fohGt"
      },
      "execution_count": 26,
      "outputs": []
    },
    {
      "cell_type": "code",
      "source": [
        "preds = model(inputs)\n",
        "preds"
      ],
      "metadata": {
        "colab": {
          "base_uri": "https://localhost:8080/"
        },
        "id": "74BJm3h1pE2B",
        "outputId": "b8dea306-33b7-46f2-9710-3c3717bdc5be"
      },
      "execution_count": 27,
      "outputs": [
        {
          "output_type": "execute_result",
          "data": {
            "text/plain": [
              "tensor([[ -56.1259,  -63.0270],\n",
              "        [ -85.1067,  -83.3587],\n",
              "        [-124.4404, -141.3206],\n",
              "        [  -5.5552,  -28.2074],\n",
              "        [-115.5334,  -97.0802]], grad_fn=<AddBackward0>)"
            ]
          },
          "metadata": {},
          "execution_count": 27
        }
      ]
    },
    {
      "cell_type": "code",
      "source": [
        "targets"
      ],
      "metadata": {
        "colab": {
          "base_uri": "https://localhost:8080/"
        },
        "id": "1VEWk5zupMnV",
        "outputId": "47c83a19-24d9-4972-b52d-e031415eb160"
      },
      "execution_count": 28,
      "outputs": [
        {
          "output_type": "execute_result",
          "data": {
            "text/plain": [
              "tensor([[ 56.,  70.],\n",
              "        [ 81., 101.],\n",
              "        [119., 133.],\n",
              "        [ 22.,  37.],\n",
              "        [103., 119.]])"
            ]
          },
          "metadata": {},
          "execution_count": 28
        }
      ]
    },
    {
      "cell_type": "code",
      "source": [
        "def mse(t1,t2):\n",
        "  diff = t1-t2\n",
        "  return torch.sum(diff * diff) / diff.numel()"
      ],
      "metadata": {
        "id": "rkxvrK7OpOb8"
      },
      "execution_count": 29,
      "outputs": []
    },
    {
      "cell_type": "code",
      "source": [
        "loss = mse(preds , targets)\n",
        "print(loss)  # full tensor"
      ],
      "metadata": {
        "colab": {
          "base_uri": "https://localhost:8080/"
        },
        "id": "Vvh-BcDDqGs2",
        "outputId": "e01e0193-9405-42c6-d4fa-2feed73b1f66"
      },
      "execution_count": 30,
      "outputs": [
        {
          "output_type": "stream",
          "name": "stdout",
          "text": [
            "tensor(32582.1777, grad_fn=<DivBackward0>)\n"
          ]
        }
      ]
    },
    {
      "cell_type": "code",
      "source": [
        "loss.backward()"
      ],
      "metadata": {
        "id": "sX--rm-tJk_-"
      },
      "execution_count": 31,
      "outputs": []
    },
    {
      "cell_type": "code",
      "source": [
        "print(\"dl/dw : \" , w.grad)\n",
        "print(\"dl/db : \" , b.grad)"
      ],
      "metadata": {
        "colab": {
          "base_uri": "https://localhost:8080/"
        },
        "id": "5PM7mOe8Khg-",
        "outputId": "80c3a35a-30c2-4fc0-a9b1-706b90d73965"
      },
      "execution_count": 32,
      "outputs": [
        {
          "output_type": "stream",
          "name": "stdout",
          "text": [
            "dl/dw :  tensor([[-12473.9297, -15382.9834,  -9177.7334],\n",
            "        [-14382.8408, -17088.5918, -10193.6006]])\n",
            "dl/db :  tensor([-153.5523, -174.5988])\n"
          ]
        }
      ]
    },
    {
      "cell_type": "code",
      "source": [
        "w.grad.zero_()\n",
        "b.grad.zero_()\n",
        "print(w.grad)\n",
        "print(b.grad)"
      ],
      "metadata": {
        "colab": {
          "base_uri": "https://localhost:8080/"
        },
        "id": "ZpqA0PfjMYQM",
        "outputId": "e62afd9c-0854-46f8-a196-d5ef26e3c6e2"
      },
      "execution_count": 33,
      "outputs": [
        {
          "output_type": "stream",
          "name": "stdout",
          "text": [
            "tensor([[0., 0., 0.],\n",
            "        [0., 0., 0.]])\n",
            "tensor([0., 0.])\n"
          ]
        }
      ]
    },
    {
      "cell_type": "markdown",
      "source": [
        "# **GRADIENT DESCENT**"
      ],
      "metadata": {
        "id": "UxbtjsO3aBpS"
      }
    },
    {
      "cell_type": "code",
      "source": [
        "import torch\n",
        "\n",
        "inputs = np.array([[73, 67, 43],\n",
        "                   [91, 88, 64],\n",
        "                   [87, 134, 58],\n",
        "                   [102, 43, 37],\n",
        "                   [69, 96, 70]], dtype='float32')\n",
        "\n",
        "targets = np.array([[56, 70],\n",
        "                    [81, 101],\n",
        "                    [119, 133],\n",
        "                    [22, 37],\n",
        "                    [103, 119]], dtype='float32')\n",
        "\n",
        "inputs = torch.tensor(inputs)\n",
        "targets = torch.tensor(targets)\n",
        "\n",
        "w = torch.randn(2,3,requires_grad=True)\n",
        "b = torch.randn(2,requires_grad=True)\n",
        "\n",
        "lr = 1e-5\n",
        "\n",
        "def mse(preds,targets):\n",
        "  return torch.mean((preds-targets)**2)\n",
        "\n",
        "for epoch in range(100):\n",
        "\n",
        "  preds = inputs @ w.t() + b\n",
        "  loss  = mse(preds,targets)\n",
        "\n",
        "  loss.backward()\n",
        "\n",
        "  with torch.no_grad():\n",
        "    w -= lr * w.grad\n",
        "    b -= lr * b.grad\n",
        "\n",
        "    w.grad.zero_()\n",
        "    b.grad.zero_()\n",
        "\n",
        "  if epoch % 10 == 0:\n",
        "        print(f\"Epoch {epoch}: Loss = {loss.item():.4f} ,  w =\\n{w} , b = {b}\")"
      ],
      "metadata": {
        "colab": {
          "base_uri": "https://localhost:8080/"
        },
        "id": "vxjbcMa-d6yi",
        "outputId": "2d215808-7253-4ed7-c074-f72f06814948"
      },
      "execution_count": 34,
      "outputs": [
        {
          "output_type": "stream",
          "name": "stdout",
          "text": [
            "Epoch 0: Loss = 12697.1826 ,  w =\n",
            "tensor([[ 1.6516, -1.0901, -0.0846],\n",
            "        [-1.0386,  0.0217,  1.3246]], requires_grad=True) , b = tensor([0.3085, 0.1737], requires_grad=True)\n",
            "Epoch 10: Loss = 2566.4712 ,  w =\n",
            "tensor([[ 1.6963, -0.7841,  0.0513],\n",
            "        [-0.6050,  0.4811,  1.6012]], requires_grad=True) , b = tensor([0.3097, 0.1788], requires_grad=True)\n",
            "Epoch 20: Loss = 2097.7954 ,  w =\n",
            "tensor([[ 1.5952, -0.6504,  0.0844],\n",
            "        [-0.5404,  0.5447,  1.6335]], requires_grad=True) , b = tensor([0.3091, 0.1795], requires_grad=True)\n",
            "Epoch 30: Loss = 1848.2356 ,  w =\n",
            "tensor([[ 1.4805, -0.5464,  0.1024],\n",
            "        [-0.5272,  0.5534,  1.6319]], requires_grad=True) , b = tensor([0.3083, 0.1796], requires_grad=True)\n",
            "Epoch 40: Loss = 1631.5378 ,  w =\n",
            "tensor([[ 1.3700, -0.4518,  0.1177],\n",
            "        [-0.5214,  0.5546,  1.6257]], requires_grad=True) , b = tensor([0.3075, 0.1796], requires_grad=True)\n",
            "Epoch 50: Loss = 1440.6897 ,  w =\n",
            "tensor([[ 1.2659, -0.3636,  0.1320],\n",
            "        [-0.5168,  0.5548,  1.6188]], requires_grad=True) , b = tensor([0.3068, 0.1796], requires_grad=True)\n",
            "Epoch 60: Loss = 1272.5472 ,  w =\n",
            "tensor([[ 1.1681, -0.2809,  0.1456],\n",
            "        [-0.5124,  0.5551,  1.6120]], requires_grad=True) , b = tensor([0.3061, 0.1795], requires_grad=True)\n",
            "Epoch 70: Loss = 1124.4017 ,  w =\n",
            "tensor([[ 1.0763, -0.2034,  0.1586],\n",
            "        [-0.5083,  0.5554,  1.6053]], requires_grad=True) , b = tensor([0.3055, 0.1795], requires_grad=True)\n",
            "Epoch 80: Loss = 993.8676 ,  w =\n",
            "tensor([[ 0.9901, -0.1307,  0.1709],\n",
            "        [-0.5044,  0.5559,  1.5986]], requires_grad=True) , b = tensor([0.3049, 0.1795], requires_grad=True)\n",
            "Epoch 90: Loss = 878.8445 ,  w =\n",
            "tensor([[ 0.9091, -0.0626,  0.1826],\n",
            "        [-0.5006,  0.5565,  1.5920]], requires_grad=True) , b = tensor([0.3043, 0.1795], requires_grad=True)\n"
          ]
        }
      ]
    },
    {
      "cell_type": "markdown",
      "source": [
        "# **Linear regression using PyTorch built-ins**"
      ],
      "metadata": {
        "id": "DeW3MXE4i206"
      }
    },
    {
      "cell_type": "code",
      "source": [
        "import torch.nn as nn"
      ],
      "metadata": {
        "id": "HdRpPbfzgcoV"
      },
      "execution_count": 35,
      "outputs": []
    },
    {
      "cell_type": "code",
      "source": [
        "# Input (temp, rainfall, humidity)\n",
        "inputs = np.array([[73, 67, 43], [91, 88, 64], [87, 134, 58],\n",
        "                   [102, 43, 37], [69, 96, 70], [73, 67, 43],\n",
        "                   [91, 88, 64], [87, 134, 58], [102, 43, 37],\n",
        "                   [69, 96, 70], [73, 67, 43], [91, 88, 64],\n",
        "                   [87, 134, 58], [102, 43, 37], [69, 96, 70]],\n",
        "                  dtype='float32')\n",
        "\n",
        "# Targets (apples, oranges)\n",
        "targets = np.array([[56, 70], [81, 101], [119, 133],\n",
        "                    [22, 37], [103, 119], [56, 70],\n",
        "                    [81, 101], [119, 133], [22, 37],\n",
        "                    [103, 119], [56, 70], [81, 101],\n",
        "                    [119, 133], [22, 37], [103, 119]],\n",
        "                   dtype='float32')\n",
        "\n",
        "inputs = torch.from_numpy(inputs)\n",
        "targets = torch.from_numpy(targets)"
      ],
      "metadata": {
        "id": "DTiQ-ckNi8I3"
      },
      "execution_count": 36,
      "outputs": []
    },
    {
      "cell_type": "code",
      "source": [
        "from torch.utils.data import TensorDataset"
      ],
      "metadata": {
        "id": "_T6rf399jANu"
      },
      "execution_count": 37,
      "outputs": []
    },
    {
      "cell_type": "code",
      "source": [
        "train_ds = TensorDataset(inputs,targets)\n",
        "train_ds[0:3]"
      ],
      "metadata": {
        "colab": {
          "base_uri": "https://localhost:8080/"
        },
        "id": "-GtRDStIj47U",
        "outputId": "375115a4-eebe-41aa-cf75-7428dfce8afe"
      },
      "execution_count": 38,
      "outputs": [
        {
          "output_type": "execute_result",
          "data": {
            "text/plain": [
              "(tensor([[ 73.,  67.,  43.],\n",
              "         [ 91.,  88.,  64.],\n",
              "         [ 87., 134.,  58.]]),\n",
              " tensor([[ 56.,  70.],\n",
              "         [ 81., 101.],\n",
              "         [119., 133.]]))"
            ]
          },
          "metadata": {},
          "execution_count": 38
        }
      ]
    },
    {
      "cell_type": "code",
      "source": [
        "from torch.utils.data import DataLoader"
      ],
      "metadata": {
        "id": "aUo61_X6ld-V"
      },
      "execution_count": 39,
      "outputs": []
    },
    {
      "cell_type": "code",
      "source": [
        "batch_size=5\n",
        "train_dl = DataLoader(train_ds,batch_size,shuffle=True)"
      ],
      "metadata": {
        "id": "gCtlSnEglrHC"
      },
      "execution_count": 40,
      "outputs": []
    },
    {
      "cell_type": "code",
      "source": [
        "i=0\n",
        "for xb,yb in train_dl:\n",
        "  print(f\"batch:{i} \")\n",
        "  print(xb)\n",
        "  print(yb)\n",
        "  i +=1"
      ],
      "metadata": {
        "colab": {
          "base_uri": "https://localhost:8080/"
        },
        "id": "sMGPsnfml1xe",
        "outputId": "ccab4d32-d67f-45de-bb65-2630f4f26a5e"
      },
      "execution_count": 41,
      "outputs": [
        {
          "output_type": "stream",
          "name": "stdout",
          "text": [
            "batch:0 \n",
            "tensor([[ 91.,  88.,  64.],\n",
            "        [ 73.,  67.,  43.],\n",
            "        [ 91.,  88.,  64.],\n",
            "        [ 87., 134.,  58.],\n",
            "        [ 73.,  67.,  43.]])\n",
            "tensor([[ 81., 101.],\n",
            "        [ 56.,  70.],\n",
            "        [ 81., 101.],\n",
            "        [119., 133.],\n",
            "        [ 56.,  70.]])\n",
            "batch:1 \n",
            "tensor([[ 69.,  96.,  70.],\n",
            "        [ 87., 134.,  58.],\n",
            "        [ 91.,  88.,  64.],\n",
            "        [ 69.,  96.,  70.],\n",
            "        [ 69.,  96.,  70.]])\n",
            "tensor([[103., 119.],\n",
            "        [119., 133.],\n",
            "        [ 81., 101.],\n",
            "        [103., 119.],\n",
            "        [103., 119.]])\n",
            "batch:2 \n",
            "tensor([[102.,  43.,  37.],\n",
            "        [ 73.,  67.,  43.],\n",
            "        [ 87., 134.,  58.],\n",
            "        [102.,  43.,  37.],\n",
            "        [102.,  43.,  37.]])\n",
            "tensor([[ 22.,  37.],\n",
            "        [ 56.,  70.],\n",
            "        [119., 133.],\n",
            "        [ 22.,  37.],\n",
            "        [ 22.,  37.]])\n"
          ]
        }
      ]
    },
    {
      "cell_type": "code",
      "source": [
        "model = nn.Linear(3,2)\n",
        "print(model.weight)\n",
        "print(model.bias)"
      ],
      "metadata": {
        "colab": {
          "base_uri": "https://localhost:8080/"
        },
        "id": "rHZhDclgmGQY",
        "outputId": "5ce15261-c332-43bb-c344-4256a036d6c3"
      },
      "execution_count": 42,
      "outputs": [
        {
          "output_type": "stream",
          "name": "stdout",
          "text": [
            "Parameter containing:\n",
            "tensor([[ 0.1284,  0.5173,  0.2050],\n",
            "        [-0.4538, -0.1383, -0.2387]], requires_grad=True)\n",
            "Parameter containing:\n",
            "tensor([ 0.4378, -0.4502], requires_grad=True)\n"
          ]
        }
      ]
    },
    {
      "cell_type": "code",
      "source": [
        "list(model.parameters())"
      ],
      "metadata": {
        "colab": {
          "base_uri": "https://localhost:8080/"
        },
        "id": "0EGSCTgB0X_X",
        "outputId": "fea23781-ff86-43ea-f901-32d490eb56f9"
      },
      "execution_count": 43,
      "outputs": [
        {
          "output_type": "execute_result",
          "data": {
            "text/plain": [
              "[Parameter containing:\n",
              " tensor([[ 0.1284,  0.5173,  0.2050],\n",
              "         [-0.4538, -0.1383, -0.2387]], requires_grad=True),\n",
              " Parameter containing:\n",
              " tensor([ 0.4378, -0.4502], requires_grad=True)]"
            ]
          },
          "metadata": {},
          "execution_count": 43
        }
      ]
    },
    {
      "cell_type": "code",
      "source": [
        "import torch.nn.functional as F"
      ],
      "metadata": {
        "id": "0rkMkx-t0pyM"
      },
      "execution_count": 44,
      "outputs": []
    },
    {
      "cell_type": "code",
      "source": [
        "loss_fn = F.mse_loss"
      ],
      "metadata": {
        "id": "x6aeb-lF1UkP"
      },
      "execution_count": 45,
      "outputs": []
    },
    {
      "cell_type": "code",
      "source": [
        "loss = loss_fn(model(inputs),targets)\n",
        "print(loss)"
      ],
      "metadata": {
        "colab": {
          "base_uri": "https://localhost:8080/"
        },
        "id": "aiypHFUK1aXC",
        "outputId": "23e8c05d-2097-41a8-841e-d94df2b6edba"
      },
      "execution_count": 46,
      "outputs": [
        {
          "output_type": "stream",
          "name": "stdout",
          "text": [
            "tensor(13079.1104, grad_fn=<MseLossBackward0>)\n"
          ]
        }
      ]
    },
    {
      "cell_type": "code",
      "source": [
        "opt = torch.optim.SGD(model.parameters(),lr=1e-5)"
      ],
      "metadata": {
        "id": "euoBBLyb1tQN"
      },
      "execution_count": 47,
      "outputs": []
    },
    {
      "cell_type": "code",
      "source": [
        "def fit(num_epochs,model,loss_fn,opt):\n",
        "  for epoch in range(num_epochs):\n",
        "    for xb,yb in train_dl:\n",
        "      preds = model(xb)\n",
        "      loss = loss_fn(preds,yb)\n",
        "      loss.backward()\n",
        "      opt.step()\n",
        "      opt.zero_grad()\n",
        "\n",
        "    if (epoch+1) % 10 == 0:\n",
        "          print('Epoch [{}/{}], Loss: {:.4f}'.format(epoch+1, num_epochs, loss.item()))"
      ],
      "metadata": {
        "id": "Gb5xCKNi2F_3"
      },
      "execution_count": 48,
      "outputs": []
    },
    {
      "cell_type": "code",
      "source": [
        "fit(100, model, loss_fn, opt)"
      ],
      "metadata": {
        "colab": {
          "base_uri": "https://localhost:8080/"
        },
        "id": "Q_cTTXZq20bV",
        "outputId": "98facefb-2ffa-4faf-8a17-927ac261a462"
      },
      "execution_count": 49,
      "outputs": [
        {
          "output_type": "stream",
          "name": "stdout",
          "text": [
            "Epoch [10/100], Loss: 434.4644\n",
            "Epoch [20/100], Loss: 109.5578\n",
            "Epoch [30/100], Loss: 102.7449\n",
            "Epoch [40/100], Loss: 75.4034\n",
            "Epoch [50/100], Loss: 90.0209\n",
            "Epoch [60/100], Loss: 6.0843\n",
            "Epoch [70/100], Loss: 56.4274\n",
            "Epoch [80/100], Loss: 41.4370\n",
            "Epoch [90/100], Loss: 26.6095\n",
            "Epoch [100/100], Loss: 17.8350\n"
          ]
        }
      ]
    },
    {
      "cell_type": "code",
      "source": [
        "# Generate predictions\n",
        "preds = model(inputs)\n",
        "preds"
      ],
      "metadata": {
        "colab": {
          "base_uri": "https://localhost:8080/"
        },
        "id": "fRsg1sHd3Sqj",
        "outputId": "46a00631-0f26-44b8-83ad-3045228c5a2d"
      },
      "execution_count": 50,
      "outputs": [
        {
          "output_type": "execute_result",
          "data": {
            "text/plain": [
              "tensor([[ 58.2631,  71.2939],\n",
              "        [ 80.5307,  97.7325],\n",
              "        [120.8210, 137.9684],\n",
              "        [ 26.7327,  42.8765],\n",
              "        [ 95.7868, 110.5257],\n",
              "        [ 58.2631,  71.2939],\n",
              "        [ 80.5307,  97.7325],\n",
              "        [120.8210, 137.9684],\n",
              "        [ 26.7327,  42.8765],\n",
              "        [ 95.7868, 110.5257],\n",
              "        [ 58.2631,  71.2939],\n",
              "        [ 80.5307,  97.7325],\n",
              "        [120.8210, 137.9684],\n",
              "        [ 26.7327,  42.8765],\n",
              "        [ 95.7868, 110.5257]], grad_fn=<AddmmBackward0>)"
            ]
          },
          "metadata": {},
          "execution_count": 50
        }
      ]
    },
    {
      "cell_type": "code",
      "source": [
        "# Compare with targets\n",
        "targets"
      ],
      "metadata": {
        "colab": {
          "base_uri": "https://localhost:8080/"
        },
        "id": "3naiUeT43ZpE",
        "outputId": "728a29d3-716c-4e60-9126-b3c6ab8cb0d7"
      },
      "execution_count": 51,
      "outputs": [
        {
          "output_type": "execute_result",
          "data": {
            "text/plain": [
              "tensor([[ 56.,  70.],\n",
              "        [ 81., 101.],\n",
              "        [119., 133.],\n",
              "        [ 22.,  37.],\n",
              "        [103., 119.],\n",
              "        [ 56.,  70.],\n",
              "        [ 81., 101.],\n",
              "        [119., 133.],\n",
              "        [ 22.,  37.],\n",
              "        [103., 119.],\n",
              "        [ 56.,  70.],\n",
              "        [ 81., 101.],\n",
              "        [119., 133.],\n",
              "        [ 22.,  37.],\n",
              "        [103., 119.]])"
            ]
          },
          "metadata": {},
          "execution_count": 51
        }
      ]
    },
    {
      "cell_type": "markdown",
      "source": [
        "# **Working with Images & Logistic Regression in PyTorch**"
      ],
      "metadata": {
        "id": "Wp3CGyh--bWb"
      }
    },
    {
      "cell_type": "code",
      "source": [
        "import torch\n",
        "import torchvision\n",
        "from torchvision.datasets import MNIST"
      ],
      "metadata": {
        "id": "YU6-eirG3bvN"
      },
      "execution_count": 52,
      "outputs": []
    },
    {
      "cell_type": "code",
      "source": [
        "dataset = MNIST(root='data/',download=True)"
      ],
      "metadata": {
        "colab": {
          "base_uri": "https://localhost:8080/"
        },
        "id": "qvkOY8KH-sjA",
        "outputId": "744a05fa-49e0-458b-8589-26373303b5b1"
      },
      "execution_count": 53,
      "outputs": [
        {
          "output_type": "stream",
          "name": "stderr",
          "text": [
            "100%|██████████| 9.91M/9.91M [00:00<00:00, 17.9MB/s]\n",
            "100%|██████████| 28.9k/28.9k [00:00<00:00, 487kB/s]\n",
            "100%|██████████| 1.65M/1.65M [00:00<00:00, 4.49MB/s]\n",
            "100%|██████████| 4.54k/4.54k [00:00<00:00, 4.96MB/s]\n"
          ]
        }
      ]
    },
    {
      "cell_type": "code",
      "source": [
        "len(dataset)"
      ],
      "metadata": {
        "colab": {
          "base_uri": "https://localhost:8080/"
        },
        "id": "Nk26RNZI-0d_",
        "outputId": "80e3cfe7-089e-4446-938e-c3fb05bf4aff"
      },
      "execution_count": 54,
      "outputs": [
        {
          "output_type": "execute_result",
          "data": {
            "text/plain": [
              "60000"
            ]
          },
          "metadata": {},
          "execution_count": 54
        }
      ]
    },
    {
      "cell_type": "code",
      "source": [
        "test_dataset = MNIST(root='data/',train=False)\n",
        "len(test_dataset)"
      ],
      "metadata": {
        "colab": {
          "base_uri": "https://localhost:8080/"
        },
        "id": "hE8bSQyp-3G9",
        "outputId": "84ef934f-b62a-4b45-a5d6-82d632a28bd5"
      },
      "execution_count": 55,
      "outputs": [
        {
          "output_type": "execute_result",
          "data": {
            "text/plain": [
              "10000"
            ]
          },
          "metadata": {},
          "execution_count": 55
        }
      ]
    },
    {
      "cell_type": "code",
      "source": [
        "dataset[0]"
      ],
      "metadata": {
        "colab": {
          "base_uri": "https://localhost:8080/"
        },
        "id": "1FKWNBsi_AVm",
        "outputId": "6b60272a-8a21-4fc5-fcdb-c8fa0be45699"
      },
      "execution_count": 56,
      "outputs": [
        {
          "output_type": "execute_result",
          "data": {
            "text/plain": [
              "(<PIL.Image.Image image mode=L size=28x28>, 5)"
            ]
          },
          "metadata": {},
          "execution_count": 56
        }
      ]
    },
    {
      "cell_type": "code",
      "source": [
        "import matplotlib.pyplot as plt\n",
        "%matplotlib inline"
      ],
      "metadata": {
        "id": "xtdHRScG_DQe"
      },
      "execution_count": 57,
      "outputs": []
    },
    {
      "cell_type": "code",
      "source": [
        "image , label = dataset[0]\n",
        "plt.imshow(image , cmap='gray')\n",
        "print(\"Label:\" ,label)"
      ],
      "metadata": {
        "colab": {
          "base_uri": "https://localhost:8080/",
          "height": 447
        },
        "id": "7K3t5DsZ_Fcd",
        "outputId": "4b149816-6c8b-4924-c1dd-03559b01bda9"
      },
      "execution_count": 58,
      "outputs": [
        {
          "output_type": "stream",
          "name": "stdout",
          "text": [
            "Label: 5\n"
          ]
        },
        {
          "output_type": "display_data",
          "data": {
            "text/plain": [
              "<Figure size 640x480 with 1 Axes>"
            ],
            "image/png": "[encoded data removed]"
          },
          "metadata": {}
        }
      ]
    },
    {
      "cell_type": "code",
      "source": [
        "image , label = dataset[7]\n",
        "plt.imshow(image , cmap='gray')\n",
        "print(\"Label:\" , label)"
      ],
      "metadata": {
        "colab": {
          "base_uri": "https://localhost:8080/",
          "height": 447
        },
        "id": "YF8YvGnE_eCR",
        "outputId": "1cc321a1-ec37-47b5-f314-3f9793f22af0"
      },
      "execution_count": 59,
      "outputs": [
        {
          "output_type": "stream",
          "name": "stdout",
          "text": [
            "Label: 3\n"
          ]
        },
        {
          "output_type": "display_data",
          "data": {
            "text/plain": [
              "<Figure size 640x480 with 1 Axes>"
            ],
            "image/png": "[encoded data removed]"
          },
          "metadata": {}
        }
      ]
    },
    {
      "cell_type": "code",
      "source": [
        "import torchvision.transforms as transforms"
      ],
      "metadata": {
        "id": "cli53lPw_omt"
      },
      "execution_count": 60,
      "outputs": []
    },
    {
      "cell_type": "code",
      "source": [
        "dataset = MNIST(root='data/',train=True,transform=transforms.ToTensor())"
      ],
      "metadata": {
        "id": "ird-_9Qw_wsf"
      },
      "execution_count": 61,
      "outputs": []
    },
    {
      "cell_type": "code",
      "source": [
        "img_tensor, label = dataset[0]\n",
        "print(img_tensor.shape, label)"
      ],
      "metadata": {
        "colab": {
          "base_uri": "https://localhost:8080/"
        },
        "id": "HeSFh3So_8J-",
        "outputId": "eaf93a4a-d020-4fc5-c79a-d3759fb7d116"
      },
      "execution_count": 62,
      "outputs": [
        {
          "output_type": "stream",
          "name": "stdout",
          "text": [
            "torch.Size([1, 28, 28]) 5\n"
          ]
        }
      ]
    },
    {
      "cell_type": "code",
      "source": [
        "print(img_tensor[:,10:15,10:15])\n",
        "print(torch.max(img_tensor), torch.min(img_tensor))"
      ],
      "metadata": {
        "colab": {
          "base_uri": "https://localhost:8080/"
        },
        "id": "gxnQpJ8YABxk",
        "outputId": "8b489a04-220d-4eed-b82b-61b969c1504d"
      },
      "execution_count": 63,
      "outputs": [
        {
          "output_type": "stream",
          "name": "stdout",
          "text": [
            "tensor([[[0.0039, 0.6039, 0.9922, 0.3529, 0.0000],\n",
            "         [0.0000, 0.5451, 0.9922, 0.7451, 0.0078],\n",
            "         [0.0000, 0.0431, 0.7451, 0.9922, 0.2745],\n",
            "         [0.0000, 0.0000, 0.1373, 0.9451, 0.8824],\n",
            "         [0.0000, 0.0000, 0.0000, 0.3176, 0.9412]]])\n",
            "tensor(1.) tensor(0.)\n"
          ]
        }
      ]
    },
    {
      "cell_type": "code",
      "source": [
        "plt.imshow(img_tensor[0,10:15,10:15],cmap='gray');"
      ],
      "metadata": {
        "colab": {
          "base_uri": "https://localhost:8080/",
          "height": 430
        },
        "id": "enGtSN9KAXmB",
        "outputId": "ae6a935a-45b5-485a-da37-9de8a2c5889a"
      },
      "execution_count": 64,
      "outputs": [
        {
          "output_type": "display_data",
          "data": {
            "text/plain": [
              "<Figure size 640x480 with 1 Axes>"
            ],
            "image/png": "[encoded data removed]"
          },
          "metadata": {}
        }
      ]
    },
    {
      "cell_type": "code",
      "source": [
        "from torch.utils.data import random_split\n",
        "\n",
        "train_ds , val_ds = random_split(dataset,[50000,10000])\n",
        "len(train_ds) , len(val_ds)"
      ],
      "metadata": {
        "colab": {
          "base_uri": "https://localhost:8080/"
        },
        "id": "GbT9R4xeAgR-",
        "outputId": "c111dfe5-6bea-44a4-e04d-0cfb9f0e7076"
      },
      "execution_count": 65,
      "outputs": [
        {
          "output_type": "execute_result",
          "data": {
            "text/plain": [
              "(50000, 10000)"
            ]
          },
          "metadata": {},
          "execution_count": 65
        }
      ]
    },
    {
      "cell_type": "code",
      "source": [
        "from torch.utils.data import DataLoader\n",
        "\n",
        "batch_size=128\n",
        "\n",
        "train_loader = DataLoader(train_ds,batch_size,shuffle=True)\n",
        "val_loader = DataLoader(val_ds,batch_size)"
      ],
      "metadata": {
        "id": "w-CCo7-_BsVh"
      },
      "execution_count": 66,
      "outputs": []
    },
    {
      "cell_type": "code",
      "source": [
        "import numpy as np\n",
        "\n",
        "def split_indices(n,val_pct):\n",
        "  n_val = int(val_pct*n)\n",
        "  idxs = np.random.permutation(n)\n",
        "  return idxs[n_val:] , idxs[:n_val]"
      ],
      "metadata": {
        "id": "czIatUerCMog"
      },
      "execution_count": 67,
      "outputs": []
    },
    {
      "cell_type": "code",
      "source": [
        "train_indices , val_indices = split_indices(len(dataset),val_pct=0.2)"
      ],
      "metadata": {
        "id": "QuTcQxbpcvvv"
      },
      "execution_count": 68,
      "outputs": []
    },
    {
      "cell_type": "code",
      "source": [
        "print(len(train_indices)) , print(len(val_indices))\n",
        "print(\"sample val_indices : \", val_indices[:20])"
      ],
      "metadata": {
        "colab": {
          "base_uri": "https://localhost:8080/"
        },
        "id": "jnJjX01VdFQI",
        "outputId": "451fa052-d092-44a2-cf45-8bba8b5c6946"
      },
      "execution_count": 69,
      "outputs": [
        {
          "output_type": "stream",
          "name": "stdout",
          "text": [
            "48000\n",
            "12000\n",
            "sample val_indices :  [43155 41104 22186 58718 51394  1250 38297  7114 11509 26103 32837 37249\n",
            "  2241 46231 50043 32581 11450 16065 10495 25998]\n"
          ]
        }
      ]
    },
    {
      "cell_type": "code",
      "source": [
        "from torch.utils.data.sampler import SubsetRandomSampler\n",
        "from torch.utils.data.dataloader import DataLoader"
      ],
      "metadata": {
        "id": "HM9cdQB7dWAo"
      },
      "execution_count": 70,
      "outputs": []
    },
    {
      "cell_type": "code",
      "source": [
        "batch_size = 100\n",
        "\n",
        "train_sampler = SubsetRandomSampler(train_indices)\n",
        "train_loader = DataLoader(dataset,\n",
        "                          batch_size,\n",
        "                          sampler = train_sampler)\n",
        "\n",
        "val_sampler = SubsetRandomSampler(val_indices)\n",
        "val_loader = DataLoader(dataset,\n",
        "                        batch_size,\n",
        "                        sampler = val_indices)"
      ],
      "metadata": {
        "id": "lMFzRC2oeqMt"
      },
      "execution_count": 71,
      "outputs": []
    },
    {
      "cell_type": "code",
      "source": [
        "print(\"xb.shape before flattening:\", xb.shape)"
      ],
      "metadata": {
        "id": "_byaF0vhAKh8",
        "colab": {
          "base_uri": "https://localhost:8080/"
        },
        "outputId": "51521a69-aa66-4111-c390-8a59a7bf92cb"
      },
      "execution_count": 72,
      "outputs": [
        {
          "output_type": "stream",
          "name": "stdout",
          "text": [
            "xb.shape before flattening: torch.Size([5, 3])\n"
          ]
        }
      ]
    },
    {
      "cell_type": "code",
      "source": [
        "import torch.nn as nn\n",
        "\n",
        "input_size = 28*28\n",
        "num_classes = 10\n",
        "\n",
        "model = nn.Linear(input_size,num_classes)"
      ],
      "metadata": {
        "id": "-BPFw0IqfqEV"
      },
      "execution_count": 73,
      "outputs": []
    },
    {
      "cell_type": "code",
      "source": [
        "print(model.weight.shape)\n",
        "print(model.weight)"
      ],
      "metadata": {
        "colab": {
          "base_uri": "https://localhost:8080/"
        },
        "id": "FVxG03NKiPXc",
        "outputId": "46a7c940-7e09-42bd-d9c9-b7c87ddb6ae4"
      },
      "execution_count": 74,
      "outputs": [
        {
          "output_type": "stream",
          "name": "stdout",
          "text": [
            "torch.Size([10, 784])\n",
            "Parameter containing:\n",
            "tensor([[ 2.7286e-02,  9.1744e-03, -1.8298e-02,  ..., -2.7495e-02,\n",
            "          1.3158e-02,  9.5184e-03],\n",
            "        [-1.7640e-02,  1.9692e-02, -4.3821e-03,  ..., -3.4928e-03,\n",
            "          2.6890e-02, -1.4045e-03],\n",
            "        [-6.3840e-03, -3.5366e-02, -2.2740e-02,  ..., -7.2350e-03,\n",
            "         -2.8625e-02,  3.0822e-02],\n",
            "        ...,\n",
            "        [-2.5419e-02, -5.3954e-03,  6.6877e-03,  ..., -2.0960e-02,\n",
            "         -2.4285e-02, -3.4420e-03],\n",
            "        [ 2.2125e-02, -1.8158e-02,  1.7363e-02,  ...,  8.0122e-03,\n",
            "          2.2387e-02,  2.0595e-02],\n",
            "        [ 1.6023e-02,  3.0994e-06, -1.3183e-03,  ...,  7.5863e-03,\n",
            "          2.7718e-02, -1.3009e-02]], requires_grad=True)\n"
          ]
        }
      ]
    },
    {
      "cell_type": "code",
      "source": [
        "print(model.bias.shape)\n",
        "print(model.bias)"
      ],
      "metadata": {
        "colab": {
          "base_uri": "https://localhost:8080/"
        },
        "id": "0YzP_-ZoiyBj",
        "outputId": "265d6293-b405-49a6-839f-c5d5e8396f90"
      },
      "execution_count": 75,
      "outputs": [
        {
          "output_type": "stream",
          "name": "stdout",
          "text": [
            "torch.Size([10])\n",
            "Parameter containing:\n",
            "tensor([-0.0306, -0.0268,  0.0141, -0.0331,  0.0271, -0.0198, -0.0011, -0.0309,\n",
            "         0.0142, -0.0345], requires_grad=True)\n"
          ]
        }
      ]
    },
    {
      "cell_type": "code",
      "source": [
        "class MnistModel(nn.Module):\n",
        "    def __init__(self):\n",
        "        super().__init__()\n",
        "        self.linear = nn.Linear(28*28, 10)\n",
        "\n",
        "    def forward(self, xb):\n",
        "        xb = xb.view(xb.size(0), -1)\n",
        "        return self.linear(xb)\n",
        "\n",
        "model = MnistModel()"
      ],
      "metadata": {
        "id": "HB_zVwJPjp6m"
      },
      "execution_count": 76,
      "outputs": []
    },
    {
      "cell_type": "code",
      "source": [
        "print(model.linear.weight.shape)\n",
        "print(model.linear.bias.shape)\n",
        "list(model.parameters())"
      ],
      "metadata": {
        "colab": {
          "base_uri": "https://localhost:8080/"
        },
        "id": "J3_-EIn8li7y",
        "outputId": "f172b9a5-38a9-4028-f757-6cb6e16eed26"
      },
      "execution_count": 77,
      "outputs": [
        {
          "output_type": "stream",
          "name": "stdout",
          "text": [
            "torch.Size([10, 784])\n",
            "torch.Size([10])\n"
          ]
        },
        {
          "output_type": "execute_result",
          "data": {
            "text/plain": [
              "[Parameter containing:\n",
              " tensor([[-0.0148, -0.0014, -0.0101,  ...,  0.0207, -0.0129, -0.0340],\n",
              "         [-0.0082, -0.0308, -0.0214,  ...,  0.0185,  0.0213, -0.0216],\n",
              "         [ 0.0082, -0.0303,  0.0009,  ..., -0.0328,  0.0164, -0.0061],\n",
              "         ...,\n",
              "         [ 0.0183,  0.0204,  0.0182,  ...,  0.0306,  0.0114,  0.0201],\n",
              "         [ 0.0247, -0.0124, -0.0167,  ...,  0.0091,  0.0001, -0.0244],\n",
              "         [-0.0063,  0.0205,  0.0108,  ...,  0.0299, -0.0193,  0.0225]],\n",
              "        requires_grad=True),\n",
              " Parameter containing:\n",
              " tensor([ 0.0306, -0.0283,  0.0239, -0.0208,  0.0114, -0.0078,  0.0050, -0.0306,\n",
              "         -0.0073, -0.0026], requires_grad=True)]"
            ]
          },
          "metadata": {},
          "execution_count": 77
        }
      ]
    },
    {
      "cell_type": "code",
      "source": [
        "for images, labels in train_loader:\n",
        "    outputs = model(images)\n",
        "    break\n",
        "\n",
        "print('outputs.shape : ', outputs.shape)\n",
        "print('Sample outputs :\\n', outputs[:2].data)"
      ],
      "metadata": {
        "colab": {
          "base_uri": "https://localhost:8080/"
        },
        "id": "-ka2KDmbmajT",
        "outputId": "b948176d-b635-4917-d831-f9ab2e5bba14"
      },
      "execution_count": 78,
      "outputs": [
        {
          "output_type": "stream",
          "name": "stdout",
          "text": [
            "outputs.shape :  torch.Size([100, 10])\n",
            "Sample outputs :\n",
            " tensor([[-0.0580,  0.2365, -0.0957,  0.1853, -0.3772,  0.2909,  0.0248,  0.1228,\n",
            "          0.0721, -0.2793],\n",
            "        [-0.1960, -0.0712, -0.1152,  0.1100,  0.0556,  0.1623, -0.1254,  0.0405,\n",
            "          0.2053, -0.5895]])\n"
          ]
        }
      ]
    },
    {
      "cell_type": "code",
      "source": [
        "probs = F.softmax(outputs,dim=1)\n",
        "print(probs[:2].data)\n",
        "print(\"Sum : \" , torch.sum(probs[0]).item())"
      ],
      "metadata": {
        "colab": {
          "base_uri": "https://localhost:8080/"
        },
        "id": "MDqHeZNlm_Pi",
        "outputId": "c2e02628-48a9-4006-c5a5-4fd7f199410c"
      },
      "execution_count": 79,
      "outputs": [
        {
          "output_type": "stream",
          "name": "stdout",
          "text": [
            "tensor([[0.0913, 0.1226, 0.0879, 0.1165, 0.0664, 0.1294, 0.0992, 0.1094, 0.1040,\n",
            "         0.0732],\n",
            "        [0.0847, 0.0960, 0.0919, 0.1151, 0.1090, 0.1213, 0.0909, 0.1073, 0.1266,\n",
            "         0.0572]])\n",
            "Sum :  0.9999998807907104\n"
          ]
        }
      ]
    },
    {
      "cell_type": "code",
      "source": [
        "max_probs , preds = torch.max(probs , dim=1)\n",
        "print(preds)\n",
        "print(max_probs)"
      ],
      "metadata": {
        "colab": {
          "base_uri": "https://localhost:8080/"
        },
        "id": "mfJ_uj8jpC6V",
        "outputId": "91830aff-6f0d-4be4-9bcc-262064dad7c7"
      },
      "execution_count": 80,
      "outputs": [
        {
          "output_type": "stream",
          "name": "stdout",
          "text": [
            "tensor([5, 8, 5, 8, 9, 7, 7, 7, 9, 8, 8, 3, 9, 3, 5, 1, 1, 1, 3, 2, 1, 8, 8, 8,\n",
            "        8, 3, 0, 3, 8, 1, 8, 4, 8, 9, 8, 8, 0, 5, 8, 0, 3, 8, 8, 8, 8, 8, 5, 7,\n",
            "        0, 8, 8, 9, 5, 7, 8, 4, 8, 5, 5, 8, 8, 8, 8, 7, 8, 3, 8, 8, 4, 5, 8, 8,\n",
            "        8, 8, 8, 1, 3, 6, 9, 4, 5, 8, 8, 7, 8, 8, 3, 8, 8, 3, 9, 1, 9, 3, 3, 8,\n",
            "        0, 3, 8, 8])\n",
            "tensor([0.1294, 0.1266, 0.1300, 0.1407, 0.1240, 0.1585, 0.1294, 0.1389, 0.1295,\n",
            "        0.1381, 0.1244, 0.1328, 0.1148, 0.1510, 0.1159, 0.1273, 0.1271, 0.1184,\n",
            "        0.1214, 0.1120, 0.1139, 0.1419, 0.1362, 0.1256, 0.1138, 0.1460, 0.1095,\n",
            "        0.1246, 0.1211, 0.1201, 0.1532, 0.1318, 0.1334, 0.1195, 0.1128, 0.1158,\n",
            "        0.1175, 0.1457, 0.1125, 0.1255, 0.1266, 0.1229, 0.1281, 0.1131, 0.1285,\n",
            "        0.1243, 0.1211, 0.1192, 0.1311, 0.1321, 0.1238, 0.1249, 0.1237, 0.1310,\n",
            "        0.1358, 0.1196, 0.1228, 0.1171, 0.1191, 0.1373, 0.1269, 0.1139, 0.1470,\n",
            "        0.1316, 0.1332, 0.1364, 0.1242, 0.1405, 0.1206, 0.1294, 0.1140, 0.1286,\n",
            "        0.1548, 0.1489, 0.1309, 0.1118, 0.1490, 0.1260, 0.1244, 0.1401, 0.1259,\n",
            "        0.1327, 0.1380, 0.1317, 0.1184, 0.1400, 0.1215, 0.1528, 0.1374, 0.1170,\n",
            "        0.1222, 0.1299, 0.1291, 0.1241, 0.1169, 0.1237, 0.1326, 0.1571, 0.1235,\n",
            "        0.1198], grad_fn=<MaxBackward0>)\n"
          ]
        }
      ]
    },
    {
      "cell_type": "code",
      "source": [
        "labels"
      ],
      "metadata": {
        "colab": {
          "base_uri": "https://localhost:8080/"
        },
        "id": "D0uAWLPExlNM",
        "outputId": "2fb727b5-c2be-40f4-fe72-ea559c6f3c69"
      },
      "execution_count": 81,
      "outputs": [
        {
          "output_type": "execute_result",
          "data": {
            "text/plain": [
              "tensor([5, 0, 3, 4, 7, 0, 4, 2, 9, 4, 5, 3, 3, 0, 7, 1, 0, 1, 3, 1, 1, 8, 6, 7,\n",
              "        1, 5, 2, 6, 8, 6, 8, 9, 9, 7, 8, 1, 2, 0, 3, 2, 0, 1, 6, 5, 6, 1, 4, 7,\n",
              "        8, 2, 8, 9, 0, 0, 1, 5, 2, 2, 3, 9, 9, 1, 4, 0, 2, 0, 1, 7, 1, 2, 3, 1,\n",
              "        7, 4, 9, 1, 0, 7, 9, 4, 3, 6, 9, 0, 2, 8, 5, 4, 4, 0, 4, 2, 7, 3, 0, 8,\n",
              "        8, 0, 7, 9])"
            ]
          },
          "metadata": {},
          "execution_count": 81
        }
      ]
    },
    {
      "cell_type": "code",
      "source": [
        "def accuracy(outputs , labels):\n",
        "  max_probs , preds = torch.max(probs,dim=1)\n",
        "  return torch.tensor(torch.sum(preds == labels).item() / len(preds))"
      ],
      "metadata": {
        "id": "ccskPfhuxnZo"
      },
      "execution_count": 82,
      "outputs": []
    },
    {
      "cell_type": "code",
      "source": [
        "accuracy(preds,labels)"
      ],
      "metadata": {
        "colab": {
          "base_uri": "https://localhost:8080/"
        },
        "id": "Bo8xuFExyfxK",
        "outputId": "6687733d-370f-4d98-929a-2b4649ec1789"
      },
      "execution_count": 83,
      "outputs": [
        {
          "output_type": "execute_result",
          "data": {
            "text/plain": [
              "tensor(0.2000)"
            ]
          },
          "metadata": {},
          "execution_count": 83
        }
      ]
    },
    {
      "cell_type": "code",
      "source": [
        "loss_fn = F.cross_entropy\n",
        "\n",
        "loss = loss_fn(outputs,preds)\n",
        "print(loss)"
      ],
      "metadata": {
        "colab": {
          "base_uri": "https://localhost:8080/"
        },
        "id": "Xapz3ronyiaM",
        "outputId": "c0f167b2-adf6-4bdf-8fba-79f02a9b1836"
      },
      "execution_count": 84,
      "outputs": [
        {
          "output_type": "stream",
          "name": "stdout",
          "text": [
            "tensor(2.0563, grad_fn=<NllLossBackward0>)\n"
          ]
        }
      ]
    },
    {
      "cell_type": "code",
      "source": [
        "lr = 0.001\n",
        "optimizer = torch.optim.SGD(model.parameters(),lr)"
      ],
      "metadata": {
        "id": "dffMsP5x0nqy"
      },
      "execution_count": 85,
      "outputs": []
    },
    {
      "cell_type": "code",
      "source": [
        "def loss_batch(model , loss_fn , xb , yb , opt=None , metric = None):\n",
        "  preds = model(xb)\n",
        "  loss = loss_fn(preds,yb)\n",
        "\n",
        "  if opt is not None:\n",
        "    loss.backward()\n",
        "    opt.step()\n",
        "    opt.zero_grad()\n",
        "\n",
        "  metric_results = None\n",
        "  if metric is not None:\n",
        "    metric_results = metric(preds,yb)\n",
        "\n",
        "  return loss.item(),len(xb),metric_results"
      ],
      "metadata": {
        "id": "3fYUF7KI1JCj"
      },
      "execution_count": 86,
      "outputs": []
    },
    {
      "cell_type": "code",
      "source": [
        "def evaluate(model , loss_fn , valid_dl , metric = None):\n",
        "  with torch.no_grad():\n",
        "    results = [loss_batch(model , loss_fn , xb , yb , metric = metric)for xb, yb in valid_dl]\n",
        "    losses , nums , metrics = zip(*results)\n",
        "    total = np.sum(nums)\n",
        "    avg_loss = np.sum(np.multiply(nums,losses)) / total\n",
        "    avg_metric = None\n",
        "    if metric is not None:\n",
        "      avg_metric = np.sum(np.multiply(nums,metrics)) / total\n",
        "    return avg_loss , total , avg_metric"
      ],
      "metadata": {
        "id": "i1ltcwgH2ID5"
      },
      "execution_count": 87,
      "outputs": []
    },
    {
      "cell_type": "code",
      "source": [
        "def accuracy(outputs , labels):\n",
        "  _,preds = torch.max(outputs, dim=1)\n",
        "  return torch.tensor(torch.sum(preds==labels).item() / len(preds))"
      ],
      "metadata": {
        "id": "WHrDr6Y13kb-"
      },
      "execution_count": 88,
      "outputs": []
    },
    {
      "cell_type": "code",
      "source": [
        "val_loss , total , val_accuracy = evaluate(model , loss_fn , val_loader , metric = accuracy)\n",
        "print('Loss:{:.4f},Accuracy:{:.4f}'.format(val_loss,val_accuracy))"
      ],
      "metadata": {
        "colab": {
          "base_uri": "https://localhost:8080/"
        },
        "id": "bVEi9SrM33Sf",
        "outputId": "d5946bf0-2a8b-49a3-f3fe-a41ecc5c5108"
      },
      "execution_count": 89,
      "outputs": [
        {
          "output_type": "stream",
          "name": "stdout",
          "text": [
            "Loss:2.2749,Accuracy:0.1699\n"
          ]
        }
      ]
    },
    {
      "cell_type": "code",
      "source": [
        "def fit(epochs , model , loss_fn , opt , train_dl , val_dl , metric=None):\n",
        "  for epoch in range(epochs):\n",
        "    for xb , yb in train_dl:\n",
        "      loss = loss_batch(model,loss_fn,xb,yb,opt)\n",
        "      result = evaluate(model , loss_fn , val_dl , metric)\n",
        "      val_loss , total , val_metrics = result\n",
        "\n",
        "      if metric is None:\n",
        "        print('Epoch [{}/{}] , loss = {:.4f}'.format(epoch+1 , epochs , val_loss))\n",
        "      else:\n",
        "        print('Epoch [{}/{}] , loss = {:.4f} , {} : {:.4f}'.format(epoch+1 , epochs , val_loss , metric.__name__,val_metrics))"
      ],
      "metadata": {
        "id": "_6DM1PBC4nyw"
      },
      "execution_count": 90,
      "outputs": []
    },
    {
      "cell_type": "code",
      "source": [
        "model = MnistModel()\n",
        "optimizer = torch.optim.SGD(model.parameters() , lr=0.001)"
      ],
      "metadata": {
        "id": "g9izk3_C8Zlp"
      },
      "execution_count": 91,
      "outputs": []
    },
    {
      "cell_type": "code",
      "source": [
        "# fit(5 , model , F.cross_entropy ,optimizer,train_loader,val_loader,accuracy)"
      ],
      "metadata": {
        "id": "aAtErpCb--Ew"
      },
      "execution_count": 92,
      "outputs": []
    },
    {
      "cell_type": "code",
      "source": [
        "test_dataset= MNIST(root='data/',train=False,transform = transforms.ToTensor())"
      ],
      "metadata": {
        "id": "CWWKLlkh_P3l"
      },
      "execution_count": 93,
      "outputs": []
    },
    {
      "cell_type": "code",
      "source": [
        "img, label = test_dataset[0]\n",
        "plt.imshow(img[0], cmap='gray')\n",
        "print('Shape:', img.shape)\n",
        "print('Label:', label)"
      ],
      "metadata": {
        "colab": {
          "base_uri": "https://localhost:8080/",
          "height": 465
        },
        "id": "KYygHwmrGjOO",
        "outputId": "9f9ad8d5-e298-48ee-958b-68b6d0e56feb"
      },
      "execution_count": 94,
      "outputs": [
        {
          "output_type": "stream",
          "name": "stdout",
          "text": [
            "Shape: torch.Size([1, 28, 28])\n",
            "Label: 7\n"
          ]
        },
        {
          "output_type": "display_data",
          "data": {
            "text/plain": [
              "<Figure size 640x480 with 1 Axes>"
            ],
            "image/png": "[encoded data removed]"
          },
          "metadata": {}
        }
      ]
    },
    {
      "cell_type": "code",
      "source": [
        "def predict_image(img, model):\n",
        "    xb = img.unsqueeze(0)\n",
        "    yb = model(xb)\n",
        "    _, preds  = torch.max(yb, dim=1)\n",
        "    return preds[0].item()"
      ],
      "metadata": {
        "id": "5E1a8CHOGysb"
      },
      "execution_count": 95,
      "outputs": []
    },
    {
      "cell_type": "code",
      "source": [
        "img, label = test_dataset[0]\n",
        "plt.imshow(img[0], cmap='gray')\n",
        "print('Label:', label, ', Predicted:', predict_image(img, model))"
      ],
      "metadata": {
        "colab": {
          "base_uri": "https://localhost:8080/",
          "height": 447
        },
        "id": "aVQwDae0HFpe",
        "outputId": "5742f330-d877-4a9d-9158-e8558649925e"
      },
      "execution_count": 96,
      "outputs": [
        {
          "output_type": "stream",
          "name": "stdout",
          "text": [
            "Label: 7 , Predicted: 9\n"
          ]
        },
        {
          "output_type": "display_data",
          "data": {
            "text/plain": [
              "<Figure size 640x480 with 1 Axes>"
            ],
            "image/png": "[encoded data removed]"
          },
          "metadata": {}
        }
      ]
    },
    {
      "cell_type": "code",
      "source": [
        "img, label = test_dataset[10]\n",
        "plt.imshow(img[0], cmap='gray')\n",
        "print('Label:', label, ', Predicted:', predict_image(img, model))"
      ],
      "metadata": {
        "colab": {
          "base_uri": "https://localhost:8080/",
          "height": 447
        },
        "id": "59dUKhX1HSAN",
        "outputId": "22b1c556-57a0-48d5-bbb3-36d0dd129bca"
      },
      "execution_count": 97,
      "outputs": [
        {
          "output_type": "stream",
          "name": "stdout",
          "text": [
            "Label: 0 , Predicted: 2\n"
          ]
        },
        {
          "output_type": "display_data",
          "data": {
            "text/plain": [
              "<Figure size 640x480 with 1 Axes>"
            ],
            "image/png": "[encoded data removed]"
          },
          "metadata": {}
        }
      ]
    },
    {
      "cell_type": "code",
      "source": [
        "img, label = test_dataset[1839]\n",
        "plt.imshow(img[0], cmap='gray')\n",
        "print('Label:', label, ', Predicted:', predict_image(img, model))"
      ],
      "metadata": {
        "colab": {
          "base_uri": "https://localhost:8080/",
          "height": 447
        },
        "id": "2N0hMs3wHUzC",
        "outputId": "868daf88-ad89-4569-fbcd-c98ef71fcc9b"
      },
      "execution_count": 98,
      "outputs": [
        {
          "output_type": "stream",
          "name": "stdout",
          "text": [
            "Label: 2 , Predicted: 0\n"
          ]
        },
        {
          "output_type": "display_data",
          "data": {
            "text/plain": [
              "<Figure size 640x480 with 1 Axes>"
            ],
            "image/png": "[encoded data removed]"
          },
          "metadata": {}
        }
      ]
    },
    {
      "cell_type": "code",
      "source": [
        "test_loader = DataLoader(test_dataset, batch_size=256)\n",
        "result = evaluate(model,F.cross_entropy, test_loader,metric=accuracy)\n",
        "result"
      ],
      "metadata": {
        "colab": {
          "base_uri": "https://localhost:8080/"
        },
        "id": "uDC4RwWYHY6e",
        "outputId": "cd91f10f-191f-475f-9016-5b304a77c999"
      },
      "execution_count": 99,
      "outputs": [
        {
          "output_type": "execute_result",
          "data": {
            "text/plain": [
              "(np.float64(2.3178787593841554), np.int64(10000), np.float64(0.079))"
            ]
          },
          "metadata": {},
          "execution_count": 99
        }
      ]
    },
    {
      "cell_type": "code",
      "source": [
        "torch.save(model.state_dict(), 'mnist-logistic.pth')\n",
        "model.state_dict()"
      ],
      "metadata": {
        "colab": {
          "base_uri": "https://localhost:8080/"
        },
        "id": "eqlrMV_3HeYo",
        "outputId": "9d885087-f1ca-4fb4-dd91-88805a12db17"
      },
      "execution_count": 100,
      "outputs": [
        {
          "output_type": "execute_result",
          "data": {
            "text/plain": [
              "OrderedDict([('linear.weight',\n",
              "              tensor([[ 0.0021,  0.0147, -0.0344,  ..., -0.0232, -0.0189,  0.0273],\n",
              "                      [-0.0056,  0.0357,  0.0118,  ...,  0.0076, -0.0320,  0.0163],\n",
              "                      [-0.0091,  0.0079, -0.0233,  ...,  0.0032,  0.0296, -0.0235],\n",
              "                      ...,\n",
              "                      [ 0.0025,  0.0123, -0.0292,  ..., -0.0031,  0.0097, -0.0028],\n",
              "                      [ 0.0176,  0.0280, -0.0001,  ...,  0.0164,  0.0275, -0.0241],\n",
              "                      [ 0.0197, -0.0140, -0.0333,  ..., -0.0356, -0.0333,  0.0002]])),\n",
              "             ('linear.bias',\n",
              "              tensor([-0.0055,  0.0096, -0.0258, -0.0101, -0.0143,  0.0316,  0.0207, -0.0224,\n",
              "                       0.0229, -0.0322]))])"
            ]
          },
          "metadata": {},
          "execution_count": 100
        }
      ]
    },
    {
      "cell_type": "code",
      "source": [
        "model2 = MnistModel()\n",
        "model2.load_state_dict(torch.load('mnist-logistic.pth'))\n",
        "model2.state_dict()"
      ],
      "metadata": {
        "colab": {
          "base_uri": "https://localhost:8080/"
        },
        "id": "8kWG_lHGJFr9",
        "outputId": "8f173ac4-4db3-41a6-d66d-8a3440b45486"
      },
      "execution_count": 101,
      "outputs": [
        {
          "output_type": "execute_result",
          "data": {
            "text/plain": [
              "OrderedDict([('linear.weight',\n",
              "              tensor([[ 0.0021,  0.0147, -0.0344,  ..., -0.0232, -0.0189,  0.0273],\n",
              "                      [-0.0056,  0.0357,  0.0118,  ...,  0.0076, -0.0320,  0.0163],\n",
              "                      [-0.0091,  0.0079, -0.0233,  ...,  0.0032,  0.0296, -0.0235],\n",
              "                      ...,\n",
              "                      [ 0.0025,  0.0123, -0.0292,  ..., -0.0031,  0.0097, -0.0028],\n",
              "                      [ 0.0176,  0.0280, -0.0001,  ...,  0.0164,  0.0275, -0.0241],\n",
              "                      [ 0.0197, -0.0140, -0.0333,  ..., -0.0356, -0.0333,  0.0002]])),\n",
              "             ('linear.bias',\n",
              "              tensor([-0.0055,  0.0096, -0.0258, -0.0101, -0.0143,  0.0316,  0.0207, -0.0224,\n",
              "                       0.0229, -0.0322]))])"
            ]
          },
          "metadata": {},
          "execution_count": 101
        }
      ]
    },
    {
      "cell_type": "code",
      "source": [
        "test_loader = DataLoader(test_dataset, batch_size=256)\n",
        "result = evaluate(model2, F.cross_entropy,test_loader, metric=accuracy)\n",
        "result"
      ],
      "metadata": {
        "colab": {
          "base_uri": "https://localhost:8080/"
        },
        "id": "wkqcG661JLE9",
        "outputId": "46d9da87-0f00-4683-ce01-dd6412f87758"
      },
      "execution_count": 102,
      "outputs": [
        {
          "output_type": "execute_result",
          "data": {
            "text/plain": [
              "(np.float64(2.3178787593841554), np.int64(10000), np.float64(0.079))"
            ]
          },
          "metadata": {},
          "execution_count": 102
        }
      ]
    },
    {
      "cell_type": "markdown",
      "source": [
        "# **TRAINING DEEP NEURAL NETWORK USING GPU**"
      ],
      "metadata": {
        "id": "u-k6FuRRkdgW"
      }
    },
    {
      "cell_type": "code",
      "source": [
        "import numpy as np\n",
        "import torch\n",
        "import torchvision\n",
        "import matplotlib.pyplot as plt\n",
        "%matplotlib inline\n",
        "from torchvision.datasets import MNIST\n",
        "from torchvision.transforms import ToTensor\n",
        "from torch.utils.data.sampler import SubsetRandomSampler\n",
        "from torch.utils.data import DataLoader"
      ],
      "metadata": {
        "id": "DiXMv3F3JSgV"
      },
      "execution_count": 172,
      "outputs": []
    },
    {
      "cell_type": "code",
      "source": [
        "dataset = MNIST(root='data/' , download=True,transform = transforms.ToTensor())"
      ],
      "metadata": {
        "id": "24xK6bk_k_-C"
      },
      "execution_count": 173,
      "outputs": []
    },
    {
      "cell_type": "code",
      "source": [
        "len(dataset)"
      ],
      "metadata": {
        "colab": {
          "base_uri": "https://localhost:8080/"
        },
        "id": "Hw1U3YHyl0RO",
        "outputId": "382b3823-5072-4190-92cf-051e9c77455c"
      },
      "execution_count": 174,
      "outputs": [
        {
          "output_type": "execute_result",
          "data": {
            "text/plain": [
              "60000"
            ]
          },
          "metadata": {},
          "execution_count": 174
        }
      ]
    },
    {
      "cell_type": "code",
      "source": [
        "img , label = dataset[0]\n",
        "plt.imshow(img[0] , cmap='gray')\n",
        "print(img.shape) , print(label)"
      ],
      "metadata": {
        "colab": {
          "base_uri": "https://localhost:8080/",
          "height": 482
        },
        "id": "II4yWWudl1y0",
        "outputId": "289cfe41-a18b-4f84-8796-8d07676ac0e0"
      },
      "execution_count": 175,
      "outputs": [
        {
          "output_type": "stream",
          "name": "stdout",
          "text": [
            "torch.Size([1, 28, 28])\n",
            "5\n"
          ]
        },
        {
          "output_type": "execute_result",
          "data": {
            "text/plain": [
              "(None, None)"
            ]
          },
          "metadata": {},
          "execution_count": 175
        },
        {
          "output_type": "display_data",
          "data": {
            "text/plain": [
              "<Figure size 640x480 with 1 Axes>"
            ],
            "image/png": "[encoded data removed]"
          },
          "metadata": {}
        }
      ]
    },
    {
      "cell_type": "code",
      "source": [
        "def split_indices(n,val_pct):\n",
        "  n_val = int(n*val_pct)\n",
        "  idxs = np.random.permutation(n)\n",
        "  return idxs[n_val:] , idxs[:n_val]"
      ],
      "metadata": {
        "id": "IrLI1lM4lR5Z"
      },
      "execution_count": 176,
      "outputs": []
    },
    {
      "cell_type": "code",
      "source": [
        "train_indices , val_indices = split_indices(len(dataset),val_pct=0.2)\n",
        "print(len(train_indices)) , print(len(val_indices))"
      ],
      "metadata": {
        "colab": {
          "base_uri": "https://localhost:8080/"
        },
        "id": "roYxaBHjlqRX",
        "outputId": "030baae0-29c2-427f-abb4-5ea9fd4ed68f"
      },
      "execution_count": 177,
      "outputs": [
        {
          "output_type": "stream",
          "name": "stdout",
          "text": [
            "48000\n",
            "12000\n"
          ]
        },
        {
          "output_type": "execute_result",
          "data": {
            "text/plain": [
              "(None, None)"
            ]
          },
          "metadata": {},
          "execution_count": 177
        }
      ]
    },
    {
      "cell_type": "code",
      "source": [
        "batch_size = 100\n",
        "\n",
        "train_sampler = SubsetRandomSampler(train_indices)\n",
        "train_loader = DataLoader(dataset , batch_size=batch_size , sampler = train_sampler)\n",
        "\n",
        "val_sampler = SubsetRandomSampler(val_indices)\n",
        "val_loader = DataLoader(dataset , batch_size=batch_size , sampler = val_sampler)"
      ],
      "metadata": {
        "id": "F1zc3PWIm04U"
      },
      "execution_count": 178,
      "outputs": []
    },
    {
      "cell_type": "code",
      "source": [
        "for images, labels in train_loader:\n",
        "    print(images.shape)  # torch.Size([100, 1, 28, 28])\n",
        "    images_flat = images.view(images.size(0), -1)\n",
        "    print(images_flat.shape)  # torch.Size([100, 784])\n",
        "    break"
      ],
      "metadata": {
        "colab": {
          "base_uri": "https://localhost:8080/"
        },
        "id": "iXYyuuiM76EN",
        "outputId": "5a00d025-0ce9-4893-ff88-01fcbed68300"
      },
      "execution_count": 181,
      "outputs": [
        {
          "output_type": "stream",
          "name": "stdout",
          "text": [
            "torch.Size([100, 1, 28, 28])\n",
            "torch.Size([100, 784])\n"
          ]
        }
      ]
    },
    {
      "cell_type": "code",
      "source": [
        "import torch.nn as nn\n",
        "import torch.nn.functional as F"
      ],
      "metadata": {
        "id": "Fo9GWxHjnR7F"
      },
      "execution_count": 182,
      "outputs": []
    },
    {
      "cell_type": "code",
      "source": [
        "class MnistModel(nn.Module):\n",
        "    def __init__(self,in_size,hidden_size,out_size):\n",
        "      super().__init__()\n",
        "      self.linear1 = nn.Linear(in_size,hidden_size)\n",
        "      self.linear2 = nn.Linear(hidden_size,out_size)\n",
        "\n",
        "    def forward(self,xb):\n",
        "      xb = xb.view(xb.size(0),-1)\n",
        "      out = self.linear1(xb)\n",
        "      out = F.relu(out)\n",
        "      out = self.linear2(out)\n",
        "      return out"
      ],
      "metadata": {
        "id": "Lguiedy3qeoW"
      },
      "execution_count": 183,
      "outputs": []
    },
    {
      "cell_type": "code",
      "source": [
        "input_size = 28*28\n",
        "num_classes = 10\n",
        "\n",
        "model = MnistModel(in_size=input_size,hidden_size=32,out_size=10)"
      ],
      "metadata": {
        "id": "esMTmcOKsImj"
      },
      "execution_count": 184,
      "outputs": []
    },
    {
      "cell_type": "code",
      "source": [
        "for t in model.parameters():\n",
        "  print(t.shape)"
      ],
      "metadata": {
        "colab": {
          "base_uri": "https://localhost:8080/"
        },
        "id": "OKi_j3p-44-h",
        "outputId": "63f10b3b-1428-46b1-bf6a-fa12f1798e43"
      },
      "execution_count": 185,
      "outputs": [
        {
          "output_type": "stream",
          "name": "stdout",
          "text": [
            "torch.Size([32, 784])\n",
            "torch.Size([32])\n",
            "torch.Size([10, 32])\n",
            "torch.Size([10])\n"
          ]
        }
      ]
    },
    {
      "cell_type": "code",
      "source": [
        "for images , labels in train_loader:\n",
        "  outputs = model(images)\n",
        "  loss = F.cross_entropy(outputs,labels)\n",
        "  print('Loss:',loss.item())\n",
        "  break\n",
        "\n",
        "print(outputs.shape)\n",
        "print(outputs[:2])"
      ],
      "metadata": {
        "colab": {
          "base_uri": "https://localhost:8080/"
        },
        "id": "0kF7nGw31CiM",
        "outputId": "8d2e6a9a-9160-4759-a195-072ecc95095f"
      },
      "execution_count": 171,
      "outputs": [
        {
          "output_type": "stream",
          "name": "stdout",
          "text": [
            "Loss: 2.303861141204834\n",
            "torch.Size([100, 10])\n",
            "tensor([[ 0.0813,  0.1808,  0.1341, -0.0028,  0.0312, -0.1947,  0.1108,  0.0099,\n",
            "          0.2166,  0.2002],\n",
            "        [ 0.0676,  0.2377,  0.0166,  0.0404,  0.0893, -0.0598,  0.0405,  0.2004,\n",
            "          0.1546,  0.2677]], grad_fn=<SliceBackward0>)\n"
          ]
        }
      ]
    },
    {
      "cell_type": "code",
      "source": [],
      "metadata": {
        "id": "KsCJ799Y4yr7"
      },
      "execution_count": null,
      "outputs": []
    }
  ]
}