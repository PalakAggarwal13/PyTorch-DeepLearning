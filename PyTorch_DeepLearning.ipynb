{
  "nbformat": 4,
  "nbformat_minor": 0,
  "metadata": {
    "colab": {
      "provenance": [],
      "authorship_tag": "ABX9TyNLdaIRkAfKWGoNcfdePGgV",
      "include_colab_link": true
    },
    "kernelspec": {
      "name": "python3",
      "display_name": "Python 3"
    },
    "language_info": {
      "name": "python"
    }
  },
  "cells": [
    {
      "cell_type": "markdown",
      "metadata": {
        "id": "view-in-github",
        "colab_type": "text"
      },
      "source": [
        "<a href=\"https://colab.research.google.com/github/PalakAggarwal13/PyTorch-DeepLearning/blob/main/PyTorch_DeepLearning.ipynb\" target=\"_parent\"><img src=\"https://colab.research.google.com/assets/colab-badge.svg\" alt=\"Open In Colab\"/></a>"
      ]
    },
    {
      "cell_type": "code",
      "execution_count": 1,
      "metadata": {
        "colab": {
          "base_uri": "https://localhost:8080/"
        },
        "id": "FFfL1fytd3F0",
        "outputId": "74a00d37-1e55-437b-91b9-5c71d9862c57"
      },
      "outputs": [
        {
          "output_type": "stream",
          "name": "stdout",
          "text": [
            "2.6.0+cu124\n"
          ]
        }
      ],
      "source": [
        "import torch\n",
        "print(torch.__version__)"
      ]
    },
    {
      "cell_type": "code",
      "source": [
        "t1 = torch.tensor(4.)\n",
        "t1"
      ],
      "metadata": {
        "colab": {
          "base_uri": "https://localhost:8080/"
        },
        "id": "gYO5bcxAd35P",
        "outputId": "1a735f02-4c96-4a85-9ed3-bf84def7d972"
      },
      "execution_count": 2,
      "outputs": [
        {
          "output_type": "execute_result",
          "data": {
            "text/plain": [
              "tensor(4.)"
            ]
          },
          "metadata": {},
          "execution_count": 2
        }
      ]
    },
    {
      "cell_type": "code",
      "source": [
        "t1.dtype"
      ],
      "metadata": {
        "colab": {
          "base_uri": "https://localhost:8080/"
        },
        "id": "ddQQxG3VhGpO",
        "outputId": "dc26b9b5-bd3f-4a31-e4d9-f9393c888527"
      },
      "execution_count": 3,
      "outputs": [
        {
          "output_type": "execute_result",
          "data": {
            "text/plain": [
              "torch.float32"
            ]
          },
          "metadata": {},
          "execution_count": 3
        }
      ]
    },
    {
      "cell_type": "code",
      "source": [
        "t2 = torch.tensor([1.,2,3,4])\n",
        "t2"
      ],
      "metadata": {
        "colab": {
          "base_uri": "https://localhost:8080/"
        },
        "id": "OvlLNcIHhszW",
        "outputId": "11bc3a00-8c68-4748-8b6f-f0b197bb3142"
      },
      "execution_count": 4,
      "outputs": [
        {
          "output_type": "execute_result",
          "data": {
            "text/plain": [
              "tensor([1., 2., 3., 4.])"
            ]
          },
          "metadata": {},
          "execution_count": 4
        }
      ]
    },
    {
      "cell_type": "code",
      "source": [
        "t2.dtype"
      ],
      "metadata": {
        "colab": {
          "base_uri": "https://localhost:8080/"
        },
        "id": "aaGl-Xvgh-ri",
        "outputId": "e407e9ec-cbf6-4f26-ea19-ef735f8da81d"
      },
      "execution_count": 5,
      "outputs": [
        {
          "output_type": "execute_result",
          "data": {
            "text/plain": [
              "torch.float32"
            ]
          },
          "metadata": {},
          "execution_count": 5
        }
      ]
    },
    {
      "cell_type": "code",
      "source": [
        "t3 = torch.tensor([[1.,2,3],[4,5,6],[7,8,9]])\n",
        "t3"
      ],
      "metadata": {
        "colab": {
          "base_uri": "https://localhost:8080/"
        },
        "id": "TpNRQmJDiAFo",
        "outputId": "dc8bf539-c457-4fe1-c451-5bd903a7bb9f"
      },
      "execution_count": 6,
      "outputs": [
        {
          "output_type": "execute_result",
          "data": {
            "text/plain": [
              "tensor([[1., 2., 3.],\n",
              "        [4., 5., 6.],\n",
              "        [7., 8., 9.]])"
            ]
          },
          "metadata": {},
          "execution_count": 6
        }
      ]
    },
    {
      "cell_type": "code",
      "source": [
        "t3.dtype"
      ],
      "metadata": {
        "colab": {
          "base_uri": "https://localhost:8080/"
        },
        "id": "6HY4PB5tiM1r",
        "outputId": "b0f62765-9c7f-4997-c4e7-49a9cc61c82b"
      },
      "execution_count": 7,
      "outputs": [
        {
          "output_type": "execute_result",
          "data": {
            "text/plain": [
              "torch.float32"
            ]
          },
          "metadata": {},
          "execution_count": 7
        }
      ]
    },
    {
      "cell_type": "code",
      "source": [
        "t4 = torch.tensor([\n",
        "    [[11.,12,13],\n",
        "     [14,15,16]],\n",
        "    [[17,18,19],\n",
        "     [20,21,22]]\n",
        "])\n",
        "t4"
      ],
      "metadata": {
        "colab": {
          "base_uri": "https://localhost:8080/"
        },
        "id": "kdySmY2IiOWR",
        "outputId": "c5d43dd0-d144-4057-dd88-de731a717216"
      },
      "execution_count": 8,
      "outputs": [
        {
          "output_type": "execute_result",
          "data": {
            "text/plain": [
              "tensor([[[11., 12., 13.],\n",
              "         [14., 15., 16.]],\n",
              "\n",
              "        [[17., 18., 19.],\n",
              "         [20., 21., 22.]]])"
            ]
          },
          "metadata": {},
          "execution_count": 8
        }
      ]
    },
    {
      "cell_type": "code",
      "source": [
        "t4.dtype"
      ],
      "metadata": {
        "colab": {
          "base_uri": "https://localhost:8080/"
        },
        "id": "OXpNNB6nih9E",
        "outputId": "5ea65210-ee9c-47c9-87a9-eeedddaa3b7c"
      },
      "execution_count": 9,
      "outputs": [
        {
          "output_type": "execute_result",
          "data": {
            "text/plain": [
              "torch.float32"
            ]
          },
          "metadata": {},
          "execution_count": 9
        }
      ]
    },
    {
      "cell_type": "code",
      "source": [
        "t1.shape"
      ],
      "metadata": {
        "colab": {
          "base_uri": "https://localhost:8080/"
        },
        "id": "dOKOLUgDilKc",
        "outputId": "d8562c2d-093a-48b3-d4de-d075e4788f87"
      },
      "execution_count": 10,
      "outputs": [
        {
          "output_type": "execute_result",
          "data": {
            "text/plain": [
              "torch.Size([])"
            ]
          },
          "metadata": {},
          "execution_count": 10
        }
      ]
    },
    {
      "cell_type": "code",
      "source": [
        "t2.shape"
      ],
      "metadata": {
        "colab": {
          "base_uri": "https://localhost:8080/"
        },
        "id": "SkxGuy4hjLLD",
        "outputId": "b4f8b875-f5bf-4927-abc4-8a4496922eb9"
      },
      "execution_count": 11,
      "outputs": [
        {
          "output_type": "execute_result",
          "data": {
            "text/plain": [
              "torch.Size([4])"
            ]
          },
          "metadata": {},
          "execution_count": 11
        }
      ]
    },
    {
      "cell_type": "code",
      "source": [
        "t3.shape"
      ],
      "metadata": {
        "colab": {
          "base_uri": "https://localhost:8080/"
        },
        "id": "9y7tK4aBjMPs",
        "outputId": "92a22723-9d13-4b44-fb1c-5e1d3103c224"
      },
      "execution_count": 12,
      "outputs": [
        {
          "output_type": "execute_result",
          "data": {
            "text/plain": [
              "torch.Size([3, 3])"
            ]
          },
          "metadata": {},
          "execution_count": 12
        }
      ]
    },
    {
      "cell_type": "code",
      "source": [
        "t4.shape"
      ],
      "metadata": {
        "colab": {
          "base_uri": "https://localhost:8080/"
        },
        "id": "zcGcO44jjNpG",
        "outputId": "0f2fc747-78bf-4046-821d-188e03305077"
      },
      "execution_count": 13,
      "outputs": [
        {
          "output_type": "execute_result",
          "data": {
            "text/plain": [
              "torch.Size([2, 2, 3])"
            ]
          },
          "metadata": {},
          "execution_count": 13
        }
      ]
    },
    {
      "cell_type": "code",
      "source": [
        "x = torch.tensor(3.)\n",
        "w = torch.tensor(4. , requires_grad = True)\n",
        "b = torch.tensor(5. , requires_grad = True)"
      ],
      "metadata": {
        "id": "mzu8O972jOmc"
      },
      "execution_count": 14,
      "outputs": []
    },
    {
      "cell_type": "code",
      "source": [
        "y = w * x + b\n",
        "y"
      ],
      "metadata": {
        "colab": {
          "base_uri": "https://localhost:8080/"
        },
        "id": "5rGJXEfgj5QI",
        "outputId": "585d2702-1a67-49c5-a52b-072e858f83e4"
      },
      "execution_count": 15,
      "outputs": [
        {
          "output_type": "execute_result",
          "data": {
            "text/plain": [
              "tensor(17., grad_fn=<AddBackward0>)"
            ]
          },
          "metadata": {},
          "execution_count": 15
        }
      ]
    },
    {
      "cell_type": "code",
      "source": [
        "y.backward()"
      ],
      "metadata": {
        "id": "AY1dBqeFj_L7"
      },
      "execution_count": 16,
      "outputs": []
    },
    {
      "cell_type": "code",
      "source": [
        "print(\"dy/dx:\" , x.grad)\n",
        "print(\"dy/dw:\" , w.grad)\n",
        "print(\"dy/db:\" , b.grad)"
      ],
      "metadata": {
        "colab": {
          "base_uri": "https://localhost:8080/"
        },
        "id": "NjfCr0vWkD1I",
        "outputId": "9ee75ec3-4f3b-4237-92c2-0837a889bcda"
      },
      "execution_count": 17,
      "outputs": [
        {
          "output_type": "stream",
          "name": "stdout",
          "text": [
            "dy/dx: None\n",
            "dy/dw: tensor(3.)\n",
            "dy/db: tensor(1.)\n"
          ]
        }
      ]
    },
    {
      "cell_type": "code",
      "source": [
        "import numpy as np\n",
        "\n",
        "x = np.array([[1.,2,3],[4,5,6]])\n",
        "x"
      ],
      "metadata": {
        "colab": {
          "base_uri": "https://localhost:8080/"
        },
        "id": "U4nT0ujxlBNn",
        "outputId": "0593282c-7da6-4acf-920b-1099020f8a72"
      },
      "execution_count": 18,
      "outputs": [
        {
          "output_type": "execute_result",
          "data": {
            "text/plain": [
              "array([[1., 2., 3.],\n",
              "       [4., 5., 6.]])"
            ]
          },
          "metadata": {},
          "execution_count": 18
        }
      ]
    },
    {
      "cell_type": "code",
      "source": [
        "y = torch.from_numpy(x)            #or you can do torch.tensor(x)\n",
        "y"
      ],
      "metadata": {
        "colab": {
          "base_uri": "https://localhost:8080/"
        },
        "id": "cXy-KSs-lj5t",
        "outputId": "586dcdb6-0b82-4240-9126-038b0dc42f98"
      },
      "execution_count": 19,
      "outputs": [
        {
          "output_type": "execute_result",
          "data": {
            "text/plain": [
              "tensor([[1., 2., 3.],\n",
              "        [4., 5., 6.]], dtype=torch.float64)"
            ]
          },
          "metadata": {},
          "execution_count": 19
        }
      ]
    },
    {
      "cell_type": "code",
      "source": [
        "x.dtype , y.dtype"
      ],
      "metadata": {
        "colab": {
          "base_uri": "https://localhost:8080/"
        },
        "id": "2me3qH0vlqJO",
        "outputId": "b3f0b6f6-373d-439d-a058-3ff453fb125a"
      },
      "execution_count": 20,
      "outputs": [
        {
          "output_type": "execute_result",
          "data": {
            "text/plain": [
              "(dtype('float64'), torch.float64)"
            ]
          },
          "metadata": {},
          "execution_count": 20
        }
      ]
    },
    {
      "cell_type": "code",
      "source": [
        "z = y.numpy()\n",
        "z"
      ],
      "metadata": {
        "colab": {
          "base_uri": "https://localhost:8080/"
        },
        "id": "OZKO5a8Dl6uF",
        "outputId": "4e50abc2-1d39-48ba-b1b8-11f8480b8133"
      },
      "execution_count": 21,
      "outputs": [
        {
          "output_type": "execute_result",
          "data": {
            "text/plain": [
              "array([[1., 2., 3.],\n",
              "       [4., 5., 6.]])"
            ]
          },
          "metadata": {},
          "execution_count": 21
        }
      ]
    },
    {
      "cell_type": "code",
      "source": [
        "# Input (temp, rainfall, humidity)\n",
        "inputs = np.array([[73, 67, 43],\n",
        "                   [91, 88, 64],\n",
        "                   [87, 134, 58],\n",
        "                   [102, 43, 37],\n",
        "                   [69, 96, 70]], dtype='float32')"
      ],
      "metadata": {
        "id": "rZkbqui7mDPx"
      },
      "execution_count": 22,
      "outputs": []
    },
    {
      "cell_type": "code",
      "source": [
        "# Targets (apples, oranges)\n",
        "targets = np.array([[56, 70],\n",
        "                    [81, 101],\n",
        "                    [119, 133],\n",
        "                    [22, 37],\n",
        "                    [103, 119]], dtype='float32')"
      ],
      "metadata": {
        "id": "RbCZgk3Mn6oK"
      },
      "execution_count": 23,
      "outputs": []
    },
    {
      "cell_type": "code",
      "source": [
        "inputs = torch.tensor(inputs)\n",
        "targets = torch.tensor(targets)\n",
        "print(inputs)\n",
        "print(targets)"
      ],
      "metadata": {
        "colab": {
          "base_uri": "https://localhost:8080/"
        },
        "id": "U70rTdD4n8gC",
        "outputId": "fb4b6cec-7a3f-49b9-8c3a-964bbd18c553"
      },
      "execution_count": 24,
      "outputs": [
        {
          "output_type": "stream",
          "name": "stdout",
          "text": [
            "tensor([[ 73.,  67.,  43.],\n",
            "        [ 91.,  88.,  64.],\n",
            "        [ 87., 134.,  58.],\n",
            "        [102.,  43.,  37.],\n",
            "        [ 69.,  96.,  70.]])\n",
            "tensor([[ 56.,  70.],\n",
            "        [ 81., 101.],\n",
            "        [119., 133.],\n",
            "        [ 22.,  37.],\n",
            "        [103., 119.]])\n"
          ]
        }
      ]
    },
    {
      "cell_type": "code",
      "source": [
        "w = torch.randn(2,3,requires_grad=True)\n",
        "b = torch.randn(2,requires_grad=True)\n",
        "print(w)\n",
        "print(b)"
      ],
      "metadata": {
        "colab": {
          "base_uri": "https://localhost:8080/"
        },
        "id": "PHSbXd-5oCkS",
        "outputId": "6b35afe5-6abe-47a3-b6a1-1850f8a99c08"
      },
      "execution_count": 25,
      "outputs": [
        {
          "output_type": "stream",
          "name": "stdout",
          "text": [
            "tensor([[-2.3157,  0.3720,  1.8833],\n",
            "        [-0.5566,  0.9375, -1.2710]], requires_grad=True)\n",
            "tensor([-0.1533, -0.2004], requires_grad=True)\n"
          ]
        }
      ]
    },
    {
      "cell_type": "code",
      "source": [
        "def model(x):\n",
        "  return x @ w.t() + b"
      ],
      "metadata": {
        "id": "6r2CbP8fohGt"
      },
      "execution_count": 26,
      "outputs": []
    },
    {
      "cell_type": "code",
      "source": [
        "preds = model(inputs)\n",
        "preds"
      ],
      "metadata": {
        "colab": {
          "base_uri": "https://localhost:8080/"
        },
        "id": "74BJm3h1pE2B",
        "outputId": "c7315744-d2fb-4e1e-cf9d-1729a575364d"
      },
      "execution_count": 27,
      "outputs": [
        {
          "output_type": "execute_result",
          "data": {
            "text/plain": [
              "tensor([[ -63.2961,  -32.6758],\n",
              "        [ -57.6178,  -49.6988],\n",
              "        [ -42.5434,    3.2777],\n",
              "        [-150.6801,  -63.6918],\n",
              "        [   7.6042,  -37.5789]], grad_fn=<AddBackward0>)"
            ]
          },
          "metadata": {},
          "execution_count": 27
        }
      ]
    },
    {
      "cell_type": "code",
      "source": [
        "targets"
      ],
      "metadata": {
        "colab": {
          "base_uri": "https://localhost:8080/"
        },
        "id": "1VEWk5zupMnV",
        "outputId": "1a0a72d2-37e9-4f46-bb9b-1fc138de47db"
      },
      "execution_count": 28,
      "outputs": [
        {
          "output_type": "execute_result",
          "data": {
            "text/plain": [
              "tensor([[ 56.,  70.],\n",
              "        [ 81., 101.],\n",
              "        [119., 133.],\n",
              "        [ 22.,  37.],\n",
              "        [103., 119.]])"
            ]
          },
          "metadata": {},
          "execution_count": 28
        }
      ]
    },
    {
      "cell_type": "code",
      "source": [
        "def mse(t1,t2):\n",
        "  diff = t1-t2\n",
        "  return torch.sum(diff * diff) / diff.numel()"
      ],
      "metadata": {
        "id": "rkxvrK7OpOb8"
      },
      "execution_count": 29,
      "outputs": []
    },
    {
      "cell_type": "code",
      "source": [
        "loss = mse(preds , targets)\n",
        "print(loss)  # full tensor"
      ],
      "metadata": {
        "colab": {
          "base_uri": "https://localhost:8080/"
        },
        "id": "Vvh-BcDDqGs2",
        "outputId": "e1f2c63f-48c3-475e-cb8c-08e8721b1657"
      },
      "execution_count": 30,
      "outputs": [
        {
          "output_type": "stream",
          "name": "stdout",
          "text": [
            "tensor(18319.7617, grad_fn=<DivBackward0>)\n"
          ]
        }
      ]
    },
    {
      "cell_type": "code",
      "source": [
        "loss.backward()"
      ],
      "metadata": {
        "id": "sX--rm-tJk_-"
      },
      "execution_count": 31,
      "outputs": []
    },
    {
      "cell_type": "code",
      "source": [
        "print(\"dl/dw : \" , w.grad)\n",
        "print(\"dl/db : \" , b.grad)"
      ],
      "metadata": {
        "colab": {
          "base_uri": "https://localhost:8080/"
        },
        "id": "5PM7mOe8Khg-",
        "outputId": "1eac7459-ed37-4267-cabf-19a695f43a20"
      },
      "execution_count": 32,
      "outputs": [
        {
          "output_type": "stream",
          "name": "stdout",
          "text": [
            "dl/dw :  tensor([[-11914.5576, -11684.2529,  -7287.5312],\n",
            "        [-10713.8555, -11376.9785,  -7253.9600]])\n",
            "dl/db :  tensor([-137.5066, -128.0735])\n"
          ]
        }
      ]
    },
    {
      "cell_type": "code",
      "source": [
        "w.grad.zero_()\n",
        "b.grad.zero_()\n",
        "print(w.grad)\n",
        "print(b.grad)"
      ],
      "metadata": {
        "colab": {
          "base_uri": "https://localhost:8080/"
        },
        "id": "ZpqA0PfjMYQM",
        "outputId": "7639cc66-1ed2-4a5b-f7b5-d4d23d0897d2"
      },
      "execution_count": 33,
      "outputs": [
        {
          "output_type": "stream",
          "name": "stdout",
          "text": [
            "tensor([[0., 0., 0.],\n",
            "        [0., 0., 0.]])\n",
            "tensor([0., 0.])\n"
          ]
        }
      ]
    },
    {
      "cell_type": "markdown",
      "source": [
        "# **GRADIENT DESCENT**"
      ],
      "metadata": {
        "id": "UxbtjsO3aBpS"
      }
    },
    {
      "cell_type": "code",
      "source": [
        "import torch\n",
        "\n",
        "inputs = np.array([[73, 67, 43],\n",
        "                   [91, 88, 64],\n",
        "                   [87, 134, 58],\n",
        "                   [102, 43, 37],\n",
        "                   [69, 96, 70]], dtype='float32')\n",
        "\n",
        "targets = np.array([[56, 70],\n",
        "                    [81, 101],\n",
        "                    [119, 133],\n",
        "                    [22, 37],\n",
        "                    [103, 119]], dtype='float32')\n",
        "\n",
        "inputs = torch.tensor(inputs)\n",
        "targets = torch.tensor(targets)\n",
        "\n",
        "w = torch.randn(2,3,requires_grad=True)\n",
        "b = torch.randn(2,requires_grad=True)\n",
        "\n",
        "lr = 1e-5\n",
        "\n",
        "def mse(preds,targets):\n",
        "  return torch.mean((preds-targets)**2)\n",
        "\n",
        "for epoch in range(100):\n",
        "\n",
        "  preds = inputs @ w.t() + b\n",
        "  loss  = mse(preds,targets)\n",
        "\n",
        "  loss.backward()\n",
        "\n",
        "  with torch.no_grad():\n",
        "    w -= lr * w.grad\n",
        "    b -= lr * b.grad\n",
        "\n",
        "    w.grad.zero_()\n",
        "    b.grad.zero_()\n",
        "\n",
        "  if epoch % 10 == 0:\n",
        "        print(f\"Epoch {epoch}: Loss = {loss.item():.4f} ,  w =\\n{w} , b = {b}\")"
      ],
      "metadata": {
        "colab": {
          "base_uri": "https://localhost:8080/"
        },
        "id": "vxjbcMa-d6yi",
        "outputId": "bdda09d1-0656-41c6-d474-e656ff87f889"
      },
      "execution_count": 34,
      "outputs": [
        {
          "output_type": "stream",
          "name": "stdout",
          "text": [
            "Epoch 0: Loss = 9835.3018 ,  w =\n",
            "tensor([[-0.5230, -0.4067,  1.4474],\n",
            "        [-1.5611,  0.9949,  1.1242]], requires_grad=True) , b = tensor([-1.0581, -1.3843], requires_grad=True)\n",
            "Epoch 10: Loss = 715.5101 ,  w =\n",
            "tensor([[-0.2262, -0.0269,  1.6563],\n",
            "        [-1.2043,  1.2793,  1.3177]], requires_grad=True) , b = tensor([-1.0545, -1.3804], requires_grad=True)\n",
            "Epoch 20: Loss = 483.5219 ,  w =\n",
            "tensor([[-0.2075,  0.0505,  1.6795],\n",
            "        [-1.1132,  1.2844,  1.3376]], requires_grad=True) , b = tensor([-1.0542, -1.3795], requires_grad=True)\n",
            "Epoch 30: Loss = 429.7278 ,  w =\n",
            "tensor([[-0.2260,  0.0845,  1.6768],\n",
            "        [-1.0615,  1.2530,  1.3337]], requires_grad=True) , b = tensor([-1.0544, -1.3792], requires_grad=True)\n",
            "Epoch 40: Loss = 385.1366 ,  w =\n",
            "tensor([[-0.2483,  0.1113,  1.6705],\n",
            "        [-1.0177,  1.2184,  1.3267]], requires_grad=True) , b = tensor([-1.0546, -1.3789], requires_grad=True)\n",
            "Epoch 50: Loss = 345.7991 ,  w =\n",
            "tensor([[-0.2697,  0.1358,  1.6635],\n",
            "        [-0.9772,  1.1854,  1.3195]], requires_grad=True) , b = tensor([-1.0548, -1.3786], requires_grad=True)\n",
            "Epoch 60: Loss = 311.0357 ,  w =\n",
            "tensor([[-0.2899,  0.1589,  1.6565],\n",
            "        [-0.9392,  1.1544,  1.3126]], requires_grad=True) , b = tensor([-1.0550, -1.3783], requires_grad=True)\n",
            "Epoch 70: Loss = 280.3015 ,  w =\n",
            "tensor([[-0.3086,  0.1808,  1.6494],\n",
            "        [-0.9035,  1.1253,  1.3059]], requires_grad=True) , b = tensor([-1.0552, -1.3781], requires_grad=True)\n",
            "Epoch 80: Loss = 253.1181 ,  w =\n",
            "tensor([[-0.3261,  0.2015,  1.6422],\n",
            "        [-0.8700,  1.0981,  1.2994]], requires_grad=True) , b = tensor([-1.0554, -1.3779], requires_grad=True)\n",
            "Epoch 90: Loss = 229.0636 ,  w =\n",
            "tensor([[-0.3424,  0.2212,  1.6350],\n",
            "        [-0.8385,  1.0726,  1.2932]], requires_grad=True) , b = tensor([-1.0555, -1.3777], requires_grad=True)\n"
          ]
        }
      ]
    },
    {
      "cell_type": "markdown",
      "source": [
        "# **Linear regression using PyTorch built-ins**"
      ],
      "metadata": {
        "id": "DeW3MXE4i206"
      }
    },
    {
      "cell_type": "code",
      "source": [
        "import torch.nn as nn"
      ],
      "metadata": {
        "id": "HdRpPbfzgcoV"
      },
      "execution_count": 35,
      "outputs": []
    },
    {
      "cell_type": "code",
      "source": [
        "# Input (temp, rainfall, humidity)\n",
        "inputs = np.array([[73, 67, 43], [91, 88, 64], [87, 134, 58],\n",
        "                   [102, 43, 37], [69, 96, 70], [73, 67, 43],\n",
        "                   [91, 88, 64], [87, 134, 58], [102, 43, 37],\n",
        "                   [69, 96, 70], [73, 67, 43], [91, 88, 64],\n",
        "                   [87, 134, 58], [102, 43, 37], [69, 96, 70]],\n",
        "                  dtype='float32')\n",
        "\n",
        "# Targets (apples, oranges)\n",
        "targets = np.array([[56, 70], [81, 101], [119, 133],\n",
        "                    [22, 37], [103, 119], [56, 70],\n",
        "                    [81, 101], [119, 133], [22, 37],\n",
        "                    [103, 119], [56, 70], [81, 101],\n",
        "                    [119, 133], [22, 37], [103, 119]],\n",
        "                   dtype='float32')\n",
        "\n",
        "inputs = torch.from_numpy(inputs)\n",
        "targets = torch.from_numpy(targets)"
      ],
      "metadata": {
        "id": "DTiQ-ckNi8I3"
      },
      "execution_count": 36,
      "outputs": []
    },
    {
      "cell_type": "code",
      "source": [
        "from torch.utils.data import TensorDataset"
      ],
      "metadata": {
        "id": "_T6rf399jANu"
      },
      "execution_count": 37,
      "outputs": []
    },
    {
      "cell_type": "code",
      "source": [
        "train_ds = TensorDataset(inputs,targets)\n",
        "train_ds[0:3]"
      ],
      "metadata": {
        "colab": {
          "base_uri": "https://localhost:8080/"
        },
        "id": "-GtRDStIj47U",
        "outputId": "a6fa8621-3e12-4fdc-cb10-76e0ea4a9ce5"
      },
      "execution_count": 38,
      "outputs": [
        {
          "output_type": "execute_result",
          "data": {
            "text/plain": [
              "(tensor([[ 73.,  67.,  43.],\n",
              "         [ 91.,  88.,  64.],\n",
              "         [ 87., 134.,  58.]]),\n",
              " tensor([[ 56.,  70.],\n",
              "         [ 81., 101.],\n",
              "         [119., 133.]]))"
            ]
          },
          "metadata": {},
          "execution_count": 38
        }
      ]
    },
    {
      "cell_type": "code",
      "source": [
        "from torch.utils.data import DataLoader"
      ],
      "metadata": {
        "id": "aUo61_X6ld-V"
      },
      "execution_count": 39,
      "outputs": []
    },
    {
      "cell_type": "code",
      "source": [
        "batch_size=5\n",
        "train_dl = DataLoader(train_ds,batch_size,shuffle=True)"
      ],
      "metadata": {
        "id": "gCtlSnEglrHC"
      },
      "execution_count": 40,
      "outputs": []
    },
    {
      "cell_type": "code",
      "source": [
        "i=0\n",
        "for xb,yb in train_dl:\n",
        "  print(f\"batch:{i} \")\n",
        "  print(xb)\n",
        "  print(yb)\n",
        "  i +=1"
      ],
      "metadata": {
        "colab": {
          "base_uri": "https://localhost:8080/"
        },
        "id": "sMGPsnfml1xe",
        "outputId": "d8d6a0fe-4a46-477b-d08b-dc66972df294"
      },
      "execution_count": 41,
      "outputs": [
        {
          "output_type": "stream",
          "name": "stdout",
          "text": [
            "batch:0 \n",
            "tensor([[ 91.,  88.,  64.],\n",
            "        [102.,  43.,  37.],\n",
            "        [ 69.,  96.,  70.],\n",
            "        [ 69.,  96.,  70.],\n",
            "        [ 73.,  67.,  43.]])\n",
            "tensor([[ 81., 101.],\n",
            "        [ 22.,  37.],\n",
            "        [103., 119.],\n",
            "        [103., 119.],\n",
            "        [ 56.,  70.]])\n",
            "batch:1 \n",
            "tensor([[102.,  43.,  37.],\n",
            "        [ 87., 134.,  58.],\n",
            "        [ 91.,  88.,  64.],\n",
            "        [ 87., 134.,  58.],\n",
            "        [ 87., 134.,  58.]])\n",
            "tensor([[ 22.,  37.],\n",
            "        [119., 133.],\n",
            "        [ 81., 101.],\n",
            "        [119., 133.],\n",
            "        [119., 133.]])\n",
            "batch:2 \n",
            "tensor([[102.,  43.,  37.],\n",
            "        [ 91.,  88.,  64.],\n",
            "        [ 73.,  67.,  43.],\n",
            "        [ 73.,  67.,  43.],\n",
            "        [ 69.,  96.,  70.]])\n",
            "tensor([[ 22.,  37.],\n",
            "        [ 81., 101.],\n",
            "        [ 56.,  70.],\n",
            "        [ 56.,  70.],\n",
            "        [103., 119.]])\n"
          ]
        }
      ]
    },
    {
      "cell_type": "code",
      "source": [
        "model = nn.Linear(3,2)\n",
        "print(model.weight)\n",
        "print(model.bias)"
      ],
      "metadata": {
        "colab": {
          "base_uri": "https://localhost:8080/"
        },
        "id": "rHZhDclgmGQY",
        "outputId": "56f85810-0c38-4bef-bf51-d4c4788ddbdd"
      },
      "execution_count": 42,
      "outputs": [
        {
          "output_type": "stream",
          "name": "stdout",
          "text": [
            "Parameter containing:\n",
            "tensor([[ 0.0510, -0.1330, -0.0955],\n",
            "        [-0.4604, -0.4728, -0.5386]], requires_grad=True)\n",
            "Parameter containing:\n",
            "tensor([ 0.3812, -0.3338], requires_grad=True)\n"
          ]
        }
      ]
    },
    {
      "cell_type": "code",
      "source": [
        "list(model.parameters())"
      ],
      "metadata": {
        "colab": {
          "base_uri": "https://localhost:8080/"
        },
        "id": "0EGSCTgB0X_X",
        "outputId": "0d0f5177-3e92-4479-d949-35656674f846"
      },
      "execution_count": 43,
      "outputs": [
        {
          "output_type": "execute_result",
          "data": {
            "text/plain": [
              "[Parameter containing:\n",
              " tensor([[ 0.0510, -0.1330, -0.0955],\n",
              "         [-0.4604, -0.4728, -0.5386]], requires_grad=True),\n",
              " Parameter containing:\n",
              " tensor([ 0.3812, -0.3338], requires_grad=True)]"
            ]
          },
          "metadata": {},
          "execution_count": 43
        }
      ]
    },
    {
      "cell_type": "code",
      "source": [
        "import torch.nn.functional as F"
      ],
      "metadata": {
        "id": "0rkMkx-t0pyM"
      },
      "execution_count": 44,
      "outputs": []
    },
    {
      "cell_type": "code",
      "source": [
        "loss_fn = F.mse_loss"
      ],
      "metadata": {
        "id": "x6aeb-lF1UkP"
      },
      "execution_count": 45,
      "outputs": []
    },
    {
      "cell_type": "code",
      "source": [
        "loss = loss_fn(model(inputs),targets)\n",
        "print(loss)"
      ],
      "metadata": {
        "colab": {
          "base_uri": "https://localhost:8080/"
        },
        "id": "aiypHFUK1aXC",
        "outputId": "fa729619-788e-43ef-857f-64d33b1616dc"
      },
      "execution_count": 46,
      "outputs": [
        {
          "output_type": "stream",
          "name": "stdout",
          "text": [
            "tensor(26212.5312, grad_fn=<MseLossBackward0>)\n"
          ]
        }
      ]
    },
    {
      "cell_type": "code",
      "source": [
        "opt = torch.optim.SGD(model.parameters(),lr=1e-5)"
      ],
      "metadata": {
        "id": "euoBBLyb1tQN"
      },
      "execution_count": 47,
      "outputs": []
    },
    {
      "cell_type": "code",
      "source": [
        "def fit(num_epochs,model,loss_fn,opt):\n",
        "  for epoch in range(num_epochs):\n",
        "    for xb,yb in train_dl:\n",
        "      preds = model(xb)\n",
        "      loss = loss_fn(preds,yb)\n",
        "      loss.backward()\n",
        "      opt.step()\n",
        "      opt.zero_grad()\n",
        "\n",
        "    if (epoch+1) % 10 == 0:\n",
        "          print('Epoch [{}/{}], Loss: {:.4f}'.format(epoch+1, num_epochs, loss.item()))"
      ],
      "metadata": {
        "id": "Gb5xCKNi2F_3"
      },
      "execution_count": 48,
      "outputs": []
    },
    {
      "cell_type": "code",
      "source": [
        "fit(100, model, loss_fn, opt)"
      ],
      "metadata": {
        "colab": {
          "base_uri": "https://localhost:8080/"
        },
        "id": "Q_cTTXZq20bV",
        "outputId": "205d7eae-32f5-408c-d92a-9ee99d3986a6"
      },
      "execution_count": 49,
      "outputs": [
        {
          "output_type": "stream",
          "name": "stdout",
          "text": [
            "Epoch [10/100], Loss: 721.7936\n",
            "Epoch [20/100], Loss: 239.1852\n",
            "Epoch [30/100], Loss: 211.0230\n",
            "Epoch [40/100], Loss: 115.4425\n",
            "Epoch [50/100], Loss: 158.9163\n",
            "Epoch [60/100], Loss: 81.5605\n",
            "Epoch [70/100], Loss: 69.3169\n",
            "Epoch [80/100], Loss: 53.2761\n",
            "Epoch [90/100], Loss: 41.9194\n",
            "Epoch [100/100], Loss: 48.0343\n"
          ]
        }
      ]
    },
    {
      "cell_type": "code",
      "source": [
        "# Generate predictions\n",
        "preds = model(inputs)\n",
        "preds"
      ],
      "metadata": {
        "colab": {
          "base_uri": "https://localhost:8080/"
        },
        "id": "fRsg1sHd3Sqj",
        "outputId": "7f642b86-7d40-410b-a800-1705ea4ed00a"
      },
      "execution_count": 50,
      "outputs": [
        {
          "output_type": "execute_result",
          "data": {
            "text/plain": [
              "tensor([[ 58.6796,  71.6782],\n",
              "        [ 80.6999,  97.1156],\n",
              "        [119.5133, 138.6631],\n",
              "        [ 29.3957,  44.9792],\n",
              "        [ 94.5347, 108.2552],\n",
              "        [ 58.6796,  71.6782],\n",
              "        [ 80.6999,  97.1156],\n",
              "        [119.5133, 138.6631],\n",
              "        [ 29.3957,  44.9792],\n",
              "        [ 94.5347, 108.2552],\n",
              "        [ 58.6796,  71.6782],\n",
              "        [ 80.6999,  97.1156],\n",
              "        [119.5133, 138.6631],\n",
              "        [ 29.3957,  44.9792],\n",
              "        [ 94.5347, 108.2552]], grad_fn=<AddmmBackward0>)"
            ]
          },
          "metadata": {},
          "execution_count": 50
        }
      ]
    },
    {
      "cell_type": "code",
      "source": [
        "# Compare with targets\n",
        "targets"
      ],
      "metadata": {
        "colab": {
          "base_uri": "https://localhost:8080/"
        },
        "id": "3naiUeT43ZpE",
        "outputId": "0776069f-7b4c-4036-91df-63747761d709"
      },
      "execution_count": 51,
      "outputs": [
        {
          "output_type": "execute_result",
          "data": {
            "text/plain": [
              "tensor([[ 56.,  70.],\n",
              "        [ 81., 101.],\n",
              "        [119., 133.],\n",
              "        [ 22.,  37.],\n",
              "        [103., 119.],\n",
              "        [ 56.,  70.],\n",
              "        [ 81., 101.],\n",
              "        [119., 133.],\n",
              "        [ 22.,  37.],\n",
              "        [103., 119.],\n",
              "        [ 56.,  70.],\n",
              "        [ 81., 101.],\n",
              "        [119., 133.],\n",
              "        [ 22.,  37.],\n",
              "        [103., 119.]])"
            ]
          },
          "metadata": {},
          "execution_count": 51
        }
      ]
    },
    {
      "cell_type": "markdown",
      "source": [
        "# **Working with Images & Logistic Regression in PyTorch**"
      ],
      "metadata": {
        "id": "Wp3CGyh--bWb"
      }
    },
    {
      "cell_type": "code",
      "source": [
        "import torch\n",
        "import torchvision\n",
        "from torchvision.datasets import MNIST"
      ],
      "metadata": {
        "id": "YU6-eirG3bvN"
      },
      "execution_count": 52,
      "outputs": []
    },
    {
      "cell_type": "code",
      "source": [
        "dataset = MNIST(root='data/',download=True)"
      ],
      "metadata": {
        "colab": {
          "base_uri": "https://localhost:8080/"
        },
        "id": "qvkOY8KH-sjA",
        "outputId": "922e31cd-197d-4f49-d832-316d50a47178"
      },
      "execution_count": 53,
      "outputs": [
        {
          "output_type": "stream",
          "name": "stderr",
          "text": [
            "100%|██████████| 9.91M/9.91M [00:00<00:00, 38.6MB/s]\n",
            "100%|██████████| 28.9k/28.9k [00:00<00:00, 1.08MB/s]\n",
            "100%|██████████| 1.65M/1.65M [00:00<00:00, 9.69MB/s]\n",
            "100%|██████████| 4.54k/4.54k [00:00<00:00, 6.39MB/s]\n"
          ]
        }
      ]
    },
    {
      "cell_type": "code",
      "source": [
        "len(dataset)"
      ],
      "metadata": {
        "colab": {
          "base_uri": "https://localhost:8080/"
        },
        "id": "Nk26RNZI-0d_",
        "outputId": "40ea4d1e-e38a-4de2-a6d9-9e985c43ccf8"
      },
      "execution_count": 54,
      "outputs": [
        {
          "output_type": "execute_result",
          "data": {
            "text/plain": [
              "60000"
            ]
          },
          "metadata": {},
          "execution_count": 54
        }
      ]
    },
    {
      "cell_type": "code",
      "source": [
        "test_dataset = MNIST(root='data/',train=False)\n",
        "len(test_dataset)"
      ],
      "metadata": {
        "colab": {
          "base_uri": "https://localhost:8080/"
        },
        "id": "hE8bSQyp-3G9",
        "outputId": "813e6d22-f133-489e-8e9d-10b3292d0ca0"
      },
      "execution_count": 55,
      "outputs": [
        {
          "output_type": "execute_result",
          "data": {
            "text/plain": [
              "10000"
            ]
          },
          "metadata": {},
          "execution_count": 55
        }
      ]
    },
    {
      "cell_type": "code",
      "source": [
        "dataset[0]"
      ],
      "metadata": {
        "colab": {
          "base_uri": "https://localhost:8080/"
        },
        "id": "1FKWNBsi_AVm",
        "outputId": "0b14a268-0fd7-46f1-ce63-82a72711ad79"
      },
      "execution_count": 56,
      "outputs": [
        {
          "output_type": "execute_result",
          "data": {
            "text/plain": [
              "(<PIL.Image.Image image mode=L size=28x28>, 5)"
            ]
          },
          "metadata": {},
          "execution_count": 56
        }
      ]
    },
    {
      "cell_type": "code",
      "source": [
        "import matplotlib.pyplot as plt\n",
        "%matplotlib inline"
      ],
      "metadata": {
        "id": "xtdHRScG_DQe"
      },
      "execution_count": 57,
      "outputs": []
    },
    {
      "cell_type": "code",
      "source": [
        "image , label = dataset[0]\n",
        "plt.imshow(image , cmap='gray')\n",
        "print(\"Label:\" ,label)"
      ],
      "metadata": {
        "colab": {
          "base_uri": "https://localhost:8080/",
          "height": 447
        },
        "id": "7K3t5DsZ_Fcd",
        "outputId": "341a1c03-b01b-47ed-9bda-32484f46c013"
      },
      "execution_count": 58,
      "outputs": [
        {
          "output_type": "stream",
          "name": "stdout",
          "text": [
            "Label: 5\n"
          ]
        },
        {
          "output_type": "display_data",
          "data": {
            "text/plain": [
              "<Figure size 640x480 with 1 Axes>"
            ],
            "image/png": "[encoded data removed]"
          },
          "metadata": {}
        }
      ]
    },
    {
      "cell_type": "code",
      "source": [
        "image , label = dataset[7]\n",
        "plt.imshow(image , cmap='gray')\n",
        "print(\"Label:\" , label)"
      ],
      "metadata": {
        "colab": {
          "base_uri": "https://localhost:8080/",
          "height": 447
        },
        "id": "YF8YvGnE_eCR",
        "outputId": "d05665e1-8181-4a2b-9153-089c36e72918"
      },
      "execution_count": 59,
      "outputs": [
        {
          "output_type": "stream",
          "name": "stdout",
          "text": [
            "Label: 3\n"
          ]
        },
        {
          "output_type": "display_data",
          "data": {
            "text/plain": [
              "<Figure size 640x480 with 1 Axes>"
            ],
            "image/png": "[encoded data removed]"
          },
          "metadata": {}
        }
      ]
    },
    {
      "cell_type": "code",
      "source": [
        "import torchvision.transforms as transforms"
      ],
      "metadata": {
        "id": "cli53lPw_omt"
      },
      "execution_count": 60,
      "outputs": []
    },
    {
      "cell_type": "code",
      "source": [
        "dataset = MNIST(root='data/',train=True,transform=transforms.ToTensor())"
      ],
      "metadata": {
        "id": "ird-_9Qw_wsf"
      },
      "execution_count": 61,
      "outputs": []
    },
    {
      "cell_type": "code",
      "source": [
        "img_tensor, label = dataset[0]\n",
        "print(img_tensor.shape, label)"
      ],
      "metadata": {
        "colab": {
          "base_uri": "https://localhost:8080/"
        },
        "id": "HeSFh3So_8J-",
        "outputId": "d79b3f7d-ce76-4874-b34b-ae9ee8fe9020"
      },
      "execution_count": 62,
      "outputs": [
        {
          "output_type": "stream",
          "name": "stdout",
          "text": [
            "torch.Size([1, 28, 28]) 5\n"
          ]
        }
      ]
    },
    {
      "cell_type": "code",
      "source": [
        "print(img_tensor[:,10:15,10:15])\n",
        "print(torch.max(img_tensor), torch.min(img_tensor))"
      ],
      "metadata": {
        "colab": {
          "base_uri": "https://localhost:8080/"
        },
        "id": "gxnQpJ8YABxk",
        "outputId": "1e427e71-0693-4bf6-84f3-0e54c34c17ad"
      },
      "execution_count": 63,
      "outputs": [
        {
          "output_type": "stream",
          "name": "stdout",
          "text": [
            "tensor([[[0.0039, 0.6039, 0.9922, 0.3529, 0.0000],\n",
            "         [0.0000, 0.5451, 0.9922, 0.7451, 0.0078],\n",
            "         [0.0000, 0.0431, 0.7451, 0.9922, 0.2745],\n",
            "         [0.0000, 0.0000, 0.1373, 0.9451, 0.8824],\n",
            "         [0.0000, 0.0000, 0.0000, 0.3176, 0.9412]]])\n",
            "tensor(1.) tensor(0.)\n"
          ]
        }
      ]
    },
    {
      "cell_type": "code",
      "source": [
        "plt.imshow(img_tensor[0,10:15,10:15],cmap='gray');"
      ],
      "metadata": {
        "colab": {
          "base_uri": "https://localhost:8080/",
          "height": 430
        },
        "id": "enGtSN9KAXmB",
        "outputId": "4c9300b4-abfc-4a4e-9309-0f76e5d0ec3d"
      },
      "execution_count": 64,
      "outputs": [
        {
          "output_type": "display_data",
          "data": {
            "text/plain": [
              "<Figure size 640x480 with 1 Axes>"
            ],
            "image/png": "[encoded data removed]"
          },
          "metadata": {}
        }
      ]
    },
    {
      "cell_type": "code",
      "source": [
        "from torch.utils.data import random_split\n",
        "\n",
        "train_ds , val_ds = random_split(dataset,[50000,10000])\n",
        "len(train_ds) , len(val_ds)"
      ],
      "metadata": {
        "colab": {
          "base_uri": "https://localhost:8080/"
        },
        "id": "GbT9R4xeAgR-",
        "outputId": "416fb7ef-aa4d-4cb8-a6cc-074e26803bfb"
      },
      "execution_count": 65,
      "outputs": [
        {
          "output_type": "execute_result",
          "data": {
            "text/plain": [
              "(50000, 10000)"
            ]
          },
          "metadata": {},
          "execution_count": 65
        }
      ]
    },
    {
      "cell_type": "code",
      "source": [
        "from torch.utils.data import DataLoader\n",
        "\n",
        "batch_size=128\n",
        "\n",
        "train_loader = DataLoader(train_ds,batch_size,shuffle=True)\n",
        "val_loader = DataLoader(val_ds,batch_size)"
      ],
      "metadata": {
        "id": "w-CCo7-_BsVh"
      },
      "execution_count": 66,
      "outputs": []
    },
    {
      "cell_type": "code",
      "source": [
        "import numpy as np\n",
        "\n",
        "def split_indices(n,val_pct):\n",
        "  n_val = int(val_pct*n)\n",
        "  idxs = np.random.permutation(n)\n",
        "  return idxs[n_val:] , idxs[:n_val]"
      ],
      "metadata": {
        "id": "czIatUerCMog"
      },
      "execution_count": 67,
      "outputs": []
    },
    {
      "cell_type": "code",
      "source": [
        "train_indices , val_indices = split_indices(len(dataset),val_pct=0.2)"
      ],
      "metadata": {
        "id": "QuTcQxbpcvvv"
      },
      "execution_count": 68,
      "outputs": []
    },
    {
      "cell_type": "code",
      "source": [
        "print(len(train_indices)) , print(len(val_indices))\n",
        "print(\"sample val_indices : \", val_indices[:20])"
      ],
      "metadata": {
        "colab": {
          "base_uri": "https://localhost:8080/"
        },
        "id": "jnJjX01VdFQI",
        "outputId": "7fac43f4-db66-4868-de38-91acf237905d"
      },
      "execution_count": 69,
      "outputs": [
        {
          "output_type": "stream",
          "name": "stdout",
          "text": [
            "48000\n",
            "12000\n",
            "sample val_indices :  [12320 38469 39362 52901 52185 54438   166 24390 37840 30285 31265 47162\n",
            " 53873 25357 24129  6285 18557 17302 18921 57958]\n"
          ]
        }
      ]
    },
    {
      "cell_type": "code",
      "source": [
        "from torch.utils.data.sampler import SubsetRandomSampler\n",
        "from torch.utils.data.dataloader import DataLoader"
      ],
      "metadata": {
        "id": "HM9cdQB7dWAo"
      },
      "execution_count": 70,
      "outputs": []
    },
    {
      "cell_type": "code",
      "source": [
        "batch_size = 100\n",
        "\n",
        "train_sampler = SubsetRandomSampler(train_indices)\n",
        "train_loader = DataLoader(dataset,\n",
        "                          batch_size,\n",
        "                          sampler = train_sampler)\n",
        "\n",
        "val_sampler = SubsetRandomSampler(val_indices)\n",
        "val_loader = DataLoader(dataset,\n",
        "                        batch_size,\n",
        "                        sampler = val_indices)"
      ],
      "metadata": {
        "id": "lMFzRC2oeqMt"
      },
      "execution_count": 71,
      "outputs": []
    },
    {
      "cell_type": "code",
      "source": [
        "print(\"xb.shape before flattening:\", xb.shape)"
      ],
      "metadata": {
        "id": "_byaF0vhAKh8",
        "colab": {
          "base_uri": "https://localhost:8080/"
        },
        "outputId": "a8bc7366-efef-4f36-eef6-6e7d557b843e"
      },
      "execution_count": 72,
      "outputs": [
        {
          "output_type": "stream",
          "name": "stdout",
          "text": [
            "xb.shape before flattening: torch.Size([5, 3])\n"
          ]
        }
      ]
    },
    {
      "cell_type": "code",
      "source": [
        "import torch.nn as nn\n",
        "\n",
        "input_size = 28*28\n",
        "num_classes = 10\n",
        "\n",
        "model = nn.Linear(input_size,num_classes)"
      ],
      "metadata": {
        "id": "-BPFw0IqfqEV"
      },
      "execution_count": 73,
      "outputs": []
    },
    {
      "cell_type": "code",
      "source": [
        "print(model.weight.shape)\n",
        "print(model.weight)"
      ],
      "metadata": {
        "colab": {
          "base_uri": "https://localhost:8080/"
        },
        "id": "FVxG03NKiPXc",
        "outputId": "5af21a12-f2e7-453d-ddd2-921021cc17c6"
      },
      "execution_count": 74,
      "outputs": [
        {
          "output_type": "stream",
          "name": "stdout",
          "text": [
            "torch.Size([10, 784])\n",
            "Parameter containing:\n",
            "tensor([[ 0.0283,  0.0208,  0.0171,  ...,  0.0013, -0.0034,  0.0129],\n",
            "        [ 0.0328,  0.0336, -0.0324,  ...,  0.0024,  0.0272, -0.0300],\n",
            "        [-0.0266, -0.0168, -0.0319,  ...,  0.0275,  0.0142, -0.0339],\n",
            "        ...,\n",
            "        [-0.0278,  0.0205,  0.0349,  ..., -0.0130, -0.0327,  0.0314],\n",
            "        [ 0.0030, -0.0021,  0.0107,  ..., -0.0021,  0.0334, -0.0035],\n",
            "        [-0.0145,  0.0156, -0.0165,  ..., -0.0318,  0.0157,  0.0328]],\n",
            "       requires_grad=True)\n"
          ]
        }
      ]
    },
    {
      "cell_type": "code",
      "source": [
        "print(model.bias.shape)\n",
        "print(model.bias)"
      ],
      "metadata": {
        "colab": {
          "base_uri": "https://localhost:8080/"
        },
        "id": "0YzP_-ZoiyBj",
        "outputId": "5652b692-d4e2-41a3-fa89-15eef582dcde"
      },
      "execution_count": 75,
      "outputs": [
        {
          "output_type": "stream",
          "name": "stdout",
          "text": [
            "torch.Size([10])\n",
            "Parameter containing:\n",
            "tensor([ 0.0321,  0.0267, -0.0122, -0.0030,  0.0025,  0.0310,  0.0124, -0.0229,\n",
            "         0.0075, -0.0169], requires_grad=True)\n"
          ]
        }
      ]
    },
    {
      "cell_type": "code",
      "source": [
        "class MnistModel(nn.Module):\n",
        "    def __init__(self):\n",
        "        super().__init__()\n",
        "        self.linear = nn.Linear(28*28, 10)\n",
        "\n",
        "    def forward(self, xb):\n",
        "        xb = xb.view(xb.size(0), -1)\n",
        "        return self.linear(xb)\n",
        "\n",
        "model = MnistModel()"
      ],
      "metadata": {
        "id": "HB_zVwJPjp6m"
      },
      "execution_count": 76,
      "outputs": []
    },
    {
      "cell_type": "code",
      "source": [
        "print(model.linear.weight.shape)\n",
        "print(model.linear.bias.shape)\n",
        "list(model.parameters())"
      ],
      "metadata": {
        "colab": {
          "base_uri": "https://localhost:8080/"
        },
        "id": "J3_-EIn8li7y",
        "outputId": "9474c205-3fc0-4deb-cc3b-b5816e81c8ca"
      },
      "execution_count": 77,
      "outputs": [
        {
          "output_type": "stream",
          "name": "stdout",
          "text": [
            "torch.Size([10, 784])\n",
            "torch.Size([10])\n"
          ]
        },
        {
          "output_type": "execute_result",
          "data": {
            "text/plain": [
              "[Parameter containing:\n",
              " tensor([[ 0.0034,  0.0334, -0.0168,  ...,  0.0210, -0.0134, -0.0296],\n",
              "         [-0.0058,  0.0009, -0.0334,  ...,  0.0224,  0.0315,  0.0039],\n",
              "         [-0.0334, -0.0274,  0.0336,  ...,  0.0125,  0.0249, -0.0161],\n",
              "         ...,\n",
              "         [ 0.0245,  0.0350,  0.0096,  ...,  0.0348,  0.0341,  0.0259],\n",
              "         [ 0.0167,  0.0242,  0.0250,  ..., -0.0157,  0.0172, -0.0302],\n",
              "         [ 0.0354, -0.0256,  0.0039,  ...,  0.0002,  0.0341, -0.0336]],\n",
              "        requires_grad=True),\n",
              " Parameter containing:\n",
              " tensor([-0.0352, -0.0006, -0.0340, -0.0291, -0.0029, -0.0162,  0.0247, -0.0257,\n",
              "         -0.0290, -0.0352], requires_grad=True)]"
            ]
          },
          "metadata": {},
          "execution_count": 77
        }
      ]
    },
    {
      "cell_type": "code",
      "source": [
        "for images, labels in train_loader:\n",
        "    outputs = model(images)\n",
        "    break\n",
        "\n",
        "print('outputs.shape : ', outputs.shape)\n",
        "print('Sample outputs :\\n', outputs[:2].data)"
      ],
      "metadata": {
        "colab": {
          "base_uri": "https://localhost:8080/"
        },
        "id": "-ka2KDmbmajT",
        "outputId": "93a2e903-aa7d-41f5-ca82-997fb037a2ab"
      },
      "execution_count": 78,
      "outputs": [
        {
          "output_type": "stream",
          "name": "stdout",
          "text": [
            "outputs.shape :  torch.Size([100, 10])\n",
            "Sample outputs :\n",
            " tensor([[ 0.0695,  0.2146, -0.1525,  0.0348,  0.3299, -0.3137,  0.0689,  0.1021,\n",
            "         -0.3060,  0.1818],\n",
            "        [ 0.0795, -0.1733, -0.0526, -0.0652,  0.2032, -0.0608,  0.2033,  0.0166,\n",
            "         -0.1816,  0.0394]])\n"
          ]
        }
      ]
    },
    {
      "cell_type": "code",
      "source": [
        "probs = F.softmax(outputs,dim=1)\n",
        "print(probs[:2].data)\n",
        "print(\"Sum : \" , torch.sum(probs[0]).item())"
      ],
      "metadata": {
        "colab": {
          "base_uri": "https://localhost:8080/"
        },
        "id": "MDqHeZNlm_Pi",
        "outputId": "db52295f-b25e-4a40-9851-13941d1f0895"
      },
      "execution_count": 79,
      "outputs": [
        {
          "output_type": "stream",
          "name": "stdout",
          "text": [
            "tensor([[0.1027, 0.1187, 0.0822, 0.0992, 0.1332, 0.0700, 0.1026, 0.1061, 0.0705,\n",
            "         0.1149],\n",
            "        [0.1073, 0.0833, 0.0940, 0.0928, 0.1214, 0.0932, 0.1214, 0.1008, 0.0826,\n",
            "         0.1031]])\n",
            "Sum :  0.9999999403953552\n"
          ]
        }
      ]
    },
    {
      "cell_type": "code",
      "source": [
        "max_probs , preds = torch.max(probs , dim=1)\n",
        "print(preds)\n",
        "print(max_probs)"
      ],
      "metadata": {
        "colab": {
          "base_uri": "https://localhost:8080/"
        },
        "id": "mfJ_uj8jpC6V",
        "outputId": "287e3067-fbb6-4cc3-926b-68befaa7fc3e"
      },
      "execution_count": 80,
      "outputs": [
        {
          "output_type": "stream",
          "name": "stdout",
          "text": [
            "tensor([4, 6, 6, 9, 4, 9, 1, 4, 4, 4, 1, 1, 4, 7, 4, 6, 1, 7, 9, 4, 4, 1, 7, 4,\n",
            "        1, 1, 0, 6, 0, 4, 4, 9, 7, 0, 4, 6, 4, 0, 4, 4, 9, 4, 1, 0, 6, 0, 4, 0,\n",
            "        4, 4, 1, 9, 4, 9, 6, 4, 4, 1, 4, 4, 9, 4, 9, 4, 6, 6, 9, 6, 9, 9, 4, 4,\n",
            "        4, 9, 4, 4, 4, 4, 4, 9, 4, 7, 1, 4, 4, 0, 4, 7, 1, 4, 1, 9, 0, 9, 6, 4,\n",
            "        0, 4, 0, 4])\n",
            "tensor([0.1332, 0.1214, 0.1218, 0.1303, 0.1364, 0.1513, 0.1265, 0.1427, 0.1678,\n",
            "        0.1652, 0.1401, 0.1320, 0.1316, 0.1239, 0.1317, 0.1278, 0.1396, 0.1310,\n",
            "        0.1301, 0.1342, 0.1500, 0.1287, 0.1393, 0.1168, 0.1248, 0.1355, 0.1196,\n",
            "        0.1154, 0.1246, 0.1141, 0.1237, 0.1505, 0.1473, 0.1358, 0.1207, 0.1429,\n",
            "        0.1310, 0.1312, 0.1441, 0.1195, 0.1455, 0.1466, 0.1345, 0.1238, 0.1172,\n",
            "        0.1236, 0.1654, 0.1610, 0.1222, 0.1434, 0.1211, 0.1682, 0.1266, 0.1260,\n",
            "        0.1229, 0.1377, 0.1496, 0.1331, 0.1284, 0.1209, 0.1324, 0.1457, 0.1449,\n",
            "        0.1401, 0.1256, 0.1174, 0.1610, 0.1484, 0.1643, 0.1144, 0.1305, 0.1401,\n",
            "        0.1380, 0.1360, 0.1818, 0.1426, 0.1407, 0.1372, 0.1315, 0.1390, 0.1213,\n",
            "        0.1371, 0.1509, 0.1454, 0.1713, 0.1296, 0.1915, 0.1200, 0.1196, 0.1287,\n",
            "        0.1569, 0.1243, 0.1516, 0.1701, 0.1083, 0.1414, 0.1202, 0.1329, 0.1373,\n",
            "        0.1318], grad_fn=<MaxBackward0>)\n"
          ]
        }
      ]
    },
    {
      "cell_type": "code",
      "source": [
        "labels"
      ],
      "metadata": {
        "colab": {
          "base_uri": "https://localhost:8080/"
        },
        "id": "D0uAWLPExlNM",
        "outputId": "5ffb5b0f-b143-4e7d-9287-423dafa514fb"
      },
      "execution_count": 81,
      "outputs": [
        {
          "output_type": "execute_result",
          "data": {
            "text/plain": [
              "tensor([3, 3, 3, 1, 7, 2, 5, 8, 7, 7, 3, 6, 7, 9, 0, 2, 0, 7, 1, 5, 5, 6, 4, 3,\n",
              "        4, 5, 1, 1, 9, 5, 5, 2, 7, 9, 4, 1, 8, 8, 5, 6, 3, 8, 0, 3, 1, 6, 9, 7,\n",
              "        3, 9, 9, 3, 9, 6, 6, 8, 5, 6, 7, 5, 1, 3, 6, 8, 1, 5, 2, 6, 2, 5, 7, 7,\n",
              "        3, 3, 3, 5, 5, 3, 0, 2, 8, 4, 9, 2, 8, 7, 2, 4, 5, 5, 0, 9, 8, 6, 1, 8,\n",
              "        5, 3, 6, 0])"
            ]
          },
          "metadata": {},
          "execution_count": 81
        }
      ]
    },
    {
      "cell_type": "code",
      "source": [
        "def accuracy(outputs , labels):\n",
        "  max_probs , preds = torch.max(probs,dim=1)\n",
        "  return torch.tensor(torch.sum(preds == labels).item() / len(preds))"
      ],
      "metadata": {
        "id": "ccskPfhuxnZo"
      },
      "execution_count": 82,
      "outputs": []
    },
    {
      "cell_type": "code",
      "source": [
        "accuracy(preds,labels)"
      ],
      "metadata": {
        "colab": {
          "base_uri": "https://localhost:8080/"
        },
        "id": "Bo8xuFExyfxK",
        "outputId": "c7513aa9-14fc-4fea-b044-ac4a6f511367"
      },
      "execution_count": 83,
      "outputs": [
        {
          "output_type": "execute_result",
          "data": {
            "text/plain": [
              "tensor(0.0600)"
            ]
          },
          "metadata": {},
          "execution_count": 83
        }
      ]
    },
    {
      "cell_type": "code",
      "source": [
        "loss_fn = F.cross_entropy\n",
        "\n",
        "loss = loss_fn(outputs,preds)\n",
        "print(loss)"
      ],
      "metadata": {
        "colab": {
          "base_uri": "https://localhost:8080/"
        },
        "id": "Xapz3ronyiaM",
        "outputId": "812f9a0c-dcd7-488e-fc9b-ab511757e691"
      },
      "execution_count": 84,
      "outputs": [
        {
          "output_type": "stream",
          "name": "stdout",
          "text": [
            "tensor(1.9974, grad_fn=<NllLossBackward0>)\n"
          ]
        }
      ]
    },
    {
      "cell_type": "code",
      "source": [
        "lr = 0.001\n",
        "optimizer = torch.optim.SGD(model.parameters(),lr)"
      ],
      "metadata": {
        "id": "dffMsP5x0nqy"
      },
      "execution_count": 85,
      "outputs": []
    },
    {
      "cell_type": "code",
      "source": [
        "def loss_batch(model , loss_fn , xb , yb , opt=None , metric = None):\n",
        "  preds = model(xb)\n",
        "  loss = loss_fn(preds,yb)\n",
        "\n",
        "  if opt is not None:\n",
        "    loss.backward()\n",
        "    opt.step()\n",
        "    opt.zero_grad()\n",
        "\n",
        "  metric_results = None\n",
        "  if metric is not None:\n",
        "    metric_results = metric(preds,yb)\n",
        "\n",
        "  return loss.item(),len(xb),metric_results"
      ],
      "metadata": {
        "id": "3fYUF7KI1JCj"
      },
      "execution_count": 86,
      "outputs": []
    },
    {
      "cell_type": "code",
      "source": [
        "def evaluate(model , loss_fn , valid_dl , metric = None):\n",
        "  with torch.no_grad():\n",
        "    results = [loss_batch(model , loss_fn , xb , yb , metric = metric)for xb, yb in valid_dl]\n",
        "    losses , nums , metrics = zip(*results)\n",
        "    total = np.sum(nums)\n",
        "    avg_loss = np.sum(np.multiply(nums,losses)) / total\n",
        "    avg_metric = None\n",
        "    if metric is not None:\n",
        "      avg_metric = np.sum(np.multiply(nums,metrics)) / total\n",
        "    return avg_loss , total , avg_metric"
      ],
      "metadata": {
        "id": "i1ltcwgH2ID5"
      },
      "execution_count": 87,
      "outputs": []
    },
    {
      "cell_type": "code",
      "source": [
        "def accuracy(outputs , labels):\n",
        "  _,preds = torch.max(outputs, dim=1)\n",
        "  return torch.tensor(torch.sum(preds==labels).item() / len(preds))"
      ],
      "metadata": {
        "id": "WHrDr6Y13kb-"
      },
      "execution_count": 88,
      "outputs": []
    },
    {
      "cell_type": "code",
      "source": [
        "val_loss , total , val_accuracy = evaluate(model , loss_fn , val_loader , metric = accuracy)\n",
        "print('Loss:{:.4f},Accuracy:{:.4f}'.format(val_loss,val_accuracy))"
      ],
      "metadata": {
        "colab": {
          "base_uri": "https://localhost:8080/"
        },
        "id": "bVEi9SrM33Sf",
        "outputId": "ac8ee6c8-f268-449c-bbdd-bd5bc48d91a0"
      },
      "execution_count": 89,
      "outputs": [
        {
          "output_type": "stream",
          "name": "stdout",
          "text": [
            "Loss:2.3265,Accuracy:0.0860\n"
          ]
        }
      ]
    },
    {
      "cell_type": "code",
      "source": [
        "def fit(epochs , model , loss_fn , opt , train_dl , val_dl , metric=None):\n",
        "  for epoch in range(epochs):\n",
        "    for xb , yb in train_dl:\n",
        "      loss = loss_batch(model,loss_fn,xb,yb,opt)\n",
        "      result = evaluate(model , loss_fn , val_dl , metric)\n",
        "      val_loss , total , val_metrics = result\n",
        "\n",
        "      if metric is None:\n",
        "        print('Epoch [{}/{}] , loss = {:.4f}'.format(epoch+1 , epochs , val_loss))\n",
        "      else:\n",
        "        print('Epoch [{}/{}] , loss = {:.4f} , {} : {:.4f}'.format(epoch+1 , epochs , val_loss , metric.__name__,val_metrics))"
      ],
      "metadata": {
        "id": "_6DM1PBC4nyw"
      },
      "execution_count": 90,
      "outputs": []
    },
    {
      "cell_type": "code",
      "source": [
        "model = MnistModel()\n",
        "optimizer = torch.optim.SGD(model.parameters() , lr=0.001)"
      ],
      "metadata": {
        "id": "g9izk3_C8Zlp"
      },
      "execution_count": 91,
      "outputs": []
    },
    {
      "cell_type": "code",
      "source": [
        "# fit(5 , model , F.cross_entropy ,optimizer,train_loader,val_loader,accuracy)"
      ],
      "metadata": {
        "id": "aAtErpCb--Ew"
      },
      "execution_count": 92,
      "outputs": []
    },
    {
      "cell_type": "code",
      "source": [
        "test_dataset= MNIST(root='data/',train=False,transform = transforms.ToTensor())"
      ],
      "metadata": {
        "id": "CWWKLlkh_P3l"
      },
      "execution_count": 93,
      "outputs": []
    },
    {
      "cell_type": "code",
      "source": [
        "img, label = test_dataset[0]\n",
        "plt.imshow(img[0], cmap='gray')\n",
        "print('Shape:', img.shape)\n",
        "print('Label:', label)"
      ],
      "metadata": {
        "colab": {
          "base_uri": "https://localhost:8080/",
          "height": 465
        },
        "id": "KYygHwmrGjOO",
        "outputId": "19d5feea-3aa6-4e49-ec74-66ee0ebbadcc"
      },
      "execution_count": 94,
      "outputs": [
        {
          "output_type": "stream",
          "name": "stdout",
          "text": [
            "Shape: torch.Size([1, 28, 28])\n",
            "Label: 7\n"
          ]
        },
        {
          "output_type": "display_data",
          "data": {
            "text/plain": [
              "<Figure size 640x480 with 1 Axes>"
            ],
            "image/png": "[encoded data removed]"
          },
          "metadata": {}
        }
      ]
    },
    {
      "cell_type": "code",
      "source": [
        "def predict_image(img, model):\n",
        "    xb = img.unsqueeze(0)\n",
        "    yb = model(xb)\n",
        "    _, preds  = torch.max(yb, dim=1)\n",
        "    return preds[0].item()"
      ],
      "metadata": {
        "id": "5E1a8CHOGysb"
      },
      "execution_count": 95,
      "outputs": []
    },
    {
      "cell_type": "code",
      "source": [
        "img, label = test_dataset[0]\n",
        "plt.imshow(img[0], cmap='gray')\n",
        "print('Label:', label, ', Predicted:', predict_image(img, model))"
      ],
      "metadata": {
        "colab": {
          "base_uri": "https://localhost:8080/",
          "height": 447
        },
        "id": "aVQwDae0HFpe",
        "outputId": "c299bf8b-a9ba-4c22-908e-875f466e7792"
      },
      "execution_count": 96,
      "outputs": [
        {
          "output_type": "stream",
          "name": "stdout",
          "text": [
            "Label: 7 , Predicted: 4\n"
          ]
        },
        {
          "output_type": "display_data",
          "data": {
            "text/plain": [
              "<Figure size 640x480 with 1 Axes>"
            ],
            "image/png": "[encoded data removed]"
          },
          "metadata": {}
        }
      ]
    },
    {
      "cell_type": "code",
      "source": [
        "img, label = test_dataset[10]\n",
        "plt.imshow(img[0], cmap='gray')\n",
        "print('Label:', label, ', Predicted:', predict_image(img, model))"
      ],
      "metadata": {
        "colab": {
          "base_uri": "https://localhost:8080/",
          "height": 447
        },
        "id": "59dUKhX1HSAN",
        "outputId": "e903edd6-cd29-42a6-f6f2-e82d3d65ea8b"
      },
      "execution_count": 97,
      "outputs": [
        {
          "output_type": "stream",
          "name": "stdout",
          "text": [
            "Label: 0 , Predicted: 0\n"
          ]
        },
        {
          "output_type": "display_data",
          "data": {
            "text/plain": [
              "<Figure size 640x480 with 1 Axes>"
            ],
            "image/png": "[encoded data removed]"
          },
          "metadata": {}
        }
      ]
    },
    {
      "cell_type": "code",
      "source": [
        "img, label = test_dataset[1839]\n",
        "plt.imshow(img[0], cmap='gray')\n",
        "print('Label:', label, ', Predicted:', predict_image(img, model))"
      ],
      "metadata": {
        "colab": {
          "base_uri": "https://localhost:8080/",
          "height": 447
        },
        "id": "2N0hMs3wHUzC",
        "outputId": "0b19d9d7-41a2-4c73-deed-4ed717cd1fe0"
      },
      "execution_count": 98,
      "outputs": [
        {
          "output_type": "stream",
          "name": "stdout",
          "text": [
            "Label: 2 , Predicted: 0\n"
          ]
        },
        {
          "output_type": "display_data",
          "data": {
            "text/plain": [
              "<Figure size 640x480 with 1 Axes>"
            ],
            "image/png": "[encoded data removed]"
          },
          "metadata": {}
        }
      ]
    },
    {
      "cell_type": "code",
      "source": [
        "test_loader = DataLoader(test_dataset, batch_size=256)\n",
        "result = evaluate(model,F.cross_entropy, test_loader,metric=accuracy)\n",
        "result"
      ],
      "metadata": {
        "colab": {
          "base_uri": "https://localhost:8080/"
        },
        "id": "uDC4RwWYHY6e",
        "outputId": "d459c950-6562-4970-a96a-0dba0515b36a"
      },
      "execution_count": 99,
      "outputs": [
        {
          "output_type": "execute_result",
          "data": {
            "text/plain": [
              "(np.float64(2.3031083282470703), np.int64(10000), np.float64(0.1153))"
            ]
          },
          "metadata": {},
          "execution_count": 99
        }
      ]
    },
    {
      "cell_type": "code",
      "source": [
        "torch.save(model.state_dict(), 'mnist-logistic.pth')\n",
        "model.state_dict()"
      ],
      "metadata": {
        "colab": {
          "base_uri": "https://localhost:8080/"
        },
        "id": "eqlrMV_3HeYo",
        "outputId": "d17166d0-2591-4499-8cad-113902ce3fe3"
      },
      "execution_count": 100,
      "outputs": [
        {
          "output_type": "execute_result",
          "data": {
            "text/plain": [
              "OrderedDict([('linear.weight',\n",
              "              tensor([[ 2.5226e-02,  1.6332e-02,  1.6088e-02,  ...,  6.9904e-04,\n",
              "                       -1.0335e-02, -1.5126e-02],\n",
              "                      [ 2.6900e-02, -7.0355e-04, -2.5373e-02,  ...,  9.1165e-03,\n",
              "                        2.8067e-02,  2.7284e-02],\n",
              "                      [ 2.3779e-02, -3.5124e-02,  1.2713e-02,  ...,  2.5038e-02,\n",
              "                       -1.6301e-02, -2.4555e-02],\n",
              "                      ...,\n",
              "                      [ 1.1285e-02, -2.1506e-02,  1.0971e-02,  ..., -3.5549e-02,\n",
              "                       -2.7505e-02, -3.2004e-02],\n",
              "                      [-3.6908e-03, -2.2928e-02, -1.5778e-02,  ..., -1.7986e-02,\n",
              "                        2.2010e-03,  5.7420e-03],\n",
              "                      [-1.7158e-02, -4.7782e-03, -1.3649e-05,  ...,  2.8023e-02,\n",
              "                        2.1644e-02, -3.0034e-02]])),\n",
              "             ('linear.bias',\n",
              "              tensor([-0.0036, -0.0221, -0.0073, -0.0212, -0.0257,  0.0047, -0.0330, -0.0105,\n",
              "                      -0.0094,  0.0028]))])"
            ]
          },
          "metadata": {},
          "execution_count": 100
        }
      ]
    },
    {
      "cell_type": "code",
      "source": [
        "model2 = MnistModel()\n",
        "model2.load_state_dict(torch.load('mnist-logistic.pth'))\n",
        "model2.state_dict()"
      ],
      "metadata": {
        "colab": {
          "base_uri": "https://localhost:8080/"
        },
        "id": "8kWG_lHGJFr9",
        "outputId": "bcd72bc0-86a5-4a1e-9a2a-566483fba2b9"
      },
      "execution_count": 101,
      "outputs": [
        {
          "output_type": "execute_result",
          "data": {
            "text/plain": [
              "OrderedDict([('linear.weight',\n",
              "              tensor([[ 2.5226e-02,  1.6332e-02,  1.6088e-02,  ...,  6.9904e-04,\n",
              "                       -1.0335e-02, -1.5126e-02],\n",
              "                      [ 2.6900e-02, -7.0355e-04, -2.5373e-02,  ...,  9.1165e-03,\n",
              "                        2.8067e-02,  2.7284e-02],\n",
              "                      [ 2.3779e-02, -3.5124e-02,  1.2713e-02,  ...,  2.5038e-02,\n",
              "                       -1.6301e-02, -2.4555e-02],\n",
              "                      ...,\n",
              "                      [ 1.1285e-02, -2.1506e-02,  1.0971e-02,  ..., -3.5549e-02,\n",
              "                       -2.7505e-02, -3.2004e-02],\n",
              "                      [-3.6908e-03, -2.2928e-02, -1.5778e-02,  ..., -1.7986e-02,\n",
              "                        2.2010e-03,  5.7420e-03],\n",
              "                      [-1.7158e-02, -4.7782e-03, -1.3649e-05,  ...,  2.8023e-02,\n",
              "                        2.1644e-02, -3.0034e-02]])),\n",
              "             ('linear.bias',\n",
              "              tensor([-0.0036, -0.0221, -0.0073, -0.0212, -0.0257,  0.0047, -0.0330, -0.0105,\n",
              "                      -0.0094,  0.0028]))])"
            ]
          },
          "metadata": {},
          "execution_count": 101
        }
      ]
    },
    {
      "cell_type": "code",
      "source": [
        "test_loader = DataLoader(test_dataset, batch_size=256)\n",
        "result = evaluate(model2, F.cross_entropy,test_loader, metric=accuracy)\n",
        "result"
      ],
      "metadata": {
        "colab": {
          "base_uri": "https://localhost:8080/"
        },
        "id": "wkqcG661JLE9",
        "outputId": "a9d5e1d1-f29c-4fbb-b695-10280ad16216"
      },
      "execution_count": 102,
      "outputs": [
        {
          "output_type": "execute_result",
          "data": {
            "text/plain": [
              "(np.float64(2.3031083282470703), np.int64(10000), np.float64(0.1153))"
            ]
          },
          "metadata": {},
          "execution_count": 102
        }
      ]
    },
    {
      "cell_type": "markdown",
      "source": [
        "# **TRAINING DEEP NEURAL NETWORK USING GPU**"
      ],
      "metadata": {
        "id": "u-k6FuRRkdgW"
      }
    },
    {
      "cell_type": "code",
      "source": [
        "import numpy as np\n",
        "import torch\n",
        "import torchvision\n",
        "import matplotlib.pyplot as plt\n",
        "%matplotlib inline\n",
        "from torchvision.datasets import MNIST\n",
        "from torchvision.transforms import ToTensor\n",
        "from torch.utils.data.sampler import SubsetRandomSampler\n",
        "from torch.utils.data import DataLoader"
      ],
      "metadata": {
        "id": "DiXMv3F3JSgV"
      },
      "execution_count": 103,
      "outputs": []
    },
    {
      "cell_type": "code",
      "source": [
        "dataset = MNIST(root='data/' , download=True,transform = transforms.ToTensor())"
      ],
      "metadata": {
        "id": "24xK6bk_k_-C"
      },
      "execution_count": 104,
      "outputs": []
    },
    {
      "cell_type": "code",
      "source": [
        "len(dataset)"
      ],
      "metadata": {
        "colab": {
          "base_uri": "https://localhost:8080/"
        },
        "id": "Hw1U3YHyl0RO",
        "outputId": "49a67ba1-7e56-4777-f206-7dd070bf8575"
      },
      "execution_count": 105,
      "outputs": [
        {
          "output_type": "execute_result",
          "data": {
            "text/plain": [
              "60000"
            ]
          },
          "metadata": {},
          "execution_count": 105
        }
      ]
    },
    {
      "cell_type": "code",
      "source": [
        "img , label = dataset[0]\n",
        "plt.imshow(img[0] , cmap='gray')\n",
        "print(img.shape) , print(label)"
      ],
      "metadata": {
        "colab": {
          "base_uri": "https://localhost:8080/",
          "height": 482
        },
        "id": "II4yWWudl1y0",
        "outputId": "ca729976-c767-4dac-dbd0-67accaf07894"
      },
      "execution_count": 106,
      "outputs": [
        {
          "output_type": "stream",
          "name": "stdout",
          "text": [
            "torch.Size([1, 28, 28])\n",
            "5\n"
          ]
        },
        {
          "output_type": "execute_result",
          "data": {
            "text/plain": [
              "(None, None)"
            ]
          },
          "metadata": {},
          "execution_count": 106
        },
        {
          "output_type": "display_data",
          "data": {
            "text/plain": [
              "<Figure size 640x480 with 1 Axes>"
            ],
            "image/png": "[encoded data removed]"
          },
          "metadata": {}
        }
      ]
    },
    {
      "cell_type": "code",
      "source": [
        "def split_indices(n,val_pct):\n",
        "  n_val = int(n*val_pct)\n",
        "  idxs = np.random.permutation(n)\n",
        "  return idxs[n_val:] , idxs[:n_val]"
      ],
      "metadata": {
        "id": "IrLI1lM4lR5Z"
      },
      "execution_count": 107,
      "outputs": []
    },
    {
      "cell_type": "code",
      "source": [
        "train_indices , val_indices = split_indices(len(dataset),val_pct=0.2)\n",
        "print(len(train_indices)) , print(len(val_indices))"
      ],
      "metadata": {
        "colab": {
          "base_uri": "https://localhost:8080/"
        },
        "id": "roYxaBHjlqRX",
        "outputId": "f63e43c8-3b09-433c-92e6-9b7aa6e68430"
      },
      "execution_count": 108,
      "outputs": [
        {
          "output_type": "stream",
          "name": "stdout",
          "text": [
            "48000\n",
            "12000\n"
          ]
        },
        {
          "output_type": "execute_result",
          "data": {
            "text/plain": [
              "(None, None)"
            ]
          },
          "metadata": {},
          "execution_count": 108
        }
      ]
    },
    {
      "cell_type": "code",
      "source": [
        "batch_size = 100\n",
        "\n",
        "train_sampler = SubsetRandomSampler(train_indices)\n",
        "train_loader = DataLoader(dataset , batch_size=batch_size , sampler = train_sampler)\n",
        "\n",
        "val_sampler = SubsetRandomSampler(val_indices)\n",
        "val_loader = DataLoader(dataset , batch_size=batch_size , sampler = val_sampler)"
      ],
      "metadata": {
        "id": "F1zc3PWIm04U"
      },
      "execution_count": 109,
      "outputs": []
    },
    {
      "cell_type": "code",
      "source": [
        "for images, labels in train_loader:\n",
        "    print(images.shape)  # torch.Size([100, 1, 28, 28])\n",
        "    images_flat = images.view(images.size(0), -1)\n",
        "    print(images_flat.shape)  # torch.Size([100, 784])\n",
        "    break"
      ],
      "metadata": {
        "colab": {
          "base_uri": "https://localhost:8080/"
        },
        "id": "iXYyuuiM76EN",
        "outputId": "3330a158-a697-4fe2-df6d-d88ee683ac58"
      },
      "execution_count": 110,
      "outputs": [
        {
          "output_type": "stream",
          "name": "stdout",
          "text": [
            "torch.Size([100, 1, 28, 28])\n",
            "torch.Size([100, 784])\n"
          ]
        }
      ]
    },
    {
      "cell_type": "code",
      "source": [
        "import torch.nn as nn\n",
        "import torch.nn.functional as F"
      ],
      "metadata": {
        "id": "Fo9GWxHjnR7F"
      },
      "execution_count": 111,
      "outputs": []
    },
    {
      "cell_type": "code",
      "source": [
        "class MnistModel(nn.Module):\n",
        "    def __init__(self,in_size,hidden_size,out_size):\n",
        "      super().__init__()\n",
        "      self.linear1 = nn.Linear(in_size,hidden_size)\n",
        "      self.linear2 = nn.Linear(hidden_size,out_size)\n",
        "\n",
        "    def forward(self,xb):\n",
        "      xb = xb.view(xb.size(0),-1)\n",
        "      out = self.linear1(xb)\n",
        "      out = F.relu(out)\n",
        "      out = self.linear2(out)\n",
        "      return out"
      ],
      "metadata": {
        "id": "Lguiedy3qeoW"
      },
      "execution_count": 112,
      "outputs": []
    },
    {
      "cell_type": "code",
      "source": [
        "input_size = 28*28\n",
        "num_classes = 10\n",
        "\n",
        "model = MnistModel(in_size=input_size,hidden_size=32,out_size=10)"
      ],
      "metadata": {
        "id": "esMTmcOKsImj"
      },
      "execution_count": 113,
      "outputs": []
    },
    {
      "cell_type": "code",
      "source": [
        "for t in model.parameters():\n",
        "  print(t.shape)"
      ],
      "metadata": {
        "colab": {
          "base_uri": "https://localhost:8080/"
        },
        "id": "OKi_j3p-44-h",
        "outputId": "b7eae832-b51d-4bb9-ea0b-a24c7603f797"
      },
      "execution_count": 114,
      "outputs": [
        {
          "output_type": "stream",
          "name": "stdout",
          "text": [
            "torch.Size([32, 784])\n",
            "torch.Size([32])\n",
            "torch.Size([10, 32])\n",
            "torch.Size([10])\n"
          ]
        }
      ]
    },
    {
      "cell_type": "code",
      "source": [
        "for images , labels in train_loader:\n",
        "  outputs = model(images)\n",
        "  loss = F.cross_entropy(outputs,labels)\n",
        "  print('Loss:',loss.item())\n",
        "  break\n",
        "\n",
        "print(outputs.shape)\n",
        "print(outputs[:2])"
      ],
      "metadata": {
        "colab": {
          "base_uri": "https://localhost:8080/"
        },
        "id": "0kF7nGw31CiM",
        "outputId": "5d1291c9-08e7-4cc0-c214-414258254688"
      },
      "execution_count": 115,
      "outputs": [
        {
          "output_type": "stream",
          "name": "stdout",
          "text": [
            "Loss: 2.277771472930908\n",
            "torch.Size([100, 10])\n",
            "tensor([[-0.1099,  0.1942,  0.1530,  0.1530,  0.0572, -0.0497,  0.0832, -0.0164,\n",
            "          0.1098,  0.0374],\n",
            "        [-0.1555,  0.1601,  0.1215,  0.1519,  0.0106, -0.0244,  0.0503, -0.0256,\n",
            "          0.0687,  0.0514]], grad_fn=<SliceBackward0>)\n"
          ]
        }
      ]
    },
    {
      "cell_type": "code",
      "source": [
        "torch.cuda.is_available()"
      ],
      "metadata": {
        "colab": {
          "base_uri": "https://localhost:8080/"
        },
        "id": "KsCJ799Y4yr7",
        "outputId": "1bf6ef6b-8113-4495-bb7f-739041b9d45e"
      },
      "execution_count": 116,
      "outputs": [
        {
          "output_type": "execute_result",
          "data": {
            "text/plain": [
              "False"
            ]
          },
          "metadata": {},
          "execution_count": 116
        }
      ]
    },
    {
      "cell_type": "code",
      "source": [
        "def get_default_device():\n",
        "  if torch.cuda.is_available():\n",
        "    return torch.device('cuda')\n",
        "  else:\n",
        "    return torch.device('cpu')"
      ],
      "metadata": {
        "id": "qiWgKphlCCvz"
      },
      "execution_count": 117,
      "outputs": []
    },
    {
      "cell_type": "code",
      "source": [
        "device = get_default_device()\n",
        "device"
      ],
      "metadata": {
        "colab": {
          "base_uri": "https://localhost:8080/"
        },
        "id": "iLMEHJxcCenV",
        "outputId": "76e81d9b-c4af-4c25-96a6-8dcc1de5dc6d"
      },
      "execution_count": 118,
      "outputs": [
        {
          "output_type": "execute_result",
          "data": {
            "text/plain": [
              "device(type='cpu')"
            ]
          },
          "metadata": {},
          "execution_count": 118
        }
      ]
    },
    {
      "cell_type": "code",
      "source": [
        "def to_device(data,device):\n",
        "  if isinstance(data,(list,tuple)):\n",
        "    return [to_device(x,device) for x in data]\n",
        "  return data.to(device,non_blocking=True)"
      ],
      "metadata": {
        "id": "_i3ESvhFCh-Q"
      },
      "execution_count": 119,
      "outputs": []
    },
    {
      "cell_type": "code",
      "source": [
        "for images , labels in train_loader:\n",
        "  print(images.shape)\n",
        "  images = to_device(images,device)\n",
        "  print(images.device)\n",
        "  break"
      ],
      "metadata": {
        "colab": {
          "base_uri": "https://localhost:8080/"
        },
        "id": "y7cQ6_f9DHJa",
        "outputId": "345cfb5f-9147-49ed-88fe-b843bccd6420"
      },
      "execution_count": 120,
      "outputs": [
        {
          "output_type": "stream",
          "name": "stdout",
          "text": [
            "torch.Size([100, 1, 28, 28])\n",
            "cpu\n"
          ]
        }
      ]
    },
    {
      "cell_type": "code",
      "source": [
        "class DeviceDataLoader():\n",
        "  def __init__(self,dl,device):\n",
        "    self.dl = dl\n",
        "    self.device = device\n",
        "\n",
        "  def __iter__(self):\n",
        "    for b in self.dl:\n",
        "      yield to_device(b,self.device)\n",
        "\n",
        "  def __len__(self):\n",
        "    return len(self.dl)"
      ],
      "metadata": {
        "id": "491B3A21DTq5"
      },
      "execution_count": 121,
      "outputs": []
    },
    {
      "cell_type": "code",
      "source": [
        "train_dl = DeviceDataLoader(train_loader,device)\n",
        "val_dl = DeviceDataLoader(val_loader,device)"
      ],
      "metadata": {
        "id": "5WEfNup3FHTm"
      },
      "execution_count": 122,
      "outputs": []
    },
    {
      "cell_type": "code",
      "source": [
        "for xb , yb in train_dl:\n",
        "  print(xb.device)\n",
        "  print(yb)\n",
        "  break"
      ],
      "metadata": {
        "colab": {
          "base_uri": "https://localhost:8080/"
        },
        "id": "Sd81X7v9Fp5D",
        "outputId": "81d70b19-81e7-437b-fdcb-3bc57cbc5008"
      },
      "execution_count": 123,
      "outputs": [
        {
          "output_type": "stream",
          "name": "stdout",
          "text": [
            "cpu\n",
            "tensor([5, 0, 8, 9, 8, 3, 0, 5, 3, 7, 2, 2, 1, 9, 4, 7, 2, 8, 4, 8, 8, 4, 1, 6,\n",
            "        7, 1, 6, 2, 3, 3, 1, 2, 4, 2, 0, 6, 6, 0, 1, 8, 4, 9, 9, 1, 6, 2, 9, 8,\n",
            "        1, 8, 6, 0, 5, 3, 9, 3, 1, 9, 1, 1, 2, 5, 9, 2, 1, 2, 8, 1, 3, 7, 2, 8,\n",
            "        5, 5, 6, 1, 4, 5, 8, 1, 6, 4, 8, 1, 6, 5, 6, 0, 8, 4, 8, 2, 7, 6, 4, 3,\n",
            "        4, 8, 8, 3])\n"
          ]
        }
      ]
    },
    {
      "cell_type": "code",
      "source": [
        "def loss_batch(model , loss_fn , xb , yb , opt=None , metric=None):\n",
        "  preds = model(xb)\n",
        "  loss = loss_fn(preds,yb)\n",
        "\n",
        "  if opt is not None:\n",
        "    loss.backward()\n",
        "    opt.step()\n",
        "    opt.zero_grad()\n",
        "\n",
        "  metric_results = None\n",
        "  if metric is not None:\n",
        "    metric_results = metric(preds,yb)\n",
        "\n",
        "  return loss.item() , len(xb) , metric_results"
      ],
      "metadata": {
        "id": "oEnN2W7kFzR8"
      },
      "execution_count": 124,
      "outputs": []
    },
    {
      "cell_type": "code",
      "source": [
        "def evaluate(model , loss_fn , val_dl , metric=None):\n",
        "  with torch.no_grad():\n",
        "    results = [loss_batch(model , loss_fn , xb , yb , metric = metric) for xb , yb in val_dl]\n",
        "    losses , nums , metrics = zip(*results)\n",
        "    total = np.sum(nums)\n",
        "    avg_loss = np.sum(np.multiply(nums,losses)) / total\n",
        "    avg_metric = None\n",
        "    if metric is not None:\n",
        "      avg_metric = np.sum(np.multiply(nums,metrics)) / total\n",
        "    return avg_loss , total , avg_metric"
      ],
      "metadata": {
        "id": "uR-lwt6gHIle"
      },
      "execution_count": 125,
      "outputs": []
    },
    {
      "cell_type": "code",
      "source": [
        "def fit(epochs , lr , model , loss_fn , train_dl , val_dl , opt = None , metric=None):\n",
        "  losses , metrics = [] , []\n",
        "  if opt is None:\n",
        "    opt = torch.optim.SGD(model.parameters() , lr=lr)\n",
        "\n",
        "  for epoch in range(epochs):\n",
        "    for xb , yb in train_dl:\n",
        "      loss,_,_ = loss_batch(model , loss_fn , xb , yb , opt)\n",
        "\n",
        "    result = evaluate(model , loss_fn , val_dl , metric)\n",
        "    val_loss , total , val_metrics = result\n",
        "    losses.append(loss)\n",
        "    metrics.append(val_metrics)\n",
        "\n",
        "    if metric is None:\n",
        "      print('Epoch [{}/{}] , loss = {:.4f}'.format(epoch+1 , epochs , val_loss))\n",
        "    else:\n",
        "      print('Epoch [{}/{}] , loss = {:.4f} , {} : {:.4f}'.format(epoch+1 , epochs , val_loss , metric.__name__,val_metrics))\n",
        "\n",
        "  return losses , metrics"
      ],
      "metadata": {
        "id": "lTwiwQITITbD"
      },
      "execution_count": 126,
      "outputs": []
    },
    {
      "cell_type": "code",
      "source": [
        "def accuracy(outputs , labels):\n",
        "  _,preds = torch.max(outputs,dim=1)\n",
        "  return torch.sum(preds == labels).item() / len(preds)"
      ],
      "metadata": {
        "id": "8YClkw53JQ0k"
      },
      "execution_count": 127,
      "outputs": []
    },
    {
      "cell_type": "code",
      "source": [
        "model = MnistModel(input_size , hidden_size = 32 , out_size = num_classes)\n",
        "to_device(model , device)"
      ],
      "metadata": {
        "colab": {
          "base_uri": "https://localhost:8080/"
        },
        "id": "fMc5NtbrLQHl",
        "outputId": "f4fd86e3-c1e7-43ea-bb2b-150fb00bcd5c"
      },
      "execution_count": 128,
      "outputs": [
        {
          "output_type": "execute_result",
          "data": {
            "text/plain": [
              "MnistModel(\n",
              "  (linear1): Linear(in_features=784, out_features=32, bias=True)\n",
              "  (linear2): Linear(in_features=32, out_features=10, bias=True)\n",
              ")"
            ]
          },
          "metadata": {},
          "execution_count": 128
        }
      ]
    },
    {
      "cell_type": "code",
      "source": [
        "val_loss , total , val_accuracy = evaluate(model , F.cross_entropy , val_dl , metric = accuracy)\n",
        "print('Loss: {:.4f} , Accuracy : {:.4f}'.format(val_loss , val_accuracy))"
      ],
      "metadata": {
        "colab": {
          "base_uri": "https://localhost:8080/"
        },
        "id": "o5WSgrODL1Vr",
        "outputId": "4aa55bbd-32c1-4ae1-8858-dde73d709177"
      },
      "execution_count": 129,
      "outputs": [
        {
          "output_type": "stream",
          "name": "stdout",
          "text": [
            "Loss: 2.2922 , Accuracy : 0.1347\n"
          ]
        }
      ]
    },
    {
      "cell_type": "code",
      "source": [
        "losses1 , metrics1 = fit(5 , 0.5 , model , F.cross_entropy , train_dl , val_dl , metric = accuracy )"
      ],
      "metadata": {
        "colab": {
          "base_uri": "https://localhost:8080/"
        },
        "id": "zRKzmZLeMREy",
        "outputId": "4fbb7057-a6f0-4f5c-bc2b-1a9f02ca4c39"
      },
      "execution_count": 130,
      "outputs": [
        {
          "output_type": "stream",
          "name": "stdout",
          "text": [
            "Epoch [1/5] , loss = 0.2074 , accuracy : 0.9373\n",
            "Epoch [2/5] , loss = 0.1831 , accuracy : 0.9433\n",
            "Epoch [3/5] , loss = 0.1579 , accuracy : 0.9512\n",
            "Epoch [4/5] , loss = 0.1377 , accuracy : 0.9579\n",
            "Epoch [5/5] , loss = 0.1317 , accuracy : 0.9614\n"
          ]
        }
      ]
    },
    {
      "cell_type": "code",
      "source": [
        "losses2 , metrics2 = fit(10 , 0.1 , model , F.cross_entropy , train_dl , val_dl , metric = accuracy )"
      ],
      "metadata": {
        "colab": {
          "base_uri": "https://localhost:8080/"
        },
        "id": "KFLzCH-pMn19",
        "outputId": "96d2c567-abd7-4878-dad8-c476dca68612"
      },
      "execution_count": 131,
      "outputs": [
        {
          "output_type": "stream",
          "name": "stdout",
          "text": [
            "Epoch [1/10] , loss = 0.1163 , accuracy : 0.9633\n",
            "Epoch [2/10] , loss = 0.1139 , accuracy : 0.9643\n",
            "Epoch [3/10] , loss = 0.1134 , accuracy : 0.9637\n",
            "Epoch [4/10] , loss = 0.1119 , accuracy : 0.9653\n",
            "Epoch [5/10] , loss = 0.1121 , accuracy : 0.9654\n",
            "Epoch [6/10] , loss = 0.1123 , accuracy : 0.9646\n",
            "Epoch [7/10] , loss = 0.1109 , accuracy : 0.9652\n",
            "Epoch [8/10] , loss = 0.1135 , accuracy : 0.9645\n",
            "Epoch [9/10] , loss = 0.1101 , accuracy : 0.9651\n",
            "Epoch [10/10] , loss = 0.1104 , accuracy : 0.9654\n"
          ]
        }
      ]
    },
    {
      "cell_type": "code",
      "source": [
        "accuracies = [val_accuracy] + metrics1 + metrics2\n",
        "plt.plot(accuracies , '-x')\n",
        "plt.xlabel('epoch')\n",
        "plt.ylabel('accuracy')\n",
        "plt.title('Accuracy vs No. of epochs')"
      ],
      "metadata": {
        "colab": {
          "base_uri": "https://localhost:8080/",
          "height": 489
        },
        "id": "BFsuvnWgNLTz",
        "outputId": "4a66334f-c40e-4f8d-874d-73e29e55c6da"
      },
      "execution_count": 132,
      "outputs": [
        {
          "output_type": "execute_result",
          "data": {
            "text/plain": [
              "Text(0.5, 1.0, 'Accuracy vs No. of epochs')"
            ]
          },
          "metadata": {},
          "execution_count": 132
        },
        {
          "output_type": "display_data",
          "data": {
            "text/plain": [
              "<Figure size 640x480 with 1 Axes>"
            ],
            "image/png": "[encoded data removed]"
          },
          "metadata": {}
        }
      ]
    },
    {
      "cell_type": "markdown",
      "source": [
        "# **IMAGE CLASSIFICATION USING CONVOLUTION NEURAL NETWORKS (CNNs)**"
      ],
      "metadata": {
        "id": "xAgrcEulxlR_"
      }
    },
    {
      "cell_type": "code",
      "source": [
        "import os\n",
        "import torch\n",
        "import torchvision\n",
        "import tarfile\n",
        "from torchvision.datasets.utils import download_url\n",
        "import torchvision.transforms as transforms\n",
        "from torchvision.datasets import CIFAR10"
      ],
      "metadata": {
        "id": "CPHRdf1TOJcw"
      },
      "execution_count": 133,
      "outputs": []
    },
    {
      "cell_type": "code",
      "source": [
        "# dataset_url = \"https://www.cs.toronto.edu/~kriz/cifar-10-python.tar.gz\"\n",
        "# download_url(dataset_url, '.')\n",
        "# with tarfile.open('./cifar-10-python.tar.gz' , 'r:gz') as tar:\n",
        "#   tar.extractall(path='./data')"
      ],
      "metadata": {
        "id": "beB0mwM8yRng"
      },
      "execution_count": 134,
      "outputs": []
    },
    {
      "cell_type": "code",
      "source": [
        "# data_dir = './data/cifar-10-batches-py'\n",
        "\n",
        "# print(os.listdir(data_dir))\n",
        "# classes = os.listdir(data_dir + \"/train\")\n",
        "# print(classes)"
      ],
      "metadata": {
        "id": "8iFVBdgzz2GF"
      },
      "execution_count": 135,
      "outputs": []
    },
    {
      "cell_type": "code",
      "source": [
        "simple_model = nn.Sequential(\n",
        "    nn.Conv2d(1,8,kernel_size=3,stride=1,padding=1),\n",
        "    nn.MaxPool2d(2,2)\n",
        ")"
      ],
      "metadata": {
        "id": "0GU2ePML1znB"
      },
      "execution_count": 136,
      "outputs": []
    },
    {
      "cell_type": "code",
      "source": [
        "for images , labels in train_dl:\n",
        "  print('images.shape: ',images.shape)\n",
        "  out = simple_model(images)\n",
        "  print('out.shape:',out.shape)\n",
        "  break"
      ],
      "metadata": {
        "colab": {
          "base_uri": "https://localhost:8080/"
        },
        "id": "4oIn1Qbx6dp-",
        "outputId": "8c668d63-157c-44b0-8db7-cea46017c68c"
      },
      "execution_count": 137,
      "outputs": [
        {
          "output_type": "stream",
          "name": "stdout",
          "text": [
            "images.shape:  torch.Size([100, 1, 28, 28])\n",
            "out.shape: torch.Size([100, 8, 14, 14])\n"
          ]
        }
      ]
    },
    {
      "cell_type": "code",
      "source": [
        "model = nn.Sequential(\n",
        "    nn.Conv2d(1, 16, kernel_size=3, stride=1, padding=1), # → (16, 28, 28)\n",
        "    nn.ReLU(),\n",
        "    nn.MaxPool2d(2, 2),                                   # → (16, 14, 14)\n",
        "\n",
        "    nn.Conv2d(16, 32, kernel_size=3, stride=1, padding=1),# → (32, 14, 14)\n",
        "    nn.ReLU(),\n",
        "    nn.MaxPool2d(2, 2),                                   # → (32, 7, 7)\n",
        "\n",
        "    nn.Flatten(),\n",
        "    nn.Linear(32 * 7 * 7, 128),\n",
        ")"
      ],
      "metadata": {
        "id": "iMsrIwWK97pq"
      },
      "execution_count": 138,
      "outputs": []
    },
    {
      "cell_type": "code",
      "source": [
        "model = nn.Sequential(\n",
        "    nn.Conv2d(1, 16, kernel_size=3, stride=1, padding=1), # → (16, 28, 28)\n",
        "    nn.ReLU(),\n",
        "    nn.MaxPool2d(2, 2),                                   # → (16, 14, 14)\n",
        "\n",
        "    nn.Conv2d(16, 16, kernel_size=3, stride=1, padding=1),# → (32, 14, 14)\n",
        "    nn.ReLU(),\n",
        "    nn.MaxPool2d(2, 2),                                   # → (32, 7, 7)\n",
        "\n",
        "    nn.Flatten(),\n",
        "    nn.Linear(16 * 7 * 7, 10),\n",
        ")"
      ],
      "metadata": {
        "id": "fLNLh15_BH9_"
      },
      "execution_count": 139,
      "outputs": []
    },
    {
      "cell_type": "code",
      "source": [
        "for images , labels in train_dl:\n",
        "  print('images.shape: ',images.shape)\n",
        "  out = model(images)\n",
        "  print('out.shape:',out.shape)\n",
        "  print('out[0]:',out[0])\n",
        "  break"
      ],
      "metadata": {
        "colab": {
          "base_uri": "https://localhost:8080/"
        },
        "id": "stBv7_ka_R-3",
        "outputId": "c9243404-7e85-4e28-d445-df46b946525f"
      },
      "execution_count": 140,
      "outputs": [
        {
          "output_type": "stream",
          "name": "stdout",
          "text": [
            "images.shape:  torch.Size([100, 1, 28, 28])\n",
            "out.shape: torch.Size([100, 10])\n",
            "out[0]: tensor([ 0.0720,  0.0656,  0.0698,  0.0468, -0.0275,  0.0739, -0.0949, -0.0487,\n",
            "         0.0609,  0.0716], grad_fn=<SelectBackward0>)\n"
          ]
        }
      ]
    },
    {
      "cell_type": "code",
      "source": [
        "probs = F.softmax(out[0], dim=0)\n",
        "\n",
        "torch.sum(probs) , probs\n",
        "torch.max(probs)"
      ],
      "metadata": {
        "colab": {
          "base_uri": "https://localhost:8080/"
        },
        "id": "z-1QqfDrAF28",
        "outputId": "57ef4121-b6c3-44c5-d092-7152665cac33"
      },
      "execution_count": 141,
      "outputs": [
        {
          "output_type": "execute_result",
          "data": {
            "text/plain": [
              "tensor(0.1044, grad_fn=<MaxBackward1>)"
            ]
          },
          "metadata": {},
          "execution_count": 141
        }
      ]
    },
    {
      "cell_type": "code",
      "source": [
        "def get_default_device():\n",
        "  if torch.cuda.is_available():\n",
        "    print('GPU')\n",
        "  else:\n",
        "    print('CPU')\n",
        "\n",
        "def to_device(data , device):\n",
        "  if isinstance(data , (list,tuple)):\n",
        "    return [to_device(x,device) for x in data]\n",
        "  return data.to(device , non_blocking=True)\n",
        "\n",
        "class DeviceDataLoader():\n",
        "  def __init__(self,dl,device):\n",
        "    self.dl = dl\n",
        "    self.device = device\n",
        "\n",
        "  def __iter__(self):\n",
        "    for b in self.dl:\n",
        "      yield to_device(b,self.device)\n",
        "\n",
        "  def __len__(self):\n",
        "    return len(self.dl)"
      ],
      "metadata": {
        "id": "gMMAEOZGBaMH"
      },
      "execution_count": 142,
      "outputs": []
    },
    {
      "cell_type": "code",
      "source": [
        "device = get_default_device()\n",
        "device"
      ],
      "metadata": {
        "colab": {
          "base_uri": "https://localhost:8080/"
        },
        "id": "vFvu32fMCueX",
        "outputId": "e22571b7-316c-4e56-b5e6-8552a3f3a4fd"
      },
      "execution_count": 143,
      "outputs": [
        {
          "output_type": "stream",
          "name": "stdout",
          "text": [
            "CPU\n"
          ]
        }
      ]
    },
    {
      "cell_type": "code",
      "source": [
        "train_dl = DeviceDataLoader(train_dl,device)\n",
        "valid_dl = DeviceDataLoader(val_dl , device)\n",
        "to_device(model , device)"
      ],
      "metadata": {
        "colab": {
          "base_uri": "https://localhost:8080/"
        },
        "id": "c62PbwASDQ3b",
        "outputId": "87543265-8fe9-4736-d34b-7b00e91b3ee4"
      },
      "execution_count": 144,
      "outputs": [
        {
          "output_type": "execute_result",
          "data": {
            "text/plain": [
              "Sequential(\n",
              "  (0): Conv2d(1, 16, kernel_size=(3, 3), stride=(1, 1), padding=(1, 1))\n",
              "  (1): ReLU()\n",
              "  (2): MaxPool2d(kernel_size=2, stride=2, padding=0, dilation=1, ceil_mode=False)\n",
              "  (3): Conv2d(16, 16, kernel_size=(3, 3), stride=(1, 1), padding=(1, 1))\n",
              "  (4): ReLU()\n",
              "  (5): MaxPool2d(kernel_size=2, stride=2, padding=0, dilation=1, ceil_mode=False)\n",
              "  (6): Flatten(start_dim=1, end_dim=-1)\n",
              "  (7): Linear(in_features=784, out_features=10, bias=True)\n",
              ")"
            ]
          },
          "metadata": {},
          "execution_count": 144
        }
      ]
    },
    {
      "cell_type": "code",
      "source": [
        "def loss_batch(model , loss_fn , xb , yb , opt=None , metric=None):\n",
        "  preds = model(xb)\n",
        "  loss = loss_fn(preds , yb)\n",
        "\n",
        "  if opt is not None:\n",
        "    loss.backward()\n",
        "    opt.step()\n",
        "    opt.zero_grad()\n",
        "\n",
        "  metric_results = None\n",
        "  if metric is not None:\n",
        "    metric_results = metric(preds , yb)\n",
        "\n",
        "  return loss.item() , len(xb) , metric_results"
      ],
      "metadata": {
        "id": "C35zDDn8Dhn0"
      },
      "execution_count": 145,
      "outputs": []
    },
    {
      "cell_type": "code",
      "source": [
        "def evaluate(model , loss_fn , valid_dl , metric = None):\n",
        "  with torch.no_grad():\n",
        "    results = [loss_batch(model , loss_fn , xb , yb , metric=metric)\n",
        "                for xb , yb in valid_dl]\n",
        "    losses , nums , metrics = zip(*results)\n",
        "    total = np.sum(nums)\n",
        "    avg_loss = np.sum(np.multiply(nums,losses)) / total\n",
        "\n",
        "    avg_metric = None\n",
        "    if metric is not None:\n",
        "      avg_metric = np.sum(np.multiply(metrics,nums))/total\n",
        "    return avg_loss , total , avg_metric"
      ],
      "metadata": {
        "id": "iBIvKdMNEdeR"
      },
      "execution_count": 146,
      "outputs": []
    },
    {
      "cell_type": "code",
      "source": [
        "def fit(epochs ,model , loss_fn ,lr, train_dl , valid_dl , opt=None , metric=None):\n",
        "  train_losses , valid_losses , valid_metrics = [] , [] , []\n",
        "  if opt is None:\n",
        "    opt = torch.optim.SGD(model.parameters(),lr=lr)\n",
        "  for epoch in range(epochs):\n",
        "    for xb,yb in train_dl:\n",
        "      train_loss,_,_ = loss_batch(model,loss_fn,xb,yb,opt)\n",
        "    val_loss , total , val_metric = evaluate(model,loss_fn,valid_dl,metric)\n",
        "\n",
        "    train_losses.append(train_loss)\n",
        "    valid_losses.append(val_loss)\n",
        "    valid_metrics.append(val_metric)\n",
        "\n",
        "    if metric is None:\n",
        "      print('Epoch [{}/{}] , train_loss : {:4f} , val_loss:{:4f}'.format(epoch+1,epochs,train_loss,val_loss))\n",
        "    else:\n",
        "      print('Epoch [{}/{}] , train_loss : {:4f} , val_loss:{:4f} , val_{} : {:4f}'.format(epoch+1,epochs,train_loss,val_loss,metric.__name__,val_metric))\n",
        "\n",
        "  return train_losses , valid_losses , valid_metrics\n"
      ],
      "metadata": {
        "id": "MUQ2Q9pHFube"
      },
      "execution_count": 147,
      "outputs": []
    },
    {
      "cell_type": "code",
      "source": [
        "def accuracy(outputs,labels):\n",
        "  _,preds = torch.max(outputs,dim=1)\n",
        "  return torch.sum(preds==labels).item() / len(preds)"
      ],
      "metadata": {
        "id": "VKlxlFDsIVpL"
      },
      "execution_count": 148,
      "outputs": []
    },
    {
      "cell_type": "code",
      "source": [
        "val_loss , _ , val_acc = evaluate(model,F.cross_entropy,valid_dl,metric=accuracy)\n",
        "print('Loss: {:.4f} , Accuracy : {:.4f}'.format(val_loss,val_acc))"
      ],
      "metadata": {
        "colab": {
          "base_uri": "https://localhost:8080/"
        },
        "id": "HEyoEqxCIkoZ",
        "outputId": "2ce0ea9f-d160-4d61-c109-b09e8927184e"
      },
      "execution_count": 149,
      "outputs": [
        {
          "output_type": "stream",
          "name": "stdout",
          "text": [
            "Loss: 2.3069 , Accuracy : 0.0952\n"
          ]
        }
      ]
    },
    {
      "cell_type": "code",
      "source": [
        "epochs = 10\n",
        "opt = torch.optim.Adam(model.parameters(),lr=lr)\n",
        "lr = 0.005\n",
        "\n",
        "history = fit(epochs , model , F.cross_entropy,lr ,train_dl,valid_dl ,opt, accuracy)\n",
        "train_losses , val_losses , val_metrics = history"
      ],
      "metadata": {
        "colab": {
          "base_uri": "https://localhost:8080/"
        },
        "id": "yw5CDWSoJTOI",
        "outputId": "0a4e88ce-6f5f-4449-8616-09434edb396c"
      },
      "execution_count": 150,
      "outputs": [
        {
          "output_type": "stream",
          "name": "stdout",
          "text": [
            "Epoch [1/10] , train_loss : 0.089549 , val_loss:0.131500 , val_accuracy : 0.959667\n",
            "Epoch [2/10] , train_loss : 0.077538 , val_loss:0.089521 , val_accuracy : 0.973583\n",
            "Epoch [3/10] , train_loss : 0.115846 , val_loss:0.075235 , val_accuracy : 0.977833\n",
            "Epoch [4/10] , train_loss : 0.045624 , val_loss:0.066166 , val_accuracy : 0.981000\n",
            "Epoch [5/10] , train_loss : 0.040708 , val_loss:0.068718 , val_accuracy : 0.978750\n",
            "Epoch [6/10] , train_loss : 0.011766 , val_loss:0.059676 , val_accuracy : 0.982417\n",
            "Epoch [7/10] , train_loss : 0.065697 , val_loss:0.059744 , val_accuracy : 0.982333\n",
            "Epoch [8/10] , train_loss : 0.024289 , val_loss:0.058419 , val_accuracy : 0.982500\n",
            "Epoch [9/10] , train_loss : 0.014790 , val_loss:0.056912 , val_accuracy : 0.983333\n",
            "Epoch [10/10] , train_loss : 0.021986 , val_loss:0.052890 , val_accuracy : 0.984583\n"
          ]
        }
      ]
    },
    {
      "cell_type": "code",
      "source": [
        "def plot_metric(metric_values):\n",
        "  plt.plot(metric_values,'-x')\n",
        "  plt.xlabel('epoch')\n",
        "  plt.ylabel('accuracy')\n",
        "  plt.title('Accuracy vs No. of epochs')\n",
        "  plt.grid()\n",
        "  plt.show()"
      ],
      "metadata": {
        "id": "Q_y2z73FJ35z"
      },
      "execution_count": 151,
      "outputs": []
    },
    {
      "cell_type": "code",
      "source": [
        "plot_metric([val_acc]+val_metrics)"
      ],
      "metadata": {
        "colab": {
          "base_uri": "https://localhost:8080/",
          "height": 472
        },
        "id": "Ind4If8Rog8_",
        "outputId": "f765cb02-43cc-4bac-fd35-d17752170d44"
      },
      "execution_count": 152,
      "outputs": [
        {
          "output_type": "display_data",
          "data": {
            "text/plain": [
              "<Figure size 640x480 with 1 Axes>"
            ],
            "image/png": "[encoded data removed]"
          },
          "metadata": {}
        }
      ]
    },
    {
      "cell_type": "code",
      "source": [
        "def plot_losses(train_losses , valid_losses):\n",
        "  plt.plot(train_losses,'-x')\n",
        "  plt.plot(valid_losses,'-o')\n",
        "  plt.xlabel('epoch')\n",
        "  plt.ylabel('loss')\n",
        "  plt.legend(['Training','Validation'])\n",
        "  plt.title('Loss vs No. of epochs')"
      ],
      "metadata": {
        "id": "OMj7U_EdpEqN"
      },
      "execution_count": 153,
      "outputs": []
    },
    {
      "cell_type": "code",
      "source": [
        "plot_losses([None]+train_losses , [val_loss]+val_losses)"
      ],
      "metadata": {
        "colab": {
          "base_uri": "https://localhost:8080/",
          "height": 472
        },
        "id": "7hSVnWSFptqZ",
        "outputId": "07bda1ec-5a75-48b7-c01b-9aad83bc38eb"
      },
      "execution_count": 154,
      "outputs": [
        {
          "output_type": "display_data",
          "data": {
            "text/plain": [
              "<Figure size 640x480 with 1 Axes>"
            ],
            "image/png": "[encoded data removed]"
          },
          "metadata": {}
        }
      ]
    },
    {
      "cell_type": "code",
      "source": [
        "def predict_image(img , model):\n",
        "  xb = img.unsqueeze(0)\n",
        "  yb = model(xb.to(device))\n",
        "  _,preds = torch.max(yb,dim=1)\n",
        "  return dataset.classes[preds[0].item()]"
      ],
      "metadata": {
        "id": "H24qthEvp2LN"
      },
      "execution_count": 155,
      "outputs": []
    },
    {
      "cell_type": "code",
      "source": [
        "img , label = test_dataset[0]\n",
        "plt.imshow(img.permute(1,2,0))\n",
        "print('Label: ',dataset.classes[label],'Predicted:',predict_image(img,model))"
      ],
      "metadata": {
        "colab": {
          "base_uri": "https://localhost:8080/",
          "height": 447
        },
        "id": "U2kCkWAXshw1",
        "outputId": "6079ac00-9394-469a-a161-487127f69ac3"
      },
      "execution_count": 156,
      "outputs": [
        {
          "output_type": "stream",
          "name": "stdout",
          "text": [
            "Label:  7 - seven Predicted: 7 - seven\n"
          ]
        },
        {
          "output_type": "display_data",
          "data": {
            "text/plain": [
              "<Figure size 640x480 with 1 Axes>"
            ],
            "image/png": "[encoded data removed]"
          },
          "metadata": {}
        }
      ]
    },
    {
      "cell_type": "code",
      "source": [
        "img , label = test_dataset[13]\n",
        "plt.imshow(img.permute(1,2,0))\n",
        "print('Label: ',dataset.classes[label],'Predicted:',predict_image(img,model))"
      ],
      "metadata": {
        "colab": {
          "base_uri": "https://localhost:8080/",
          "height": 447
        },
        "id": "-3PHJdMJsxmG",
        "outputId": "198f217e-db44-4541-fd4f-1e1b42fdd6f4"
      },
      "execution_count": 157,
      "outputs": [
        {
          "output_type": "stream",
          "name": "stdout",
          "text": [
            "Label:  0 - zero Predicted: 0 - zero\n"
          ]
        },
        {
          "output_type": "display_data",
          "data": {
            "text/plain": [
              "<Figure size 640x480 with 1 Axes>"
            ],
            "image/png": "[encoded data removed]"
          },
          "metadata": {}
        }
      ]
    },
    {
      "cell_type": "code",
      "source": [
        "test_loader = DataLoader(test_dataset , batch_size)\n",
        "\n",
        "test_losses , _ , test_acc = evaluate(model,F.cross_entropy,test_loader,metric=accuracy)\n",
        "print('Loss: {:.4f} , Accuracy: {:.4f}'.format(test_losses,test_acc))"
      ],
      "metadata": {
        "colab": {
          "base_uri": "https://localhost:8080/"
        },
        "id": "vgSVvTKCt8rT",
        "outputId": "16157a10-5b9b-40bc-a17d-0707be057cb6"
      },
      "execution_count": 158,
      "outputs": [
        {
          "output_type": "stream",
          "name": "stdout",
          "text": [
            "Loss: 0.0395 , Accuracy: 0.9862\n"
          ]
        }
      ]
    },
    {
      "cell_type": "code",
      "source": [
        "torch.save(model.state_dict() , 'MNISTimages')"
      ],
      "metadata": {
        "id": "5_zkohbWueoD"
      },
      "execution_count": 159,
      "outputs": []
    },
    {
      "cell_type": "code",
      "source": [
        "model2 = nn.Sequential(\n",
        "    nn.Conv2d(1, 16, kernel_size=3, stride=1, padding=1), # → (16, 28, 28)\n",
        "    nn.ReLU(),\n",
        "    nn.MaxPool2d(2, 2),                                   # → (16, 14, 14)\n",
        "\n",
        "    nn.Conv2d(16, 16, kernel_size=3, stride=1, padding=1),# → (32, 14, 14)\n",
        "    nn.ReLU(),\n",
        "    nn.MaxPool2d(2, 2),                                   # → (32, 7, 7)\n",
        "\n",
        "    nn.Flatten(),\n",
        "    nn.Linear(16 * 7 * 7, 10),\n",
        ")"
      ],
      "metadata": {
        "id": "mEXL74J2xVIS"
      },
      "execution_count": 160,
      "outputs": []
    },
    {
      "cell_type": "code",
      "source": [
        "model2.load_state_dict(torch.load('MNISTimages'))"
      ],
      "metadata": {
        "colab": {
          "base_uri": "https://localhost:8080/"
        },
        "id": "wadBhMt6xiVV",
        "outputId": "a11cfa41-6147-4b7f-f188-aa66e5f3fc20"
      },
      "execution_count": 161,
      "outputs": [
        {
          "output_type": "execute_result",
          "data": {
            "text/plain": [
              "<All keys matched successfully>"
            ]
          },
          "metadata": {},
          "execution_count": 161
        }
      ]
    },
    {
      "cell_type": "code",
      "source": [
        "test_losses , _ , test_acc = evaluate(to_device(model2 , device),F.cross_entropy,test_loader,metric=accuracy)\n",
        "print('Loss: {:.4f} , Accuracy: {:.4f}'.format(test_losses,test_acc))"
      ],
      "metadata": {
        "colab": {
          "base_uri": "https://localhost:8080/"
        },
        "id": "K0J9Notfxp7S",
        "outputId": "9efdb492-8495-43f3-cf17-113e3a2cd18e"
      },
      "execution_count": 162,
      "outputs": [
        {
          "output_type": "stream",
          "name": "stdout",
          "text": [
            "Loss: 0.0395 , Accuracy: 0.9862\n"
          ]
        }
      ]
    },
    {
      "cell_type": "markdown",
      "source": [
        "# **IMAGE CLASSIFICATION USING RESNETS , DATA AUGMENTATION AND REGULARIZATION**"
      ],
      "metadata": {
        "id": "pQGDiCvSpxMZ"
      }
    },
    {
      "cell_type": "code",
      "source": [
        "import os\n",
        "import torch\n",
        "import torchvision\n",
        "import tarfile\n",
        "from torchvision.datasets.utils import download_url"
      ],
      "metadata": {
        "id": "r8A4-9Dcx5lK"
      },
      "execution_count": 162,
      "outputs": []
    },
    {
      "cell_type": "code",
      "source": [
        "class SimpleResidualNetwork(nn.Module):\n",
        "  def __init__(self):\n",
        "    super().__init__()\n",
        "    self.conv1 = nn.Conv2d(in_channels = 1 , out_channels = 1 , kernel_size = 3 , stride = 1 , padding = 1)\n",
        "    self.relu1 = nn.ReLU()\n",
        "    self.conv2 = nn.Conv2d(in_channels = 1 , out_channels = 1 , kernel_size = 3 , stride = 1 , padding = 1)\n",
        "    self.relu2 = nn.ReLU()\n",
        "\n",
        "  def forward(self , x):\n",
        "    out = self.conv1(x)\n",
        "    out = self.relu1(out)\n",
        "    out = self.conv2(out)\n",
        "    return self.relu2(out+x)\n",
        ""
      ],
      "metadata": {
        "id": "NtoFCGkYqQDg"
      },
      "execution_count": 165,
      "outputs": []
    },
    {
      "cell_type": "code",
      "source": [
        "simple_resnet = SimpleResidualNetwork()\n",
        "\n",
        "for images , labels in train_dl:\n",
        "  out = simple_resnet(images)\n",
        "  print(out.shape)\n",
        "  break"
      ],
      "metadata": {
        "colab": {
          "base_uri": "https://localhost:8080/"
        },
        "id": "tCpDbnE8wGdN",
        "outputId": "8eab8fd6-567d-4b5c-b9ca-dc4f1e7ca30e"
      },
      "execution_count": 166,
      "outputs": [
        {
          "output_type": "stream",
          "name": "stdout",
          "text": [
            "torch.Size([100, 1, 28, 28])\n"
          ]
        }
      ]
    },
    {
      "cell_type": "code",
      "source": [
        "def conv2d(ni , nf , stride=1 , ks=3):\n",
        "  return nn.Conv2d(in_channels = ni , out_channels = nf ,\n",
        "                   kernel_size = ks, stride = stride ,\n",
        "                   padding = ks//2 , bias = False)\n",
        "\n",
        "def bn_relu_conv(ni , nf):\n",
        "  return nn.Sequential(nn.BatchNorm2d(ni),\n",
        "                       nn.ReLU(inplace=True),\n",
        "                       conv2d(ni,nf))"
      ],
      "metadata": {
        "id": "uy6MBdSmwW-4"
      },
      "execution_count": 167,
      "outputs": []
    },
    {
      "cell_type": "code",
      "source": [
        "class ResidualBlock(nn.Module):\n",
        "  def __init__(self , ni , nf , stride=1):\n",
        "    super().__init__()\n",
        "    self.bn = nn.BatchNorm2d(ni)\n",
        "    self.conv1 = conv2d(ni, nf , stride=1)\n",
        "    self.conv2 = bn_relu_conv(nf, nf)\n",
        "    self.shortcut = lambda x: x\n",
        "    if ni!=nf or stride!=1:\n",
        "      self.shortcut = conv2d(ni , nf , stride=stride , ks=1)\n",
        "\n",
        "  def forward(self , x):\n",
        "    r = self.shortcut(x)\n",
        "    x = self.conv1(x)\n",
        "    x = self.conv2(x) * 0.2\n",
        "\n",
        "    if x.shape != r.shape:\n",
        "        # Dynamically resize shortcut if shapes differ\n",
        "        r = F.interpolate(r, size=x.shape[2:], mode=\"nearest\")\n",
        "    return x + r"
      ],
      "metadata": {
        "id": "B68LfaJf1v8A"
      },
      "execution_count": 206,
      "outputs": []
    },
    {
      "cell_type": "code",
      "source": [
        "def make_group(N , ni , nf , stride):\n",
        "  start = ResidualBlock(ni,nf,stride)\n",
        "  rest = [ResidualBlock(nf,nf) for j in range(1,N)]\n",
        "  return [start] +rest\n",
        "\n",
        "class Flatten(nn.Module):\n",
        "  def __init__(self):\n",
        "    super().__init__()\n",
        "  def forward(self,x):\n",
        "    return x.view(x.size(0) , -1)\n",
        "\n",
        "class WideResNet(nn.Module):\n",
        "  def __init__(self,n_groups, N,n_classes,k=1,n_start=16):\n",
        "    super().__init__()\n",
        "    layers = [conv2d(1,n_start)]\n",
        "    n_channels = [n_start]\n",
        "\n",
        "    for i in range(n_groups):\n",
        "      n_channels.append(n_start*(2**i)*k)\n",
        "      stride = 2 if i>0 else 1\n",
        "      layers += make_group(N,n_channels[i],n_channels[i+1],stride)\n",
        "\n",
        "    layers += [nn.BatchNorm2d(n_channels[-1]),\n",
        "               nn.ReLU(inplace=True),\n",
        "               nn.AdaptiveAvgPool2d(1),\n",
        "               Flatten(),\n",
        "               nn.Linear(n_channels[-1],n_classes)]\n",
        "\n",
        "    self.features = nn.Sequential(*layers)\n",
        "\n",
        "  def forward(self,x):\n",
        "    return self.features(x)\n",
        "\n",
        "def wrn_22():\n",
        "  return WideResNet(n_groups=3,N=3,n_classes=10,k=6)"
      ],
      "metadata": {
        "id": "XxZSJI3z3vQk"
      },
      "execution_count": 207,
      "outputs": []
    },
    {
      "cell_type": "code",
      "source": [
        "model = wrn_22()"
      ],
      "metadata": {
        "id": "Pb2grCYh50OK"
      },
      "execution_count": 208,
      "outputs": []
    },
    {
      "cell_type": "code",
      "source": [
        "model"
      ],
      "metadata": {
        "colab": {
          "base_uri": "https://localhost:8080/"
        },
        "id": "xF6O8pbS6LQ8",
        "outputId": "ede36937-a46f-4fa1-f9bc-b52266c108bb"
      },
      "execution_count": 209,
      "outputs": [
        {
          "output_type": "execute_result",
          "data": {
            "text/plain": [
              "WideResNet(\n",
              "  (features): Sequential(\n",
              "    (0): Conv2d(1, 16, kernel_size=(3, 3), stride=(1, 1), padding=(1, 1), bias=False)\n",
              "    (1): ResidualBlock(\n",
              "      (bn): BatchNorm2d(16, eps=1e-05, momentum=0.1, affine=True, track_running_stats=True)\n",
              "      (conv1): Conv2d(16, 96, kernel_size=(3, 3), stride=(1, 1), padding=(1, 1), bias=False)\n",
              "      (conv2): Sequential(\n",
              "        (0): BatchNorm2d(96, eps=1e-05, momentum=0.1, affine=True, track_running_stats=True)\n",
              "        (1): ReLU(inplace=True)\n",
              "        (2): Conv2d(96, 96, kernel_size=(3, 3), stride=(1, 1), padding=(1, 1), bias=False)\n",
              "      )\n",
              "      (shortcut): Conv2d(16, 96, kernel_size=(1, 1), stride=(1, 1), bias=False)\n",
              "    )\n",
              "    (2): ResidualBlock(\n",
              "      (bn): BatchNorm2d(96, eps=1e-05, momentum=0.1, affine=True, track_running_stats=True)\n",
              "      (conv1): Conv2d(96, 96, kernel_size=(3, 3), stride=(1, 1), padding=(1, 1), bias=False)\n",
              "      (conv2): Sequential(\n",
              "        (0): BatchNorm2d(96, eps=1e-05, momentum=0.1, affine=True, track_running_stats=True)\n",
              "        (1): ReLU(inplace=True)\n",
              "        (2): Conv2d(96, 96, kernel_size=(3, 3), stride=(1, 1), padding=(1, 1), bias=False)\n",
              "      )\n",
              "    )\n",
              "    (3): ResidualBlock(\n",
              "      (bn): BatchNorm2d(96, eps=1e-05, momentum=0.1, affine=True, track_running_stats=True)\n",
              "      (conv1): Conv2d(96, 96, kernel_size=(3, 3), stride=(1, 1), padding=(1, 1), bias=False)\n",
              "      (conv2): Sequential(\n",
              "        (0): BatchNorm2d(96, eps=1e-05, momentum=0.1, affine=True, track_running_stats=True)\n",
              "        (1): ReLU(inplace=True)\n",
              "        (2): Conv2d(96, 96, kernel_size=(3, 3), stride=(1, 1), padding=(1, 1), bias=False)\n",
              "      )\n",
              "    )\n",
              "    (4): ResidualBlock(\n",
              "      (bn): BatchNorm2d(96, eps=1e-05, momentum=0.1, affine=True, track_running_stats=True)\n",
              "      (conv1): Conv2d(96, 192, kernel_size=(3, 3), stride=(1, 1), padding=(1, 1), bias=False)\n",
              "      (conv2): Sequential(\n",
              "        (0): BatchNorm2d(192, eps=1e-05, momentum=0.1, affine=True, track_running_stats=True)\n",
              "        (1): ReLU(inplace=True)\n",
              "        (2): Conv2d(192, 192, kernel_size=(3, 3), stride=(1, 1), padding=(1, 1), bias=False)\n",
              "      )\n",
              "      (shortcut): Conv2d(96, 192, kernel_size=(1, 1), stride=(2, 2), bias=False)\n",
              "    )\n",
              "    (5): ResidualBlock(\n",
              "      (bn): BatchNorm2d(192, eps=1e-05, momentum=0.1, affine=True, track_running_stats=True)\n",
              "      (conv1): Conv2d(192, 192, kernel_size=(3, 3), stride=(1, 1), padding=(1, 1), bias=False)\n",
              "      (conv2): Sequential(\n",
              "        (0): BatchNorm2d(192, eps=1e-05, momentum=0.1, affine=True, track_running_stats=True)\n",
              "        (1): ReLU(inplace=True)\n",
              "        (2): Conv2d(192, 192, kernel_size=(3, 3), stride=(1, 1), padding=(1, 1), bias=False)\n",
              "      )\n",
              "    )\n",
              "    (6): ResidualBlock(\n",
              "      (bn): BatchNorm2d(192, eps=1e-05, momentum=0.1, affine=True, track_running_stats=True)\n",
              "      (conv1): Conv2d(192, 192, kernel_size=(3, 3), stride=(1, 1), padding=(1, 1), bias=False)\n",
              "      (conv2): Sequential(\n",
              "        (0): BatchNorm2d(192, eps=1e-05, momentum=0.1, affine=True, track_running_stats=True)\n",
              "        (1): ReLU(inplace=True)\n",
              "        (2): Conv2d(192, 192, kernel_size=(3, 3), stride=(1, 1), padding=(1, 1), bias=False)\n",
              "      )\n",
              "    )\n",
              "    (7): ResidualBlock(\n",
              "      (bn): BatchNorm2d(192, eps=1e-05, momentum=0.1, affine=True, track_running_stats=True)\n",
              "      (conv1): Conv2d(192, 384, kernel_size=(3, 3), stride=(1, 1), padding=(1, 1), bias=False)\n",
              "      (conv2): Sequential(\n",
              "        (0): BatchNorm2d(384, eps=1e-05, momentum=0.1, affine=True, track_running_stats=True)\n",
              "        (1): ReLU(inplace=True)\n",
              "        (2): Conv2d(384, 384, kernel_size=(3, 3), stride=(1, 1), padding=(1, 1), bias=False)\n",
              "      )\n",
              "      (shortcut): Conv2d(192, 384, kernel_size=(1, 1), stride=(2, 2), bias=False)\n",
              "    )\n",
              "    (8): ResidualBlock(\n",
              "      (bn): BatchNorm2d(384, eps=1e-05, momentum=0.1, affine=True, track_running_stats=True)\n",
              "      (conv1): Conv2d(384, 384, kernel_size=(3, 3), stride=(1, 1), padding=(1, 1), bias=False)\n",
              "      (conv2): Sequential(\n",
              "        (0): BatchNorm2d(384, eps=1e-05, momentum=0.1, affine=True, track_running_stats=True)\n",
              "        (1): ReLU(inplace=True)\n",
              "        (2): Conv2d(384, 384, kernel_size=(3, 3), stride=(1, 1), padding=(1, 1), bias=False)\n",
              "      )\n",
              "    )\n",
              "    (9): ResidualBlock(\n",
              "      (bn): BatchNorm2d(384, eps=1e-05, momentum=0.1, affine=True, track_running_stats=True)\n",
              "      (conv1): Conv2d(384, 384, kernel_size=(3, 3), stride=(1, 1), padding=(1, 1), bias=False)\n",
              "      (conv2): Sequential(\n",
              "        (0): BatchNorm2d(384, eps=1e-05, momentum=0.1, affine=True, track_running_stats=True)\n",
              "        (1): ReLU(inplace=True)\n",
              "        (2): Conv2d(384, 384, kernel_size=(3, 3), stride=(1, 1), padding=(1, 1), bias=False)\n",
              "      )\n",
              "    )\n",
              "    (10): BatchNorm2d(384, eps=1e-05, momentum=0.1, affine=True, track_running_stats=True)\n",
              "    (11): ReLU(inplace=True)\n",
              "    (12): AdaptiveAvgPool2d(output_size=1)\n",
              "    (13): Flatten()\n",
              "    (14): Linear(in_features=384, out_features=10, bias=True)\n",
              "  )\n",
              ")"
            ]
          },
          "metadata": {},
          "execution_count": 209
        }
      ]
    },
    {
      "cell_type": "code",
      "source": [
        "for images , labels in train_dl:\n",
        "  print(images.shape)\n",
        "  out=model(images)\n",
        "  print(out.shape)\n",
        "  break"
      ],
      "metadata": {
        "colab": {
          "base_uri": "https://localhost:8080/"
        },
        "id": "ayMUOlMJC_-c",
        "outputId": "47f32029-3992-4a94-d0ab-4066cd50eab7"
      },
      "execution_count": 210,
      "outputs": [
        {
          "output_type": "stream",
          "name": "stdout",
          "text": [
            "torch.Size([100, 1, 28, 28])\n",
            "torch.Size([100, 10])\n"
          ]
        }
      ]
    },
    {
      "cell_type": "markdown",
      "source": [
        "# **TRAINING GENERATIVE ADVERSIAL NETWORKS (GANs)**"
      ],
      "metadata": {
        "id": "dXXY8Q__lagh"
      }
    },
    {
      "cell_type": "code",
      "source": [
        "import torch\n",
        "import torchvision\n",
        "from torchvision.transforms import ToTensor , Normalize , Compose\n",
        "from torchvision.datasets import MNIST"
      ],
      "metadata": {
        "id": "nj6aYtdeljzF"
      },
      "execution_count": 1,
      "outputs": []
    },
    {
      "cell_type": "code",
      "source": [
        "mnist = MNIST(root = 'data',train=True,\n",
        "              download=True,\n",
        "              transform = Compose((ToTensor(),Normalize(mean=(0.5,),std=(0.5,)))))"
      ],
      "metadata": {
        "colab": {
          "base_uri": "https://localhost:8080/"
        },
        "id": "Ipi-qKLalyoa",
        "outputId": "0038b6e5-19c2-439a-bcdc-1e236cd33e30"
      },
      "execution_count": 4,
      "outputs": [
        {
          "output_type": "stream",
          "name": "stderr",
          "text": [
            "100%|██████████| 9.91M/9.91M [00:00<00:00, 51.5MB/s]\n",
            "100%|██████████| 28.9k/28.9k [00:00<00:00, 1.75MB/s]\n",
            "100%|██████████| 1.65M/1.65M [00:00<00:00, 15.0MB/s]\n",
            "100%|██████████| 4.54k/4.54k [00:00<00:00, 3.57MB/s]\n"
          ]
        }
      ]
    },
    {
      "cell_type": "code",
      "source": [
        "image , label = mnist[0]\n",
        "print(label)\n",
        "print(image[:,10:15,10:15])\n",
        "torch.min(image) , torch.max(image)"
      ],
      "metadata": {
        "colab": {
          "base_uri": "https://localhost:8080/"
        },
        "id": "en5kdGZgmIbg",
        "outputId": "4f208197-1f95-4d77-e85e-56d7a4617747"
      },
      "execution_count": 5,
      "outputs": [
        {
          "output_type": "stream",
          "name": "stdout",
          "text": [
            "5\n",
            "tensor([[[-0.9922,  0.2078,  0.9843, -0.2941, -1.0000],\n",
            "         [-1.0000,  0.0902,  0.9843,  0.4902, -0.9843],\n",
            "         [-1.0000, -0.9137,  0.4902,  0.9843, -0.4510],\n",
            "         [-1.0000, -1.0000, -0.7255,  0.8902,  0.7647],\n",
            "         [-1.0000, -1.0000, -1.0000, -0.3647,  0.8824]]])\n"
          ]
        },
        {
          "output_type": "execute_result",
          "data": {
            "text/plain": [
              "(tensor(-1.), tensor(1.))"
            ]
          },
          "metadata": {},
          "execution_count": 5
        }
      ]
    },
    {
      "cell_type": "code",
      "source": [
        "def denorm(x):\n",
        "  out = (x+1)/2\n",
        "  return out.clamp(0,1)"
      ],
      "metadata": {
        "id": "CeVU8djEmtSJ"
      },
      "execution_count": 6,
      "outputs": []
    },
    {
      "cell_type": "code",
      "source": [
        "import matplotlib.pyplot as plt\n",
        "%matplotlib inline\n",
        "\n",
        "img_norm = denorm(image)\n",
        "plt.imshow(img_norm[0],cmap='gray')\n",
        "print('Label:' , label)"
      ],
      "metadata": {
        "colab": {
          "base_uri": "https://localhost:8080/",
          "height": 447
        },
        "id": "qSTlI_Z-nCdi",
        "outputId": "b94b8250-a243-44d1-e3f6-803b3d172eab"
      },
      "execution_count": 9,
      "outputs": [
        {
          "output_type": "stream",
          "name": "stdout",
          "text": [
            "Label: 5\n"
          ]
        },
        {
          "output_type": "display_data",
          "data": {
            "text/plain": [
              "<Figure size 640x480 with 1 Axes>"
            ],
            "image/png": "[encoded data removed]"
          },
          "metadata": {}
        }
      ]
    },
    {
      "cell_type": "code",
      "source": [
        "from torch.utils.data import DataLoader\n",
        "\n",
        "batch_size = 100\n",
        "data_loader = DataLoader(mnist , batch_size, shuffle=True)"
      ],
      "metadata": {
        "id": "U2WZZGeUniak"
      },
      "execution_count": 10,
      "outputs": []
    },
    {
      "cell_type": "code",
      "source": [
        "for img_batch , label_batch in data_loader:\n",
        "  print('first batch:')\n",
        "  print(img_batch.shape)\n",
        "  plt.imshow(img_batch[0][0],cmap='gray')\n",
        "  print(label_batch)\n",
        "  break"
      ],
      "metadata": {
        "colab": {
          "base_uri": "https://localhost:8080/",
          "height": 551
        },
        "id": "EiQsLOgln-pR",
        "outputId": "8e308ac2-912e-4df6-8af3-539d7176f6b0"
      },
      "execution_count": 12,
      "outputs": [
        {
          "output_type": "stream",
          "name": "stdout",
          "text": [
            "first batch:\n",
            "torch.Size([100, 1, 28, 28])\n",
            "tensor([9, 0, 6, 4, 1, 9, 6, 4, 4, 4, 3, 9, 3, 9, 9, 1, 3, 0, 2, 5, 3, 4, 7, 5,\n",
            "        8, 0, 2, 1, 6, 8, 6, 5, 1, 0, 1, 0, 5, 6, 8, 5, 3, 1, 6, 4, 4, 4, 7, 1,\n",
            "        8, 6, 1, 2, 8, 7, 9, 1, 9, 8, 1, 0, 6, 4, 7, 1, 4, 8, 4, 2, 9, 4, 2, 8,\n",
            "        3, 5, 1, 0, 7, 4, 5, 9, 3, 7, 5, 6, 2, 2, 1, 5, 4, 1, 0, 7, 3, 7, 0, 3,\n",
            "        0, 8, 8, 3])\n"
          ]
        },
        {
          "output_type": "display_data",
          "data": {
            "text/plain": [
              "<Figure size 640x480 with 1 Axes>"
            ],
            "image/png": "[encoded data removed]"
          },
          "metadata": {}
        }
      ]
    },
    {
      "cell_type": "code",
      "source": [
        "device = torch.device('cuda' if torch.cuda.is_available() else 'cpu')\n",
        "device"
      ],
      "metadata": {
        "colab": {
          "base_uri": "https://localhost:8080/"
        },
        "id": "Y49w5N8OoZ0N",
        "outputId": "b290ea81-54bc-48a9-9e23-74e650456847"
      },
      "execution_count": 13,
      "outputs": [
        {
          "output_type": "execute_result",
          "data": {
            "text/plain": [
              "device(type='cpu')"
            ]
          },
          "metadata": {},
          "execution_count": 13
        }
      ]
    },
    {
      "cell_type": "markdown",
      "source": [
        "# *DISCRIMINATOR NETWORK*"
      ],
      "metadata": {
        "id": "5wNIrTC-qYcM"
      }
    },
    {
      "cell_type": "code",
      "source": [
        "image_size = 784\n",
        "hidden_size = 256"
      ],
      "metadata": {
        "id": "LihJYAwZo6_w"
      },
      "execution_count": 14,
      "outputs": []
    },
    {
      "cell_type": "code",
      "source": [
        "import torch.nn as nn\n",
        "\n",
        "D = nn.Sequential(\n",
        "    nn.Linear(image_size,hidden_size),\n",
        "    nn.LeakyReLU(0.2),\n",
        "    nn.Linear(hidden_size,hidden_size),\n",
        "    nn.LeakyReLU(0.2),\n",
        "    nn.Linear(hidden_size,1),\n",
        "    nn.Sigmoid()\n",
        ")"
      ],
      "metadata": {
        "id": "fv88y-YLpJ48"
      },
      "execution_count": 16,
      "outputs": []
    },
    {
      "cell_type": "code",
      "source": [
        "D.to(device);"
      ],
      "metadata": {
        "id": "_9tJDiBqpjWx"
      },
      "execution_count": 17,
      "outputs": []
    },
    {
      "cell_type": "markdown",
      "source": [
        "# *GENERATOR NETWORK*"
      ],
      "metadata": {
        "id": "rHz2HTpnqnU-"
      }
    },
    {
      "cell_type": "markdown",
      "source": [],
      "metadata": {
        "id": "wMOevV0VqnRT"
      }
    },
    {
      "cell_type": "code",
      "source": [
        "latent_size = 64\n",
        "\n",
        "G = nn.Sequential(\n",
        "    nn.Linear(latent_size,hidden_size),\n",
        "    nn.ReLU(),\n",
        "    nn.Linear(hidden_size,hidden_size),\n",
        "    nn.ReLU(),\n",
        "    nn.Linear(hidden_size,image_size),\n",
        "    nn.Tanh()\n",
        ")"
      ],
      "metadata": {
        "id": "TqIhQ2u2qLB4"
      },
      "execution_count": 18,
      "outputs": []
    },
    {
      "cell_type": "code",
      "source": [
        "y = G(torch.randn(2,latent_size))\n",
        "gen_image = denorm(y.reshape(-1,28,28)).detach()"
      ],
      "metadata": {
        "id": "Mtn79svSrBLJ"
      },
      "execution_count": 19,
      "outputs": []
    },
    {
      "cell_type": "code",
      "source": [
        "plt.imshow(gen_image[0],cmap='gray')"
      ],
      "metadata": {
        "colab": {
          "base_uri": "https://localhost:8080/",
          "height": 447
        },
        "id": "wak4gabwr_Xm",
        "outputId": "2e7d71d5-89b9-4d45-f60b-0d4b4abbd55c"
      },
      "execution_count": 20,
      "outputs": [
        {
          "output_type": "execute_result",
          "data": {
            "text/plain": [
              "<matplotlib.image.AxesImage at 0x7b15a5a9f610>"
            ]
          },
          "metadata": {},
          "execution_count": 20
        },
        {
          "output_type": "display_data",
          "data": {
            "text/plain": [
              "<Figure size 640x480 with 1 Axes>"
            ],
            "image/png": "[encoded data removed]"
          },
          "metadata": {}
        }
      ]
    },
    {
      "cell_type": "code",
      "source": [
        "G.to(device);"
      ],
      "metadata": {
        "id": "KxwUgHK5sEKJ"
      },
      "execution_count": 22,
      "outputs": []
    },
    {
      "cell_type": "code",
      "source": [
        "criterion = nn.BCELoss()\n",
        "d_optimizer = torch.optim.Adam(D.parameters(),lr=0.0002)\n",
        "g_optimizer = torch.optim.Adam(G.parameters(),lr=0.0002)"
      ],
      "metadata": {
        "id": "SqtI0ifasdhf"
      },
      "execution_count": 26,
      "outputs": []
    },
    {
      "cell_type": "code",
      "source": [
        "def reset_grad():\n",
        "  d_optimizer.zero_grad()\n",
        "  g_optimizer.zero_grad()\n",
        "\n",
        "def train_discriminator(images):\n",
        "  real_labels = torch.ones(batch_size,1).to(device)\n",
        "  fake_labels = torch.zeros(batch_size,1).to(device)\n",
        "\n",
        "  outputs = D(images)\n",
        "  d_loss_real = criterion(outputs,real_labels)\n",
        "  real_score = outputs\n",
        "\n",
        "  z = torch.randn(batch_size,latent_size).to(device)\n",
        "  fake_images = G(z)\n",
        "  outputs = D(fake_images)\n",
        "  d_loss_fake = criterion(outputs,fake_labels)\n",
        "  fake_score = outputs\n",
        "\n",
        "  d_loss = d_loss_real + d_loss_fake\n",
        "\n",
        "  reset_grad()\n",
        "\n",
        "  d_loss.backward()\n",
        "\n",
        "  d_optimizer.step()\n",
        "\n",
        "  return d_loss , real_score , fake_score"
      ],
      "metadata": {
        "id": "UUR_vhWJuDKn"
      },
      "execution_count": 27,
      "outputs": []
    },
    {
      "cell_type": "markdown",
      "source": [
        "# **GENERATOR TRAINING**"
      ],
      "metadata": {
        "id": "tvHr8ePOw4v7"
      }
    },
    {
      "cell_type": "code",
      "source": [
        "z = torch.randn(batch_size,latent_size).to(device)\n",
        "fake_images = G(z)\n",
        "D(fake_images)"
      ],
      "metadata": {
        "colab": {
          "base_uri": "https://localhost:8080/"
        },
        "id": "h2EfH-RpvR_w",
        "outputId": "79e2e410-06ef-4394-dc26-53269018a1c6"
      },
      "execution_count": 28,
      "outputs": [
        {
          "output_type": "execute_result",
          "data": {
            "text/plain": [
              "tensor([[0.5024],\n",
              "        [0.5024],\n",
              "        [0.5026],\n",
              "        [0.5011],\n",
              "        [0.5016],\n",
              "        [0.5011],\n",
              "        [0.5017],\n",
              "        [0.5030],\n",
              "        [0.4989],\n",
              "        [0.5009],\n",
              "        [0.5031],\n",
              "        [0.5029],\n",
              "        [0.5027],\n",
              "        [0.5009],\n",
              "        [0.5037],\n",
              "        [0.4997],\n",
              "        [0.4988],\n",
              "        [0.5001],\n",
              "        [0.5026],\n",
              "        [0.5036],\n",
              "        [0.4997],\n",
              "        [0.5026],\n",
              "        [0.5006],\n",
              "        [0.5005],\n",
              "        [0.5001],\n",
              "        [0.5003],\n",
              "        [0.5015],\n",
              "        [0.5040],\n",
              "        [0.5015],\n",
              "        [0.4997],\n",
              "        [0.4998],\n",
              "        [0.4988],\n",
              "        [0.4989],\n",
              "        [0.5020],\n",
              "        [0.5010],\n",
              "        [0.5030],\n",
              "        [0.5024],\n",
              "        [0.5017],\n",
              "        [0.4987],\n",
              "        [0.4997],\n",
              "        [0.4993],\n",
              "        [0.5010],\n",
              "        [0.5036],\n",
              "        [0.5010],\n",
              "        [0.5010],\n",
              "        [0.5005],\n",
              "        [0.5026],\n",
              "        [0.4993],\n",
              "        [0.4986],\n",
              "        [0.5031],\n",
              "        [0.5028],\n",
              "        [0.5004],\n",
              "        [0.5015],\n",
              "        [0.5014],\n",
              "        [0.5008],\n",
              "        [0.5000],\n",
              "        [0.5005],\n",
              "        [0.5025],\n",
              "        [0.5008],\n",
              "        [0.5027],\n",
              "        [0.5008],\n",
              "        [0.5015],\n",
              "        [0.5000],\n",
              "        [0.5003],\n",
              "        [0.5008],\n",
              "        [0.5015],\n",
              "        [0.5012],\n",
              "        [0.5017],\n",
              "        [0.5016],\n",
              "        [0.5009],\n",
              "        [0.5023],\n",
              "        [0.5019],\n",
              "        [0.4998],\n",
              "        [0.5025],\n",
              "        [0.5008],\n",
              "        [0.5006],\n",
              "        [0.4995],\n",
              "        [0.5017],\n",
              "        [0.5020],\n",
              "        [0.5019],\n",
              "        [0.5005],\n",
              "        [0.4996],\n",
              "        [0.4988],\n",
              "        [0.5024],\n",
              "        [0.5028],\n",
              "        [0.5022],\n",
              "        [0.5004],\n",
              "        [0.5001],\n",
              "        [0.5007],\n",
              "        [0.5010],\n",
              "        [0.5017],\n",
              "        [0.5038],\n",
              "        [0.5027],\n",
              "        [0.5044],\n",
              "        [0.4991],\n",
              "        [0.5021],\n",
              "        [0.4999],\n",
              "        [0.5010],\n",
              "        [0.5003],\n",
              "        [0.5013]], grad_fn=<SigmoidBackward0>)"
            ]
          },
          "metadata": {},
          "execution_count": 28
        }
      ]
    },
    {
      "cell_type": "code",
      "source": [
        "def train_generator():\n",
        "  z = torch.randn(batch_size,latent_size).to(device)\n",
        "  fake_images = G(z)\n",
        "  labels = torch.ones(batch_size,1).to(device)\n",
        "  g_loss = criterion(D(fake_images),labels)\n",
        "\n",
        "  reset_grad()\n",
        "  g_loss.backward()\n",
        "  g_optimizer.step()\n",
        "  return g_loss , fake_images"
      ],
      "metadata": {
        "id": "S8_p7cBzxHv1"
      },
      "execution_count": 29,
      "outputs": []
    },
    {
      "cell_type": "markdown",
      "source": [
        "# **TRAINING THE MODEL**"
      ],
      "metadata": {
        "id": "sRtNTDWNyStx"
      }
    },
    {
      "cell_type": "code",
      "source": [
        "import os\n",
        "\n",
        "sample_dir = 'samples'\n",
        "if not os.path.exists(sample_dir):\n",
        "  os.makedirs(sample_dir)"
      ],
      "metadata": {
        "id": "p_0s7KhkyAZu"
      },
      "execution_count": 30,
      "outputs": []
    },
    {
      "cell_type": "code",
      "source": [
        "from IPython.display import Image\n",
        "from torchvision.utils import save_image\n",
        "\n",
        "for images , _ in data_loader:\n",
        "  images = images.reshape(images.size(0) , 1 , 28 , 28)\n",
        "  save_image(denorm(images) , os.path.join(sample_dir , 'real_images.png') , nrow=10)\n",
        "  break\n",
        "\n",
        "Image(os.path.join(sample_dir,'real_images.png'))"
      ],
      "metadata": {
        "colab": {
          "base_uri": "https://localhost:8080/",
          "height": 319
        },
        "id": "egeYBdfjyh1G",
        "outputId": "f823d2cb-3e4d-460a-aeaa-dbe1568c163e"
      },
      "execution_count": 31,
      "outputs": [
        {
          "output_type": "execute_result",
          "data": {
            "image/png": "[encoded data removed]",
            "text/plain": [
              "<IPython.core.display.Image object>"
            ]
          },
          "metadata": {},
          "execution_count": 31
        }
      ]
    },
    {
      "cell_type": "code",
      "source": [
        "sample_vectors = torch.randn(batch_size,latent_size).to(device)\n",
        "\n",
        "def save_fake_images(index):\n",
        "  fake_images = G(sample_vectors)\n",
        "  fake_images = fake_images.reshape(fake_images.size(0),1,28,28)\n",
        "  fake_fname = 'fake_images-{0:0=4d}.png'.format(index)\n",
        "  print('Saving',fake_fname)\n",
        "  save_image(denorm(fake_images),os.path.join(sample_dir,fake_fname),nrow=10)\n",
        "\n",
        "save_fake_images(0)\n",
        "Image(os.path.join(sample_dir),'fake_images_0000.png')"
      ],
      "metadata": {
        "colab": {
          "resources": {
            "http://localhost:8080/None": {
              "data": "",
              "ok": false,
              "headers": [
                [
                  "content-length",
                  "0"
                ]
              ],
              "status": 404,
              "status_text": ""
            }
          },
          "base_uri": "https://localhost:8080/",
          "height": 55
        },
        "id": "a0WcgQXgzv2A",
        "outputId": "941e1d47-ab19-4e1c-ff75-a748179df3ec"
      },
      "execution_count": 35,
      "outputs": [
        {
          "output_type": "stream",
          "name": "stdout",
          "text": [
            "Saving fake_images-0000.png\n"
          ]
        },
        {
          "output_type": "execute_result",
          "data": {
            "text/html": [
              "<img src=\"None\"/>"
            ],
            "text/plain": [
              "<IPython.core.display.Image object>"
            ]
          },
          "metadata": {},
          "execution_count": 35
        }
      ]
    },
    {
      "cell_type": "code",
      "source": [
        "%%time\n",
        "\n",
        "num_epochs = 50\n",
        "total_step = len(data_loader)\n",
        "d_losses , g_losses , real_scores , fake_scores = [], [], [], []\n",
        "\n",
        "for epoch in range(num_epochs):\n",
        "  for i , (images, _) in enumerate(data_loader):\n",
        "    images = images.reshape(batch_size,-1).to(device)\n",
        "\n",
        "    d_loss , real_score , fake_score = train_discriminator(images)\n",
        "    g_loss , fake_images = train_generator()\n",
        "\n",
        "    if (i+1)%200 == 0:\n",
        "      d_losses.append(d_loss.item())\n",
        "      g_losses.append(g_loss.item())\n",
        "      real_scores.append(real_score.mean().item())\n",
        "      fake_scores.append(fake_score.mean().item())\n",
        "      print('Epoch [{}/{}] , Step [{}/{}], d_loss: {:.4f}, g_loss: {:.4f} , D(x): {:.2f}'\n",
        "              .format(epoch , num_epochs , i+1 , total_step , d_loss.item(),g_loss.item(),\n",
        "              real_score.mean().item(),fake_score.mean().item()))\n",
        "\n",
        "  save_fake_images(epoch+1)"
      ],
      "metadata": {
        "colab": {
          "base_uri": "https://localhost:8080/"
        },
        "id": "Qr34qVbc1FGV",
        "outputId": "a4469804-8110-4544-c076-e5797b0a3a35"
      },
      "execution_count": 37,
      "outputs": [
        {
          "output_type": "stream",
          "name": "stdout",
          "text": [
            "Epoch [0/50] , Step [200/600], d_loss: 0.1091, g_loss: 5.5514 , D(x): 0.97\n",
            "Epoch [0/50] , Step [400/600], d_loss: 0.0229, g_loss: 5.2251 , D(x): 0.99\n",
            "Epoch [0/50] , Step [600/600], d_loss: 0.0630, g_loss: 4.9405 , D(x): 0.98\n",
            "Saving fake_images-0001.png\n",
            "Epoch [1/50] , Step [200/600], d_loss: 0.2686, g_loss: 4.6795 , D(x): 0.87\n",
            "Epoch [1/50] , Step [400/600], d_loss: 0.1231, g_loss: 4.6946 , D(x): 0.95\n",
            "Epoch [1/50] , Step [600/600], d_loss: 0.1357, g_loss: 4.1166 , D(x): 0.96\n",
            "Saving fake_images-0002.png\n",
            "Epoch [2/50] , Step [200/600], d_loss: 0.3725, g_loss: 2.9069 , D(x): 0.89\n",
            "Epoch [2/50] , Step [400/600], d_loss: 0.4325, g_loss: 4.1749 , D(x): 0.86\n",
            "Epoch [2/50] , Step [600/600], d_loss: 0.8253, g_loss: 3.9299 , D(x): 0.76\n",
            "Saving fake_images-0003.png\n",
            "Epoch [3/50] , Step [200/600], d_loss: 0.1307, g_loss: 4.0595 , D(x): 0.97\n",
            "Epoch [3/50] , Step [400/600], d_loss: 0.8027, g_loss: 1.8584 , D(x): 0.79\n",
            "Epoch [3/50] , Step [600/600], d_loss: 0.2155, g_loss: 4.5577 , D(x): 0.93\n",
            "Saving fake_images-0004.png\n",
            "Epoch [4/50] , Step [200/600], d_loss: 0.1705, g_loss: 4.3101 , D(x): 0.92\n",
            "Epoch [4/50] , Step [400/600], d_loss: 0.3706, g_loss: 2.1688 , D(x): 0.90\n",
            "Epoch [4/50] , Step [600/600], d_loss: 0.1338, g_loss: 3.5017 , D(x): 0.95\n",
            "Saving fake_images-0005.png\n",
            "Epoch [5/50] , Step [200/600], d_loss: 0.4713, g_loss: 3.1508 , D(x): 0.87\n",
            "Epoch [5/50] , Step [400/600], d_loss: 0.4972, g_loss: 2.7937 , D(x): 0.87\n",
            "Epoch [5/50] , Step [600/600], d_loss: 0.2387, g_loss: 3.5063 , D(x): 0.91\n",
            "Saving fake_images-0006.png\n",
            "Epoch [6/50] , Step [200/600], d_loss: 0.2917, g_loss: 4.0077 , D(x): 0.94\n",
            "Epoch [6/50] , Step [400/600], d_loss: 0.2580, g_loss: 3.3103 , D(x): 0.93\n",
            "Epoch [6/50] , Step [600/600], d_loss: 0.4164, g_loss: 2.5513 , D(x): 0.85\n",
            "Saving fake_images-0007.png\n",
            "Epoch [7/50] , Step [200/600], d_loss: 0.2571, g_loss: 3.5232 , D(x): 0.94\n",
            "Epoch [7/50] , Step [400/600], d_loss: 0.4988, g_loss: 3.1954 , D(x): 0.90\n",
            "Epoch [7/50] , Step [600/600], d_loss: 0.3498, g_loss: 3.0677 , D(x): 0.87\n",
            "Saving fake_images-0008.png\n",
            "Epoch [8/50] , Step [200/600], d_loss: 0.2356, g_loss: 4.7597 , D(x): 0.94\n",
            "Epoch [8/50] , Step [400/600], d_loss: 0.1682, g_loss: 3.5342 , D(x): 0.91\n",
            "Epoch [8/50] , Step [600/600], d_loss: 0.5560, g_loss: 1.5156 , D(x): 0.84\n",
            "Saving fake_images-0009.png\n",
            "Epoch [9/50] , Step [200/600], d_loss: 0.2798, g_loss: 4.5219 , D(x): 0.92\n",
            "Epoch [9/50] , Step [400/600], d_loss: 0.1262, g_loss: 5.0328 , D(x): 0.97\n",
            "Epoch [9/50] , Step [600/600], d_loss: 0.2892, g_loss: 5.8196 , D(x): 0.87\n",
            "Saving fake_images-0010.png\n",
            "Epoch [10/50] , Step [200/600], d_loss: 0.2591, g_loss: 4.2323 , D(x): 0.97\n",
            "Epoch [10/50] , Step [400/600], d_loss: 0.2242, g_loss: 5.2931 , D(x): 0.89\n",
            "Epoch [10/50] , Step [600/600], d_loss: 0.1254, g_loss: 4.4990 , D(x): 0.94\n",
            "Saving fake_images-0011.png\n",
            "Epoch [11/50] , Step [200/600], d_loss: 0.1425, g_loss: 4.0522 , D(x): 0.98\n",
            "Epoch [11/50] , Step [400/600], d_loss: 0.0585, g_loss: 5.0198 , D(x): 0.99\n",
            "Epoch [11/50] , Step [600/600], d_loss: 0.2293, g_loss: 4.7872 , D(x): 0.97\n",
            "Saving fake_images-0012.png\n",
            "Epoch [12/50] , Step [200/600], d_loss: 0.1250, g_loss: 7.0371 , D(x): 0.96\n",
            "Epoch [12/50] , Step [400/600], d_loss: 0.3412, g_loss: 4.8661 , D(x): 0.90\n",
            "Epoch [12/50] , Step [600/600], d_loss: 0.2411, g_loss: 7.0117 , D(x): 0.94\n",
            "Saving fake_images-0013.png\n",
            "Epoch [13/50] , Step [200/600], d_loss: 0.2752, g_loss: 4.6478 , D(x): 0.93\n",
            "Epoch [13/50] , Step [400/600], d_loss: 0.1297, g_loss: 5.8598 , D(x): 0.94\n",
            "Epoch [13/50] , Step [600/600], d_loss: 0.3457, g_loss: 4.3705 , D(x): 0.86\n",
            "Saving fake_images-0014.png\n",
            "Epoch [14/50] , Step [200/600], d_loss: 0.0681, g_loss: 7.2759 , D(x): 0.97\n",
            "Epoch [14/50] , Step [400/600], d_loss: 0.2471, g_loss: 5.4458 , D(x): 0.96\n",
            "Epoch [14/50] , Step [600/600], d_loss: 0.1366, g_loss: 5.4038 , D(x): 0.96\n",
            "Saving fake_images-0015.png\n",
            "Epoch [15/50] , Step [200/600], d_loss: 0.1068, g_loss: 5.8877 , D(x): 0.96\n",
            "Epoch [15/50] , Step [400/600], d_loss: 0.2041, g_loss: 2.8833 , D(x): 0.95\n",
            "Epoch [15/50] , Step [600/600], d_loss: 0.3751, g_loss: 5.2857 , D(x): 0.89\n",
            "Saving fake_images-0016.png\n",
            "Epoch [16/50] , Step [200/600], d_loss: 0.2098, g_loss: 6.0184 , D(x): 0.91\n",
            "Epoch [16/50] , Step [400/600], d_loss: 0.2779, g_loss: 4.7652 , D(x): 0.87\n",
            "Epoch [16/50] , Step [600/600], d_loss: 0.3555, g_loss: 4.2471 , D(x): 0.90\n",
            "Saving fake_images-0017.png\n",
            "Epoch [17/50] , Step [200/600], d_loss: 0.3211, g_loss: 4.5189 , D(x): 0.89\n",
            "Epoch [17/50] , Step [400/600], d_loss: 0.1925, g_loss: 4.8216 , D(x): 0.90\n",
            "Epoch [17/50] , Step [600/600], d_loss: 0.2766, g_loss: 4.3324 , D(x): 0.90\n",
            "Saving fake_images-0018.png\n",
            "Epoch [18/50] , Step [200/600], d_loss: 0.1663, g_loss: 4.6218 , D(x): 0.96\n",
            "Epoch [18/50] , Step [400/600], d_loss: 0.5239, g_loss: 4.1353 , D(x): 0.89\n",
            "Epoch [18/50] , Step [600/600], d_loss: 0.1862, g_loss: 5.0155 , D(x): 0.95\n",
            "Saving fake_images-0019.png\n",
            "Epoch [19/50] , Step [200/600], d_loss: 0.3510, g_loss: 3.3001 , D(x): 0.99\n",
            "Epoch [19/50] , Step [400/600], d_loss: 0.1857, g_loss: 3.8722 , D(x): 0.95\n",
            "Epoch [19/50] , Step [600/600], d_loss: 0.2364, g_loss: 4.8887 , D(x): 0.93\n",
            "Saving fake_images-0020.png\n",
            "Epoch [20/50] , Step [200/600], d_loss: 0.4547, g_loss: 3.5626 , D(x): 0.93\n",
            "Epoch [20/50] , Step [400/600], d_loss: 0.1560, g_loss: 5.1033 , D(x): 0.94\n",
            "Epoch [20/50] , Step [600/600], d_loss: 0.1682, g_loss: 5.9822 , D(x): 0.93\n",
            "Saving fake_images-0021.png\n",
            "Epoch [21/50] , Step [200/600], d_loss: 0.3381, g_loss: 3.9545 , D(x): 0.91\n",
            "Epoch [21/50] , Step [400/600], d_loss: 0.3916, g_loss: 4.2144 , D(x): 0.84\n",
            "Epoch [21/50] , Step [600/600], d_loss: 0.2711, g_loss: 4.7527 , D(x): 0.91\n",
            "Saving fake_images-0022.png\n",
            "Epoch [22/50] , Step [200/600], d_loss: 0.1265, g_loss: 4.2840 , D(x): 0.98\n",
            "Epoch [22/50] , Step [400/600], d_loss: 0.2687, g_loss: 4.0793 , D(x): 0.93\n",
            "Epoch [22/50] , Step [600/600], d_loss: 0.1514, g_loss: 4.3066 , D(x): 0.97\n",
            "Saving fake_images-0023.png\n",
            "Epoch [23/50] , Step [200/600], d_loss: 0.1850, g_loss: 4.6115 , D(x): 0.92\n",
            "Epoch [23/50] , Step [400/600], d_loss: 0.3872, g_loss: 3.8248 , D(x): 0.85\n",
            "Epoch [23/50] , Step [600/600], d_loss: 0.2891, g_loss: 4.0711 , D(x): 0.91\n",
            "Saving fake_images-0024.png\n",
            "Epoch [24/50] , Step [200/600], d_loss: 0.3960, g_loss: 4.2034 , D(x): 0.87\n",
            "Epoch [24/50] , Step [400/600], d_loss: 0.5270, g_loss: 3.3852 , D(x): 0.95\n",
            "Epoch [24/50] , Step [600/600], d_loss: 0.2363, g_loss: 2.9043 , D(x): 0.93\n",
            "Saving fake_images-0025.png\n",
            "Epoch [25/50] , Step [200/600], d_loss: 0.3121, g_loss: 3.6760 , D(x): 0.91\n",
            "Epoch [25/50] , Step [400/600], d_loss: 0.2779, g_loss: 3.9667 , D(x): 0.96\n",
            "Epoch [25/50] , Step [600/600], d_loss: 0.2667, g_loss: 4.3318 , D(x): 0.91\n",
            "Saving fake_images-0026.png\n",
            "Epoch [26/50] , Step [200/600], d_loss: 0.2616, g_loss: 3.7132 , D(x): 0.92\n",
            "Epoch [26/50] , Step [400/600], d_loss: 0.2460, g_loss: 3.1997 , D(x): 0.92\n",
            "Epoch [26/50] , Step [600/600], d_loss: 0.4904, g_loss: 3.7216 , D(x): 0.93\n",
            "Saving fake_images-0027.png\n",
            "Epoch [27/50] , Step [200/600], d_loss: 0.2780, g_loss: 4.5380 , D(x): 0.89\n",
            "Epoch [27/50] , Step [400/600], d_loss: 0.3566, g_loss: 4.1326 , D(x): 0.90\n",
            "Epoch [27/50] , Step [600/600], d_loss: 0.4523, g_loss: 4.0930 , D(x): 0.85\n",
            "Saving fake_images-0028.png\n",
            "Epoch [28/50] , Step [200/600], d_loss: 0.3130, g_loss: 4.1944 , D(x): 0.88\n",
            "Epoch [28/50] , Step [400/600], d_loss: 0.5319, g_loss: 3.2647 , D(x): 0.93\n",
            "Epoch [28/50] , Step [600/600], d_loss: 0.4089, g_loss: 4.7445 , D(x): 0.96\n",
            "Saving fake_images-0029.png\n",
            "Epoch [29/50] , Step [200/600], d_loss: 0.2958, g_loss: 3.5253 , D(x): 0.96\n",
            "Epoch [29/50] , Step [400/600], d_loss: 0.3462, g_loss: 5.1597 , D(x): 0.88\n",
            "Epoch [29/50] , Step [600/600], d_loss: 0.3526, g_loss: 3.5018 , D(x): 0.95\n",
            "Saving fake_images-0030.png\n",
            "Epoch [30/50] , Step [200/600], d_loss: 0.3592, g_loss: 3.9986 , D(x): 0.87\n",
            "Epoch [30/50] , Step [400/600], d_loss: 0.2541, g_loss: 4.7467 , D(x): 0.91\n",
            "Epoch [30/50] , Step [600/600], d_loss: 0.3217, g_loss: 3.5199 , D(x): 0.89\n",
            "Saving fake_images-0031.png\n",
            "Epoch [31/50] , Step [200/600], d_loss: 0.3527, g_loss: 3.4245 , D(x): 0.87\n",
            "Epoch [31/50] , Step [400/600], d_loss: 0.3447, g_loss: 4.0078 , D(x): 0.92\n",
            "Epoch [31/50] , Step [600/600], d_loss: 0.2995, g_loss: 3.9074 , D(x): 0.87\n",
            "Saving fake_images-0032.png\n",
            "Epoch [32/50] , Step [200/600], d_loss: 0.4394, g_loss: 3.5810 , D(x): 0.88\n",
            "Epoch [32/50] , Step [400/600], d_loss: 0.3786, g_loss: 3.9145 , D(x): 0.90\n",
            "Epoch [32/50] , Step [600/600], d_loss: 0.5327, g_loss: 3.2134 , D(x): 0.81\n",
            "Saving fake_images-0033.png\n",
            "Epoch [33/50] , Step [200/600], d_loss: 0.2547, g_loss: 3.8938 , D(x): 0.90\n",
            "Epoch [33/50] , Step [400/600], d_loss: 0.3821, g_loss: 2.6792 , D(x): 0.91\n",
            "Epoch [33/50] , Step [600/600], d_loss: 0.3585, g_loss: 4.0254 , D(x): 0.86\n",
            "Saving fake_images-0034.png\n",
            "Epoch [34/50] , Step [200/600], d_loss: 0.3817, g_loss: 3.7363 , D(x): 0.89\n",
            "Epoch [34/50] , Step [400/600], d_loss: 0.4787, g_loss: 2.5930 , D(x): 0.89\n",
            "Epoch [34/50] , Step [600/600], d_loss: 0.5406, g_loss: 3.5797 , D(x): 0.89\n",
            "Saving fake_images-0035.png\n",
            "Epoch [35/50] , Step [200/600], d_loss: 0.5153, g_loss: 2.5801 , D(x): 0.85\n",
            "Epoch [35/50] , Step [400/600], d_loss: 0.6423, g_loss: 2.6811 , D(x): 0.88\n",
            "Epoch [35/50] , Step [600/600], d_loss: 0.4910, g_loss: 2.9053 , D(x): 0.87\n",
            "Saving fake_images-0036.png\n",
            "Epoch [36/50] , Step [200/600], d_loss: 0.2807, g_loss: 2.6112 , D(x): 0.89\n",
            "Epoch [36/50] , Step [400/600], d_loss: 0.4729, g_loss: 4.3918 , D(x): 0.82\n",
            "Epoch [36/50] , Step [600/600], d_loss: 0.4828, g_loss: 3.9921 , D(x): 0.85\n",
            "Saving fake_images-0037.png\n",
            "Epoch [37/50] , Step [200/600], d_loss: 0.2894, g_loss: 3.5729 , D(x): 0.94\n",
            "Epoch [37/50] , Step [400/600], d_loss: 0.4137, g_loss: 2.7557 , D(x): 0.89\n",
            "Epoch [37/50] , Step [600/600], d_loss: 0.4343, g_loss: 4.0830 , D(x): 0.86\n",
            "Saving fake_images-0038.png\n",
            "Epoch [38/50] , Step [200/600], d_loss: 0.6568, g_loss: 3.0408 , D(x): 0.90\n",
            "Epoch [38/50] , Step [400/600], d_loss: 0.5142, g_loss: 2.5390 , D(x): 0.86\n",
            "Epoch [38/50] , Step [600/600], d_loss: 0.4219, g_loss: 3.5898 , D(x): 0.85\n",
            "Saving fake_images-0039.png\n",
            "Epoch [39/50] , Step [200/600], d_loss: 0.2815, g_loss: 3.7224 , D(x): 0.89\n",
            "Epoch [39/50] , Step [400/600], d_loss: 0.3890, g_loss: 4.1583 , D(x): 0.86\n",
            "Epoch [39/50] , Step [600/600], d_loss: 0.4533, g_loss: 2.0793 , D(x): 0.93\n",
            "Saving fake_images-0040.png\n",
            "Epoch [40/50] , Step [200/600], d_loss: 0.4410, g_loss: 3.1374 , D(x): 0.85\n",
            "Epoch [40/50] , Step [400/600], d_loss: 0.3629, g_loss: 3.6216 , D(x): 0.87\n",
            "Epoch [40/50] , Step [600/600], d_loss: 0.4023, g_loss: 2.3841 , D(x): 0.88\n",
            "Saving fake_images-0041.png\n",
            "Epoch [41/50] , Step [200/600], d_loss: 0.5019, g_loss: 3.2768 , D(x): 0.82\n",
            "Epoch [41/50] , Step [400/600], d_loss: 0.6020, g_loss: 2.9175 , D(x): 0.86\n",
            "Epoch [41/50] , Step [600/600], d_loss: 0.5187, g_loss: 3.0021 , D(x): 0.81\n",
            "Saving fake_images-0042.png\n",
            "Epoch [42/50] , Step [200/600], d_loss: 0.4947, g_loss: 2.8719 , D(x): 0.83\n",
            "Epoch [42/50] , Step [400/600], d_loss: 0.5656, g_loss: 3.4690 , D(x): 0.84\n",
            "Epoch [42/50] , Step [600/600], d_loss: 0.4498, g_loss: 2.9524 , D(x): 0.83\n",
            "Saving fake_images-0043.png\n",
            "Epoch [43/50] , Step [200/600], d_loss: 0.4224, g_loss: 2.4675 , D(x): 0.89\n",
            "Epoch [43/50] , Step [400/600], d_loss: 0.5483, g_loss: 2.2747 , D(x): 0.86\n",
            "Epoch [43/50] , Step [600/600], d_loss: 0.3797, g_loss: 3.3054 , D(x): 0.89\n",
            "Saving fake_images-0044.png\n",
            "Epoch [44/50] , Step [200/600], d_loss: 0.4985, g_loss: 2.4523 , D(x): 0.87\n",
            "Epoch [44/50] , Step [400/600], d_loss: 0.5725, g_loss: 2.8555 , D(x): 0.80\n",
            "Epoch [44/50] , Step [600/600], d_loss: 0.4046, g_loss: 2.4244 , D(x): 0.86\n",
            "Saving fake_images-0045.png\n",
            "Epoch [45/50] , Step [200/600], d_loss: 0.3017, g_loss: 2.5789 , D(x): 0.90\n",
            "Epoch [45/50] , Step [400/600], d_loss: 0.5593, g_loss: 2.7702 , D(x): 0.80\n",
            "Epoch [45/50] , Step [600/600], d_loss: 0.6478, g_loss: 3.0012 , D(x): 0.76\n",
            "Saving fake_images-0046.png\n",
            "Epoch [46/50] , Step [200/600], d_loss: 0.4359, g_loss: 2.7441 , D(x): 0.85\n",
            "Epoch [46/50] , Step [400/600], d_loss: 0.5144, g_loss: 2.9256 , D(x): 0.83\n",
            "Epoch [46/50] , Step [600/600], d_loss: 0.4855, g_loss: 2.3642 , D(x): 0.81\n",
            "Saving fake_images-0047.png\n",
            "Epoch [47/50] , Step [200/600], d_loss: 0.5500, g_loss: 2.6541 , D(x): 0.78\n",
            "Epoch [47/50] , Step [400/600], d_loss: 0.4207, g_loss: 2.5841 , D(x): 0.88\n",
            "Epoch [47/50] , Step [600/600], d_loss: 0.4638, g_loss: 2.8752 , D(x): 0.82\n",
            "Saving fake_images-0048.png\n",
            "Epoch [48/50] , Step [200/600], d_loss: 0.4661, g_loss: 1.8548 , D(x): 0.89\n",
            "Epoch [48/50] , Step [400/600], d_loss: 0.4555, g_loss: 2.5496 , D(x): 0.83\n",
            "Epoch [48/50] , Step [600/600], d_loss: 0.5245, g_loss: 3.1580 , D(x): 0.87\n",
            "Saving fake_images-0049.png\n",
            "Epoch [49/50] , Step [200/600], d_loss: 0.5944, g_loss: 2.7562 , D(x): 0.84\n",
            "Epoch [49/50] , Step [400/600], d_loss: 0.5662, g_loss: 3.3331 , D(x): 0.82\n",
            "Epoch [49/50] , Step [600/600], d_loss: 0.3687, g_loss: 3.8795 , D(x): 0.89\n",
            "Saving fake_images-0050.png\n",
            "CPU times: user 24min 44s, sys: 3.15 s, total: 24min 47s\n",
            "Wall time: 26min 23s\n"
          ]
        }
      ]
    },
    {
      "cell_type": "code",
      "source": [
        "torch.save(G.state_dict(),'G.ckpt')\n",
        "torch.save(D.state_dict(),'D.ckpt')"
      ],
      "metadata": {
        "id": "xMfKYf0C4A9K"
      },
      "execution_count": 38,
      "outputs": []
    },
    {
      "cell_type": "code",
      "source": [
        "import cv2\n",
        "import os\n",
        "from IPython.display import FileLink\n",
        "\n",
        "files = [os.path.join(sample_dir,f) for f in os.listdir(sample_dir) if 'fake_images' in f]\n",
        "files.sort()\n",
        "files"
      ],
      "metadata": {
        "colab": {
          "base_uri": "https://localhost:8080/"
        },
        "id": "awLOcZmD5bdt",
        "outputId": "eca3293f-2d3b-4755-fa0a-7560d4aaeec6"
      },
      "execution_count": 39,
      "outputs": [
        {
          "output_type": "execute_result",
          "data": {
            "text/plain": [
              "['samples/fake_images-0000.png',\n",
              " 'samples/fake_images-0001.png',\n",
              " 'samples/fake_images-0002.png',\n",
              " 'samples/fake_images-0003.png',\n",
              " 'samples/fake_images-0004.png',\n",
              " 'samples/fake_images-0005.png',\n",
              " 'samples/fake_images-0006.png',\n",
              " 'samples/fake_images-0007.png',\n",
              " 'samples/fake_images-0008.png',\n",
              " 'samples/fake_images-0009.png',\n",
              " 'samples/fake_images-0010.png',\n",
              " 'samples/fake_images-0011.png',\n",
              " 'samples/fake_images-0012.png',\n",
              " 'samples/fake_images-0013.png',\n",
              " 'samples/fake_images-0014.png',\n",
              " 'samples/fake_images-0015.png',\n",
              " 'samples/fake_images-0016.png',\n",
              " 'samples/fake_images-0017.png',\n",
              " 'samples/fake_images-0018.png',\n",
              " 'samples/fake_images-0019.png',\n",
              " 'samples/fake_images-0020.png',\n",
              " 'samples/fake_images-0021.png',\n",
              " 'samples/fake_images-0022.png',\n",
              " 'samples/fake_images-0023.png',\n",
              " 'samples/fake_images-0024.png',\n",
              " 'samples/fake_images-0025.png',\n",
              " 'samples/fake_images-0026.png',\n",
              " 'samples/fake_images-0027.png',\n",
              " 'samples/fake_images-0028.png',\n",
              " 'samples/fake_images-0029.png',\n",
              " 'samples/fake_images-0030.png',\n",
              " 'samples/fake_images-0031.png',\n",
              " 'samples/fake_images-0032.png',\n",
              " 'samples/fake_images-0033.png',\n",
              " 'samples/fake_images-0034.png',\n",
              " 'samples/fake_images-0035.png',\n",
              " 'samples/fake_images-0036.png',\n",
              " 'samples/fake_images-0037.png',\n",
              " 'samples/fake_images-0038.png',\n",
              " 'samples/fake_images-0039.png',\n",
              " 'samples/fake_images-0040.png',\n",
              " 'samples/fake_images-0041.png',\n",
              " 'samples/fake_images-0042.png',\n",
              " 'samples/fake_images-0043.png',\n",
              " 'samples/fake_images-0044.png',\n",
              " 'samples/fake_images-0045.png',\n",
              " 'samples/fake_images-0046.png',\n",
              " 'samples/fake_images-0047.png',\n",
              " 'samples/fake_images-0048.png',\n",
              " 'samples/fake_images-0049.png',\n",
              " 'samples/fake_images-0050.png']"
            ]
          },
          "metadata": {},
          "execution_count": 39
        }
      ]
    },
    {
      "cell_type": "code",
      "source": [
        "vid_fname = 'gans_training.avi'\n",
        "out = cv2.VideoWriter(vid_fname , cv2.VideoWriter_fourcc(*'MP4V') , 8 , (302,302))\n",
        "[out.write(cv2.imread(fname)) for fname in files]\n",
        "out.release()\n",
        "FileLink('gans_training.avi')"
      ],
      "metadata": {
        "colab": {
          "base_uri": "https://localhost:8080/",
          "height": 34
        },
        "id": "hczUQL9_6aUp",
        "outputId": "595977b9-9f5e-4637-8b70-8d622e6821e7"
      },
      "execution_count": 43,
      "outputs": [
        {
          "output_type": "execute_result",
          "data": {
            "text/plain": [
              "/content/gans_training.avi"
            ],
            "text/html": [
              "<a href='gans_training.avi' target='_blank'>gans_training.avi</a><br>"
            ]
          },
          "metadata": {},
          "execution_count": 43
        }
      ]
    },
    {
      "cell_type": "markdown",
      "source": [
        "# **VISUALIZING LOSSES AND SCORES**"
      ],
      "metadata": {
        "id": "AV8vuuOR7Uj1"
      }
    },
    {
      "cell_type": "code",
      "source": [
        "plt.plot(d_losses ,'-')\n",
        "plt.plot(g_losses,'-')\n",
        "plt.xlabel('epoch')\n",
        "plt.ylabel('loss')\n",
        "plt.legend(['Discriminator','Generator'])\n",
        "plt.title('Losses')"
      ],
      "metadata": {
        "colab": {
          "base_uri": "https://localhost:8080/",
          "height": 489
        },
        "id": "ae9VTsth64Bf",
        "outputId": "c3dacab7-592b-464d-d289-7741f0a9c090"
      },
      "execution_count": 46,
      "outputs": [
        {
          "output_type": "execute_result",
          "data": {
            "text/plain": [
              "Text(0.5, 1.0, 'Losses')"
            ]
          },
          "metadata": {},
          "execution_count": 46
        },
        {
          "output_type": "display_data",
          "data": {
            "text/plain": [
              "<Figure size 640x480 with 1 Axes>"
            ],
            "image/png": "[encoded data removed]"
          },
          "metadata": {}
        }
      ]
    },
    {
      "cell_type": "code",
      "source": [
        "plt.plot(real_scores,'-')\n",
        "plt.plot(fake_scores,'-')\n",
        "plt.xlabel('epoch')\n",
        "plt.ylabel('score')\n",
        "plt.legend(['Real Score' , 'Fake Score'])\n",
        "plt.title('Scores')"
      ],
      "metadata": {
        "colab": {
          "base_uri": "https://localhost:8080/",
          "height": 489
        },
        "id": "4ypX5sca7qKw",
        "outputId": "d8a7f152-8ce3-4430-e542-cc998405574f"
      },
      "execution_count": 47,
      "outputs": [
        {
          "output_type": "execute_result",
          "data": {
            "text/plain": [
              "Text(0.5, 1.0, 'Scores')"
            ]
          },
          "metadata": {},
          "execution_count": 47
        },
        {
          "output_type": "display_data",
          "data": {
            "text/plain": [
              "<Figure size 640x480 with 1 Axes>"
            ],
            "image/png": "[encoded data removed]"
          },
          "metadata": {}
        }
      ]
    }
  ]
}